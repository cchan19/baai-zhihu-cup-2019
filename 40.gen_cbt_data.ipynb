{
 "cells": [
  {
   "cell_type": "code",
   "execution_count": 1,
   "metadata": {},
   "outputs": [],
   "source": [
    "import warnings\n",
    "warnings.filterwarnings('ignore')\n",
    "\n",
    "import pandas as pd\n",
    "import numpy as np\n",
    "import gc\n",
    "import time\n",
    "from sklearn.preprocessing import LabelEncoder\n",
    "from sklearn.model_selection import StratifiedKFold\n",
    "from catboost import CatBoostClassifier, Pool\n",
    "import pickle\n",
    "import os"
   ]
  },
  {
   "cell_type": "code",
   "execution_count": 2,
   "metadata": {},
   "outputs": [],
   "source": [
    "DATA_PATH = '../pkl/'\n",
    "SAVE_PATH = './feats/'"
   ]
  },
  {
   "cell_type": "code",
   "execution_count": 3,
   "metadata": {},
   "outputs": [
    {
     "name": "stdout",
     "output_type": "stream",
     "text": [
      "load data...\n"
     ]
    }
   ],
   "source": [
    "print('load data...')\n",
    "data = pd.read_pickle(os.path.join(DATA_PATH, 'invite_data.pkl'))"
   ]
  },
  {
   "cell_type": "code",
   "execution_count": 4,
   "metadata": {},
   "outputs": [],
   "source": [
    "feats = ['inv_ans_gap', 'user_feat', 'question_feat', 'user_question_feat',\n",
    "         'global_user_ques_expo', 'local_user_ques_expo', 'prev_ans_feat', 'prev_ans_times_st',\n",
    "         'inv_times_st', 'history_user_ques_accept', 'topic_qu_sims_stat', 'prev_topic_sims_stat',\n",
    "         'ques_topic_dnn_enc_A', 'ques_topic_dnn_enc_B', 'ques_topic_dnn_enc_C',\n",
    "         'user_topic_dnn_enc_A', 'user_topic_dnn_enc_B', 'user_topic_dnn_enc_C',\n",
    "         'user_ques_topic_dnn_enc_A', 'user_ques_topic_dnn_enc_B', 'user_ques_topic_dnn_enc_C',\n",
    "         'title_desc_textcnn_enc', 'title_desc_textattbirnn_enc',\n",
    "         'ques_user_title_desc_textattbirnn_enc', \n",
    "         'ques_user_title_desc_textattbirnn_cossim_enc',\n",
    "         'user_ques_title_desc_com_stat', 'user_ques_title_desc_sims_stat'\n",
    "        ]\n",
    "\n",
    "# 'local_ques_expo_change', 'local_user_expo_change', 'ques_user_title_desc_textattbirnn_enc_no_shuffle', 'ques_user_title_desc_textcnn_enc'"
   ]
  },
  {
   "cell_type": "code",
   "execution_count": 5,
   "metadata": {},
   "outputs": [],
   "source": [
    "feats_dat = []\n",
    "for f in feats:\n",
    "    feats_dat.append(pd.read_pickle(os.path.join(SAVE_PATH, '%s.pkl' % f)))"
   ]
  },
  {
   "cell_type": "code",
   "execution_count": 6,
   "metadata": {},
   "outputs": [
    {
     "name": "stdout",
     "output_type": "stream",
     "text": [
      "concat feat...\n",
      "(10630845, 6)\n",
      "(10630845, 144)\n"
     ]
    }
   ],
   "source": [
    "print('concat feat...')\n",
    "print(data.shape)\n",
    "data = pd.concat([data] + feats_dat, axis=1)\n",
    "print(data.shape)"
   ]
  },
  {
   "cell_type": "code",
   "execution_count": 7,
   "metadata": {},
   "outputs": [
    {
     "name": "stdout",
     "output_type": "stream",
     "text": [
      "['iday', 'ihour', 'itime', 'label', 'qid', 'uid', 'invite_answer_gap', 'gender', 'freq', 'A1', 'B1', 'C1', 'D1', 'E1', 'A2', 'B2', 'C2', 'D2', 'E2', 'score', 'num_topic_a', 'num_topic_i', 'most_topic_i', 'min_topic_iv', 'max_topic_iv', 'mean_topic_iv', 'std_topic_iv', 'num_title_sw', 'num_title_w', 'num_desc_sw', 'num_desc_w', 'num_qtopic', 'qhour', 'inv_que_gap', 'num_topic_a_com', 'num_topic_i_com', 'min_topic_iv_com', 'max_topic_iv_com', 'mean_topic_iv_com', 'std_topic_iv_com', 'user_cnt', 'question_cnt', 'question_curr_expo', 'question_history_expo', 'question_future_expo', 'user_curr_expo', 'user_history_expo', 'user_future_expo', 'prev_excellent_sum', 'prev_recommend_sum', 'prev_figure_sum', 'prev_video_sum', 'prev_num_word_sum', 'prev_num_like_sum', 'prev_num_unlike_sum', 'prev_num_comment_sum', 'prev_num_favor_sum', 'prev_num_thank_sum', 'prev_num_report_sum', 'prev_num_nohelp_sum', 'prev_num_oppose_sum', 'prev_cnt_sum', 'prev_excellent_mean', 'prev_recommend_mean', 'prev_figure_mean', 'prev_video_mean', 'prev_num_word_mean', 'prev_num_like_mean', 'prev_num_unlike_mean', 'prev_num_comment_mean', 'prev_num_favor_mean', 'prev_num_thank_mean', 'prev_num_report_mean', 'prev_num_nohelp_mean', 'prev_num_oppose_mean', 'prev_ans_times_min', 'prev_ans_times_mean', 'prev_ans_times_std', 'prev_ans_times_min_gap', 'prev_ans_times_mean_gap', 'qtime_std', 'qtime_mean', 'utime_std', 'utime_mean', 'iweek', 'qlast_itime_gap', 'qllast_itime_gap', 'qlllast_itime_gap', 'qnext_itime_gap', 'qnnext_itime_gap', 'qnnnext_itime_gap', 'ulast_itime_gap', 'ullast_itime_gap', 'ulllast_itime_gap', 'unext_itime_gap', 'unnext_itime_gap', 'unnnext_itime_gap', 'question_history_accept', 'question_history_accept_rate', 'user_history_accept', 'user_history_accept_rate', 'topic_a_sims_min', 'topic_a_sims_max', 'topic_a_sims_mean', 'topic_a_sims_std', 'topic_i_sims_min', 'topic_i_sims_max', 'topic_i_sims_mean', 'topic_i_sims_std', 'prev_topic_sims_min', 'prev_topic_sims_max', 'prev_topic_sims_mean', 'prev_topic_sims_std', 'ques_topic_dnn_enc_A', 'ques_topic_dnn_enc_B', 'ques_topic_dnn_enc_C', 'user_topic_dnn_enc_A', 'user_topic_dnn_enc_B', 'user_topic_dnn_enc_C', 'user_ques_topic_dnn_enc_A', 'user_ques_topic_dnn_enc_B', 'user_ques_topic_dnn_enc_C', 'title_desc_textcnn_enc', 'title_desc_textattbirnn_enc', 'ques_user_title_desc_textattbirnn_enc', 'ques_user_title_desc_textattbirnn_cossim_enc', 'title_com_max', 'title_com_min', 'title_com_mean', 'title_com_std', 'desc_com_max', 'desc_com_min', 'desc_com_mean', 'desc_com_std', 'title_com_max/len', 'desc_com_max/len', 'title_sims_max', 'title_sims_min', 'title_sims_mean', 'title_sims_std', 'desc_sims_max', 'desc_sims_min', 'desc_sims_mean', 'desc_sims_std']\n"
     ]
    }
   ],
   "source": [
    "print(list(data.columns))"
   ]
  },
  {
   "cell_type": "code",
   "execution_count": 8,
   "metadata": {},
   "outputs": [],
   "source": [
    "data.to_pickle(os.path.join(DATA_PATH, 'cbt_data.pkl'))"
   ]
  },
  {
   "cell_type": "code",
   "execution_count": null,
   "metadata": {},
   "outputs": [],
   "source": []
  }
 ],
 "metadata": {
  "kernelspec": {
   "display_name": "Python [conda env:root] *",
   "language": "python",
   "name": "conda-root-py"
  },
  "language_info": {
   "codemirror_mode": {
    "name": "ipython",
    "version": 3
   },
   "file_extension": ".py",
   "mimetype": "text/x-python",
   "name": "python",
   "nbconvert_exporter": "python",
   "pygments_lexer": "ipython3",
   "version": "3.7.3"
  }
 },
 "nbformat": 4,
 "nbformat_minor": 2
}
