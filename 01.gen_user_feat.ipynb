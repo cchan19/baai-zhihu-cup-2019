{
 "cells": [
  {
   "cell_type": "code",
   "execution_count": 1,
   "metadata": {},
   "outputs": [
    {
     "name": "stderr",
     "output_type": "stream",
     "text": [
      "/root/anaconda3/lib/python3.7/site-packages/sklearn/feature_extraction/text.py:17: DeprecationWarning: Using or importing the ABCs from 'collections' instead of from 'collections.abc' is deprecated, and in 3.8 it will stop working\n",
      "  from collections import Mapping, defaultdict\n"
     ]
    }
   ],
   "source": [
    "import pandas as pd\n",
    "import numpy as np\n",
    "import pickle\n",
    "import gc\n",
    "import os\n",
    "import time\n",
    "import copy\n",
    "import multiprocessing as mp\n",
    "from sklearn.preprocessing import LabelEncoder\n",
    "from sklearn.model_selection import StratifiedKFold\n",
    "from sklearn.feature_extraction.text import CountVectorizer\n",
    "from tqdm import tqdm\n",
    "from scipy import sparse, spatial\n",
    "import warnings\n",
    "warnings.filterwarnings('ignore')\n",
    "tqdm.pandas()"
   ]
  },
  {
   "cell_type": "code",
   "execution_count": 2,
   "metadata": {},
   "outputs": [
    {
     "name": "stdout",
     "output_type": "stream",
     "text": [
      "gen_user_feat...\n"
     ]
    }
   ],
   "source": [
    "tic = time.time()\n",
    "DATA_PATH = '../pkl/'\n",
    "SAVE_PATH = './feats/'\n",
    "if not os.path.exists(SAVE_PATH):\n",
    "    print('create dir: %s' % SAVE_PATH)\n",
    "    os.mkdir(SAVE_PATH)\n",
    "\n",
    "print('gen_user_feat...')"
   ]
  },
  {
   "cell_type": "code",
   "execution_count": 3,
   "metadata": {},
   "outputs": [],
   "source": [
    "# 用户特征\n",
    "data = pd.read_pickle(os.path.join(DATA_PATH, 'invite_data.pkl'))\n",
    "user_info = pd.read_pickle(os.path.join(DATA_PATH, 'user_info_p.pkl'))"
   ]
  },
  {
   "cell_type": "code",
   "execution_count": 4,
   "metadata": {},
   "outputs": [],
   "source": [
    "feats = ['uid', 'gender', 'freq', 'A1', 'B1', 'C1', 'D1', 'E1', 'A2', 'B2', 'C2', 'D2', 'E2', 'score']\n",
    "feats += ['num_topic_a', 'num_topic_i', 'most_topic_i']\n",
    "feats += ['min_topic_iv', 'max_topic_iv', 'mean_topic_iv', 'std_topic_iv']\n",
    "user_feat = user_info[feats].copy()"
   ]
  },
  {
   "cell_type": "code",
   "execution_count": 5,
   "metadata": {},
   "outputs": [
    {
     "data": {
      "text/html": [
       "<div>\n",
       "<style scoped>\n",
       "    .dataframe tbody tr th:only-of-type {\n",
       "        vertical-align: middle;\n",
       "    }\n",
       "\n",
       "    .dataframe tbody tr th {\n",
       "        vertical-align: top;\n",
       "    }\n",
       "\n",
       "    .dataframe thead th {\n",
       "        text-align: right;\n",
       "    }\n",
       "</style>\n",
       "<table border=\"1\" class=\"dataframe\">\n",
       "  <thead>\n",
       "    <tr style=\"text-align: right;\">\n",
       "      <th></th>\n",
       "      <th>gender</th>\n",
       "      <th>freq</th>\n",
       "      <th>A1</th>\n",
       "      <th>B1</th>\n",
       "      <th>C1</th>\n",
       "      <th>D1</th>\n",
       "      <th>E1</th>\n",
       "      <th>A2</th>\n",
       "      <th>B2</th>\n",
       "      <th>C2</th>\n",
       "      <th>D2</th>\n",
       "      <th>E2</th>\n",
       "      <th>score</th>\n",
       "      <th>num_topic_a</th>\n",
       "      <th>num_topic_i</th>\n",
       "      <th>most_topic_i</th>\n",
       "      <th>min_topic_iv</th>\n",
       "      <th>max_topic_iv</th>\n",
       "      <th>mean_topic_iv</th>\n",
       "      <th>std_topic_iv</th>\n",
       "    </tr>\n",
       "  </thead>\n",
       "  <tbody>\n",
       "    <tr>\n",
       "      <th>0</th>\n",
       "      <td>2</td>\n",
       "      <td>4</td>\n",
       "      <td>0</td>\n",
       "      <td>1</td>\n",
       "      <td>0</td>\n",
       "      <td>0</td>\n",
       "      <td>0</td>\n",
       "      <td>2113</td>\n",
       "      <td>190</td>\n",
       "      <td>261</td>\n",
       "      <td>927</td>\n",
       "      <td>1</td>\n",
       "      <td>297</td>\n",
       "      <td>23</td>\n",
       "      <td>10</td>\n",
       "      <td>2794</td>\n",
       "      <td>0.740509</td>\n",
       "      <td>1.152772</td>\n",
       "      <td>0.850193</td>\n",
       "      <td>0.115606</td>\n",
       "    </tr>\n",
       "    <tr>\n",
       "      <th>1</th>\n",
       "      <td>2</td>\n",
       "      <td>1</td>\n",
       "      <td>1</td>\n",
       "      <td>0</td>\n",
       "      <td>0</td>\n",
       "      <td>0</td>\n",
       "      <td>0</td>\n",
       "      <td>1190</td>\n",
       "      <td>130</td>\n",
       "      <td>266</td>\n",
       "      <td>758</td>\n",
       "      <td>0</td>\n",
       "      <td>308</td>\n",
       "      <td>11</td>\n",
       "      <td>10</td>\n",
       "      <td>1470</td>\n",
       "      <td>0.949893</td>\n",
       "      <td>1.468275</td>\n",
       "      <td>1.165795</td>\n",
       "      <td>0.186159</td>\n",
       "    </tr>\n",
       "  </tbody>\n",
       "</table>\n",
       "</div>"
      ],
      "text/plain": [
       "   gender  freq  A1  B1  C1  D1  E1    A2   B2   C2   D2  E2  score  \\\n",
       "0       2     4   0   1   0   0   0  2113  190  261  927   1    297   \n",
       "1       2     1   1   0   0   0   0  1190  130  266  758   0    308   \n",
       "\n",
       "   num_topic_a  num_topic_i  most_topic_i  min_topic_iv  max_topic_iv  \\\n",
       "0           23           10          2794      0.740509      1.152772   \n",
       "1           11           10          1470      0.949893      1.468275   \n",
       "\n",
       "   mean_topic_iv  std_topic_iv  \n",
       "0       0.850193      0.115606  \n",
       "1       1.165795      0.186159  "
      ]
     },
     "execution_count": 5,
     "metadata": {},
     "output_type": "execute_result"
    }
   ],
   "source": [
    "data = data.merge(user_feat, how='left', on='uid')\n",
    "user_feat = data[feats[1:]]\n",
    "user_feat.head(2)"
   ]
  },
  {
   "cell_type": "code",
   "execution_count": 6,
   "metadata": {},
   "outputs": [],
   "source": [
    "user_feat.to_pickle(os.path.join(SAVE_PATH, 'user_feat.pkl'))"
   ]
  },
  {
   "cell_type": "code",
   "execution_count": 7,
   "metadata": {},
   "outputs": [
    {
     "name": "stdout",
     "output_type": "stream",
     "text": [
      "Used time: 64\n"
     ]
    }
   ],
   "source": [
    "toc = time.time()\n",
    "print('Used time: %d' % int(toc-tic))"
   ]
  }
 ],
 "metadata": {
  "kernelspec": {
   "display_name": "Python [conda env:root] *",
   "language": "python",
   "name": "conda-root-py"
  },
  "language_info": {
   "codemirror_mode": {
    "name": "ipython",
    "version": 3
   },
   "file_extension": ".py",
   "mimetype": "text/x-python",
   "name": "python",
   "nbconvert_exporter": "python",
   "pygments_lexer": "ipython3",
   "version": "3.7.3"
  }
 },
 "nbformat": 4,
 "nbformat_minor": 2
}
