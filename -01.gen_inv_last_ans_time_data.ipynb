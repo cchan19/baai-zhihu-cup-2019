{
 "cells": [
  {
   "cell_type": "code",
   "execution_count": 2,
   "metadata": {},
   "outputs": [],
   "source": [
    "import pandas as pd\n",
    "import numpy as np\n",
    "import pickle\n",
    "import gc\n",
    "import os\n",
    "import time\n",
    "import copy\n",
    "import multiprocessing as mp\n",
    "from sklearn.preprocessing import LabelEncoder\n",
    "from sklearn.model_selection import StratifiedKFold\n",
    "from sklearn.feature_extraction.text import CountVectorizer\n",
    "from tqdm import tqdm\n",
    "from scipy import sparse, spatial\n",
    "import warnings\n",
    "warnings.filterwarnings('ignore')"
   ]
  },
  {
   "cell_type": "code",
   "execution_count": 3,
   "metadata": {},
   "outputs": [
    {
     "name": "stdout",
     "output_type": "stream",
     "text": [
      "gen_inv_last_ans_time_data...\n"
     ]
    }
   ],
   "source": [
    "tic = time.time()\n",
    "DATA_PATH = '../pkl/'\n",
    "SAVE_PATH = './feats/'\n",
    "if not os.path.exists(SAVE_PATH):\n",
    "    print('create dir: %s' % SAVE_PATH)\n",
    "    os.mkdir(SAVE_PATH)\n",
    "    \n",
    "print('gen_inv_last_ans_time_data...')"
   ]
  },
  {
   "cell_type": "code",
   "execution_count": 4,
   "metadata": {},
   "outputs": [],
   "source": [
    "inv = pd.read_pickle(os.path.join(DATA_PATH, 'inv_time.pkl'))\n",
    "ans = pd.read_pickle(os.path.join(DATA_PATH, 'ans_time.pkl'))"
   ]
  },
  {
   "cell_type": "code",
   "execution_count": 5,
   "metadata": {},
   "outputs": [],
   "source": [
    "inv.columns = ['id', 'uid','time']\n",
    "ans.columns = ['uid', 'time']"
   ]
  },
  {
   "cell_type": "code",
   "execution_count": 6,
   "metadata": {},
   "outputs": [],
   "source": [
    "tmp = pd.concat([inv, ans])\n",
    "tmp.sort_values(by=['uid', 'time'], inplace=True)\n",
    "tmp = tmp[['uid', 'id', 'time']]"
   ]
  },
  {
   "cell_type": "code",
   "execution_count": 7,
   "metadata": {},
   "outputs": [
    {
     "name": "stderr",
     "output_type": "stream",
     "text": [
      "100%|██████████| 15144580/15144580 [00:35<00:00, 425054.95it/s]\n"
     ]
    }
   ],
   "source": [
    "last_id = np.nan\n",
    "last_author = '-1'\n",
    "ts = []\n",
    "t = np.nan\n",
    "for author, id, ti in tqdm(tmp.values):\n",
    "    if author != last_author:\n",
    "        if pd.isna(id):\n",
    "            t = ti\n",
    "        else:\n",
    "            t = np.nan\n",
    "        ts.append(np.nan)\n",
    "    elif pd.isna(id):\n",
    "        t = ti\n",
    "        ts.append(np.nan)\n",
    "    else:\n",
    "        ts.append(t)\n",
    "    last_author = author"
   ]
  },
  {
   "cell_type": "code",
   "execution_count": 8,
   "metadata": {},
   "outputs": [
    {
     "name": "stdout",
     "output_type": "stream",
     "text": [
      "NAN ratio: 0.295646\n"
     ]
    }
   ],
   "source": [
    "tmp['last_time'] = ts\n",
    "tmp = tmp[~tmp['id'].isnull()]\n",
    "tmp.sort_values(by='id', inplace=True)\n",
    "tmp['user_time'] = tmp['uid'].astype(str) + '_' + tmp['last_time'].fillna(-1).astype(int).astype(str)\n",
    "print('NAN ratio: %f' % (tmp['last_time'].isnull().sum() / len(tmp)))"
   ]
  },
  {
   "cell_type": "code",
   "execution_count": 16,
   "metadata": {},
   "outputs": [],
   "source": [
    "tmp = tmp.reset_index(drop=True)\n",
    "tmp.to_pickle(os.path.join(DATA_PATH, 'inv_last_answer_time.pkl'))"
   ]
  },
  {
   "cell_type": "code",
   "execution_count": 17,
   "metadata": {},
   "outputs": [],
   "source": [
    "tmp['invite_answer_gap'] = tmp['time'] - tmp['last_time'] \n",
    "tmp[['invite_answer_gap']].to_pickle(os.path.join(SAVE_PATH, 'inv_ans_gap.pkl'))"
   ]
  },
  {
   "cell_type": "code",
   "execution_count": 18,
   "metadata": {},
   "outputs": [
    {
     "name": "stdout",
     "output_type": "stream",
     "text": [
      "Used time: 262\n"
     ]
    }
   ],
   "source": [
    "toc = time.time()\n",
    "print('Used time: %d' % int(toc-tic))"
   ]
  }
 ],
 "metadata": {
  "kernelspec": {
   "display_name": "Python [conda env:root]",
   "language": "python",
   "name": "conda-root-py"
  },
  "language_info": {
   "codemirror_mode": {
    "name": "ipython",
    "version": 3
   },
   "file_extension": ".py",
   "mimetype": "text/x-python",
   "name": "python",
   "nbconvert_exporter": "python",
   "pygments_lexer": "ipython3",
   "version": "3.7.3"
  }
 },
 "nbformat": 4,
 "nbformat_minor": 2
}
