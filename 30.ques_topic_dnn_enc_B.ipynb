{
 "cells": [
  {
   "cell_type": "code",
   "execution_count": 1,
   "metadata": {},
   "outputs": [],
   "source": [
    "import pandas as pd\n",
    "import numpy as np\n",
    "import pickle\n",
    "import gc\n",
    "import os\n",
    "import time\n",
    "import copy\n",
    "import multiprocessing as mp\n",
    "from sklearn.preprocessing import LabelEncoder\n",
    "from sklearn.model_selection import StratifiedKFold\n",
    "from sklearn.feature_extraction.text import CountVectorizer\n",
    "from sklearn.metrics import roc_auc_score, log_loss\n",
    "from tqdm import tqdm\n",
    "from scipy import sparse, spatial\n",
    "import warnings\n",
    "warnings.filterwarnings('ignore')\n",
    "tqdm.pandas()"
   ]
  },
  {
   "cell_type": "code",
   "execution_count": 2,
   "metadata": {},
   "outputs": [
    {
     "name": "stderr",
     "output_type": "stream",
     "text": [
      "Using TensorFlow backend.\n"
     ]
    }
   ],
   "source": [
    "import os\n",
    "import tensorflow as tf\n",
    "\n",
    "os.environ['CUDA_VISIBLE_DEVICES'] = \"0\"\n",
    "config = tf.compat.v1.ConfigProto()\n",
    "config.gpu_options.allow_growth = True\n",
    "session = tf.compat.v1.Session(config=config)\n",
    "\n",
    "from keras.models import Sequential, Model\n",
    "from keras.layers import Input, Dense, CuDNNLSTM, Bidirectional, Embedding, CuDNNGRU, Conv1D, MaxPooling1D\n",
    "from keras.layers import Flatten, PReLU, Dropout, BatchNormalization, SpatialDropout1D, concatenate\n",
    "from keras import initializers, regularizers, constraints, optimizers, layers\n",
    "from keras.preprocessing.sequence import pad_sequences\n",
    "from keras.utils import Sequence\n",
    "from keras.callbacks import Callback\n",
    "from keras import backend as K\n",
    "from keras.engine.topology import Layer \n",
    "# from keras.utils.training_utils import multi_gpu_model"
   ]
  },
  {
   "cell_type": "code",
   "execution_count": 3,
   "metadata": {},
   "outputs": [
    {
     "name": "stdout",
     "output_type": "stream",
     "text": [
      "ques_topic_dnn_enc...\n"
     ]
    }
   ],
   "source": [
    "tic = time.time()\n",
    "DATA_PATH = '../pkl/'\n",
    "SAVE_PATH = './feats/'\n",
    "WEIGHT_PATH = './weights/'\n",
    "if not os.path.exists(SAVE_PATH):\n",
    "    print('create dir: %s' % SAVE_PATH)\n",
    "    os.mkdir(SAVE_PATH)\n",
    "if not os.path.exists(WEIGHT_PATH):\n",
    "    print('create dir: %s' % WEIGHT_PATH)\n",
    "    os.mkdir(WEIGHT_PATH)\n",
    "\n",
    "print('ques_topic_dnn_enc...')"
   ]
  },
  {
   "cell_type": "code",
   "execution_count": 4,
   "metadata": {},
   "outputs": [
    {
     "name": "stdout",
     "output_type": "stream",
     "text": [
      "9489162\n"
     ]
    }
   ],
   "source": [
    "data = pd.read_pickle(os.path.join(DATA_PATH, 'invite_data.pkl'))\n",
    "question_info = pd.read_pickle(os.path.join(DATA_PATH, 'question_info.pkl'))\n",
    "topic = pd.read_pickle(os.path.join(DATA_PATH, 'topic.pkl'))\n",
    "len_train = (~data['label'].isnull()).sum()\n",
    "print(len_train)"
   ]
  },
  {
   "cell_type": "code",
   "execution_count": 5,
   "metadata": {},
   "outputs": [
    {
     "data": {
      "text/html": [
       "<div>\n",
       "<style scoped>\n",
       "    .dataframe tbody tr th:only-of-type {\n",
       "        vertical-align: middle;\n",
       "    }\n",
       "\n",
       "    .dataframe tbody tr th {\n",
       "        vertical-align: top;\n",
       "    }\n",
       "\n",
       "    .dataframe thead th {\n",
       "        text-align: right;\n",
       "    }\n",
       "</style>\n",
       "<table border=\"1\" class=\"dataframe\">\n",
       "  <thead>\n",
       "    <tr style=\"text-align: right;\">\n",
       "      <th></th>\n",
       "      <th>iday</th>\n",
       "      <th>ihour</th>\n",
       "      <th>itime</th>\n",
       "      <th>label</th>\n",
       "      <th>qid</th>\n",
       "      <th>uid</th>\n",
       "    </tr>\n",
       "  </thead>\n",
       "  <tbody>\n",
       "    <tr>\n",
       "      <th>0</th>\n",
       "      <td>3865</td>\n",
       "      <td>22</td>\n",
       "      <td>92782</td>\n",
       "      <td>0.0</td>\n",
       "      <td>2166419046</td>\n",
       "      <td>401693808</td>\n",
       "    </tr>\n",
       "    <tr>\n",
       "      <th>1</th>\n",
       "      <td>3844</td>\n",
       "      <td>11</td>\n",
       "      <td>92267</td>\n",
       "      <td>0.0</td>\n",
       "      <td>1550017551</td>\n",
       "      <td>3392373099</td>\n",
       "    </tr>\n",
       "    <tr>\n",
       "      <th>2</th>\n",
       "      <td>3862</td>\n",
       "      <td>15</td>\n",
       "      <td>92703</td>\n",
       "      <td>0.0</td>\n",
       "      <td>604029601</td>\n",
       "      <td>2317670257</td>\n",
       "    </tr>\n",
       "    <tr>\n",
       "      <th>3</th>\n",
       "      <td>3849</td>\n",
       "      <td>11</td>\n",
       "      <td>92387</td>\n",
       "      <td>0.0</td>\n",
       "      <td>2350061229</td>\n",
       "      <td>1618461867</td>\n",
       "    </tr>\n",
       "    <tr>\n",
       "      <th>4</th>\n",
       "      <td>3867</td>\n",
       "      <td>4</td>\n",
       "      <td>92812</td>\n",
       "      <td>0.0</td>\n",
       "      <td>2443223942</td>\n",
       "      <td>3544409350</td>\n",
       "    </tr>\n",
       "  </tbody>\n",
       "</table>\n",
       "</div>"
      ],
      "text/plain": [
       "   iday  ihour  itime  label         qid         uid\n",
       "0  3865     22  92782    0.0  2166419046   401693808\n",
       "1  3844     11  92267    0.0  1550017551  3392373099\n",
       "2  3862     15  92703    0.0   604029601  2317670257\n",
       "3  3849     11  92387    0.0  2350061229  1618461867\n",
       "4  3867      4  92812    0.0  2443223942  3544409350"
      ]
     },
     "execution_count": 5,
     "metadata": {},
     "output_type": "execute_result"
    }
   ],
   "source": [
    "data.head()"
   ]
  },
  {
   "cell_type": "code",
   "execution_count": 6,
   "metadata": {},
   "outputs": [
    {
     "data": {
      "text/html": [
       "<div>\n",
       "<style scoped>\n",
       "    .dataframe tbody tr th:only-of-type {\n",
       "        vertical-align: middle;\n",
       "    }\n",
       "\n",
       "    .dataframe tbody tr th {\n",
       "        vertical-align: top;\n",
       "    }\n",
       "\n",
       "    .dataframe thead th {\n",
       "        text-align: right;\n",
       "    }\n",
       "</style>\n",
       "<table border=\"1\" class=\"dataframe\">\n",
       "  <thead>\n",
       "    <tr style=\"text-align: right;\">\n",
       "      <th></th>\n",
       "      <th>qid</th>\n",
       "      <th>qtime</th>\n",
       "      <th>title_sw</th>\n",
       "      <th>title_w</th>\n",
       "      <th>desc_sw</th>\n",
       "      <th>desc_w</th>\n",
       "      <th>topic</th>\n",
       "      <th>qday</th>\n",
       "      <th>qhour</th>\n",
       "    </tr>\n",
       "  </thead>\n",
       "  <tbody>\n",
       "    <tr>\n",
       "      <th>0</th>\n",
       "      <td>2234111670</td>\n",
       "      <td>24437</td>\n",
       "      <td>[211, 204, 1715, 69, 2033, 138, 57, 138, 8, 28...</td>\n",
       "      <td>[22414, 963, 10458]</td>\n",
       "      <td>[0]</td>\n",
       "      <td>[0]</td>\n",
       "      <td>[321, 730, 5784, 4389]</td>\n",
       "      <td>1018</td>\n",
       "      <td>5</td>\n",
       "    </tr>\n",
       "    <tr>\n",
       "      <th>1</th>\n",
       "      <td>760329790</td>\n",
       "      <td>41900</td>\n",
       "      <td>[69, 2033, 138, 2616, 2668, 36, 2594, 1165, 20...</td>\n",
       "      <td>[12677, 16829, 15201, 6419, 101839]</td>\n",
       "      <td>[146, 982, 401, 297, 17, 2616, 2668, 36, 2594,...</td>\n",
       "      <td>[1296, 2118, 12677, 16829, 15201, 6419, 101839...</td>\n",
       "      <td>[278, 12673, 4677]</td>\n",
       "      <td>1745</td>\n",
       "      <td>20</td>\n",
       "    </tr>\n",
       "    <tr>\n",
       "      <th>2</th>\n",
       "      <td>741313548</td>\n",
       "      <td>48789</td>\n",
       "      <td>[153, 662, 1218, 853, 325, 1056, 467, 398, 102...</td>\n",
       "      <td>[700, 2781, 3280, 81215]</td>\n",
       "      <td>[1956, 3583, 153, 34, 35, 1016, 586, 586, 716,...</td>\n",
       "      <td>[732, 24400, 48321, 39608, 20788, 219486, 1183...</td>\n",
       "      <td>[226]</td>\n",
       "      <td>2032</td>\n",
       "      <td>21</td>\n",
       "    </tr>\n",
       "    <tr>\n",
       "      <th>3</th>\n",
       "      <td>3481466230</td>\n",
       "      <td>52455</td>\n",
       "      <td>[22, 179, 57, 451, 594, 118, 882, 655, 1, 433,...</td>\n",
       "      <td>[3312, 1823, 1505, 638, 166, 461]</td>\n",
       "      <td>[323, 37, 1, 606, 1227, 29, 22, 179, 7, 44, 27...</td>\n",
       "      <td>[6642, 4214, 3312, 1505, 2205, 232, 294, 7177,...</td>\n",
       "      <td>[51, 4468]</td>\n",
       "      <td>2185</td>\n",
       "      <td>15</td>\n",
       "    </tr>\n",
       "    <tr>\n",
       "      <th>4</th>\n",
       "      <td>3966197028</td>\n",
       "      <td>54473</td>\n",
       "      <td>[1622, 223, 1218, 853, 390, 220, 753, 909, 557...</td>\n",
       "      <td>[700, 895, 2253]</td>\n",
       "      <td>[0]</td>\n",
       "      <td>[0]</td>\n",
       "      <td>[54700, 81, 57, 17670, 43574]</td>\n",
       "      <td>2269</td>\n",
       "      <td>17</td>\n",
       "    </tr>\n",
       "  </tbody>\n",
       "</table>\n",
       "</div>"
      ],
      "text/plain": [
       "          qid  qtime                                           title_sw  \\\n",
       "0  2234111670  24437  [211, 204, 1715, 69, 2033, 138, 57, 138, 8, 28...   \n",
       "1   760329790  41900  [69, 2033, 138, 2616, 2668, 36, 2594, 1165, 20...   \n",
       "2   741313548  48789  [153, 662, 1218, 853, 325, 1056, 467, 398, 102...   \n",
       "3  3481466230  52455  [22, 179, 57, 451, 594, 118, 882, 655, 1, 433,...   \n",
       "4  3966197028  54473  [1622, 223, 1218, 853, 390, 220, 753, 909, 557...   \n",
       "\n",
       "                               title_w  \\\n",
       "0                  [22414, 963, 10458]   \n",
       "1  [12677, 16829, 15201, 6419, 101839]   \n",
       "2             [700, 2781, 3280, 81215]   \n",
       "3    [3312, 1823, 1505, 638, 166, 461]   \n",
       "4                     [700, 895, 2253]   \n",
       "\n",
       "                                             desc_sw  \\\n",
       "0                                                [0]   \n",
       "1  [146, 982, 401, 297, 17, 2616, 2668, 36, 2594,...   \n",
       "2  [1956, 3583, 153, 34, 35, 1016, 586, 586, 716,...   \n",
       "3  [323, 37, 1, 606, 1227, 29, 22, 179, 7, 44, 27...   \n",
       "4                                                [0]   \n",
       "\n",
       "                                              desc_w  \\\n",
       "0                                                [0]   \n",
       "1  [1296, 2118, 12677, 16829, 15201, 6419, 101839...   \n",
       "2  [732, 24400, 48321, 39608, 20788, 219486, 1183...   \n",
       "3  [6642, 4214, 3312, 1505, 2205, 232, 294, 7177,...   \n",
       "4                                                [0]   \n",
       "\n",
       "                           topic  qday  qhour  \n",
       "0         [321, 730, 5784, 4389]  1018      5  \n",
       "1             [278, 12673, 4677]  1745     20  \n",
       "2                          [226]  2032     21  \n",
       "3                     [51, 4468]  2185     15  \n",
       "4  [54700, 81, 57, 17670, 43574]  2269     17  "
      ]
     },
     "execution_count": 6,
     "metadata": {},
     "output_type": "execute_result"
    }
   ],
   "source": [
    "question_info.head()"
   ]
  },
  {
   "cell_type": "code",
   "execution_count": 7,
   "metadata": {},
   "outputs": [
    {
     "data": {
      "text/html": [
       "<div>\n",
       "<style scoped>\n",
       "    .dataframe tbody tr th:only-of-type {\n",
       "        vertical-align: middle;\n",
       "    }\n",
       "\n",
       "    .dataframe tbody tr th {\n",
       "        vertical-align: top;\n",
       "    }\n",
       "\n",
       "    .dataframe thead th {\n",
       "        text-align: right;\n",
       "    }\n",
       "</style>\n",
       "<table border=\"1\" class=\"dataframe\">\n",
       "  <thead>\n",
       "    <tr style=\"text-align: right;\">\n",
       "      <th></th>\n",
       "      <th>iday</th>\n",
       "      <th>ihour</th>\n",
       "      <th>itime</th>\n",
       "      <th>label</th>\n",
       "      <th>qid</th>\n",
       "      <th>uid</th>\n",
       "      <th>topic</th>\n",
       "    </tr>\n",
       "  </thead>\n",
       "  <tbody>\n",
       "    <tr>\n",
       "      <th>0</th>\n",
       "      <td>3865</td>\n",
       "      <td>22</td>\n",
       "      <td>92782</td>\n",
       "      <td>0.0</td>\n",
       "      <td>2166419046</td>\n",
       "      <td>401693808</td>\n",
       "      <td>[456, 112, 9566, 5310]</td>\n",
       "    </tr>\n",
       "    <tr>\n",
       "      <th>1</th>\n",
       "      <td>3844</td>\n",
       "      <td>11</td>\n",
       "      <td>92267</td>\n",
       "      <td>0.0</td>\n",
       "      <td>1550017551</td>\n",
       "      <td>3392373099</td>\n",
       "      <td>[2, 3095]</td>\n",
       "    </tr>\n",
       "    <tr>\n",
       "      <th>2</th>\n",
       "      <td>3862</td>\n",
       "      <td>15</td>\n",
       "      <td>92703</td>\n",
       "      <td>0.0</td>\n",
       "      <td>604029601</td>\n",
       "      <td>2317670257</td>\n",
       "      <td>[6090, 2156, 97, 456]</td>\n",
       "    </tr>\n",
       "    <tr>\n",
       "      <th>3</th>\n",
       "      <td>3849</td>\n",
       "      <td>11</td>\n",
       "      <td>92387</td>\n",
       "      <td>0.0</td>\n",
       "      <td>2350061229</td>\n",
       "      <td>1618461867</td>\n",
       "      <td>[856]</td>\n",
       "    </tr>\n",
       "    <tr>\n",
       "      <th>4</th>\n",
       "      <td>3867</td>\n",
       "      <td>4</td>\n",
       "      <td>92812</td>\n",
       "      <td>0.0</td>\n",
       "      <td>2443223942</td>\n",
       "      <td>3544409350</td>\n",
       "      <td>[26, 76, 17]</td>\n",
       "    </tr>\n",
       "  </tbody>\n",
       "</table>\n",
       "</div>"
      ],
      "text/plain": [
       "   iday  ihour  itime  label         qid         uid                   topic\n",
       "0  3865     22  92782    0.0  2166419046   401693808  [456, 112, 9566, 5310]\n",
       "1  3844     11  92267    0.0  1550017551  3392373099               [2, 3095]\n",
       "2  3862     15  92703    0.0   604029601  2317670257   [6090, 2156, 97, 456]\n",
       "3  3849     11  92387    0.0  2350061229  1618461867                   [856]\n",
       "4  3867      4  92812    0.0  2443223942  3544409350            [26, 76, 17]"
      ]
     },
     "execution_count": 7,
     "metadata": {},
     "output_type": "execute_result"
    }
   ],
   "source": [
    "data = data.merge(question_info[['qid', 'topic']], 'left', 'qid')\n",
    "# data['topic'] = data['topic'].fillna('-1')\n",
    "data.head()"
   ]
  },
  {
   "cell_type": "code",
   "execution_count": 8,
   "metadata": {},
   "outputs": [
    {
     "name": "stdout",
     "output_type": "stream",
     "text": [
      "13\n"
     ]
    }
   ],
   "source": [
    "max_len = data['topic'].apply(len).max()\n",
    "print(max_len)"
   ]
  },
  {
   "cell_type": "code",
   "execution_count": 9,
   "metadata": {},
   "outputs": [
    {
     "name": "stderr",
     "output_type": "stream",
     "text": [
      "100%|██████████| 10630845/10630845 [00:21<00:00, 494573.49it/s]\n"
     ]
    }
   ],
   "source": [
    "np.random.seed(42)\n",
    "def shuffle(l):\n",
    "    np.random.shuffle(l)\n",
    "    return l\n",
    "\n",
    "data['topic'] = data['topic'].progress_apply(shuffle)"
   ]
  },
  {
   "cell_type": "code",
   "execution_count": 10,
   "metadata": {},
   "outputs": [
    {
     "data": {
      "text/html": [
       "<div>\n",
       "<style scoped>\n",
       "    .dataframe tbody tr th:only-of-type {\n",
       "        vertical-align: middle;\n",
       "    }\n",
       "\n",
       "    .dataframe tbody tr th {\n",
       "        vertical-align: top;\n",
       "    }\n",
       "\n",
       "    .dataframe thead th {\n",
       "        text-align: right;\n",
       "    }\n",
       "</style>\n",
       "<table border=\"1\" class=\"dataframe\">\n",
       "  <thead>\n",
       "    <tr style=\"text-align: right;\">\n",
       "      <th></th>\n",
       "      <th>iday</th>\n",
       "      <th>ihour</th>\n",
       "      <th>itime</th>\n",
       "      <th>label</th>\n",
       "      <th>qid</th>\n",
       "      <th>uid</th>\n",
       "      <th>topic</th>\n",
       "    </tr>\n",
       "  </thead>\n",
       "  <tbody>\n",
       "    <tr>\n",
       "      <th>0</th>\n",
       "      <td>3865</td>\n",
       "      <td>22</td>\n",
       "      <td>92782</td>\n",
       "      <td>0.0</td>\n",
       "      <td>2166419046</td>\n",
       "      <td>401693808</td>\n",
       "      <td>[112, 9566, 5310, 456]</td>\n",
       "    </tr>\n",
       "    <tr>\n",
       "      <th>1</th>\n",
       "      <td>3844</td>\n",
       "      <td>11</td>\n",
       "      <td>92267</td>\n",
       "      <td>0.0</td>\n",
       "      <td>1550017551</td>\n",
       "      <td>3392373099</td>\n",
       "      <td>[2, 3095]</td>\n",
       "    </tr>\n",
       "    <tr>\n",
       "      <th>2</th>\n",
       "      <td>3862</td>\n",
       "      <td>15</td>\n",
       "      <td>92703</td>\n",
       "      <td>0.0</td>\n",
       "      <td>604029601</td>\n",
       "      <td>2317670257</td>\n",
       "      <td>[456, 2156, 97, 6090]</td>\n",
       "    </tr>\n",
       "    <tr>\n",
       "      <th>3</th>\n",
       "      <td>3849</td>\n",
       "      <td>11</td>\n",
       "      <td>92387</td>\n",
       "      <td>0.0</td>\n",
       "      <td>2350061229</td>\n",
       "      <td>1618461867</td>\n",
       "      <td>[856]</td>\n",
       "    </tr>\n",
       "    <tr>\n",
       "      <th>4</th>\n",
       "      <td>3867</td>\n",
       "      <td>4</td>\n",
       "      <td>92812</td>\n",
       "      <td>0.0</td>\n",
       "      <td>2443223942</td>\n",
       "      <td>3544409350</td>\n",
       "      <td>[76, 17, 26]</td>\n",
       "    </tr>\n",
       "  </tbody>\n",
       "</table>\n",
       "</div>"
      ],
      "text/plain": [
       "   iday  ihour  itime  label         qid         uid                   topic\n",
       "0  3865     22  92782    0.0  2166419046   401693808  [112, 9566, 5310, 456]\n",
       "1  3844     11  92267    0.0  1550017551  3392373099               [2, 3095]\n",
       "2  3862     15  92703    0.0   604029601  2317670257   [456, 2156, 97, 6090]\n",
       "3  3849     11  92387    0.0  2350061229  1618461867                   [856]\n",
       "4  3867      4  92812    0.0  2443223942  3544409350            [76, 17, 26]"
      ]
     },
     "execution_count": 10,
     "metadata": {},
     "output_type": "execute_result"
    }
   ],
   "source": [
    "data.head()"
   ]
  },
  {
   "cell_type": "code",
   "execution_count": 11,
   "metadata": {},
   "outputs": [],
   "source": [
    "topics = pad_sequences(data['topic'], maxlen=max_len)"
   ]
  },
  {
   "cell_type": "code",
   "execution_count": 12,
   "metadata": {},
   "outputs": [
    {
     "data": {
      "text/plain": [
       "(10630845, 13)"
      ]
     },
     "execution_count": 12,
     "metadata": {},
     "output_type": "execute_result"
    }
   ],
   "source": [
    "topics.shape"
   ]
  },
  {
   "cell_type": "code",
   "execution_count": 13,
   "metadata": {},
   "outputs": [],
   "source": [
    "embed_weights = np.array([[0] * 64] + [list(v) for v in topic['vector'].values])"
   ]
  },
  {
   "cell_type": "code",
   "execution_count": 14,
   "metadata": {},
   "outputs": [
    {
     "data": {
      "text/plain": [
       "(100001, 64)"
      ]
     },
     "execution_count": 14,
     "metadata": {},
     "output_type": "execute_result"
    }
   ],
   "source": [
    "embed_weights.shape"
   ]
  },
  {
   "cell_type": "code",
   "execution_count": 15,
   "metadata": {},
   "outputs": [],
   "source": [
    "class DataSequence(Sequence):\n",
    "    \n",
    "    def __init__(self, x, y, batch_size=128):\n",
    "        self.x = x\n",
    "        self.y = y\n",
    "        self.batch_size = batch_size\n",
    "         \n",
    "    def __len__(self):\n",
    "        return int(np.ceil(self.x.shape[0] / float(self.batch_size)))\n",
    "    \n",
    "    def __getitem__(self, idx):\n",
    "        batch_idx = np.arange(idx * self.batch_size, min((idx + 1) * self.batch_size, self.x.shape[0]))\n",
    "        batch_x = self.x[batch_idx]# .toarray() # sparse to dense\n",
    "        batch_y = self.y[batch_idx]\n",
    "        return batch_x, batch_y"
   ]
  },
  {
   "cell_type": "code",
   "execution_count": 16,
   "metadata": {},
   "outputs": [],
   "source": [
    "class MetricsCallback(Callback):\n",
    "    def __init__(self, x_trn, y_trn, x_val, y_val, batch_size=128, save_name='weight.h5'):\n",
    "        self.trn_generator = DataSequence(x_trn, y_trn, BATCH_SIZE)\n",
    "        self.val_generator = DataSequence(x_val, y_val, BATCH_SIZE)\n",
    "        self.y_trn = y_trn\n",
    "        self.y_val = y_val\n",
    "        self.save_name = save_name\n",
    "        self.best_score = 0.5\n",
    "\n",
    "    def on_epoch_end(self, epoch, logs={}):\n",
    "        # eval train\n",
    "        y_pred = self.model.predict_generator(self.trn_generator, \n",
    "                                              max_queue_size=10, \n",
    "                                              workers=1, \n",
    "                                              use_multiprocessing=False, \n",
    "                                              verbose=0)\n",
    "        roc = roc_auc_score(self.y_trn, y_pred)\n",
    "        # eval valid\n",
    "        y_pred_val = self.model.predict_generator(self.val_generator, \n",
    "                                              max_queue_size=10, \n",
    "                                              workers=1, \n",
    "                                              use_multiprocessing=False, \n",
    "                                              verbose=0)\n",
    "        roc_val = roc_auc_score(self.y_val, y_pred_val)\n",
    "        print('\\rroc-auc: %s - roc-auc_val: %s' % (str(round(roc,4)),str(round(roc_val,4))),end=100*' '+'\\n')\n",
    "#         print(roc_val)\n",
    "#         print(log_loss(self.y_val, y_pred_val)/len(y_pred_val))\n",
    "        if roc_val > self.best_score:\n",
    "            self.best_score = roc_val\n",
    "            self.model.save_weights(os.path.join(WEIGHT_PATH, self.save_name))\n",
    "        \n",
    "        return"
   ]
  },
  {
   "cell_type": "code",
   "execution_count": 17,
   "metadata": {},
   "outputs": [],
   "source": [
    "def Net(in_dim, hiddens=(256,256)):\n",
    "    inp = Input(shape=(max_len,))\n",
    "    x = Embedding(embed_weights.shape[0], embed_weights.shape[1], weights=[embed_weights], trainable=False)(inp)\n",
    "    x = Dropout(0.2)(x)\n",
    "    x = Flatten()(x)\n",
    "    for hs in hiddens:\n",
    "        x = Dense(hs)(x)\n",
    "        x = BatchNormalization()(x)\n",
    "        x = PReLU()(x)\n",
    "        x = Dropout(0.2)(x)\n",
    "    out = Dense(1, activation=\"sigmoid\")(x)\n",
    "    model = Model(inputs=inp, outputs=out)\n",
    "    return model"
   ]
  },
  {
   "cell_type": "code",
   "execution_count": 18,
   "metadata": {},
   "outputs": [],
   "source": [
    "train_x = topics[:len_train]\n",
    "test_x = topics[len_train:]\n",
    "train_y = data['label'].values[:len_train]"
   ]
  },
  {
   "cell_type": "code",
   "execution_count": 19,
   "metadata": {},
   "outputs": [
    {
     "name": "stdout",
     "output_type": "stream",
     "text": [
      "(9489162, 13)\n",
      "(1141683, 13)\n",
      "0.1773515933229931\n"
     ]
    }
   ],
   "source": [
    "print(train_x.shape)\n",
    "print(test_x.shape)\n",
    "print(train_y.sum() / len(train_y))"
   ]
  },
  {
   "cell_type": "code",
   "execution_count": 21,
   "metadata": {
    "scrolled": true
   },
   "outputs": [
    {
     "name": "stdout",
     "output_type": "stream",
     "text": [
      "----------------------------------------------------------------------------------------------------\n",
      "Fold 0\n"
     ]
    },
    {
     "ename": "KeyboardInterrupt",
     "evalue": "",
     "output_type": "error",
     "traceback": [
      "\u001b[0;31m---------------------------------------------------------------------------\u001b[0m",
      "\u001b[0;31mKeyboardInterrupt\u001b[0m                         Traceback (most recent call last)",
      "\u001b[0;32m<ipython-input-21-94ca579c02b1>\u001b[0m in \u001b[0;36m<module>\u001b[0;34m\u001b[0m\n\u001b[1;32m      7\u001b[0m     \u001b[0mprint\u001b[0m\u001b[0;34m(\u001b[0m\u001b[0;34m'Fold %d'\u001b[0m \u001b[0;34m%\u001b[0m \u001b[0mi\u001b[0m\u001b[0;34m)\u001b[0m\u001b[0;34m\u001b[0m\u001b[0;34m\u001b[0m\u001b[0m\n\u001b[1;32m      8\u001b[0m     \u001b[0mtrn_x\u001b[0m\u001b[0;34m,\u001b[0m \u001b[0mtrn_y\u001b[0m \u001b[0;34m=\u001b[0m \u001b[0mtrain_x\u001b[0m\u001b[0;34m[\u001b[0m\u001b[0mtr_idx\u001b[0m\u001b[0;34m]\u001b[0m\u001b[0;34m,\u001b[0m \u001b[0mtrain_y\u001b[0m\u001b[0;34m[\u001b[0m\u001b[0mtr_idx\u001b[0m\u001b[0;34m]\u001b[0m\u001b[0;34m\u001b[0m\u001b[0;34m\u001b[0m\u001b[0m\n\u001b[0;32m----> 9\u001b[0;31m     \u001b[0mval_x\u001b[0m\u001b[0;34m,\u001b[0m \u001b[0mval_y\u001b[0m \u001b[0;34m=\u001b[0m \u001b[0mtrain_x\u001b[0m\u001b[0;34m[\u001b[0m\u001b[0mva_idx\u001b[0m\u001b[0;34m]\u001b[0m\u001b[0;34m,\u001b[0m \u001b[0mtrain_y\u001b[0m\u001b[0;34m[\u001b[0m\u001b[0mva_idx\u001b[0m\u001b[0;34m]\u001b[0m\u001b[0;34m\u001b[0m\u001b[0;34m\u001b[0m\u001b[0m\n\u001b[0m\u001b[1;32m     10\u001b[0m \u001b[0;34m\u001b[0m\u001b[0m\n\u001b[1;32m     11\u001b[0m     \u001b[0mK\u001b[0m\u001b[0;34m.\u001b[0m\u001b[0mclear_session\u001b[0m\u001b[0;34m(\u001b[0m\u001b[0;34m)\u001b[0m\u001b[0;34m\u001b[0m\u001b[0;34m\u001b[0m\u001b[0m\n",
      "\u001b[0;31mKeyboardInterrupt\u001b[0m: "
     ]
    }
   ],
   "source": [
    "BATCH_SIZE = 1024\n",
    "\n",
    "kfold = StratifiedKFold(n_splits=5, shuffle=True, random_state=42)\n",
    "\n",
    "for i, (tr_idx, va_idx) in enumerate(kfold.split(train_x, train_y)):\n",
    "    print('-'*100)\n",
    "    print('Fold %d' % i)\n",
    "    trn_x, trn_y = train_x[tr_idx], train_y[tr_idx]\n",
    "    val_x, val_y = train_x[va_idx], train_y[va_idx]\n",
    "    \n",
    "    K.clear_session()\n",
    "    model = Net(in_dim=train_x.shape[1], hiddens=(256,256,256))\n",
    "    model.compile(loss='binary_crossentropy', optimizer='adam',)\n",
    "    \n",
    "    trn_generator = DataSequence(trn_x, trn_y, batch_size=BATCH_SIZE)\n",
    "    val_generator = DataSequence(val_x, val_y, batch_size=BATCH_SIZE)\n",
    "    \n",
    "    history = model.fit_generator(generator=trn_generator, \n",
    "                        epochs=30, \n",
    "                        verbose=1, \n",
    "                        callbacks=[MetricsCallback(trn_x, trn_y, val_x, val_y, \n",
    "                                                   batch_size=BATCH_SIZE*4, \n",
    "                                                   save_name='ques_topic_dnn_enc_B_weight_fold%d.h5' % i)], \n",
    "                        max_queue_size=100, \n",
    "                        workers=1, \n",
    "                        use_multiprocessing=False,)\n",
    "    \n",
    "    del trn_x, trn_y, val_x, val_y\n",
    "    gc.collect()\n",
    "    \n",
    "    break"
   ]
  },
  {
   "cell_type": "code",
   "execution_count": 21,
   "metadata": {},
   "outputs": [],
   "source": [
    "# 0.4608"
   ]
  },
  {
   "cell_type": "code",
   "execution_count": 22,
   "metadata": {},
   "outputs": [
    {
     "name": "stdout",
     "output_type": "stream",
     "text": [
      "----------------------------------------------------------------------------------------------------\n",
      "Fold 0\n",
      "Predict Done.\n",
      "----------------------------------------------------------------------------------------------------\n",
      "Fold 1\n",
      "Predict Done.\n",
      "----------------------------------------------------------------------------------------------------\n",
      "Fold 2\n",
      "Predict Done.\n",
      "----------------------------------------------------------------------------------------------------\n",
      "Fold 3\n",
      "Predict Done.\n",
      "----------------------------------------------------------------------------------------------------\n",
      "Fold 4\n",
      "Predict Done.\n"
     ]
    }
   ],
   "source": [
    "test_generator = DataSequence(test_x, np.zeros(test_x.shape[0]), batch_size=BATCH_SIZE * 4)\n",
    "\n",
    "test_pred = np.zeros((test_x.shape[0], 1))\n",
    "train_pred = np.zeros((train_x.shape[0], 1))\n",
    "\n",
    "for i, (tr_idx, va_idx) in enumerate(kfold.split(train_x, train_y)):\n",
    "    print('-'*100)\n",
    "    print('Fold %d' % i)\n",
    "    trn_x, trn_y = train_x[tr_idx], train_y[tr_idx]\n",
    "    val_x, val_y = train_x[va_idx], train_y[va_idx]\n",
    "    \n",
    "    K.clear_session()\n",
    "    model = Net(in_dim=train_x.shape[1], hiddens=(256,256,256))\n",
    "    model.compile(loss='binary_crossentropy', optimizer='adam',)\n",
    "    \n",
    "    trn_generator = DataSequence(trn_x, trn_y, batch_size=BATCH_SIZE * 4)\n",
    "    val_generator = DataSequence(val_x, val_y, batch_size=BATCH_SIZE * 4)\n",
    "    \n",
    "    model.load_weights(os.path.join(WEIGHT_PATH, 'ques_topic_dnn_enc_B_weight_fold%d.h5' % i))\n",
    "    \n",
    "    train_pred[va_idx] = model.predict_generator(val_generator)\n",
    "    test_pred += model.predict_generator(test_generator) / 5\n",
    "    \n",
    "    del trn_x, trn_y, val_x, val_y\n",
    "    gc.collect()\n",
    "    print('Predict Done.')"
   ]
  },
  {
   "cell_type": "code",
   "execution_count": 23,
   "metadata": {},
   "outputs": [
    {
     "data": {
      "text/html": [
       "<div>\n",
       "<style scoped>\n",
       "    .dataframe tbody tr th:only-of-type {\n",
       "        vertical-align: middle;\n",
       "    }\n",
       "\n",
       "    .dataframe tbody tr th {\n",
       "        vertical-align: top;\n",
       "    }\n",
       "\n",
       "    .dataframe thead th {\n",
       "        text-align: right;\n",
       "    }\n",
       "</style>\n",
       "<table border=\"1\" class=\"dataframe\">\n",
       "  <thead>\n",
       "    <tr style=\"text-align: right;\">\n",
       "      <th></th>\n",
       "      <th>ques_topic_dnn_enc_B</th>\n",
       "    </tr>\n",
       "  </thead>\n",
       "  <tbody>\n",
       "    <tr>\n",
       "      <th>0</th>\n",
       "      <td>0.116971</td>\n",
       "    </tr>\n",
       "    <tr>\n",
       "      <th>1</th>\n",
       "      <td>0.192841</td>\n",
       "    </tr>\n",
       "    <tr>\n",
       "      <th>2</th>\n",
       "      <td>0.057636</td>\n",
       "    </tr>\n",
       "    <tr>\n",
       "      <th>3</th>\n",
       "      <td>0.145904</td>\n",
       "    </tr>\n",
       "    <tr>\n",
       "      <th>4</th>\n",
       "      <td>0.239827</td>\n",
       "    </tr>\n",
       "  </tbody>\n",
       "</table>\n",
       "</div>"
      ],
      "text/plain": [
       "   ques_topic_dnn_enc_B\n",
       "0              0.116971\n",
       "1              0.192841\n",
       "2              0.057636\n",
       "3              0.145904\n",
       "4              0.239827"
      ]
     },
     "execution_count": 23,
     "metadata": {},
     "output_type": "execute_result"
    }
   ],
   "source": [
    "arr = np.vstack([train_pred, test_pred])\n",
    "feat = pd.DataFrame(arr, columns=['ques_topic_dnn_enc_B'])\n",
    "feat.head()"
   ]
  },
  {
   "cell_type": "code",
   "execution_count": 24,
   "metadata": {},
   "outputs": [],
   "source": [
    "feat.to_pickle('./feats/ques_topic_dnn_enc_B.pkl')"
   ]
  },
  {
   "cell_type": "code",
   "execution_count": null,
   "metadata": {},
   "outputs": [],
   "source": []
  },
  {
   "cell_type": "code",
   "execution_count": null,
   "metadata": {},
   "outputs": [],
   "source": []
  },
  {
   "cell_type": "code",
   "execution_count": null,
   "metadata": {},
   "outputs": [],
   "source": []
  },
  {
   "cell_type": "code",
   "execution_count": null,
   "metadata": {},
   "outputs": [],
   "source": []
  },
  {
   "cell_type": "code",
   "execution_count": null,
   "metadata": {},
   "outputs": [],
   "source": []
  }
 ],
 "metadata": {
  "kernelspec": {
   "display_name": "Python [conda env:root]",
   "language": "python",
   "name": "conda-root-py"
  },
  "language_info": {
   "codemirror_mode": {
    "name": "ipython",
    "version": 3
   },
   "file_extension": ".py",
   "mimetype": "text/x-python",
   "name": "python",
   "nbconvert_exporter": "python",
   "pygments_lexer": "ipython3",
   "version": "3.7.3"
  }
 },
 "nbformat": 4,
 "nbformat_minor": 2
}
