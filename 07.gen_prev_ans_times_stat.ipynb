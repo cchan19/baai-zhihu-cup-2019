{
 "cells": [
  {
   "cell_type": "code",
   "execution_count": 1,
   "metadata": {},
   "outputs": [],
   "source": [
    "import pandas as pd\n",
    "import numpy as np\n",
    "import pickle\n",
    "import gc\n",
    "import os\n",
    "import time\n",
    "import copy\n",
    "import multiprocessing as mp\n",
    "from sklearn.preprocessing import LabelEncoder\n",
    "from sklearn.model_selection import StratifiedKFold\n",
    "from sklearn.feature_extraction.text import CountVectorizer\n",
    "from tqdm import tqdm\n",
    "from scipy import sparse, spatial\n",
    "import warnings\n",
    "warnings.filterwarnings('ignore')\n",
    "tqdm.pandas()"
   ]
  },
  {
   "cell_type": "code",
   "execution_count": 2,
   "metadata": {},
   "outputs": [
    {
     "name": "stdout",
     "output_type": "stream",
     "text": [
      "gen_prev_ans_times_stat...\n"
     ]
    }
   ],
   "source": [
    "tic = time.time()\n",
    "DATA_PATH = '../pkl/'\n",
    "SAVE_PATH = './feats/'\n",
    "if not os.path.exists(SAVE_PATH):\n",
    "    print('create dir: %s' % SAVE_PATH)\n",
    "    os.mkdir(SAVE_PATH)\n",
    "\n",
    "print('gen_prev_ans_times_stat...')"
   ]
  },
  {
   "cell_type": "code",
   "execution_count": 3,
   "metadata": {},
   "outputs": [],
   "source": [
    "inv_last_answer_time = pd.read_pickle(os.path.join(DATA_PATH, 'inv_last_answer_time.pkl'))\n",
    "answer_info = pd.read_pickle(os.path.join(DATA_PATH, 'answer_info_tiny.pkl'))"
   ]
  },
  {
   "cell_type": "code",
   "execution_count": 4,
   "metadata": {},
   "outputs": [],
   "source": [
    "answer_info['user_time'] = answer_info['uid'].astype(str) + '_' + answer_info['atime'].astype(str)\n",
    "answer_info.sort_values(by=['uid', 'user_time'],inplace=True)\n",
    "answer_info = answer_info[['uid', 'user_time', 'atime']].reset_index(drop=True)"
   ]
  },
  {
   "cell_type": "code",
   "execution_count": 5,
   "metadata": {},
   "outputs": [
    {
     "data": {
      "text/html": [
       "<div>\n",
       "<style scoped>\n",
       "    .dataframe tbody tr th:only-of-type {\n",
       "        vertical-align: middle;\n",
       "    }\n",
       "\n",
       "    .dataframe tbody tr th {\n",
       "        vertical-align: top;\n",
       "    }\n",
       "\n",
       "    .dataframe thead th {\n",
       "        text-align: right;\n",
       "    }\n",
       "</style>\n",
       "<table border=\"1\" class=\"dataframe\">\n",
       "  <thead>\n",
       "    <tr style=\"text-align: right;\">\n",
       "      <th></th>\n",
       "      <th>uid</th>\n",
       "      <th>user_time</th>\n",
       "      <th>atime</th>\n",
       "    </tr>\n",
       "  </thead>\n",
       "  <tbody>\n",
       "    <tr>\n",
       "      <th>0</th>\n",
       "      <td>2786</td>\n",
       "      <td>2786_91520</td>\n",
       "      <td>91520</td>\n",
       "    </tr>\n",
       "    <tr>\n",
       "      <th>1</th>\n",
       "      <td>2786</td>\n",
       "      <td>2786_92347</td>\n",
       "      <td>92347</td>\n",
       "    </tr>\n",
       "    <tr>\n",
       "      <th>2</th>\n",
       "      <td>2786</td>\n",
       "      <td>2786_92347</td>\n",
       "      <td>92347</td>\n",
       "    </tr>\n",
       "    <tr>\n",
       "      <th>3</th>\n",
       "      <td>15476</td>\n",
       "      <td>15476_92486</td>\n",
       "      <td>92486</td>\n",
       "    </tr>\n",
       "    <tr>\n",
       "      <th>4</th>\n",
       "      <td>15476</td>\n",
       "      <td>15476_92558</td>\n",
       "      <td>92558</td>\n",
       "    </tr>\n",
       "  </tbody>\n",
       "</table>\n",
       "</div>"
      ],
      "text/plain": [
       "     uid    user_time  atime\n",
       "0   2786   2786_91520  91520\n",
       "1   2786   2786_92347  92347\n",
       "2   2786   2786_92347  92347\n",
       "3  15476  15476_92486  92486\n",
       "4  15476  15476_92558  92558"
      ]
     },
     "execution_count": 5,
     "metadata": {},
     "output_type": "execute_result"
    }
   ],
   "source": [
    "answer_info.head()"
   ]
  },
  {
   "cell_type": "code",
   "execution_count": 6,
   "metadata": {},
   "outputs": [
    {
     "name": "stderr",
     "output_type": "stream",
     "text": [
      "100%|██████████| 4513735/4513735 [00:18<00:00, 247186.17it/s]\n"
     ]
    }
   ],
   "source": [
    "prev_ans_times = []\n",
    "times = []\n",
    "last = None\n",
    "for a, _, t in tqdm(answer_info.values):\n",
    "    if last is None or last != a:\n",
    "        times = [t]\n",
    "    else:\n",
    "        times.append(t)\n",
    "    prev_ans_times.append(list(times))\n",
    "    last = a"
   ]
  },
  {
   "cell_type": "code",
   "execution_count": 7,
   "metadata": {},
   "outputs": [],
   "source": [
    "answer_info['prev_ans_times'] = prev_ans_times\n",
    "answer_info.drop_duplicates(subset='user_time', keep='last', inplace=True)"
   ]
  },
  {
   "cell_type": "code",
   "execution_count": 8,
   "metadata": {},
   "outputs": [
    {
     "name": "stderr",
     "output_type": "stream",
     "text": [
      "100%|██████████| 3406218/3406218 [04:21<00:00, 13030.95it/s]\n"
     ]
    }
   ],
   "source": [
    "min_ = []\n",
    "mean_ = []\n",
    "std_ = []\n",
    "for var in tqdm(answer_info['prev_ans_times']):\n",
    "    min_.append(np.min(var))\n",
    "    mean_.append(np.mean(var))\n",
    "    std_.append(np.std(var))  "
   ]
  },
  {
   "cell_type": "code",
   "execution_count": 9,
   "metadata": {},
   "outputs": [],
   "source": [
    "tmp = answer_info[['user_time']]\n",
    "tmp['prev_ans_times_min'] = min_\n",
    "tmp['prev_ans_times_mean'] = mean_\n",
    "tmp['prev_ans_times_std'] = std_"
   ]
  },
  {
   "cell_type": "code",
   "execution_count": 10,
   "metadata": {},
   "outputs": [
    {
     "data": {
      "text/html": [
       "<div>\n",
       "<style scoped>\n",
       "    .dataframe tbody tr th:only-of-type {\n",
       "        vertical-align: middle;\n",
       "    }\n",
       "\n",
       "    .dataframe tbody tr th {\n",
       "        vertical-align: top;\n",
       "    }\n",
       "\n",
       "    .dataframe thead th {\n",
       "        text-align: right;\n",
       "    }\n",
       "</style>\n",
       "<table border=\"1\" class=\"dataframe\">\n",
       "  <thead>\n",
       "    <tr style=\"text-align: right;\">\n",
       "      <th></th>\n",
       "      <th>uid</th>\n",
       "      <th>id</th>\n",
       "      <th>time</th>\n",
       "      <th>last_time</th>\n",
       "      <th>user_time</th>\n",
       "      <th>invite_answer_gap</th>\n",
       "      <th>prev_ans_times_min</th>\n",
       "      <th>prev_ans_times_mean</th>\n",
       "      <th>prev_ans_times_std</th>\n",
       "    </tr>\n",
       "  </thead>\n",
       "  <tbody>\n",
       "    <tr>\n",
       "      <th>0</th>\n",
       "      <td>401693808</td>\n",
       "      <td>0.0</td>\n",
       "      <td>92782</td>\n",
       "      <td>NaN</td>\n",
       "      <td>401693808_-1</td>\n",
       "      <td>NaN</td>\n",
       "      <td>NaN</td>\n",
       "      <td>NaN</td>\n",
       "      <td>NaN</td>\n",
       "    </tr>\n",
       "    <tr>\n",
       "      <th>1</th>\n",
       "      <td>3392373099</td>\n",
       "      <td>1.0</td>\n",
       "      <td>92267</td>\n",
       "      <td>NaN</td>\n",
       "      <td>3392373099_-1</td>\n",
       "      <td>NaN</td>\n",
       "      <td>NaN</td>\n",
       "      <td>NaN</td>\n",
       "      <td>NaN</td>\n",
       "    </tr>\n",
       "  </tbody>\n",
       "</table>\n",
       "</div>"
      ],
      "text/plain": [
       "          uid   id   time  last_time      user_time  invite_answer_gap  \\\n",
       "0   401693808  0.0  92782        NaN   401693808_-1                NaN   \n",
       "1  3392373099  1.0  92267        NaN  3392373099_-1                NaN   \n",
       "\n",
       "   prev_ans_times_min  prev_ans_times_mean  prev_ans_times_std  \n",
       "0                 NaN                  NaN                 NaN  \n",
       "1                 NaN                  NaN                 NaN  "
      ]
     },
     "execution_count": 10,
     "metadata": {},
     "output_type": "execute_result"
    }
   ],
   "source": [
    "tmp = inv_last_answer_time.merge(tmp, 'left', 'user_time')\n",
    "tmp.head(2)"
   ]
  },
  {
   "cell_type": "code",
   "execution_count": 11,
   "metadata": {},
   "outputs": [],
   "source": [
    "tmp[['prev_ans_times_' + st for st in ['min', 'mean', 'std']]].to_pickle(os.path.join(SAVE_PATH, 'prev_ans_times_st.pkl'))"
   ]
  },
  {
   "cell_type": "code",
   "execution_count": 12,
   "metadata": {},
   "outputs": [
    {
     "name": "stdout",
     "output_type": "stream",
     "text": [
      "Used time: 350\n"
     ]
    }
   ],
   "source": [
    "toc = time.time()\n",
    "print('Used time: %d' % int(toc-tic))"
   ]
  },
  {
   "cell_type": "code",
   "execution_count": null,
   "metadata": {},
   "outputs": [],
   "source": []
  }
 ],
 "metadata": {
  "kernelspec": {
   "display_name": "Python [conda env:root] *",
   "language": "python",
   "name": "conda-root-py"
  },
  "language_info": {
   "codemirror_mode": {
    "name": "ipython",
    "version": 3
   },
   "file_extension": ".py",
   "mimetype": "text/x-python",
   "name": "python",
   "nbconvert_exporter": "python",
   "pygments_lexer": "ipython3",
   "version": "3.7.3"
  }
 },
 "nbformat": 4,
 "nbformat_minor": 2
}
