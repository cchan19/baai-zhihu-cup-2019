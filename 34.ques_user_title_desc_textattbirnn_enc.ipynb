{
 "cells": [
  {
   "cell_type": "code",
   "execution_count": 1,
   "metadata": {},
   "outputs": [
    {
     "name": "stderr",
     "output_type": "stream",
     "text": [
      "/root/anaconda3/lib/python3.7/site-packages/sklearn/feature_extraction/text.py:17: DeprecationWarning: Using or importing the ABCs from 'collections' instead of from 'collections.abc' is deprecated, and in 3.8 it will stop working\n",
      "  from collections import Mapping, defaultdict\n"
     ]
    }
   ],
   "source": [
    "import pandas as pd\n",
    "import numpy as np\n",
    "import pickle\n",
    "import gc\n",
    "import os\n",
    "import time\n",
    "import copy\n",
    "import multiprocessing as mp\n",
    "from sklearn.preprocessing import LabelEncoder\n",
    "from sklearn.model_selection import StratifiedKFold\n",
    "from sklearn.feature_extraction.text import CountVectorizer\n",
    "from sklearn.metrics import roc_auc_score, log_loss\n",
    "from tqdm import tqdm\n",
    "from scipy import sparse, spatial\n",
    "import warnings\n",
    "warnings.filterwarnings('ignore')\n",
    "tqdm.pandas()"
   ]
  },
  {
   "cell_type": "code",
   "execution_count": 2,
   "metadata": {},
   "outputs": [
    {
     "name": "stderr",
     "output_type": "stream",
     "text": [
      "Using TensorFlow backend.\n"
     ]
    }
   ],
   "source": [
    "import os\n",
    "import tensorflow as tf\n",
    "\n",
    "os.environ['CUDA_VISIBLE_DEVICES'] = \"0\"\n",
    "# config = tf.compat.v1.ConfigProto()\n",
    "config = tf.ConfigProto()\n",
    "config.gpu_options.allow_growth = True\n",
    "# session = tf.compat.v1.Session(config=config)\n",
    "session = tf.Session(config=config)\n",
    "\n",
    "from keras.models import Sequential, Model\n",
    "from keras.layers import Input, Dense, CuDNNLSTM, Bidirectional, Embedding, CuDNNGRU, Conv1D, MaxPooling1D, AveragePooling1D, GlobalMaxPooling1D\n",
    "from keras.layers import Flatten, PReLU, Dropout, BatchNormalization, SpatialDropout1D, concatenate, Concatenate\n",
    "from keras.layers import Embedding, Dense, Dropout, Bidirectional, CuDNNLSTM\n",
    "from keras.layers import Add, Subtract, Multiply, Dot\n",
    "from attention import Attention\n",
    "from keras import initializers, regularizers, constraints, optimizers, layers\n",
    "from keras.preprocessing.sequence import pad_sequences\n",
    "from keras.utils import Sequence\n",
    "from keras.callbacks import Callback\n",
    "from keras import backend as K\n",
    "from keras.engine.topology import Layer \n",
    "# from keras.utils.training_utils import multi_gpu_model"
   ]
  },
  {
   "cell_type": "code",
   "execution_count": 3,
   "metadata": {},
   "outputs": [
    {
     "name": "stdout",
     "output_type": "stream",
     "text": [
      "ques_user_title_desc_textattbirnn_enc...\n"
     ]
    }
   ],
   "source": [
    "tic = time.time()\n",
    "DATA_PATH = '../pkl/'\n",
    "SAVE_PATH = './feats/'\n",
    "WEIGHT_PATH = './weights/'\n",
    "if not os.path.exists(SAVE_PATH):\n",
    "    print('create dir: %s' % SAVE_PATH)\n",
    "    os.mkdir(SAVE_PATH)\n",
    "if not os.path.exists(WEIGHT_PATH):\n",
    "    print('create dir: %s' % WEIGHT_PATH)\n",
    "    os.mkdir(WEIGHT_PATH)\n",
    "\n",
    "print('ques_user_title_desc_textattbirnn_enc...')"
   ]
  },
  {
   "cell_type": "code",
   "execution_count": 4,
   "metadata": {},
   "outputs": [
    {
     "name": "stdout",
     "output_type": "stream",
     "text": [
      "9489162\n"
     ]
    }
   ],
   "source": [
    "data = pd.read_pickle(os.path.join(DATA_PATH, 'invite_data.pkl'))\n",
    "prev_ans_ques_title_desc = pd.read_pickle(os.path.join(DATA_PATH, 'prev_ans_ques_title_desc.pkl'))\n",
    "word = pd.read_pickle(os.path.join(DATA_PATH, 'word.pkl'))\n",
    "len_train = (~data['label'].isnull()).sum()\n",
    "print(len_train)"
   ]
  },
  {
   "cell_type": "code",
   "execution_count": null,
   "metadata": {},
   "outputs": [],
   "source": []
  },
  {
   "cell_type": "code",
   "execution_count": 5,
   "metadata": {},
   "outputs": [
    {
     "data": {
      "text/html": [
       "<div>\n",
       "<style scoped>\n",
       "    .dataframe tbody tr th:only-of-type {\n",
       "        vertical-align: middle;\n",
       "    }\n",
       "\n",
       "    .dataframe tbody tr th {\n",
       "        vertical-align: top;\n",
       "    }\n",
       "\n",
       "    .dataframe thead th {\n",
       "        text-align: right;\n",
       "    }\n",
       "</style>\n",
       "<table border=\"1\" class=\"dataframe\">\n",
       "  <thead>\n",
       "    <tr style=\"text-align: right;\">\n",
       "      <th></th>\n",
       "      <th>iday</th>\n",
       "      <th>ihour</th>\n",
       "      <th>itime</th>\n",
       "      <th>label</th>\n",
       "      <th>qid</th>\n",
       "      <th>uid</th>\n",
       "    </tr>\n",
       "  </thead>\n",
       "  <tbody>\n",
       "    <tr>\n",
       "      <th>0</th>\n",
       "      <td>3865</td>\n",
       "      <td>22</td>\n",
       "      <td>92782</td>\n",
       "      <td>0.0</td>\n",
       "      <td>2166419046</td>\n",
       "      <td>401693808</td>\n",
       "    </tr>\n",
       "    <tr>\n",
       "      <th>1</th>\n",
       "      <td>3844</td>\n",
       "      <td>11</td>\n",
       "      <td>92267</td>\n",
       "      <td>0.0</td>\n",
       "      <td>1550017551</td>\n",
       "      <td>3392373099</td>\n",
       "    </tr>\n",
       "    <tr>\n",
       "      <th>2</th>\n",
       "      <td>3862</td>\n",
       "      <td>15</td>\n",
       "      <td>92703</td>\n",
       "      <td>0.0</td>\n",
       "      <td>604029601</td>\n",
       "      <td>2317670257</td>\n",
       "    </tr>\n",
       "    <tr>\n",
       "      <th>3</th>\n",
       "      <td>3849</td>\n",
       "      <td>11</td>\n",
       "      <td>92387</td>\n",
       "      <td>0.0</td>\n",
       "      <td>2350061229</td>\n",
       "      <td>1618461867</td>\n",
       "    </tr>\n",
       "    <tr>\n",
       "      <th>4</th>\n",
       "      <td>3867</td>\n",
       "      <td>4</td>\n",
       "      <td>92812</td>\n",
       "      <td>0.0</td>\n",
       "      <td>2443223942</td>\n",
       "      <td>3544409350</td>\n",
       "    </tr>\n",
       "  </tbody>\n",
       "</table>\n",
       "</div>"
      ],
      "text/plain": [
       "   iday  ihour  itime  label         qid         uid\n",
       "0  3865     22  92782    0.0  2166419046   401693808\n",
       "1  3844     11  92267    0.0  1550017551  3392373099\n",
       "2  3862     15  92703    0.0   604029601  2317670257\n",
       "3  3849     11  92387    0.0  2350061229  1618461867\n",
       "4  3867      4  92812    0.0  2443223942  3544409350"
      ]
     },
     "execution_count": 5,
     "metadata": {},
     "output_type": "execute_result"
    }
   ],
   "source": [
    "data.head()"
   ]
  },
  {
   "cell_type": "code",
   "execution_count": 6,
   "metadata": {},
   "outputs": [
    {
     "data": {
      "text/html": [
       "<div>\n",
       "<style scoped>\n",
       "    .dataframe tbody tr th:only-of-type {\n",
       "        vertical-align: middle;\n",
       "    }\n",
       "\n",
       "    .dataframe tbody tr th {\n",
       "        vertical-align: top;\n",
       "    }\n",
       "\n",
       "    .dataframe thead th {\n",
       "        text-align: right;\n",
       "    }\n",
       "</style>\n",
       "<table border=\"1\" class=\"dataframe\">\n",
       "  <thead>\n",
       "    <tr style=\"text-align: right;\">\n",
       "      <th></th>\n",
       "      <th>title_q</th>\n",
       "      <th>desc_q</th>\n",
       "      <th>title_u</th>\n",
       "      <th>desc_u</th>\n",
       "    </tr>\n",
       "  </thead>\n",
       "  <tbody>\n",
       "    <tr>\n",
       "      <th>0</th>\n",
       "      <td>[11058, 272, 2202, 431, 951, 243, 3828, 3037, ...</td>\n",
       "      <td>[3828, 14870, 3037, 2450, 692, 1688, 53547, 24...</td>\n",
       "      <td>[0]</td>\n",
       "      <td>[0]</td>\n",
       "    </tr>\n",
       "    <tr>\n",
       "      <th>1</th>\n",
       "      <td>[149, 79, 5210, 22869]</td>\n",
       "      <td>[429, 2709, 1465, 6965]</td>\n",
       "      <td>[0]</td>\n",
       "      <td>[0]</td>\n",
       "    </tr>\n",
       "    <tr>\n",
       "      <th>2</th>\n",
       "      <td>[31489, 9218, 3440, 243]</td>\n",
       "      <td>[3046, 221, 3440, 730, 31489, 9218, 1278, 415]</td>\n",
       "      <td>[1116, 6761, 17922, 272, 263, 4534, 7742]</td>\n",
       "      <td>[0, 272, 4534, 7742, 3738, 1277, 111, 2425, 41...</td>\n",
       "    </tr>\n",
       "    <tr>\n",
       "      <th>3</th>\n",
       "      <td>[973, 64958, 8583, 2269, 628, 565, 2200, 590, ...</td>\n",
       "      <td>[0]</td>\n",
       "      <td>[0]</td>\n",
       "      <td>[0]</td>\n",
       "    </tr>\n",
       "    <tr>\n",
       "      <th>4</th>\n",
       "      <td>[554, 28208, 396, 51]</td>\n",
       "      <td>[0]</td>\n",
       "      <td>[0]</td>\n",
       "      <td>[0]</td>\n",
       "    </tr>\n",
       "  </tbody>\n",
       "</table>\n",
       "</div>"
      ],
      "text/plain": [
       "                                             title_q  \\\n",
       "0  [11058, 272, 2202, 431, 951, 243, 3828, 3037, ...   \n",
       "1                             [149, 79, 5210, 22869]   \n",
       "2                           [31489, 9218, 3440, 243]   \n",
       "3  [973, 64958, 8583, 2269, 628, 565, 2200, 590, ...   \n",
       "4                              [554, 28208, 396, 51]   \n",
       "\n",
       "                                              desc_q  \\\n",
       "0  [3828, 14870, 3037, 2450, 692, 1688, 53547, 24...   \n",
       "1                            [429, 2709, 1465, 6965]   \n",
       "2     [3046, 221, 3440, 730, 31489, 9218, 1278, 415]   \n",
       "3                                                [0]   \n",
       "4                                                [0]   \n",
       "\n",
       "                                     title_u  \\\n",
       "0                                        [0]   \n",
       "1                                        [0]   \n",
       "2  [1116, 6761, 17922, 272, 263, 4534, 7742]   \n",
       "3                                        [0]   \n",
       "4                                        [0]   \n",
       "\n",
       "                                              desc_u  \n",
       "0                                                [0]  \n",
       "1                                                [0]  \n",
       "2  [0, 272, 4534, 7742, 3738, 1277, 111, 2425, 41...  \n",
       "3                                                [0]  \n",
       "4                                                [0]  "
      ]
     },
     "execution_count": 6,
     "metadata": {},
     "output_type": "execute_result"
    }
   ],
   "source": [
    "prev_ans_ques_title_desc.head()"
   ]
  },
  {
   "cell_type": "code",
   "execution_count": 7,
   "metadata": {},
   "outputs": [
    {
     "data": {
      "text/html": [
       "<div>\n",
       "<style scoped>\n",
       "    .dataframe tbody tr th:only-of-type {\n",
       "        vertical-align: middle;\n",
       "    }\n",
       "\n",
       "    .dataframe tbody tr th {\n",
       "        vertical-align: top;\n",
       "    }\n",
       "\n",
       "    .dataframe thead th {\n",
       "        text-align: right;\n",
       "    }\n",
       "</style>\n",
       "<table border=\"1\" class=\"dataframe\">\n",
       "  <thead>\n",
       "    <tr style=\"text-align: right;\">\n",
       "      <th></th>\n",
       "      <th>iday</th>\n",
       "      <th>ihour</th>\n",
       "      <th>itime</th>\n",
       "      <th>label</th>\n",
       "      <th>qid</th>\n",
       "      <th>uid</th>\n",
       "      <th>title_q</th>\n",
       "      <th>desc_q</th>\n",
       "      <th>title_u</th>\n",
       "      <th>desc_u</th>\n",
       "    </tr>\n",
       "  </thead>\n",
       "  <tbody>\n",
       "    <tr>\n",
       "      <th>0</th>\n",
       "      <td>3865</td>\n",
       "      <td>22</td>\n",
       "      <td>92782</td>\n",
       "      <td>0.0</td>\n",
       "      <td>2166419046</td>\n",
       "      <td>401693808</td>\n",
       "      <td>[11058, 272, 2202, 431, 951, 243, 3828, 3037, ...</td>\n",
       "      <td>[3828, 14870, 3037, 2450, 692, 1688, 53547, 24...</td>\n",
       "      <td>[0]</td>\n",
       "      <td>[0]</td>\n",
       "    </tr>\n",
       "    <tr>\n",
       "      <th>1</th>\n",
       "      <td>3844</td>\n",
       "      <td>11</td>\n",
       "      <td>92267</td>\n",
       "      <td>0.0</td>\n",
       "      <td>1550017551</td>\n",
       "      <td>3392373099</td>\n",
       "      <td>[149, 79, 5210, 22869]</td>\n",
       "      <td>[429, 2709, 1465, 6965]</td>\n",
       "      <td>[0]</td>\n",
       "      <td>[0]</td>\n",
       "    </tr>\n",
       "    <tr>\n",
       "      <th>2</th>\n",
       "      <td>3862</td>\n",
       "      <td>15</td>\n",
       "      <td>92703</td>\n",
       "      <td>0.0</td>\n",
       "      <td>604029601</td>\n",
       "      <td>2317670257</td>\n",
       "      <td>[31489, 9218, 3440, 243]</td>\n",
       "      <td>[3046, 221, 3440, 730, 31489, 9218, 1278, 415]</td>\n",
       "      <td>[1116, 6761, 17922, 272, 263, 4534, 7742]</td>\n",
       "      <td>[0, 272, 4534, 7742, 3738, 1277, 111, 2425, 41...</td>\n",
       "    </tr>\n",
       "    <tr>\n",
       "      <th>3</th>\n",
       "      <td>3849</td>\n",
       "      <td>11</td>\n",
       "      <td>92387</td>\n",
       "      <td>0.0</td>\n",
       "      <td>2350061229</td>\n",
       "      <td>1618461867</td>\n",
       "      <td>[973, 64958, 8583, 2269, 628, 565, 2200, 590, ...</td>\n",
       "      <td>[0]</td>\n",
       "      <td>[0]</td>\n",
       "      <td>[0]</td>\n",
       "    </tr>\n",
       "    <tr>\n",
       "      <th>4</th>\n",
       "      <td>3867</td>\n",
       "      <td>4</td>\n",
       "      <td>92812</td>\n",
       "      <td>0.0</td>\n",
       "      <td>2443223942</td>\n",
       "      <td>3544409350</td>\n",
       "      <td>[554, 28208, 396, 51]</td>\n",
       "      <td>[0]</td>\n",
       "      <td>[0]</td>\n",
       "      <td>[0]</td>\n",
       "    </tr>\n",
       "  </tbody>\n",
       "</table>\n",
       "</div>"
      ],
      "text/plain": [
       "   iday  ihour  itime  label         qid         uid  \\\n",
       "0  3865     22  92782    0.0  2166419046   401693808   \n",
       "1  3844     11  92267    0.0  1550017551  3392373099   \n",
       "2  3862     15  92703    0.0   604029601  2317670257   \n",
       "3  3849     11  92387    0.0  2350061229  1618461867   \n",
       "4  3867      4  92812    0.0  2443223942  3544409350   \n",
       "\n",
       "                                             title_q  \\\n",
       "0  [11058, 272, 2202, 431, 951, 243, 3828, 3037, ...   \n",
       "1                             [149, 79, 5210, 22869]   \n",
       "2                           [31489, 9218, 3440, 243]   \n",
       "3  [973, 64958, 8583, 2269, 628, 565, 2200, 590, ...   \n",
       "4                              [554, 28208, 396, 51]   \n",
       "\n",
       "                                              desc_q  \\\n",
       "0  [3828, 14870, 3037, 2450, 692, 1688, 53547, 24...   \n",
       "1                            [429, 2709, 1465, 6965]   \n",
       "2     [3046, 221, 3440, 730, 31489, 9218, 1278, 415]   \n",
       "3                                                [0]   \n",
       "4                                                [0]   \n",
       "\n",
       "                                     title_u  \\\n",
       "0                                        [0]   \n",
       "1                                        [0]   \n",
       "2  [1116, 6761, 17922, 272, 263, 4534, 7742]   \n",
       "3                                        [0]   \n",
       "4                                        [0]   \n",
       "\n",
       "                                              desc_u  \n",
       "0                                                [0]  \n",
       "1                                                [0]  \n",
       "2  [0, 272, 4534, 7742, 3738, 1277, 111, 2425, 41...  \n",
       "3                                                [0]  \n",
       "4                                                [0]  "
      ]
     },
     "execution_count": 7,
     "metadata": {},
     "output_type": "execute_result"
    }
   ],
   "source": [
    "data = pd.concat([data, prev_ans_ques_title_desc], axis=1)\n",
    "data.head()"
   ]
  },
  {
   "cell_type": "code",
   "execution_count": 8,
   "metadata": {},
   "outputs": [
    {
     "name": "stdout",
     "output_type": "stream",
     "text": [
      "38 973\n",
      "64 256\n"
     ]
    }
   ],
   "source": [
    "max_len_tq = data['title_q'].apply(len).max()\n",
    "max_len_dq = data['desc_q'].apply(len).max()\n",
    "max_len_tu = data['title_u'].apply(len).max()\n",
    "max_len_du = data['desc_u'].apply(len).max()\n",
    "print(max_len_tq, max_len_dq) # 110\n",
    "print(max_len_tu, max_len_du) # 110"
   ]
  },
  {
   "cell_type": "code",
   "execution_count": 9,
   "metadata": {},
   "outputs": [],
   "source": [
    "max_len_tq = 38\n",
    "max_len_dq = 256\n",
    "max_len_tu = 64\n",
    "max_len_du = 256"
   ]
  },
  {
   "cell_type": "code",
   "execution_count": 10,
   "metadata": {},
   "outputs": [
    {
     "name": "stderr",
     "output_type": "stream",
     "text": [
      "100%|██████████| 10630845/10630845 [00:39<00:00, 271275.37it/s]\n",
      "100%|██████████| 10630845/10630845 [01:00<00:00, 177168.83it/s]\n",
      "100%|██████████| 10630845/10630845 [00:23<00:00, 461222.85it/s]\n",
      "100%|██████████| 10630845/10630845 [00:52<00:00, 202050.60it/s]\n"
     ]
    }
   ],
   "source": [
    "np.random.seed(42)\n",
    "def shuffle(l):\n",
    "    l = l[:256]\n",
    "    np.random.shuffle(l)\n",
    "    return l\n",
    "\n",
    "data['title_q'] = data['title_q'].progress_apply(shuffle)\n",
    "data['desc_q'] = data['desc_q'].progress_apply(shuffle)\n",
    "data['title_u'] = data['title_u'].progress_apply(shuffle)\n",
    "data['desc_u'] = data['desc_u'].progress_apply(shuffle)"
   ]
  },
  {
   "cell_type": "code",
   "execution_count": 11,
   "metadata": {},
   "outputs": [
    {
     "data": {
      "text/html": [
       "<div>\n",
       "<style scoped>\n",
       "    .dataframe tbody tr th:only-of-type {\n",
       "        vertical-align: middle;\n",
       "    }\n",
       "\n",
       "    .dataframe tbody tr th {\n",
       "        vertical-align: top;\n",
       "    }\n",
       "\n",
       "    .dataframe thead th {\n",
       "        text-align: right;\n",
       "    }\n",
       "</style>\n",
       "<table border=\"1\" class=\"dataframe\">\n",
       "  <thead>\n",
       "    <tr style=\"text-align: right;\">\n",
       "      <th></th>\n",
       "      <th>iday</th>\n",
       "      <th>ihour</th>\n",
       "      <th>itime</th>\n",
       "      <th>label</th>\n",
       "      <th>qid</th>\n",
       "      <th>uid</th>\n",
       "      <th>title_q</th>\n",
       "      <th>desc_q</th>\n",
       "      <th>title_u</th>\n",
       "      <th>desc_u</th>\n",
       "    </tr>\n",
       "  </thead>\n",
       "  <tbody>\n",
       "    <tr>\n",
       "      <th>0</th>\n",
       "      <td>3865</td>\n",
       "      <td>22</td>\n",
       "      <td>92782</td>\n",
       "      <td>0.0</td>\n",
       "      <td>2166419046</td>\n",
       "      <td>401693808</td>\n",
       "      <td>[3037, 272, 243, 11058, 263, 2202, 951, 431, 3...</td>\n",
       "      <td>[11237, 2202, 263, 33060, 1619, 1688, 272, 245...</td>\n",
       "      <td>[0]</td>\n",
       "      <td>[0]</td>\n",
       "    </tr>\n",
       "    <tr>\n",
       "      <th>1</th>\n",
       "      <td>3844</td>\n",
       "      <td>11</td>\n",
       "      <td>92267</td>\n",
       "      <td>0.0</td>\n",
       "      <td>1550017551</td>\n",
       "      <td>3392373099</td>\n",
       "      <td>[79, 149, 22869, 5210]</td>\n",
       "      <td>[2709, 1465, 429, 6965]</td>\n",
       "      <td>[0]</td>\n",
       "      <td>[0]</td>\n",
       "    </tr>\n",
       "    <tr>\n",
       "      <th>2</th>\n",
       "      <td>3862</td>\n",
       "      <td>15</td>\n",
       "      <td>92703</td>\n",
       "      <td>0.0</td>\n",
       "      <td>604029601</td>\n",
       "      <td>2317670257</td>\n",
       "      <td>[243, 9218, 31489, 3440]</td>\n",
       "      <td>[221, 3440, 415, 9218, 31489, 3046, 730, 1278]</td>\n",
       "      <td>[7742, 272, 6761, 17922, 4534, 1116, 263]</td>\n",
       "      <td>[4747, 1417, 262, 3093, 3075, 19565, 7742, 152...</td>\n",
       "    </tr>\n",
       "    <tr>\n",
       "      <th>3</th>\n",
       "      <td>3849</td>\n",
       "      <td>11</td>\n",
       "      <td>92387</td>\n",
       "      <td>0.0</td>\n",
       "      <td>2350061229</td>\n",
       "      <td>1618461867</td>\n",
       "      <td>[973, 2200, 2269, 64958, 628, 565, 8583, 483, ...</td>\n",
       "      <td>[0]</td>\n",
       "      <td>[0]</td>\n",
       "      <td>[0]</td>\n",
       "    </tr>\n",
       "    <tr>\n",
       "      <th>4</th>\n",
       "      <td>3867</td>\n",
       "      <td>4</td>\n",
       "      <td>92812</td>\n",
       "      <td>0.0</td>\n",
       "      <td>2443223942</td>\n",
       "      <td>3544409350</td>\n",
       "      <td>[51, 396, 554, 28208]</td>\n",
       "      <td>[0]</td>\n",
       "      <td>[0]</td>\n",
       "      <td>[0]</td>\n",
       "    </tr>\n",
       "  </tbody>\n",
       "</table>\n",
       "</div>"
      ],
      "text/plain": [
       "   iday  ihour  itime  label         qid         uid  \\\n",
       "0  3865     22  92782    0.0  2166419046   401693808   \n",
       "1  3844     11  92267    0.0  1550017551  3392373099   \n",
       "2  3862     15  92703    0.0   604029601  2317670257   \n",
       "3  3849     11  92387    0.0  2350061229  1618461867   \n",
       "4  3867      4  92812    0.0  2443223942  3544409350   \n",
       "\n",
       "                                             title_q  \\\n",
       "0  [3037, 272, 243, 11058, 263, 2202, 951, 431, 3...   \n",
       "1                             [79, 149, 22869, 5210]   \n",
       "2                           [243, 9218, 31489, 3440]   \n",
       "3  [973, 2200, 2269, 64958, 628, 565, 8583, 483, ...   \n",
       "4                              [51, 396, 554, 28208]   \n",
       "\n",
       "                                              desc_q  \\\n",
       "0  [11237, 2202, 263, 33060, 1619, 1688, 272, 245...   \n",
       "1                            [2709, 1465, 429, 6965]   \n",
       "2     [221, 3440, 415, 9218, 31489, 3046, 730, 1278]   \n",
       "3                                                [0]   \n",
       "4                                                [0]   \n",
       "\n",
       "                                     title_u  \\\n",
       "0                                        [0]   \n",
       "1                                        [0]   \n",
       "2  [7742, 272, 6761, 17922, 4534, 1116, 263]   \n",
       "3                                        [0]   \n",
       "4                                        [0]   \n",
       "\n",
       "                                              desc_u  \n",
       "0                                                [0]  \n",
       "1                                                [0]  \n",
       "2  [4747, 1417, 262, 3093, 3075, 19565, 7742, 152...  \n",
       "3                                                [0]  \n",
       "4                                                [0]  "
      ]
     },
     "execution_count": 11,
     "metadata": {},
     "output_type": "execute_result"
    }
   ],
   "source": [
    "data.head()"
   ]
  },
  {
   "cell_type": "code",
   "execution_count": 12,
   "metadata": {},
   "outputs": [],
   "source": [
    "title_q = pad_sequences(data['title_q'], maxlen=max_len_tq)\n",
    "desc_q = pad_sequences(data['desc_q'], maxlen=max_len_dq)\n",
    "title_u = pad_sequences(data['title_u'], maxlen=max_len_tu)\n",
    "desc_u = pad_sequences(data['desc_u'], maxlen=max_len_du)"
   ]
  },
  {
   "cell_type": "code",
   "execution_count": 13,
   "metadata": {},
   "outputs": [
    {
     "data": {
      "text/plain": [
       "(10630845, 38)"
      ]
     },
     "execution_count": 13,
     "metadata": {},
     "output_type": "execute_result"
    }
   ],
   "source": [
    "title_q.shape"
   ]
  },
  {
   "cell_type": "code",
   "execution_count": 14,
   "metadata": {},
   "outputs": [
    {
     "data": {
      "text/plain": [
       "(10630845, 256)"
      ]
     },
     "execution_count": 14,
     "metadata": {},
     "output_type": "execute_result"
    }
   ],
   "source": [
    "desc_q.shape"
   ]
  },
  {
   "cell_type": "code",
   "execution_count": 15,
   "metadata": {},
   "outputs": [],
   "source": [
    "# embed_weights = np.array([[0] * 64] + [list(v) for v in word['vector'].values])\n",
    "embed_weights = np.vstack([np.zeros((1, 64))] + list(word['vector'].values))"
   ]
  },
  {
   "cell_type": "code",
   "execution_count": 16,
   "metadata": {},
   "outputs": [
    {
     "data": {
      "text/plain": [
       "(1762830, 64)"
      ]
     },
     "execution_count": 16,
     "metadata": {},
     "output_type": "execute_result"
    }
   ],
   "source": [
    "embed_weights.shape"
   ]
  },
  {
   "cell_type": "code",
   "execution_count": 17,
   "metadata": {},
   "outputs": [
    {
     "data": {
      "text/plain": [
       "40"
      ]
     },
     "execution_count": 17,
     "metadata": {},
     "output_type": "execute_result"
    }
   ],
   "source": [
    "del prev_ans_ques_title_desc\n",
    "gc.collect()"
   ]
  },
  {
   "cell_type": "code",
   "execution_count": 18,
   "metadata": {},
   "outputs": [],
   "source": [
    "class DataSequence(Sequence):\n",
    "    \n",
    "    def __init__(self, tq, tu, dq, du, y, batch_size=128):\n",
    "        self.tq = tq\n",
    "        self.tu = tu\n",
    "        self.dq = dq\n",
    "        self.du = du\n",
    "        self.y = y\n",
    "        self.batch_size = batch_size\n",
    "         \n",
    "    def __len__(self):\n",
    "        return int(np.ceil(self.tq.shape[0] / float(self.batch_size)))\n",
    "    \n",
    "    def __getitem__(self, idx):\n",
    "        batch_idx = np.arange(idx * self.batch_size, min((idx + 1) * self.batch_size, self.tq.shape[0]))\n",
    "        batch_tq = self.tq[batch_idx]\n",
    "        batch_tu = self.tu[batch_idx]\n",
    "        batch_dq = self.dq[batch_idx]\n",
    "        batch_du = self.du[batch_idx]\n",
    "        batch_y = self.y[batch_idx]\n",
    "        return [batch_tq, batch_tu, batch_dq, batch_du], batch_y"
   ]
  },
  {
   "cell_type": "code",
   "execution_count": 19,
   "metadata": {},
   "outputs": [],
   "source": [
    "class MetricsCallback(Callback):\n",
    "    def __init__(self, trn_tq, trn_tu, trn_dq, trn_du, y_trn,\n",
    "                       val_tq, val_tu, val_dq, val_du, y_val, \n",
    "                       batch_size=128, save_name='weight.h5'):\n",
    "        self.trn_generator = DataSequence(trn_tq, trn_tu, trn_dq, trn_du, y_trn, BATCH_SIZE)\n",
    "        self.val_generator = DataSequence(val_tq, val_tu, val_dq, val_du, y_val, BATCH_SIZE)\n",
    "        self.y_trn = y_trn\n",
    "        self.y_val = y_val\n",
    "        self.save_name = save_name\n",
    "        self.best_score = 0.5\n",
    "\n",
    "    def on_epoch_end(self, epoch, logs={}):\n",
    "        # eval train\n",
    "        y_pred = self.model.predict_generator(self.trn_generator, \n",
    "                                              max_queue_size=10, \n",
    "                                              workers=1, \n",
    "                                              use_multiprocessing=False, \n",
    "                                              verbose=0)\n",
    "        roc = roc_auc_score(self.y_trn, y_pred)\n",
    "        # eval valid\n",
    "        y_pred_val = self.model.predict_generator(self.val_generator, \n",
    "                                              max_queue_size=10, \n",
    "                                              workers=1, \n",
    "                                              use_multiprocessing=False, \n",
    "                                              verbose=0)\n",
    "        roc_val = roc_auc_score(self.y_val, y_pred_val)\n",
    "        print('\\rroc-auc: %s - roc-auc_val: %s' % (str(round(roc,4)),str(round(roc_val,4))),end=100*' '+'\\n')\n",
    "#         print(roc_val)\n",
    "#         print(log_loss(self.y_val, y_pred_val)/len(y_pred_val))\n",
    "        if roc_val > self.best_score:\n",
    "            self.best_score = roc_val\n",
    "            self.model.save_weights(os.path.join(WEIGHT_PATH, self.save_name))\n",
    "        \n",
    "        return"
   ]
  },
  {
   "cell_type": "code",
   "execution_count": 20,
   "metadata": {},
   "outputs": [],
   "source": [
    "def Net():\n",
    "    # title q\n",
    "    inp_tq = Input(shape=(max_len_tq,))\n",
    "    x1 = Embedding(embed_weights.shape[0], embed_weights.shape[1], weights=[embed_weights], trainable=False)(inp_tq)\n",
    "    x1 = Bidirectional(CuDNNLSTM(128, return_sequences=True))(x1)  # LSTM or GRU\n",
    "    x1 = Attention(max_len_tq)(x1)\n",
    "    # title u\n",
    "    inp_tu = Input(shape=(max_len_tu,))\n",
    "    x2 = Embedding(embed_weights.shape[0], embed_weights.shape[1], weights=[embed_weights], trainable=False)(inp_tu)\n",
    "    x2 = Bidirectional(CuDNNLSTM(128, return_sequences=True))(x2)  # LSTM or GRU\n",
    "    x2 = Attention(max_len_tu)(x2)\n",
    "    # desc q\n",
    "    inp_dq = Input(shape=(max_len_dq,))\n",
    "    y1 = Embedding(embed_weights.shape[0], embed_weights.shape[1], weights=[embed_weights], trainable=False)(inp_dq)\n",
    "    y1 = Bidirectional(CuDNNLSTM(128, return_sequences=True))(y1)  # LSTM or GRU\n",
    "    y1 = Attention(max_len_dq)(y1)\n",
    "    # desc u\n",
    "    inp_du = Input(shape=(max_len_du,))\n",
    "    y2 = Embedding(embed_weights.shape[0], embed_weights.shape[1], weights=[embed_weights], trainable=False)(inp_du)\n",
    "    y2 = Bidirectional(CuDNNLSTM(128, return_sequences=True))(y2)  # LSTM or GRU\n",
    "    y2 = Attention(max_len_du)(y2)\n",
    "    ## dense\n",
    "    x = Concatenate()([x1, x2, y1, y2])\n",
    "    x = Dense(256)(x)\n",
    "    x = BatchNormalization()(x)\n",
    "    x = PReLU()(x)\n",
    "    x = Dropout(0.2)(x)\n",
    "    x = Dense(256)(x)\n",
    "    x = BatchNormalization()(x)\n",
    "    x = PReLU()(x)\n",
    "    x = Dropout(0.2)(x)\n",
    "    out = Dense(1, activation=\"sigmoid\")(x)\n",
    "    model = Model(inputs=[inp_tq, inp_tu, inp_dq, inp_du], outputs=out)\n",
    "    return model"
   ]
  },
  {
   "cell_type": "code",
   "execution_count": 21,
   "metadata": {},
   "outputs": [],
   "source": [
    "train_tq, train_tu, train_dq, train_du = title_q[:len_train], title_u[:len_train], desc_q[:len_train], desc_u[:len_train]\n",
    "test_tq, test_tu, test_dq, test_du = title_q[len_train:], title_u[len_train:], desc_q[len_train:], desc_u[len_train:]\n",
    "train_y = data['label'].values[:len_train]"
   ]
  },
  {
   "cell_type": "code",
   "execution_count": 22,
   "metadata": {},
   "outputs": [
    {
     "name": "stdout",
     "output_type": "stream",
     "text": [
      "(9489162, 38)\n",
      "(1141683, 38)\n",
      "0.1773515933229931\n"
     ]
    }
   ],
   "source": [
    "print(train_tq.shape)\n",
    "print(test_tq.shape)\n",
    "print(train_y.sum() / len(train_y))"
   ]
  },
  {
   "cell_type": "code",
   "execution_count": null,
   "metadata": {
    "scrolled": true
   },
   "outputs": [
    {
     "name": "stdout",
     "output_type": "stream",
     "text": [
      "----------------------------------------------------------------------------------------------------\n",
      "Fold 0\n",
      "Epoch 1/10\n",
      "7414/7414 [==============================] - 1553s 209ms/step - loss: 0.4474\n",
      "roc-auc: 0.6704 - roc-auc_val: 0.6613                                                                                                    \n",
      "Epoch 2/10\n",
      "7414/7414 [==============================] - 1555s 210ms/step - loss: 0.4378\n",
      "roc-auc: 0.6964 - roc-auc_val: 0.6776                                                                                                    \n",
      "Epoch 3/10\n",
      "7414/7414 [==============================] - 1550s 209ms/step - loss: 0.4327\n",
      "roc-auc: 0.7106 - roc-auc_val: 0.6817                                                                                                    \n",
      "Epoch 4/10\n",
      "7414/7414 [==============================] - 1554s 210ms/step - loss: 0.4283\n",
      "roc-auc: 0.7258 - roc-auc_val: 0.6856                                                                                                    \n",
      "Epoch 5/10\n",
      "7414/7414 [==============================] - 1550s 209ms/step - loss: 0.4240\n",
      "roc-auc: 0.7375 - roc-auc_val: 0.6862                                                                                                    \n",
      "Epoch 6/10\n",
      "7414/7414 [==============================] - 1555s 210ms/step - loss: 0.4199\n",
      "roc-auc: 0.7475 - roc-auc_val: 0.6864                                                                                                    \n",
      "Epoch 7/10\n",
      "7414/7414 [==============================] - 1553s 209ms/step - loss: 0.4160\n",
      "roc-auc: 0.7577 - roc-auc_val: 0.6866                                                                                                    \n",
      "Epoch 8/10\n",
      "7414/7414 [==============================] - 1556s 210ms/step - loss: 0.4122\n",
      "roc-auc: 0.7633 - roc-auc_val: 0.6852                                                                                                    \n",
      "Epoch 9/10\n",
      "7414/7414 [==============================] - 1551s 209ms/step - loss: 0.4088\n",
      "roc-auc: 0.7725 - roc-auc_val: 0.6833                                                                                                    \n",
      "Epoch 10/10\n",
      "7414/7414 [==============================] - 1554s 210ms/step - loss: 0.4056\n",
      "roc-auc: 0.779 - roc-auc_val: 0.6816                                                                                                    \n",
      "----------------------------------------------------------------------------------------------------\n",
      "Fold 1\n",
      "Epoch 1/10\n",
      "7414/7414 [==============================] - 1554s 210ms/step - loss: 0.4474\n",
      "roc-auc: 0.6762 - roc-auc_val: 0.6675                                                                                                    \n",
      "Epoch 2/10\n",
      "7414/7414 [==============================] - 1542s 208ms/step - loss: 0.4379\n",
      "roc-auc: 0.6953 - roc-auc_val: 0.6772                                                                                                    \n",
      "Epoch 3/10\n",
      "7414/7414 [==============================] - 1540s 208ms/step - loss: 0.4329\n",
      "roc-auc: 0.7104 - roc-auc_val: 0.683                                                                                                    \n",
      "Epoch 4/10\n",
      "7414/7414 [==============================] - 1541s 208ms/step - loss: 0.4287\n",
      "roc-auc: 0.7187 - roc-auc_val: 0.681                                                                                                    \n",
      "Epoch 5/10\n",
      "7414/7414 [==============================] - 1539s 208ms/step - loss: 0.4245\n",
      "roc-auc: 0.7347 - roc-auc_val: 0.6857                                                                                                    \n",
      "Epoch 6/10\n",
      "7414/7414 [==============================] - 1543s 208ms/step - loss: 0.4206\n",
      "roc-auc: 0.7443 - roc-auc_val: 0.6859                                                                                                    \n",
      "Epoch 7/10\n",
      "7414/7414 [==============================] - 1540s 208ms/step - loss: 0.4168\n",
      "roc-auc: 0.7523 - roc-auc_val: 0.6849                                                                                                    \n",
      "Epoch 8/10\n",
      "7414/7414 [==============================] - 1543s 208ms/step - loss: 0.4132\n",
      "roc-auc: 0.7624 - roc-auc_val: 0.6846                                                                                                    \n",
      "Epoch 9/10\n",
      "7414/7414 [==============================] - 1540s 208ms/step - loss: 0.4098\n",
      "roc-auc: 0.7701 - roc-auc_val: 0.6829                                                                                                    \n",
      "Epoch 10/10\n",
      "7414/7414 [==============================] - 1544s 208ms/step - loss: 0.4067\n",
      "roc-auc: 0.7756 - roc-auc_val: 0.6822                                                                                                    \n",
      "----------------------------------------------------------------------------------------------------\n",
      "Fold 2\n",
      "Epoch 1/10\n",
      "7414/7414 [==============================] - 1572s 212ms/step - loss: 0.4468\n",
      "roc-auc: 0.6791 - roc-auc_val: 0.6695                                                                                                    \n",
      "Epoch 2/10\n",
      "7414/7414 [==============================] - 1551s 209ms/step - loss: 0.4375\n",
      "roc-auc: 0.6977 - roc-auc_val: 0.6783                                                                                                    \n",
      "Epoch 3/10\n",
      "7414/7414 [==============================] - 1548s 209ms/step - loss: 0.4324\n",
      "roc-auc: 0.7134 - roc-auc_val: 0.6833                                                                                                    \n",
      "Epoch 4/10\n",
      "7414/7414 [==============================] - 1551s 209ms/step - loss: 0.4277\n",
      "roc-auc: 0.7266 - roc-auc_val: 0.6852                                                                                                    \n",
      "Epoch 5/10\n",
      "7414/7414 [==============================] - 1548s 209ms/step - loss: 0.4232\n",
      "roc-auc: 0.7396 - roc-auc_val: 0.6869                                                                                                    \n",
      "Epoch 6/10\n",
      "7414/7414 [==============================] - 1553s 210ms/step - loss: 0.4189\n",
      "roc-auc: 0.7512 - roc-auc_val: 0.6866                                                                                                    \n",
      "Epoch 7/10\n",
      "7414/7414 [==============================] - 1547s 209ms/step - loss: 0.4148\n",
      "roc-auc: 0.7588 - roc-auc_val: 0.6845                                                                                                    \n",
      "Epoch 8/10\n",
      "7414/7414 [==============================] - 1554s 210ms/step - loss: 0.4109\n",
      "roc-auc: 0.7688 - roc-auc_val: 0.684                                                                                                    \n",
      "Epoch 9/10\n",
      "7414/7414 [==============================] - 1546s 209ms/step - loss: 0.4074\n",
      "roc-auc: 0.7759 - roc-auc_val: 0.6816                                                                                                    \n",
      "Epoch 10/10\n",
      "7414/7414 [==============================] - 1548s 209ms/step - loss: 0.4042\n",
      "roc-auc: 0.7808 - roc-auc_val: 0.6827                                                                                                    \n",
      "----------------------------------------------------------------------------------------------------\n",
      "Fold 3\n",
      "Epoch 1/10\n",
      "7414/7414 [==============================] - 1570s 212ms/step - loss: 0.4470\n",
      "roc-auc: 0.6788 - roc-auc_val: 0.6696                                                                                                    \n",
      "Epoch 2/10\n",
      "7414/7414 [==============================] - 1551s 209ms/step - loss: 0.4376\n",
      "roc-auc: 0.6955 - roc-auc_val: 0.6769                                                                                                    \n",
      "Epoch 3/10\n",
      "7414/7414 [==============================] - 1540s 208ms/step - loss: 0.4326\n",
      "roc-auc: 0.7115 - roc-auc_val: 0.6824                                                                                                    \n",
      "Epoch 4/10\n",
      "7414/7414 [==============================] - 1536s 207ms/step - loss: 0.4282\n",
      "roc-auc: 0.7252 - roc-auc_val: 0.6851                                                                                                    \n",
      "Epoch 5/10\n",
      "7414/7414 [==============================] - 1532s 207ms/step - loss: 0.4238\n",
      "roc-auc: 0.7369 - roc-auc_val: 0.6856                                                                                                    \n",
      "Epoch 6/10\n",
      "7414/7414 [==============================] - 1536s 207ms/step - loss: 0.4197\n",
      "roc-auc: 0.7465 - roc-auc_val: 0.6843                                                                                                    \n",
      "Epoch 7/10\n",
      "7414/7414 [==============================] - 1543s 208ms/step - loss: 0.4158\n",
      "roc-auc: 0.7572 - roc-auc_val: 0.6852                                                                                                    \n",
      "Epoch 8/10\n",
      "7414/7414 [==============================] - 1558s 210ms/step - loss: 0.4122\n",
      "roc-auc: 0.7639 - roc-auc_val: 0.6854                                                                                                    \n",
      "Epoch 9/10\n",
      "7414/7414 [==============================] - 1552s 209ms/step - loss: 0.4088\n"
     ]
    }
   ],
   "source": [
    "BATCH_SIZE = 1024\n",
    "\n",
    "kfold = StratifiedKFold(n_splits=5, shuffle=True, random_state=42)\n",
    "\n",
    "for i, (tr_idx, va_idx) in enumerate(kfold.split(train_tq, train_y)):\n",
    "    \n",
    "    print('-'*100)\n",
    "    print('Fold %d' % i)\n",
    "    trn_tq, trn_tu, trn_dq, trn_du, trn_y = train_tq[tr_idx], train_tu[tr_idx], train_dq[tr_idx], train_du[tr_idx], train_y[tr_idx]\n",
    "    val_tq, val_tu, val_dq, val_du, val_y = train_tq[va_idx], train_tu[va_idx], train_dq[va_idx], train_du[va_idx], train_y[va_idx]\n",
    "    \n",
    "    K.clear_session()\n",
    "    model = Net()\n",
    "    model.compile(loss='binary_crossentropy', optimizer='adam',)\n",
    "    \n",
    "    trn_generator = DataSequence(trn_tq, trn_tu, trn_dq, trn_du, trn_y, batch_size=BATCH_SIZE)\n",
    "    val_generator = DataSequence(val_tq, val_tu, val_dq, val_du, val_y, batch_size=BATCH_SIZE)\n",
    "    \n",
    "    history = model.fit_generator(generator=trn_generator, \n",
    "                        epochs=10, \n",
    "                        verbose=1, \n",
    "                        callbacks=[MetricsCallback(trn_tq, trn_tu, trn_dq, trn_du, trn_y,\n",
    "                                                   val_tq, val_tu, val_dq, val_du, val_y, \n",
    "                                                   batch_size=BATCH_SIZE*4, \n",
    "                                                   save_name='ques_user_title_desc_textattbirnn_enc_weight_fold%d.h5' % i)], \n",
    "                        max_queue_size=100, \n",
    "                        workers=1, \n",
    "                        use_multiprocessing=False,)\n",
    "    \n",
    "    del trn_tq, trn_tu, trn_dq, trn_du, trn_y\n",
    "    del val_tq, val_tu, val_dq, val_du, val_y\n",
    "    gc.collect()"
   ]
  },
  {
   "cell_type": "code",
   "execution_count": null,
   "metadata": {},
   "outputs": [],
   "source": [
    "# del trn_tq, trn_tu, trn_dq, trn_du, trn_y\n",
    "# del val_tq, val_tu, val_dq, val_du, val_y\n",
    "# gc.collect()"
   ]
  },
  {
   "cell_type": "code",
   "execution_count": null,
   "metadata": {},
   "outputs": [],
   "source": [
    "# 0.4608"
   ]
  },
  {
   "cell_type": "code",
   "execution_count": 23,
   "metadata": {},
   "outputs": [],
   "source": [
    "BATCH_SIZE = 256\n",
    "\n",
    "kfold = StratifiedKFold(n_splits=5, shuffle=True, random_state=42)"
   ]
  },
  {
   "cell_type": "code",
   "execution_count": 24,
   "metadata": {},
   "outputs": [
    {
     "name": "stdout",
     "output_type": "stream",
     "text": [
      "----------------------------------------------------------------------------------------------------\n",
      "Fold 0\n",
      "WARNING:tensorflow:From /root/anaconda3/lib/python3.7/site-packages/tensorflow/python/ops/resource_variable_ops.py:435: colocate_with (from tensorflow.python.framework.ops) is deprecated and will be removed in a future version.\n",
      "Instructions for updating:\n",
      "Colocations handled automatically by placer.\n",
      "7414/7414 [==============================] - 317s 43ms/step\n",
      "4460/4460 [==============================] - 188s 42ms/step\n",
      "0.6865712210162449\n",
      "Predict Done.\n",
      "----------------------------------------------------------------------------------------------------\n",
      "Fold 1\n",
      "7414/7414 [==============================] - 313s 42ms/step\n",
      "4460/4460 [==============================] - 204s 46ms/step\n",
      "0.6859301851694565\n",
      "Predict Done.\n",
      "----------------------------------------------------------------------------------------------------\n",
      "Fold 2\n",
      "7414/7414 [==============================] - 318s 43ms/step\n",
      "4460/4460 [==============================] - 193s 43ms/step\n",
      "0.6868637495509172\n",
      "Predict Done.\n",
      "----------------------------------------------------------------------------------------------------\n",
      "Fold 3\n",
      "7414/7414 [==============================] - 367s 50ms/step\n",
      "4460/4460 [==============================] - 221s 50ms/step\n",
      "0.6856296634495364\n",
      "Predict Done.\n",
      "----------------------------------------------------------------------------------------------------\n",
      "Fold 4\n",
      "7414/7414 [==============================] - 329s 44ms/step\n",
      "4460/4460 [==============================] - 195s 44ms/step\n",
      "0.6857844415836026\n",
      "Predict Done.\n"
     ]
    }
   ],
   "source": [
    "test_generator = DataSequence(test_tq, test_tu, test_dq, test_du, np.zeros(test_tq.shape[0]), batch_size=BATCH_SIZE)\n",
    "\n",
    "test_pred = np.zeros((test_tq.shape[0], 1))\n",
    "train_pred = np.zeros((train_tq.shape[0], 1))\n",
    "\n",
    "for i, (tr_idx, va_idx) in enumerate(kfold.split(train_tq, train_y)):\n",
    "\n",
    "    print('-'*100)\n",
    "    print('Fold %d' % i)\n",
    "    val_tq, val_tu, val_dq, val_du, val_y = train_tq[va_idx], train_tu[va_idx], train_dq[va_idx], train_du[va_idx], train_y[va_idx]\n",
    "\n",
    "    K.clear_session()\n",
    "    model = Net()\n",
    "    model.compile(loss='binary_crossentropy', optimizer='adam',)\n",
    "\n",
    "    val_generator = DataSequence(val_tq, val_tu, val_dq, val_du, val_y, batch_size=BATCH_SIZE)\n",
    "\n",
    "    model.load_weights(os.path.join(WEIGHT_PATH, 'ques_user_title_desc_textattbirnn_enc_weight_fold%d.h5' % i))\n",
    "\n",
    "    train_pred[va_idx] = model.predict_generator(val_generator, verbose=1)\n",
    "    test_pred += model.predict_generator(test_generator, verbose=1) / 5\n",
    "    \n",
    "    print(roc_auc_score(val_y, train_pred[va_idx]))\n",
    "    \n",
    "    del val_tq, val_tu, val_dq, val_du, val_y\n",
    "    gc.collect()\n",
    "    print('Predict Done.')"
   ]
  },
  {
   "cell_type": "code",
   "execution_count": 25,
   "metadata": {},
   "outputs": [
    {
     "data": {
      "text/html": [
       "<div>\n",
       "<style scoped>\n",
       "    .dataframe tbody tr th:only-of-type {\n",
       "        vertical-align: middle;\n",
       "    }\n",
       "\n",
       "    .dataframe tbody tr th {\n",
       "        vertical-align: top;\n",
       "    }\n",
       "\n",
       "    .dataframe thead th {\n",
       "        text-align: right;\n",
       "    }\n",
       "</style>\n",
       "<table border=\"1\" class=\"dataframe\">\n",
       "  <thead>\n",
       "    <tr style=\"text-align: right;\">\n",
       "      <th></th>\n",
       "      <th>ques_user_title_desc_textattbirnn_enc</th>\n",
       "    </tr>\n",
       "  </thead>\n",
       "  <tbody>\n",
       "    <tr>\n",
       "      <th>0</th>\n",
       "      <td>0.059418</td>\n",
       "    </tr>\n",
       "    <tr>\n",
       "      <th>1</th>\n",
       "      <td>0.119855</td>\n",
       "    </tr>\n",
       "    <tr>\n",
       "      <th>2</th>\n",
       "      <td>0.042908</td>\n",
       "    </tr>\n",
       "    <tr>\n",
       "      <th>3</th>\n",
       "      <td>0.110320</td>\n",
       "    </tr>\n",
       "    <tr>\n",
       "      <th>4</th>\n",
       "      <td>0.324510</td>\n",
       "    </tr>\n",
       "  </tbody>\n",
       "</table>\n",
       "</div>"
      ],
      "text/plain": [
       "   ques_user_title_desc_textattbirnn_enc\n",
       "0                               0.059418\n",
       "1                               0.119855\n",
       "2                               0.042908\n",
       "3                               0.110320\n",
       "4                               0.324510"
      ]
     },
     "execution_count": 25,
     "metadata": {},
     "output_type": "execute_result"
    }
   ],
   "source": [
    "arr = np.vstack([train_pred, test_pred])\n",
    "feat = pd.DataFrame(arr, columns=['ques_user_title_desc_textattbirnn_enc'])\n",
    "feat.head()"
   ]
  },
  {
   "cell_type": "code",
   "execution_count": 26,
   "metadata": {},
   "outputs": [],
   "source": [
    "feat.to_pickle('./feats/ques_user_title_desc_textattbirnn_enc.pkl')"
   ]
  },
  {
   "cell_type": "code",
   "execution_count": 27,
   "metadata": {},
   "outputs": [
    {
     "data": {
      "text/plain": [
       "(10630845, 1)"
      ]
     },
     "execution_count": 27,
     "metadata": {},
     "output_type": "execute_result"
    }
   ],
   "source": [
    "feat.shape"
   ]
  },
  {
   "cell_type": "code",
   "execution_count": null,
   "metadata": {},
   "outputs": [],
   "source": []
  }
 ],
 "metadata": {
  "kernelspec": {
   "display_name": "Python 3",
   "language": "python",
   "name": "python3"
  },
  "language_info": {
   "codemirror_mode": {
    "name": "ipython",
    "version": 3
   },
   "file_extension": ".py",
   "mimetype": "text/x-python",
   "name": "python",
   "nbconvert_exporter": "python",
   "pygments_lexer": "ipython3",
   "version": "3.7.3"
  }
 },
 "nbformat": 4,
 "nbformat_minor": 2
}
