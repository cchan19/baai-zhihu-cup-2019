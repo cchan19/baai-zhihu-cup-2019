{
 "cells": [
  {
   "cell_type": "code",
   "execution_count": 1,
   "metadata": {},
   "outputs": [
    {
     "name": "stderr",
     "output_type": "stream",
     "text": [
      "/root/anaconda3/lib/python3.7/site-packages/sklearn/feature_extraction/text.py:17: DeprecationWarning: Using or importing the ABCs from 'collections' instead of from 'collections.abc' is deprecated, and in 3.8 it will stop working\n",
      "  from collections import Mapping, defaultdict\n"
     ]
    }
   ],
   "source": [
    "import pandas as pd\n",
    "import numpy as np\n",
    "import pickle\n",
    "import gc\n",
    "import os\n",
    "import time\n",
    "import copy\n",
    "import multiprocessing as mp\n",
    "from sklearn.preprocessing import LabelEncoder\n",
    "from sklearn.model_selection import StratifiedKFold\n",
    "from sklearn.feature_extraction.text import CountVectorizer\n",
    "from tqdm import tqdm\n",
    "from scipy import sparse, spatial\n",
    "import warnings\n",
    "warnings.filterwarnings('ignore')\n",
    "tqdm.pandas()"
   ]
  },
  {
   "cell_type": "code",
   "execution_count": 2,
   "metadata": {},
   "outputs": [
    {
     "name": "stdout",
     "output_type": "stream",
     "text": [
      "process_user_info...\n"
     ]
    }
   ],
   "source": [
    "tic = time.time()\n",
    "DATA_PATH = '../pkl/'\n",
    "SAVE_PATH = './feats/'\n",
    "if not os.path.exists(SAVE_PATH):\n",
    "    print('create dir: %s' % SAVE_PATH)\n",
    "    os.mkdir(SAVE_PATH)\n",
    "\n",
    "print('process_user_info...')"
   ]
  },
  {
   "cell_type": "code",
   "execution_count": 3,
   "metadata": {},
   "outputs": [],
   "source": [
    "user_info = pd.read_pickle(os.path.join(DATA_PATH, 'user_info.pkl'))"
   ]
  },
  {
   "cell_type": "code",
   "execution_count": 4,
   "metadata": {},
   "outputs": [],
   "source": [
    "# 原始类别特征编码\n",
    "user_cat_feats = ['gender', 'freq', 'A1', 'B1', 'C1', 'D1', 'E1', 'A2', 'B2', 'C2', 'D2', 'E2']\n",
    "for feat in user_cat_feats:\n",
    "    user_info[feat] = LabelEncoder().fit_transform(user_info[feat])"
   ]
  },
  {
   "cell_type": "code",
   "execution_count": 5,
   "metadata": {},
   "outputs": [
    {
     "name": "stderr",
     "output_type": "stream",
     "text": [
      "100%|██████████| 1931654/1931654 [00:02<00:00, 858214.61it/s] \n",
      "100%|██████████| 1931654/1931654 [00:02<00:00, 932923.91it/s] \n"
     ]
    }
   ],
   "source": [
    "# 用户关注和感兴趣的topic数\n",
    "user_info['num_topic_a'] = user_info['topic_a'].progress_apply(len)\n",
    "user_info['num_topic_i'] = user_info['topic_i'].progress_apply(len)"
   ]
  },
  {
   "cell_type": "code",
   "execution_count": 6,
   "metadata": {},
   "outputs": [
    {
     "name": "stderr",
     "output_type": "stream",
     "text": [
      "100%|██████████| 1931654/1931654 [00:04<00:00, 470315.28it/s]\n"
     ]
    }
   ],
   "source": [
    "# 用户最感兴趣的topic\n",
    "def most_interest_topic(d):\n",
    "    if len(d) == 0:\n",
    "        return -1\n",
    "    return max(d, key=d.get)\n",
    "user_info['most_topic_i'] = user_info['topic_i'].progress_apply(most_interest_topic)"
   ]
  },
  {
   "cell_type": "code",
   "execution_count": 7,
   "metadata": {},
   "outputs": [
    {
     "name": "stderr",
     "output_type": "stream",
     "text": [
      "100%|██████████| 1931654/1931654 [00:03<00:00, 567487.74it/s]\n",
      "100%|██████████| 1931654/1931654 [00:17<00:00, 110978.75it/s]\n",
      "100%|██████████| 1931654/1931654 [00:20<00:00, 94759.91it/s] \n",
      "100%|██████████| 1931654/1931654 [00:23<00:00, 82589.70it/s]\n",
      "100%|██████████| 1931654/1931654 [01:07<00:00, 28616.61it/s]\n"
     ]
    }
   ],
   "source": [
    "# 用户topic兴趣值的统计特征\n",
    "user_info['topic_iv'] = user_info['topic_iv'].progress_apply(lambda x: x if len(x) > 0 else [0])\n",
    "user_info['min_topic_iv'] = user_info['topic_iv'].progress_apply(np.min)\n",
    "user_info['max_topic_iv'] = user_info['topic_iv'].progress_apply(np.max)\n",
    "user_info['mean_topic_iv'] = user_info['topic_iv'].progress_apply(np.mean)\n",
    "user_info['std_topic_iv'] = user_info['topic_iv'].progress_apply(np.std)"
   ]
  },
  {
   "cell_type": "code",
   "execution_count": 8,
   "metadata": {},
   "outputs": [],
   "source": [
    "user_info.to_pickle(os.path.join(DATA_PATH, 'user_info_p.pkl'))"
   ]
  },
  {
   "cell_type": "code",
   "execution_count": 9,
   "metadata": {},
   "outputs": [
    {
     "name": "stdout",
     "output_type": "stream",
     "text": [
      "Used time: 185\n"
     ]
    }
   ],
   "source": [
    "toc = time.time()\n",
    "print('Used time: %d' % int(toc-tic))"
   ]
  },
  {
   "cell_type": "code",
   "execution_count": null,
   "metadata": {},
   "outputs": [],
   "source": []
  }
 ],
 "metadata": {
  "kernelspec": {
   "display_name": "Python [conda env:root] *",
   "language": "python",
   "name": "conda-root-py"
  },
  "language_info": {
   "codemirror_mode": {
    "name": "ipython",
    "version": 3
   },
   "file_extension": ".py",
   "mimetype": "text/x-python",
   "name": "python",
   "nbconvert_exporter": "python",
   "pygments_lexer": "ipython3",
   "version": "3.7.3"
  }
 },
 "nbformat": 4,
 "nbformat_minor": 2
}
