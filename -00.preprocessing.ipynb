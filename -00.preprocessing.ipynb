{
 "cells": [
  {
   "cell_type": "code",
   "execution_count": 1,
   "metadata": {},
   "outputs": [],
   "source": [
    "import pandas as pd\n",
    "import numpy as np\n",
    "import pickle\n",
    "import gc\n",
    "# from tqdm.notebook import tqdm\n",
    "from tqdm import tqdm\n",
    "import os\n",
    "import time\n",
    "import warnings\n",
    "warnings.filterwarnings('ignore')\n",
    "tqdm.pandas()"
   ]
  },
  {
   "cell_type": "code",
   "execution_count": 2,
   "metadata": {},
   "outputs": [],
   "source": [
    "PATH = '../data/data_set_0926'\n",
    "SAVE_PATH = '../pkl'\n",
    "if not os.path.exists(SAVE_PATH):\n",
    "    print('create dir: %s' % SAVE_PATH)\n",
    "    os.mkdir(SAVE_PATH)"
   ]
  },
  {
   "cell_type": "code",
   "execution_count": 3,
   "metadata": {},
   "outputs": [],
   "source": [
    "# 解析列表， 重编码id\n",
    "def parse_str(d):\n",
    "    return np.array(list(map(float, d.split())))\n",
    "\n",
    "def parse_list_1(d):\n",
    "    if d == '-1':\n",
    "        return [0]\n",
    "    return list(map(lambda x: int(x[1:]), str(d).split(',')))\n",
    "\n",
    "def parse_list_2(d):\n",
    "    if d == '-1':\n",
    "        return [0]\n",
    "    return list(map(lambda x: int(x[2:]), str(d).split(',')))\n",
    "\n",
    "def parse_map(d):\n",
    "    if d == '-1':\n",
    "        return {}\n",
    "    return dict([int(z.split(':')[0][1:]), float(z.split(':')[1])] for z in d.split(','))"
   ]
  },
  {
   "cell_type": "markdown",
   "metadata": {},
   "source": [
    "### 1.single word"
   ]
  },
  {
   "cell_type": "code",
   "execution_count": 4,
   "metadata": {},
   "outputs": [
    {
     "data": {
      "text/html": [
       "<div>\n",
       "<style scoped>\n",
       "    .dataframe tbody tr th:only-of-type {\n",
       "        vertical-align: middle;\n",
       "    }\n",
       "\n",
       "    .dataframe tbody tr th {\n",
       "        vertical-align: top;\n",
       "    }\n",
       "\n",
       "    .dataframe thead th {\n",
       "        text-align: right;\n",
       "    }\n",
       "</style>\n",
       "<table border=\"1\" class=\"dataframe\">\n",
       "  <thead>\n",
       "    <tr style=\"text-align: right;\">\n",
       "      <th></th>\n",
       "      <th>id</th>\n",
       "      <th>vector</th>\n",
       "    </tr>\n",
       "  </thead>\n",
       "  <tbody>\n",
       "    <tr>\n",
       "      <th>0</th>\n",
       "      <td>SW1</td>\n",
       "      <td>-0.985937 0.11307016 0.012898494 -0.6822068 -0...</td>\n",
       "    </tr>\n",
       "    <tr>\n",
       "      <th>1</th>\n",
       "      <td>SW2</td>\n",
       "      <td>-0.3367663 0.039051324 0.8155926 0.8351733 -0....</td>\n",
       "    </tr>\n",
       "  </tbody>\n",
       "</table>\n",
       "</div>"
      ],
      "text/plain": [
       "    id                                             vector\n",
       "0  SW1  -0.985937 0.11307016 0.012898494 -0.6822068 -0...\n",
       "1  SW2  -0.3367663 0.039051324 0.8155926 0.8351733 -0...."
      ]
     },
     "execution_count": 4,
     "metadata": {},
     "output_type": "execute_result"
    }
   ],
   "source": [
    "single_word = pd.read_csv(os.path.join(PATH, 'single_word_vectors_64d.txt'), \n",
    "                          names=['id', 'vector'], sep='\\t')\n",
    "single_word.head(2)"
   ]
  },
  {
   "cell_type": "code",
   "execution_count": 5,
   "metadata": {
    "scrolled": true
   },
   "outputs": [
    {
     "name": "stderr",
     "output_type": "stream",
     "text": [
      "100%|██████████| 23239/23239 [00:00<00:00, 45430.81it/s]\n",
      "100%|██████████| 23239/23239 [00:00<00:00, 587340.05it/s]\n"
     ]
    },
    {
     "data": {
      "text/html": [
       "<div>\n",
       "<style scoped>\n",
       "    .dataframe tbody tr th:only-of-type {\n",
       "        vertical-align: middle;\n",
       "    }\n",
       "\n",
       "    .dataframe tbody tr th {\n",
       "        vertical-align: top;\n",
       "    }\n",
       "\n",
       "    .dataframe thead th {\n",
       "        text-align: right;\n",
       "    }\n",
       "</style>\n",
       "<table border=\"1\" class=\"dataframe\">\n",
       "  <thead>\n",
       "    <tr style=\"text-align: right;\">\n",
       "      <th></th>\n",
       "      <th>id</th>\n",
       "      <th>vector</th>\n",
       "    </tr>\n",
       "  </thead>\n",
       "  <tbody>\n",
       "    <tr>\n",
       "      <th>0</th>\n",
       "      <td>1</td>\n",
       "      <td>[-0.985937, 0.11307016, 0.012898494, -0.682206...</td>\n",
       "    </tr>\n",
       "    <tr>\n",
       "      <th>1</th>\n",
       "      <td>2</td>\n",
       "      <td>[-0.3367663, 0.039051324, 0.8155926, 0.8351733...</td>\n",
       "    </tr>\n",
       "  </tbody>\n",
       "</table>\n",
       "</div>"
      ],
      "text/plain": [
       "   id                                             vector\n",
       "0   1  [-0.985937, 0.11307016, 0.012898494, -0.682206...\n",
       "1   2  [-0.3367663, 0.039051324, 0.8155926, 0.8351733..."
      ]
     },
     "execution_count": 5,
     "metadata": {},
     "output_type": "execute_result"
    }
   ],
   "source": [
    "single_word['vector'] = single_word['vector'].progress_apply(parse_str)\n",
    "single_word['id'] = single_word['id'].progress_apply(lambda x: int(x[2:]))\n",
    "single_word.head(2)"
   ]
  },
  {
   "cell_type": "code",
   "execution_count": 6,
   "metadata": {},
   "outputs": [],
   "source": [
    "single_word.to_pickle('../pkl/single_word.pkl')\n",
    "del single_word"
   ]
  },
  {
   "cell_type": "markdown",
   "metadata": {},
   "source": [
    "### 2.word"
   ]
  },
  {
   "cell_type": "code",
   "execution_count": 7,
   "metadata": {},
   "outputs": [
    {
     "data": {
      "text/html": [
       "<div>\n",
       "<style scoped>\n",
       "    .dataframe tbody tr th:only-of-type {\n",
       "        vertical-align: middle;\n",
       "    }\n",
       "\n",
       "    .dataframe tbody tr th {\n",
       "        vertical-align: top;\n",
       "    }\n",
       "\n",
       "    .dataframe thead th {\n",
       "        text-align: right;\n",
       "    }\n",
       "</style>\n",
       "<table border=\"1\" class=\"dataframe\">\n",
       "  <thead>\n",
       "    <tr style=\"text-align: right;\">\n",
       "      <th></th>\n",
       "      <th>id</th>\n",
       "      <th>vector</th>\n",
       "    </tr>\n",
       "  </thead>\n",
       "  <tbody>\n",
       "    <tr>\n",
       "      <th>0</th>\n",
       "      <td>W1</td>\n",
       "      <td>0.12561196 -0.57268924 -0.14478925 -0.05249426...</td>\n",
       "    </tr>\n",
       "    <tr>\n",
       "      <th>1</th>\n",
       "      <td>W2</td>\n",
       "      <td>3.224765 2.2482696 -0.511986 -0.5329892 -0.943...</td>\n",
       "    </tr>\n",
       "  </tbody>\n",
       "</table>\n",
       "</div>"
      ],
      "text/plain": [
       "   id                                             vector\n",
       "0  W1  0.12561196 -0.57268924 -0.14478925 -0.05249426...\n",
       "1  W2  3.224765 2.2482696 -0.511986 -0.5329892 -0.943..."
      ]
     },
     "execution_count": 7,
     "metadata": {},
     "output_type": "execute_result"
    }
   ],
   "source": [
    "word = pd.read_csv(os.path.join(PATH, 'word_vectors_64d.txt'), \n",
    "                          names=['id', 'vector'], sep='\\t')\n",
    "word.head(2)"
   ]
  },
  {
   "cell_type": "code",
   "execution_count": 8,
   "metadata": {},
   "outputs": [
    {
     "name": "stderr",
     "output_type": "stream",
     "text": [
      "100%|██████████| 1762829/1762829 [00:32<00:00, 54229.99it/s]\n",
      "100%|██████████| 1762829/1762829 [00:02<00:00, 727089.71it/s]\n"
     ]
    },
    {
     "data": {
      "text/html": [
       "<div>\n",
       "<style scoped>\n",
       "    .dataframe tbody tr th:only-of-type {\n",
       "        vertical-align: middle;\n",
       "    }\n",
       "\n",
       "    .dataframe tbody tr th {\n",
       "        vertical-align: top;\n",
       "    }\n",
       "\n",
       "    .dataframe thead th {\n",
       "        text-align: right;\n",
       "    }\n",
       "</style>\n",
       "<table border=\"1\" class=\"dataframe\">\n",
       "  <thead>\n",
       "    <tr style=\"text-align: right;\">\n",
       "      <th></th>\n",
       "      <th>id</th>\n",
       "      <th>vector</th>\n",
       "    </tr>\n",
       "  </thead>\n",
       "  <tbody>\n",
       "    <tr>\n",
       "      <th>0</th>\n",
       "      <td>1</td>\n",
       "      <td>[0.12561196, -0.57268924, -0.14478925, -0.0524...</td>\n",
       "    </tr>\n",
       "    <tr>\n",
       "      <th>1</th>\n",
       "      <td>2</td>\n",
       "      <td>[3.224765, 2.2482696, -0.511986, -0.5329892, -...</td>\n",
       "    </tr>\n",
       "  </tbody>\n",
       "</table>\n",
       "</div>"
      ],
      "text/plain": [
       "   id                                             vector\n",
       "0   1  [0.12561196, -0.57268924, -0.14478925, -0.0524...\n",
       "1   2  [3.224765, 2.2482696, -0.511986, -0.5329892, -..."
      ]
     },
     "execution_count": 8,
     "metadata": {},
     "output_type": "execute_result"
    }
   ],
   "source": [
    "word['vector'] = word['vector'].progress_apply(parse_str)\n",
    "word['id'] = word['id'].progress_apply(lambda x: int(x[1:]))\n",
    "word.head(2)"
   ]
  },
  {
   "cell_type": "code",
   "execution_count": 9,
   "metadata": {},
   "outputs": [],
   "source": [
    "word.to_pickle('../pkl/word.pkl')\n",
    "del word"
   ]
  },
  {
   "cell_type": "markdown",
   "metadata": {},
   "source": [
    "### 3.topic"
   ]
  },
  {
   "cell_type": "code",
   "execution_count": 10,
   "metadata": {},
   "outputs": [
    {
     "data": {
      "text/html": [
       "<div>\n",
       "<style scoped>\n",
       "    .dataframe tbody tr th:only-of-type {\n",
       "        vertical-align: middle;\n",
       "    }\n",
       "\n",
       "    .dataframe tbody tr th {\n",
       "        vertical-align: top;\n",
       "    }\n",
       "\n",
       "    .dataframe thead th {\n",
       "        text-align: right;\n",
       "    }\n",
       "</style>\n",
       "<table border=\"1\" class=\"dataframe\">\n",
       "  <thead>\n",
       "    <tr style=\"text-align: right;\">\n",
       "      <th></th>\n",
       "      <th>id</th>\n",
       "      <th>vector</th>\n",
       "    </tr>\n",
       "  </thead>\n",
       "  <tbody>\n",
       "    <tr>\n",
       "      <th>0</th>\n",
       "      <td>T1</td>\n",
       "      <td>0.16508673 -0.0037432343 -0.058245048 -0.00134...</td>\n",
       "    </tr>\n",
       "    <tr>\n",
       "      <th>1</th>\n",
       "      <td>T2</td>\n",
       "      <td>1.608256 -1.0515573 -1.1897708 1.1820835 -0.80...</td>\n",
       "    </tr>\n",
       "  </tbody>\n",
       "</table>\n",
       "</div>"
      ],
      "text/plain": [
       "   id                                             vector\n",
       "0  T1  0.16508673 -0.0037432343 -0.058245048 -0.00134...\n",
       "1  T2  1.608256 -1.0515573 -1.1897708 1.1820835 -0.80..."
      ]
     },
     "execution_count": 10,
     "metadata": {},
     "output_type": "execute_result"
    }
   ],
   "source": [
    "topic = pd.read_csv(os.path.join(PATH, 'topic_vectors_64d.txt'), \n",
    "                          names=['id', 'vector'], sep='\\t')\n",
    "topic.head(2)"
   ]
  },
  {
   "cell_type": "code",
   "execution_count": 11,
   "metadata": {},
   "outputs": [
    {
     "name": "stderr",
     "output_type": "stream",
     "text": [
      "100%|██████████| 100000/100000 [00:01<00:00, 51750.51it/s]\n",
      "100%|██████████| 100000/100000 [00:00<00:00, 725039.72it/s]\n"
     ]
    },
    {
     "data": {
      "text/html": [
       "<div>\n",
       "<style scoped>\n",
       "    .dataframe tbody tr th:only-of-type {\n",
       "        vertical-align: middle;\n",
       "    }\n",
       "\n",
       "    .dataframe tbody tr th {\n",
       "        vertical-align: top;\n",
       "    }\n",
       "\n",
       "    .dataframe thead th {\n",
       "        text-align: right;\n",
       "    }\n",
       "</style>\n",
       "<table border=\"1\" class=\"dataframe\">\n",
       "  <thead>\n",
       "    <tr style=\"text-align: right;\">\n",
       "      <th></th>\n",
       "      <th>id</th>\n",
       "      <th>vector</th>\n",
       "    </tr>\n",
       "  </thead>\n",
       "  <tbody>\n",
       "    <tr>\n",
       "      <th>0</th>\n",
       "      <td>1</td>\n",
       "      <td>[0.16508673, -0.0037432343, -0.058245048, -0.0...</td>\n",
       "    </tr>\n",
       "    <tr>\n",
       "      <th>1</th>\n",
       "      <td>2</td>\n",
       "      <td>[1.608256, -1.0515573, -1.1897708, 1.1820835, ...</td>\n",
       "    </tr>\n",
       "  </tbody>\n",
       "</table>\n",
       "</div>"
      ],
      "text/plain": [
       "   id                                             vector\n",
       "0   1  [0.16508673, -0.0037432343, -0.058245048, -0.0...\n",
       "1   2  [1.608256, -1.0515573, -1.1897708, 1.1820835, ..."
      ]
     },
     "execution_count": 11,
     "metadata": {},
     "output_type": "execute_result"
    }
   ],
   "source": [
    "topic['vector'] = topic['vector'].progress_apply(parse_str)\n",
    "topic['id'] = topic['id'].progress_apply(lambda x: int(x[1:]))\n",
    "topic.head(2)"
   ]
  },
  {
   "cell_type": "code",
   "execution_count": 12,
   "metadata": {},
   "outputs": [],
   "source": [
    "topic.to_pickle('../pkl/topic.pkl')\n",
    "del topic"
   ]
  },
  {
   "cell_type": "markdown",
   "metadata": {},
   "source": [
    "### 4.invite_info"
   ]
  },
  {
   "cell_type": "code",
   "execution_count": 4,
   "metadata": {},
   "outputs": [
    {
     "data": {
      "text/html": [
       "<div>\n",
       "<style scoped>\n",
       "    .dataframe tbody tr th:only-of-type {\n",
       "        vertical-align: middle;\n",
       "    }\n",
       "\n",
       "    .dataframe tbody tr th {\n",
       "        vertical-align: top;\n",
       "    }\n",
       "\n",
       "    .dataframe thead th {\n",
       "        text-align: right;\n",
       "    }\n",
       "</style>\n",
       "<table border=\"1\" class=\"dataframe\">\n",
       "  <thead>\n",
       "    <tr style=\"text-align: right;\">\n",
       "      <th></th>\n",
       "      <th>qid</th>\n",
       "      <th>uid</th>\n",
       "      <th>itime</th>\n",
       "      <th>label</th>\n",
       "    </tr>\n",
       "  </thead>\n",
       "  <tbody>\n",
       "    <tr>\n",
       "      <th>0</th>\n",
       "      <td>Q2166419046</td>\n",
       "      <td>M401693808</td>\n",
       "      <td>D3865-H22</td>\n",
       "      <td>0</td>\n",
       "    </tr>\n",
       "    <tr>\n",
       "      <th>1</th>\n",
       "      <td>Q1550017551</td>\n",
       "      <td>M3392373099</td>\n",
       "      <td>D3844-H11</td>\n",
       "      <td>0</td>\n",
       "    </tr>\n",
       "  </tbody>\n",
       "</table>\n",
       "</div>"
      ],
      "text/plain": [
       "           qid          uid      itime  label\n",
       "0  Q2166419046   M401693808  D3865-H22      0\n",
       "1  Q1550017551  M3392373099  D3844-H11      0"
      ]
     },
     "execution_count": 4,
     "metadata": {},
     "output_type": "execute_result"
    }
   ],
   "source": [
    "invite_info = pd.read_csv(os.path.join(PATH, 'invite_info_0926.txt'), \n",
    "                          names=['qid', 'uid', 'itime', 'label'], sep='\\t')\n",
    "invite_info.head(2)"
   ]
  },
  {
   "cell_type": "code",
   "execution_count": 5,
   "metadata": {},
   "outputs": [
    {
     "name": "stderr",
     "output_type": "stream",
     "text": [
      "100%|██████████| 9489162/9489162 [00:14<00:00, 671097.95it/s]\n",
      "100%|██████████| 9489162/9489162 [00:13<00:00, 694976.66it/s]\n"
     ]
    }
   ],
   "source": [
    "invite_info['qid'] = invite_info['qid'].progress_apply(lambda x: int(x[1:]))\n",
    "invite_info['uid'] = invite_info['uid'].progress_apply(lambda x: int(x[1:]))"
   ]
  },
  {
   "cell_type": "code",
   "execution_count": 6,
   "metadata": {},
   "outputs": [
    {
     "name": "stderr",
     "output_type": "stream",
     "text": [
      "100%|██████████| 9489162/9489162 [00:15<00:00, 608138.48it/s]\n",
      "100%|██████████| 9489162/9489162 [00:14<00:00, 633402.26it/s]\n"
     ]
    },
    {
     "data": {
      "text/html": [
       "<div>\n",
       "<style scoped>\n",
       "    .dataframe tbody tr th:only-of-type {\n",
       "        vertical-align: middle;\n",
       "    }\n",
       "\n",
       "    .dataframe tbody tr th {\n",
       "        vertical-align: top;\n",
       "    }\n",
       "\n",
       "    .dataframe thead th {\n",
       "        text-align: right;\n",
       "    }\n",
       "</style>\n",
       "<table border=\"1\" class=\"dataframe\">\n",
       "  <thead>\n",
       "    <tr style=\"text-align: right;\">\n",
       "      <th></th>\n",
       "      <th>qid</th>\n",
       "      <th>uid</th>\n",
       "      <th>itime</th>\n",
       "      <th>label</th>\n",
       "      <th>iday</th>\n",
       "      <th>ihour</th>\n",
       "    </tr>\n",
       "  </thead>\n",
       "  <tbody>\n",
       "    <tr>\n",
       "      <th>0</th>\n",
       "      <td>2166419046</td>\n",
       "      <td>401693808</td>\n",
       "      <td>92782</td>\n",
       "      <td>0</td>\n",
       "      <td>3865</td>\n",
       "      <td>22</td>\n",
       "    </tr>\n",
       "    <tr>\n",
       "      <th>1</th>\n",
       "      <td>1550017551</td>\n",
       "      <td>3392373099</td>\n",
       "      <td>92267</td>\n",
       "      <td>0</td>\n",
       "      <td>3844</td>\n",
       "      <td>11</td>\n",
       "    </tr>\n",
       "  </tbody>\n",
       "</table>\n",
       "</div>"
      ],
      "text/plain": [
       "          qid         uid  itime  label  iday  ihour\n",
       "0  2166419046   401693808  92782      0  3865     22\n",
       "1  1550017551  3392373099  92267      0  3844     11"
      ]
     },
     "execution_count": 6,
     "metadata": {},
     "output_type": "execute_result"
    }
   ],
   "source": [
    "invite_info['iday'] = invite_info['itime'].progress_apply(lambda x: int(x.split('-')[0][1:]))\n",
    "invite_info['ihour'] = invite_info['itime'].progress_apply(lambda x: int(x.split('-')[1][1:]))\n",
    "invite_info['itime'] = invite_info['iday'] * 24 + invite_info['ihour']\n",
    "invite_info.head(2)"
   ]
  },
  {
   "cell_type": "code",
   "execution_count": 7,
   "metadata": {},
   "outputs": [],
   "source": [
    "invite_info.to_pickle('../pkl/invite_info.pkl')"
   ]
  },
  {
   "cell_type": "markdown",
   "metadata": {},
   "source": [
    "### 5.invite_info_evaluate ***"
   ]
  },
  {
   "cell_type": "code",
   "execution_count": 8,
   "metadata": {},
   "outputs": [
    {
     "data": {
      "text/html": [
       "<div>\n",
       "<style scoped>\n",
       "    .dataframe tbody tr th:only-of-type {\n",
       "        vertical-align: middle;\n",
       "    }\n",
       "\n",
       "    .dataframe tbody tr th {\n",
       "        vertical-align: top;\n",
       "    }\n",
       "\n",
       "    .dataframe thead th {\n",
       "        text-align: right;\n",
       "    }\n",
       "</style>\n",
       "<table border=\"1\" class=\"dataframe\">\n",
       "  <thead>\n",
       "    <tr style=\"text-align: right;\">\n",
       "      <th></th>\n",
       "      <th>qid</th>\n",
       "      <th>uid</th>\n",
       "      <th>itime</th>\n",
       "    </tr>\n",
       "  </thead>\n",
       "  <tbody>\n",
       "    <tr>\n",
       "      <th>0</th>\n",
       "      <td>Q1493039281</td>\n",
       "      <td>M64135255</td>\n",
       "      <td>D3870-H9</td>\n",
       "    </tr>\n",
       "    <tr>\n",
       "      <th>1</th>\n",
       "      <td>Q2023398782</td>\n",
       "      <td>M2536956560</td>\n",
       "      <td>D3872-H22</td>\n",
       "    </tr>\n",
       "  </tbody>\n",
       "</table>\n",
       "</div>"
      ],
      "text/plain": [
       "           qid          uid      itime\n",
       "0  Q1493039281    M64135255   D3870-H9\n",
       "1  Q2023398782  M2536956560  D3872-H22"
      ]
     },
     "execution_count": 8,
     "metadata": {},
     "output_type": "execute_result"
    }
   ],
   "source": [
    "invite_info_evaluate = pd.read_csv(os.path.join(PATH, 'invite_info_evaluate_1_0926.txt'), \n",
    "                          names=['qid', 'uid', 'itime'], sep='\\t')\n",
    "invite_info_evaluate.head(2)"
   ]
  },
  {
   "cell_type": "code",
   "execution_count": 9,
   "metadata": {},
   "outputs": [
    {
     "name": "stderr",
     "output_type": "stream",
     "text": [
      "100%|██████████| 1141683/1141683 [00:01<00:00, 643712.14it/s]\n",
      "100%|██████████| 1141683/1141683 [00:01<00:00, 585599.59it/s]\n"
     ]
    }
   ],
   "source": [
    "invite_info_evaluate['qid'] = invite_info_evaluate['qid'].progress_apply(lambda x: int(x[1:]))\n",
    "invite_info_evaluate['uid'] = invite_info_evaluate['uid'].progress_apply(lambda x: int(x[1:]))"
   ]
  },
  {
   "cell_type": "code",
   "execution_count": 10,
   "metadata": {},
   "outputs": [
    {
     "data": {
      "text/html": [
       "<div>\n",
       "<style scoped>\n",
       "    .dataframe tbody tr th:only-of-type {\n",
       "        vertical-align: middle;\n",
       "    }\n",
       "\n",
       "    .dataframe tbody tr th {\n",
       "        vertical-align: top;\n",
       "    }\n",
       "\n",
       "    .dataframe thead th {\n",
       "        text-align: right;\n",
       "    }\n",
       "</style>\n",
       "<table border=\"1\" class=\"dataframe\">\n",
       "  <thead>\n",
       "    <tr style=\"text-align: right;\">\n",
       "      <th></th>\n",
       "      <th>qid</th>\n",
       "      <th>uid</th>\n",
       "      <th>itime</th>\n",
       "      <th>iday</th>\n",
       "      <th>ihour</th>\n",
       "    </tr>\n",
       "  </thead>\n",
       "  <tbody>\n",
       "    <tr>\n",
       "      <th>0</th>\n",
       "      <td>1493039281</td>\n",
       "      <td>64135255</td>\n",
       "      <td>92889</td>\n",
       "      <td>3870</td>\n",
       "      <td>9</td>\n",
       "    </tr>\n",
       "    <tr>\n",
       "      <th>1</th>\n",
       "      <td>2023398782</td>\n",
       "      <td>2536956560</td>\n",
       "      <td>92950</td>\n",
       "      <td>3872</td>\n",
       "      <td>22</td>\n",
       "    </tr>\n",
       "  </tbody>\n",
       "</table>\n",
       "</div>"
      ],
      "text/plain": [
       "          qid         uid  itime  iday  ihour\n",
       "0  1493039281    64135255  92889  3870      9\n",
       "1  2023398782  2536956560  92950  3872     22"
      ]
     },
     "execution_count": 10,
     "metadata": {},
     "output_type": "execute_result"
    }
   ],
   "source": [
    "invite_info_evaluate['iday'] = invite_info_evaluate['itime'].apply(lambda x: int(x.split('-')[0][1:]))\n",
    "invite_info_evaluate['ihour'] = invite_info_evaluate['itime'].apply(lambda x: int(x.split('-')[1][1:]))\n",
    "invite_info_evaluate['itime'] = invite_info_evaluate['iday'] * 24 + invite_info_evaluate['ihour']\n",
    "invite_info_evaluate.head(2)"
   ]
  },
  {
   "cell_type": "code",
   "execution_count": 11,
   "metadata": {},
   "outputs": [],
   "source": [
    "invite_info_evaluate.to_pickle('../pkl/invite_info_evaluate.pkl')"
   ]
  },
  {
   "cell_type": "code",
   "execution_count": 13,
   "metadata": {},
   "outputs": [],
   "source": [
    "data = pd.concat([invite_info, invite_info_evaluate]).reset_index(drop=True)"
   ]
  },
  {
   "cell_type": "code",
   "execution_count": 14,
   "metadata": {},
   "outputs": [],
   "source": [
    "data.to_pickle('../pkl/invite_data.pkl')"
   ]
  },
  {
   "cell_type": "code",
   "execution_count": 15,
   "metadata": {},
   "outputs": [],
   "source": [
    "data['id'] = np.arange(len(data))\n",
    "inv = data[['id', 'uid', 'itime']]\n",
    "inv.sort_values(by=['uid', 'itime'], inplace=True)"
   ]
  },
  {
   "cell_type": "code",
   "execution_count": 16,
   "metadata": {},
   "outputs": [],
   "source": [
    "inv.to_pickle(os.path.join('../pkl/inv_time.pkl'))"
   ]
  },
  {
   "cell_type": "code",
   "execution_count": 20,
   "metadata": {},
   "outputs": [],
   "source": [
    "del invite_info\n",
    "del invite_info_evaluate\n",
    "del data\n",
    "del inv"
   ]
  },
  {
   "cell_type": "markdown",
   "metadata": {},
   "source": [
    "### 6.user"
   ]
  },
  {
   "cell_type": "code",
   "execution_count": 21,
   "metadata": {},
   "outputs": [
    {
     "data": {
      "text/html": [
       "<div>\n",
       "<style scoped>\n",
       "    .dataframe tbody tr th:only-of-type {\n",
       "        vertical-align: middle;\n",
       "    }\n",
       "\n",
       "    .dataframe tbody tr th {\n",
       "        vertical-align: top;\n",
       "    }\n",
       "\n",
       "    .dataframe thead th {\n",
       "        text-align: right;\n",
       "    }\n",
       "</style>\n",
       "<table border=\"1\" class=\"dataframe\">\n",
       "  <thead>\n",
       "    <tr style=\"text-align: right;\">\n",
       "      <th></th>\n",
       "      <th>uid</th>\n",
       "      <th>gender</th>\n",
       "      <th>keyword</th>\n",
       "      <th>grade</th>\n",
       "      <th>hotness</th>\n",
       "      <th>reg_type</th>\n",
       "      <th>reg_plat</th>\n",
       "      <th>freq</th>\n",
       "      <th>A1</th>\n",
       "      <th>B1</th>\n",
       "      <th>...</th>\n",
       "      <th>D1</th>\n",
       "      <th>E1</th>\n",
       "      <th>A2</th>\n",
       "      <th>B2</th>\n",
       "      <th>C2</th>\n",
       "      <th>D2</th>\n",
       "      <th>E2</th>\n",
       "      <th>score</th>\n",
       "      <th>topic_a</th>\n",
       "      <th>topic_i</th>\n",
       "    </tr>\n",
       "  </thead>\n",
       "  <tbody>\n",
       "    <tr>\n",
       "      <th>0</th>\n",
       "      <td>M1934753188</td>\n",
       "      <td>male</td>\n",
       "      <td>-1</td>\n",
       "      <td>0.0</td>\n",
       "      <td>0.0</td>\n",
       "      <td>unknown</td>\n",
       "      <td>unknown</td>\n",
       "      <td>monthly</td>\n",
       "      <td>0</td>\n",
       "      <td>1</td>\n",
       "      <td>...</td>\n",
       "      <td>1</td>\n",
       "      <td>0</td>\n",
       "      <td>MD470265</td>\n",
       "      <td>BR470265</td>\n",
       "      <td>PV929066</td>\n",
       "      <td>CT929066</td>\n",
       "      <td>PF470265</td>\n",
       "      <td>764</td>\n",
       "      <td>T540</td>\n",
       "      <td>T21107:1.7915097,T405:1.6123838,T4436:1.518003...</td>\n",
       "    </tr>\n",
       "    <tr>\n",
       "      <th>1</th>\n",
       "      <td>M595924114</td>\n",
       "      <td>male</td>\n",
       "      <td>-1</td>\n",
       "      <td>0.0</td>\n",
       "      <td>0.0</td>\n",
       "      <td>unknown</td>\n",
       "      <td>unknown</td>\n",
       "      <td>daily</td>\n",
       "      <td>0</td>\n",
       "      <td>0</td>\n",
       "      <td>...</td>\n",
       "      <td>1</td>\n",
       "      <td>1</td>\n",
       "      <td>MD195122</td>\n",
       "      <td>BR596936</td>\n",
       "      <td>PV002320</td>\n",
       "      <td>CT840234</td>\n",
       "      <td>PF470265</td>\n",
       "      <td>671</td>\n",
       "      <td>T44126,T15940,T839,T8978,T2934,T1113,T3914,T12...</td>\n",
       "      <td>T18016:2.0650618,T2384:1.2503042,T1142:1.13569...</td>\n",
       "    </tr>\n",
       "  </tbody>\n",
       "</table>\n",
       "<p>2 rows × 21 columns</p>\n",
       "</div>"
      ],
      "text/plain": [
       "           uid gender  keyword  grade  hotness reg_type reg_plat     freq  A1  \\\n",
       "0  M1934753188   male       -1    0.0      0.0  unknown  unknown  monthly   0   \n",
       "1   M595924114   male       -1    0.0      0.0  unknown  unknown    daily   0   \n",
       "\n",
       "   B1  ...  D1  E1        A2        B2        C2        D2        E2 score  \\\n",
       "0   1  ...   1   0  MD470265  BR470265  PV929066  CT929066  PF470265   764   \n",
       "1   0  ...   1   1  MD195122  BR596936  PV002320  CT840234  PF470265   671   \n",
       "\n",
       "                                             topic_a  \\\n",
       "0                                               T540   \n",
       "1  T44126,T15940,T839,T8978,T2934,T1113,T3914,T12...   \n",
       "\n",
       "                                             topic_i  \n",
       "0  T21107:1.7915097,T405:1.6123838,T4436:1.518003...  \n",
       "1  T18016:2.0650618,T2384:1.2503042,T1142:1.13569...  \n",
       "\n",
       "[2 rows x 21 columns]"
      ]
     },
     "execution_count": 21,
     "metadata": {},
     "output_type": "execute_result"
    }
   ],
   "source": [
    "user_info = pd.read_csv(os.path.join(PATH, 'member_info_0926.txt'), \n",
    "                          names=['uid', 'gender', 'keyword', 'grade', 'hotness', 'reg_type','reg_plat','freq',\n",
    "                                 'A1', 'B1', 'C1', 'D1', 'E1', 'A2', 'B2', 'C2', 'D2', 'E2',\n",
    "                                 'score', 'topic_a', 'topic_i'], sep='\\t')\n",
    "user_info.head(2)"
   ]
  },
  {
   "cell_type": "code",
   "execution_count": 22,
   "metadata": {},
   "outputs": [
    {
     "name": "stderr",
     "output_type": "stream",
     "text": [
      "100%|██████████| 1931654/1931654 [00:16<00:00, 114493.60it/s]\n",
      "100%|██████████| 1931654/1931654 [00:15<00:00, 121937.11it/s]\n"
     ]
    }
   ],
   "source": [
    "user_info['topic_a'] = user_info['topic_a'].progress_apply(parse_list_1)\n",
    "user_info['topic_i'] = user_info['topic_i'].progress_apply(parse_map)"
   ]
  },
  {
   "cell_type": "code",
   "execution_count": 23,
   "metadata": {},
   "outputs": [
    {
     "name": "stderr",
     "output_type": "stream",
     "text": [
      "100%|██████████| 1931654/1931654 [00:03<00:00, 577539.74it/s]\n",
      "100%|██████████| 1931654/1931654 [00:02<00:00, 776614.01it/s] \n"
     ]
    }
   ],
   "source": [
    "user_info['topic_ik'] = user_info['topic_i'].progress_apply(dict.keys).apply(list)\n",
    "user_info['topic_iv'] = user_info['topic_i'].progress_apply(dict.values).apply(list)"
   ]
  },
  {
   "cell_type": "code",
   "execution_count": 24,
   "metadata": {},
   "outputs": [
    {
     "name": "stderr",
     "output_type": "stream",
     "text": [
      "100%|██████████| 1931654/1931654 [00:02<00:00, 743680.18it/s]\n"
     ]
    }
   ],
   "source": [
    "user_info['uid'] = user_info['uid'].progress_apply(lambda x: int(x[1:]))"
   ]
  },
  {
   "cell_type": "code",
   "execution_count": 25,
   "metadata": {},
   "outputs": [
    {
     "data": {
      "text/html": [
       "<div>\n",
       "<style scoped>\n",
       "    .dataframe tbody tr th:only-of-type {\n",
       "        vertical-align: middle;\n",
       "    }\n",
       "\n",
       "    .dataframe tbody tr th {\n",
       "        vertical-align: top;\n",
       "    }\n",
       "\n",
       "    .dataframe thead th {\n",
       "        text-align: right;\n",
       "    }\n",
       "</style>\n",
       "<table border=\"1\" class=\"dataframe\">\n",
       "  <thead>\n",
       "    <tr style=\"text-align: right;\">\n",
       "      <th></th>\n",
       "      <th>uid</th>\n",
       "      <th>gender</th>\n",
       "      <th>keyword</th>\n",
       "      <th>grade</th>\n",
       "      <th>hotness</th>\n",
       "      <th>reg_type</th>\n",
       "      <th>reg_plat</th>\n",
       "      <th>freq</th>\n",
       "      <th>A1</th>\n",
       "      <th>B1</th>\n",
       "      <th>...</th>\n",
       "      <th>A2</th>\n",
       "      <th>B2</th>\n",
       "      <th>C2</th>\n",
       "      <th>D2</th>\n",
       "      <th>E2</th>\n",
       "      <th>score</th>\n",
       "      <th>topic_a</th>\n",
       "      <th>topic_i</th>\n",
       "      <th>topic_ik</th>\n",
       "      <th>topic_iv</th>\n",
       "    </tr>\n",
       "  </thead>\n",
       "  <tbody>\n",
       "    <tr>\n",
       "      <th>0</th>\n",
       "      <td>1934753188</td>\n",
       "      <td>male</td>\n",
       "      <td>-1</td>\n",
       "      <td>0.0</td>\n",
       "      <td>0.0</td>\n",
       "      <td>unknown</td>\n",
       "      <td>unknown</td>\n",
       "      <td>monthly</td>\n",
       "      <td>0</td>\n",
       "      <td>1</td>\n",
       "      <td>...</td>\n",
       "      <td>MD470265</td>\n",
       "      <td>BR470265</td>\n",
       "      <td>PV929066</td>\n",
       "      <td>CT929066</td>\n",
       "      <td>PF470265</td>\n",
       "      <td>764</td>\n",
       "      <td>[540]</td>\n",
       "      <td>{21107: 1.7915097, 405: 1.6123838, 4436: 1.518...</td>\n",
       "      <td>[21107, 405, 4436, 8788, 3435, 19450, 3702, 86...</td>\n",
       "      <td>[1.7915097, 1.6123838, 1.5180033, 1.4733534, 1...</td>\n",
       "    </tr>\n",
       "    <tr>\n",
       "      <th>1</th>\n",
       "      <td>595924114</td>\n",
       "      <td>male</td>\n",
       "      <td>-1</td>\n",
       "      <td>0.0</td>\n",
       "      <td>0.0</td>\n",
       "      <td>unknown</td>\n",
       "      <td>unknown</td>\n",
       "      <td>daily</td>\n",
       "      <td>0</td>\n",
       "      <td>0</td>\n",
       "      <td>...</td>\n",
       "      <td>MD195122</td>\n",
       "      <td>BR596936</td>\n",
       "      <td>PV002320</td>\n",
       "      <td>CT840234</td>\n",
       "      <td>PF470265</td>\n",
       "      <td>671</td>\n",
       "      <td>[44126, 15940, 839, 8978, 2934, 1113, 3914, 12...</td>\n",
       "      <td>{18016: 2.0650618, 2384: 1.2503042, 1142: 1.13...</td>\n",
       "      <td>[18016, 2384, 1142, 231, 13555, 1981, 5955, 96...</td>\n",
       "      <td>[2.0650618, 1.2503042, 1.1356933, 1.1340009, 1...</td>\n",
       "    </tr>\n",
       "  </tbody>\n",
       "</table>\n",
       "<p>2 rows × 23 columns</p>\n",
       "</div>"
      ],
      "text/plain": [
       "          uid gender  keyword  grade  hotness reg_type reg_plat     freq  A1  \\\n",
       "0  1934753188   male       -1    0.0      0.0  unknown  unknown  monthly   0   \n",
       "1   595924114   male       -1    0.0      0.0  unknown  unknown    daily   0   \n",
       "\n",
       "   B1  ...        A2        B2        C2        D2        E2 score  \\\n",
       "0   1  ...  MD470265  BR470265  PV929066  CT929066  PF470265   764   \n",
       "1   0  ...  MD195122  BR596936  PV002320  CT840234  PF470265   671   \n",
       "\n",
       "                                             topic_a  \\\n",
       "0                                              [540]   \n",
       "1  [44126, 15940, 839, 8978, 2934, 1113, 3914, 12...   \n",
       "\n",
       "                                             topic_i  \\\n",
       "0  {21107: 1.7915097, 405: 1.6123838, 4436: 1.518...   \n",
       "1  {18016: 2.0650618, 2384: 1.2503042, 1142: 1.13...   \n",
       "\n",
       "                                            topic_ik  \\\n",
       "0  [21107, 405, 4436, 8788, 3435, 19450, 3702, 86...   \n",
       "1  [18016, 2384, 1142, 231, 13555, 1981, 5955, 96...   \n",
       "\n",
       "                                            topic_iv  \n",
       "0  [1.7915097, 1.6123838, 1.5180033, 1.4733534, 1...  \n",
       "1  [2.0650618, 1.2503042, 1.1356933, 1.1340009, 1...  \n",
       "\n",
       "[2 rows x 23 columns]"
      ]
     },
     "execution_count": 25,
     "metadata": {},
     "output_type": "execute_result"
    }
   ],
   "source": [
    "user_info.head(2)"
   ]
  },
  {
   "cell_type": "code",
   "execution_count": 26,
   "metadata": {},
   "outputs": [],
   "source": [
    "user_info.to_pickle('../pkl/user_info.pkl')"
   ]
  },
  {
   "cell_type": "code",
   "execution_count": 27,
   "metadata": {},
   "outputs": [],
   "source": [
    "del user_info"
   ]
  },
  {
   "cell_type": "markdown",
   "metadata": {},
   "source": [
    "### 7.question"
   ]
  },
  {
   "cell_type": "code",
   "execution_count": 17,
   "metadata": {},
   "outputs": [
    {
     "data": {
      "text/html": [
       "<div>\n",
       "<style scoped>\n",
       "    .dataframe tbody tr th:only-of-type {\n",
       "        vertical-align: middle;\n",
       "    }\n",
       "\n",
       "    .dataframe tbody tr th {\n",
       "        vertical-align: top;\n",
       "    }\n",
       "\n",
       "    .dataframe thead th {\n",
       "        text-align: right;\n",
       "    }\n",
       "</style>\n",
       "<table border=\"1\" class=\"dataframe\">\n",
       "  <thead>\n",
       "    <tr style=\"text-align: right;\">\n",
       "      <th></th>\n",
       "      <th>qid</th>\n",
       "      <th>qtime</th>\n",
       "      <th>title_sw</th>\n",
       "      <th>title_w</th>\n",
       "      <th>desc_sw</th>\n",
       "      <th>desc_w</th>\n",
       "      <th>topic</th>\n",
       "    </tr>\n",
       "  </thead>\n",
       "  <tbody>\n",
       "    <tr>\n",
       "      <th>0</th>\n",
       "      <td>Q2234111670</td>\n",
       "      <td>D1018-H5</td>\n",
       "      <td>SW211,SW204,SW1715,SW69,SW2033,SW138,SW57,SW13...</td>\n",
       "      <td>W22414,W963,W10458</td>\n",
       "      <td>-1</td>\n",
       "      <td>-1</td>\n",
       "      <td>T321,T730,T5784,T4389</td>\n",
       "    </tr>\n",
       "    <tr>\n",
       "      <th>1</th>\n",
       "      <td>Q760329790</td>\n",
       "      <td>D1745-H20</td>\n",
       "      <td>SW69,SW2033,SW138,SW2616,SW2668,SW36,SW2594,SW...</td>\n",
       "      <td>W12677,W16829,W15201,W6419,W101839</td>\n",
       "      <td>SW146,SW982,SW401,SW297,SW17,SW2616,SW2668,SW3...</td>\n",
       "      <td>W1296,W2118,W12677,W16829,W15201,W6419,W101839...</td>\n",
       "      <td>T278,T12673,T4677</td>\n",
       "    </tr>\n",
       "  </tbody>\n",
       "</table>\n",
       "</div>"
      ],
      "text/plain": [
       "           qid      qtime                                           title_sw  \\\n",
       "0  Q2234111670   D1018-H5  SW211,SW204,SW1715,SW69,SW2033,SW138,SW57,SW13...   \n",
       "1   Q760329790  D1745-H20  SW69,SW2033,SW138,SW2616,SW2668,SW36,SW2594,SW...   \n",
       "\n",
       "                              title_w  \\\n",
       "0                  W22414,W963,W10458   \n",
       "1  W12677,W16829,W15201,W6419,W101839   \n",
       "\n",
       "                                             desc_sw  \\\n",
       "0                                                 -1   \n",
       "1  SW146,SW982,SW401,SW297,SW17,SW2616,SW2668,SW3...   \n",
       "\n",
       "                                              desc_w                  topic  \n",
       "0                                                 -1  T321,T730,T5784,T4389  \n",
       "1  W1296,W2118,W12677,W16829,W15201,W6419,W101839...      T278,T12673,T4677  "
      ]
     },
     "execution_count": 17,
     "metadata": {},
     "output_type": "execute_result"
    }
   ],
   "source": [
    "question_info = pd.read_csv(os.path.join(PATH, 'question_info_0926.txt'),\n",
    "                          names=['qid', 'qtime', 'title_sw', 'title_w', 'desc_sw', 'desc_w', 'topic'], sep='\\t')\n",
    "question_info.head(2)"
   ]
  },
  {
   "cell_type": "code",
   "execution_count": 18,
   "metadata": {},
   "outputs": [
    {
     "name": "stderr",
     "output_type": "stream",
     "text": [
      "100%|██████████| 1829900/1829900 [00:21<00:00, 83465.99it/s]\n",
      "100%|██████████| 1829900/1829900 [00:10<00:00, 168624.18it/s]\n",
      "100%|██████████| 1829900/1829900 [00:48<00:00, 37722.95it/s]\n",
      "100%|██████████| 1829900/1829900 [00:16<00:00, 108319.98it/s]\n",
      "100%|██████████| 1829900/1829900 [00:07<00:00, 228741.73it/s]\n"
     ]
    },
    {
     "data": {
      "text/html": [
       "<div>\n",
       "<style scoped>\n",
       "    .dataframe tbody tr th:only-of-type {\n",
       "        vertical-align: middle;\n",
       "    }\n",
       "\n",
       "    .dataframe tbody tr th {\n",
       "        vertical-align: top;\n",
       "    }\n",
       "\n",
       "    .dataframe thead th {\n",
       "        text-align: right;\n",
       "    }\n",
       "</style>\n",
       "<table border=\"1\" class=\"dataframe\">\n",
       "  <thead>\n",
       "    <tr style=\"text-align: right;\">\n",
       "      <th></th>\n",
       "      <th>qid</th>\n",
       "      <th>qtime</th>\n",
       "      <th>title_sw</th>\n",
       "      <th>title_w</th>\n",
       "      <th>desc_sw</th>\n",
       "      <th>desc_w</th>\n",
       "      <th>topic</th>\n",
       "    </tr>\n",
       "  </thead>\n",
       "  <tbody>\n",
       "    <tr>\n",
       "      <th>0</th>\n",
       "      <td>Q2234111670</td>\n",
       "      <td>D1018-H5</td>\n",
       "      <td>[211, 204, 1715, 69, 2033, 138, 57, 138, 8, 28...</td>\n",
       "      <td>[22414, 963, 10458]</td>\n",
       "      <td>[0]</td>\n",
       "      <td>[0]</td>\n",
       "      <td>[321, 730, 5784, 4389]</td>\n",
       "    </tr>\n",
       "    <tr>\n",
       "      <th>1</th>\n",
       "      <td>Q760329790</td>\n",
       "      <td>D1745-H20</td>\n",
       "      <td>[69, 2033, 138, 2616, 2668, 36, 2594, 1165, 20...</td>\n",
       "      <td>[12677, 16829, 15201, 6419, 101839]</td>\n",
       "      <td>[146, 982, 401, 297, 17, 2616, 2668, 36, 2594,...</td>\n",
       "      <td>[1296, 2118, 12677, 16829, 15201, 6419, 101839...</td>\n",
       "      <td>[278, 12673, 4677]</td>\n",
       "    </tr>\n",
       "  </tbody>\n",
       "</table>\n",
       "</div>"
      ],
      "text/plain": [
       "           qid      qtime                                           title_sw  \\\n",
       "0  Q2234111670   D1018-H5  [211, 204, 1715, 69, 2033, 138, 57, 138, 8, 28...   \n",
       "1   Q760329790  D1745-H20  [69, 2033, 138, 2616, 2668, 36, 2594, 1165, 20...   \n",
       "\n",
       "                               title_w  \\\n",
       "0                  [22414, 963, 10458]   \n",
       "1  [12677, 16829, 15201, 6419, 101839]   \n",
       "\n",
       "                                             desc_sw  \\\n",
       "0                                                [0]   \n",
       "1  [146, 982, 401, 297, 17, 2616, 2668, 36, 2594,...   \n",
       "\n",
       "                                              desc_w                   topic  \n",
       "0                                                [0]  [321, 730, 5784, 4389]  \n",
       "1  [1296, 2118, 12677, 16829, 15201, 6419, 101839...      [278, 12673, 4677]  "
      ]
     },
     "execution_count": 18,
     "metadata": {},
     "output_type": "execute_result"
    }
   ],
   "source": [
    "question_info['title_sw'] = question_info['title_sw'].progress_apply(parse_list_2)\n",
    "question_info['title_w'] = question_info['title_w'].progress_apply(parse_list_1)\n",
    "question_info['desc_sw'] = question_info['desc_sw'].progress_apply(parse_list_2)\n",
    "question_info['desc_w'] = question_info['desc_w'].progress_apply(parse_list_1)\n",
    "question_info['topic'] = question_info['topic'].progress_apply(parse_list_1)\n",
    "question_info.head(2)"
   ]
  },
  {
   "cell_type": "code",
   "execution_count": 19,
   "metadata": {},
   "outputs": [
    {
     "name": "stderr",
     "output_type": "stream",
     "text": [
      "100%|██████████| 1829900/1829900 [00:02<00:00, 625791.04it/s]\n",
      "100%|██████████| 1829900/1829900 [00:03<00:00, 545307.67it/s]\n",
      "100%|██████████| 1829900/1829900 [00:02<00:00, 659439.89it/s]\n"
     ]
    },
    {
     "data": {
      "text/html": [
       "<div>\n",
       "<style scoped>\n",
       "    .dataframe tbody tr th:only-of-type {\n",
       "        vertical-align: middle;\n",
       "    }\n",
       "\n",
       "    .dataframe tbody tr th {\n",
       "        vertical-align: top;\n",
       "    }\n",
       "\n",
       "    .dataframe thead th {\n",
       "        text-align: right;\n",
       "    }\n",
       "</style>\n",
       "<table border=\"1\" class=\"dataframe\">\n",
       "  <thead>\n",
       "    <tr style=\"text-align: right;\">\n",
       "      <th></th>\n",
       "      <th>qid</th>\n",
       "      <th>qtime</th>\n",
       "      <th>title_sw</th>\n",
       "      <th>title_w</th>\n",
       "      <th>desc_sw</th>\n",
       "      <th>desc_w</th>\n",
       "      <th>topic</th>\n",
       "      <th>qday</th>\n",
       "      <th>qhour</th>\n",
       "    </tr>\n",
       "  </thead>\n",
       "  <tbody>\n",
       "    <tr>\n",
       "      <th>0</th>\n",
       "      <td>2234111670</td>\n",
       "      <td>24437</td>\n",
       "      <td>[211, 204, 1715, 69, 2033, 138, 57, 138, 8, 28...</td>\n",
       "      <td>[22414, 963, 10458]</td>\n",
       "      <td>[0]</td>\n",
       "      <td>[0]</td>\n",
       "      <td>[321, 730, 5784, 4389]</td>\n",
       "      <td>1018</td>\n",
       "      <td>5</td>\n",
       "    </tr>\n",
       "    <tr>\n",
       "      <th>1</th>\n",
       "      <td>760329790</td>\n",
       "      <td>41900</td>\n",
       "      <td>[69, 2033, 138, 2616, 2668, 36, 2594, 1165, 20...</td>\n",
       "      <td>[12677, 16829, 15201, 6419, 101839]</td>\n",
       "      <td>[146, 982, 401, 297, 17, 2616, 2668, 36, 2594,...</td>\n",
       "      <td>[1296, 2118, 12677, 16829, 15201, 6419, 101839...</td>\n",
       "      <td>[278, 12673, 4677]</td>\n",
       "      <td>1745</td>\n",
       "      <td>20</td>\n",
       "    </tr>\n",
       "  </tbody>\n",
       "</table>\n",
       "</div>"
      ],
      "text/plain": [
       "          qid  qtime                                           title_sw  \\\n",
       "0  2234111670  24437  [211, 204, 1715, 69, 2033, 138, 57, 138, 8, 28...   \n",
       "1   760329790  41900  [69, 2033, 138, 2616, 2668, 36, 2594, 1165, 20...   \n",
       "\n",
       "                               title_w  \\\n",
       "0                  [22414, 963, 10458]   \n",
       "1  [12677, 16829, 15201, 6419, 101839]   \n",
       "\n",
       "                                             desc_sw  \\\n",
       "0                                                [0]   \n",
       "1  [146, 982, 401, 297, 17, 2616, 2668, 36, 2594,...   \n",
       "\n",
       "                                              desc_w                   topic  \\\n",
       "0                                                [0]  [321, 730, 5784, 4389]   \n",
       "1  [1296, 2118, 12677, 16829, 15201, 6419, 101839...      [278, 12673, 4677]   \n",
       "\n",
       "   qday  qhour  \n",
       "0  1018      5  \n",
       "1  1745     20  "
      ]
     },
     "execution_count": 19,
     "metadata": {},
     "output_type": "execute_result"
    }
   ],
   "source": [
    "question_info['qday'] = question_info['qtime'].progress_apply(lambda x: int(x.split('-')[0][1:]))\n",
    "question_info['qhour'] = question_info['qtime'].progress_apply(lambda x: int(x.split('-')[1][1:]))\n",
    "question_info['qtime'] = question_info['qday'] * 24 + question_info['qhour']\n",
    "question_info['qid'] = question_info['qid'].progress_apply(lambda x: int(x[1:]))\n",
    "question_info.head(2)"
   ]
  },
  {
   "cell_type": "code",
   "execution_count": 20,
   "metadata": {},
   "outputs": [],
   "source": [
    "question_info.to_pickle('../pkl/question_info.pkl')"
   ]
  },
  {
   "cell_type": "code",
   "execution_count": 21,
   "metadata": {},
   "outputs": [],
   "source": [
    "del question_info"
   ]
  },
  {
   "cell_type": "markdown",
   "metadata": {},
   "source": [
    "### 8.answer"
   ]
  },
  {
   "cell_type": "code",
   "execution_count": 22,
   "metadata": {},
   "outputs": [
    {
     "name": "stdout",
     "output_type": "stream",
     "text": [
      "CPU times: user 1min 37s, sys: 7.46 s, total: 1min 45s\n",
      "Wall time: 2min 15s\n"
     ]
    },
    {
     "data": {
      "text/html": [
       "<div>\n",
       "<style scoped>\n",
       "    .dataframe tbody tr th:only-of-type {\n",
       "        vertical-align: middle;\n",
       "    }\n",
       "\n",
       "    .dataframe tbody tr th {\n",
       "        vertical-align: top;\n",
       "    }\n",
       "\n",
       "    .dataframe thead th {\n",
       "        text-align: right;\n",
       "    }\n",
       "</style>\n",
       "<table border=\"1\" class=\"dataframe\">\n",
       "  <thead>\n",
       "    <tr style=\"text-align: right;\">\n",
       "      <th></th>\n",
       "      <th>aid</th>\n",
       "      <th>qid</th>\n",
       "      <th>uid</th>\n",
       "      <th>atime</th>\n",
       "      <th>content_sw</th>\n",
       "      <th>content_w</th>\n",
       "      <th>excellent</th>\n",
       "      <th>recommend</th>\n",
       "      <th>round_table</th>\n",
       "      <th>figure</th>\n",
       "      <th>video</th>\n",
       "      <th>num_word</th>\n",
       "      <th>num_like</th>\n",
       "      <th>num_unlike</th>\n",
       "      <th>num_comment</th>\n",
       "      <th>num_favor</th>\n",
       "      <th>num_thank</th>\n",
       "      <th>num_report</th>\n",
       "      <th>num_nohelp</th>\n",
       "      <th>num_oppose</th>\n",
       "    </tr>\n",
       "  </thead>\n",
       "  <tbody>\n",
       "    <tr>\n",
       "      <th>0</th>\n",
       "      <td>A2502060945</td>\n",
       "      <td>Q1867533817</td>\n",
       "      <td>M625498202</td>\n",
       "      <td>D3808-H7</td>\n",
       "      <td>SW13,SW19,SW44,SW150,SW23,SW594,SW1254,SW91,SW...</td>\n",
       "      <td>W239,W10528,W142,W20372,W6473,W10,W24,W4527,W2...</td>\n",
       "      <td>0</td>\n",
       "      <td>0</td>\n",
       "      <td>0</td>\n",
       "      <td>0</td>\n",
       "      <td>0</td>\n",
       "      <td>41</td>\n",
       "      <td>1</td>\n",
       "      <td>0</td>\n",
       "      <td>1</td>\n",
       "      <td>0</td>\n",
       "      <td>1</td>\n",
       "      <td>0</td>\n",
       "      <td>0</td>\n",
       "      <td>0</td>\n",
       "    </tr>\n",
       "    <tr>\n",
       "      <th>1</th>\n",
       "      <td>A2847829478</td>\n",
       "      <td>Q3366788616</td>\n",
       "      <td>M142330444</td>\n",
       "      <td>D3810-H17</td>\n",
       "      <td>SW898,SW3656,SW2,SW413,SW601,SW2,SW2541,SW681,...</td>\n",
       "      <td>W4628,W66060,W1607,W2647,W53385,W109029,W319,W...</td>\n",
       "      <td>0</td>\n",
       "      <td>0</td>\n",
       "      <td>0</td>\n",
       "      <td>0</td>\n",
       "      <td>0</td>\n",
       "      <td>204</td>\n",
       "      <td>1</td>\n",
       "      <td>0</td>\n",
       "      <td>0</td>\n",
       "      <td>3</td>\n",
       "      <td>1</td>\n",
       "      <td>0</td>\n",
       "      <td>0</td>\n",
       "      <td>0</td>\n",
       "    </tr>\n",
       "  </tbody>\n",
       "</table>\n",
       "</div>"
      ],
      "text/plain": [
       "           aid          qid         uid      atime  \\\n",
       "0  A2502060945  Q1867533817  M625498202   D3808-H7   \n",
       "1  A2847829478  Q3366788616  M142330444  D3810-H17   \n",
       "\n",
       "                                          content_sw  \\\n",
       "0  SW13,SW19,SW44,SW150,SW23,SW594,SW1254,SW91,SW...   \n",
       "1  SW898,SW3656,SW2,SW413,SW601,SW2,SW2541,SW681,...   \n",
       "\n",
       "                                           content_w  excellent  recommend  \\\n",
       "0  W239,W10528,W142,W20372,W6473,W10,W24,W4527,W2...          0          0   \n",
       "1  W4628,W66060,W1607,W2647,W53385,W109029,W319,W...          0          0   \n",
       "\n",
       "   round_table  figure  video  num_word  num_like  num_unlike  num_comment  \\\n",
       "0            0       0      0        41         1           0            1   \n",
       "1            0       0      0       204         1           0            0   \n",
       "\n",
       "   num_favor  num_thank  num_report  num_nohelp  num_oppose  \n",
       "0          0          1           0           0           0  \n",
       "1          3          1           0           0           0  "
      ]
     },
     "execution_count": 22,
     "metadata": {},
     "output_type": "execute_result"
    }
   ],
   "source": [
    "%%time\n",
    "answer_info = pd.read_csv(os.path.join(PATH, 'answer_info_0926.txt'), \n",
    "                          names=['aid', 'qid', 'uid', 'atime', 'content_sw', 'content_w', \n",
    "                                 'excellent', 'recommend', 'round_table', 'figure', 'video', \n",
    "                                 'num_word', 'num_like', 'num_unlike', 'num_comment',\n",
    "                                 'num_favor', 'num_thank', 'num_report', 'num_nohelp', 'num_oppose'], sep='\\t')\n",
    "answer_info.head(2)"
   ]
  },
  {
   "cell_type": "code",
   "execution_count": 23,
   "metadata": {},
   "outputs": [
    {
     "name": "stderr",
     "output_type": "stream",
     "text": [
      "100%|██████████| 4513735/4513735 [05:57<00:00, 12637.59it/s]\n",
      "100%|██████████| 4513735/4513735 [02:05<00:00, 36098.64it/s]\n"
     ]
    },
    {
     "data": {
      "text/html": [
       "<div>\n",
       "<style scoped>\n",
       "    .dataframe tbody tr th:only-of-type {\n",
       "        vertical-align: middle;\n",
       "    }\n",
       "\n",
       "    .dataframe tbody tr th {\n",
       "        vertical-align: top;\n",
       "    }\n",
       "\n",
       "    .dataframe thead th {\n",
       "        text-align: right;\n",
       "    }\n",
       "</style>\n",
       "<table border=\"1\" class=\"dataframe\">\n",
       "  <thead>\n",
       "    <tr style=\"text-align: right;\">\n",
       "      <th></th>\n",
       "      <th>aid</th>\n",
       "      <th>qid</th>\n",
       "      <th>uid</th>\n",
       "      <th>atime</th>\n",
       "      <th>content_sw</th>\n",
       "      <th>content_w</th>\n",
       "      <th>excellent</th>\n",
       "      <th>recommend</th>\n",
       "      <th>round_table</th>\n",
       "      <th>figure</th>\n",
       "      <th>video</th>\n",
       "      <th>num_word</th>\n",
       "      <th>num_like</th>\n",
       "      <th>num_unlike</th>\n",
       "      <th>num_comment</th>\n",
       "      <th>num_favor</th>\n",
       "      <th>num_thank</th>\n",
       "      <th>num_report</th>\n",
       "      <th>num_nohelp</th>\n",
       "      <th>num_oppose</th>\n",
       "    </tr>\n",
       "  </thead>\n",
       "  <tbody>\n",
       "    <tr>\n",
       "      <th>0</th>\n",
       "      <td>A2502060945</td>\n",
       "      <td>Q1867533817</td>\n",
       "      <td>M625498202</td>\n",
       "      <td>D3808-H7</td>\n",
       "      <td>[13, 19, 44, 150, 23, 594, 1254, 91, 3, 87, 48...</td>\n",
       "      <td>[239, 10528, 142, 20372, 6473, 10, 24, 4527, 2...</td>\n",
       "      <td>0</td>\n",
       "      <td>0</td>\n",
       "      <td>0</td>\n",
       "      <td>0</td>\n",
       "      <td>0</td>\n",
       "      <td>41</td>\n",
       "      <td>1</td>\n",
       "      <td>0</td>\n",
       "      <td>1</td>\n",
       "      <td>0</td>\n",
       "      <td>1</td>\n",
       "      <td>0</td>\n",
       "      <td>0</td>\n",
       "      <td>0</td>\n",
       "    </tr>\n",
       "    <tr>\n",
       "      <th>1</th>\n",
       "      <td>A2847829478</td>\n",
       "      <td>Q3366788616</td>\n",
       "      <td>M142330444</td>\n",
       "      <td>D3810-H17</td>\n",
       "      <td>[898, 3656, 2, 413, 601, 2, 2541, 681, 2, 4368...</td>\n",
       "      <td>[4628, 66060, 1607, 2647, 53385, 109029, 319, ...</td>\n",
       "      <td>0</td>\n",
       "      <td>0</td>\n",
       "      <td>0</td>\n",
       "      <td>0</td>\n",
       "      <td>0</td>\n",
       "      <td>204</td>\n",
       "      <td>1</td>\n",
       "      <td>0</td>\n",
       "      <td>0</td>\n",
       "      <td>3</td>\n",
       "      <td>1</td>\n",
       "      <td>0</td>\n",
       "      <td>0</td>\n",
       "      <td>0</td>\n",
       "    </tr>\n",
       "  </tbody>\n",
       "</table>\n",
       "</div>"
      ],
      "text/plain": [
       "           aid          qid         uid      atime  \\\n",
       "0  A2502060945  Q1867533817  M625498202   D3808-H7   \n",
       "1  A2847829478  Q3366788616  M142330444  D3810-H17   \n",
       "\n",
       "                                          content_sw  \\\n",
       "0  [13, 19, 44, 150, 23, 594, 1254, 91, 3, 87, 48...   \n",
       "1  [898, 3656, 2, 413, 601, 2, 2541, 681, 2, 4368...   \n",
       "\n",
       "                                           content_w  excellent  recommend  \\\n",
       "0  [239, 10528, 142, 20372, 6473, 10, 24, 4527, 2...          0          0   \n",
       "1  [4628, 66060, 1607, 2647, 53385, 109029, 319, ...          0          0   \n",
       "\n",
       "   round_table  figure  video  num_word  num_like  num_unlike  num_comment  \\\n",
       "0            0       0      0        41         1           0            1   \n",
       "1            0       0      0       204         1           0            0   \n",
       "\n",
       "   num_favor  num_thank  num_report  num_nohelp  num_oppose  \n",
       "0          0          1           0           0           0  \n",
       "1          3          1           0           0           0  "
      ]
     },
     "execution_count": 23,
     "metadata": {},
     "output_type": "execute_result"
    }
   ],
   "source": [
    "answer_info['content_sw'] = answer_info['content_sw'].progress_apply(parse_list_2) \n",
    "answer_info['content_w'] = answer_info['content_w'].progress_apply(parse_list_1) \n",
    "answer_info.head(2)"
   ]
  },
  {
   "cell_type": "code",
   "execution_count": 24,
   "metadata": {},
   "outputs": [
    {
     "name": "stderr",
     "output_type": "stream",
     "text": [
      "100%|██████████| 4513735/4513735 [00:07<00:00, 627365.63it/s]\n",
      "100%|██████████| 4513735/4513735 [00:07<00:00, 590245.64it/s]\n",
      "100%|██████████| 4513735/4513735 [00:06<00:00, 670168.69it/s]\n",
      "100%|██████████| 4513735/4513735 [00:07<00:00, 644550.67it/s]\n",
      "100%|██████████| 4513735/4513735 [00:06<00:00, 683437.60it/s]\n"
     ]
    }
   ],
   "source": [
    "answer_info['aday'] = answer_info['atime'].progress_apply(lambda x: int(x.split('-')[0][1:]))\n",
    "answer_info['ahour'] = answer_info['atime'].progress_apply(lambda x: int(x.split('-')[1][1:]))\n",
    "answer_info['atime'] = answer_info['aday'] * 24 + answer_info['ahour']\n",
    "answer_info['aid'] = answer_info['aid'].progress_apply(lambda x: int(x[1:]))\n",
    "answer_info['qid'] = answer_info['qid'].progress_apply(lambda x: int(x[1:]))\n",
    "answer_info['uid'] = answer_info['uid'].progress_apply(lambda x: int(x[1:]))"
   ]
  },
  {
   "cell_type": "code",
   "execution_count": 25,
   "metadata": {},
   "outputs": [
    {
     "data": {
      "text/html": [
       "<div>\n",
       "<style scoped>\n",
       "    .dataframe tbody tr th:only-of-type {\n",
       "        vertical-align: middle;\n",
       "    }\n",
       "\n",
       "    .dataframe tbody tr th {\n",
       "        vertical-align: top;\n",
       "    }\n",
       "\n",
       "    .dataframe thead th {\n",
       "        text-align: right;\n",
       "    }\n",
       "</style>\n",
       "<table border=\"1\" class=\"dataframe\">\n",
       "  <thead>\n",
       "    <tr style=\"text-align: right;\">\n",
       "      <th></th>\n",
       "      <th>aid</th>\n",
       "      <th>qid</th>\n",
       "      <th>uid</th>\n",
       "      <th>atime</th>\n",
       "      <th>content_sw</th>\n",
       "      <th>content_w</th>\n",
       "      <th>excellent</th>\n",
       "      <th>recommend</th>\n",
       "      <th>round_table</th>\n",
       "      <th>figure</th>\n",
       "      <th>...</th>\n",
       "      <th>num_like</th>\n",
       "      <th>num_unlike</th>\n",
       "      <th>num_comment</th>\n",
       "      <th>num_favor</th>\n",
       "      <th>num_thank</th>\n",
       "      <th>num_report</th>\n",
       "      <th>num_nohelp</th>\n",
       "      <th>num_oppose</th>\n",
       "      <th>aday</th>\n",
       "      <th>ahour</th>\n",
       "    </tr>\n",
       "  </thead>\n",
       "  <tbody>\n",
       "    <tr>\n",
       "      <th>0</th>\n",
       "      <td>2502060945</td>\n",
       "      <td>1867533817</td>\n",
       "      <td>625498202</td>\n",
       "      <td>91399</td>\n",
       "      <td>[13, 19, 44, 150, 23, 594, 1254, 91, 3, 87, 48...</td>\n",
       "      <td>[239, 10528, 142, 20372, 6473, 10, 24, 4527, 2...</td>\n",
       "      <td>0</td>\n",
       "      <td>0</td>\n",
       "      <td>0</td>\n",
       "      <td>0</td>\n",
       "      <td>...</td>\n",
       "      <td>1</td>\n",
       "      <td>0</td>\n",
       "      <td>1</td>\n",
       "      <td>0</td>\n",
       "      <td>1</td>\n",
       "      <td>0</td>\n",
       "      <td>0</td>\n",
       "      <td>0</td>\n",
       "      <td>3808</td>\n",
       "      <td>7</td>\n",
       "    </tr>\n",
       "    <tr>\n",
       "      <th>1</th>\n",
       "      <td>2847829478</td>\n",
       "      <td>3366788616</td>\n",
       "      <td>142330444</td>\n",
       "      <td>91457</td>\n",
       "      <td>[898, 3656, 2, 413, 601, 2, 2541, 681, 2, 4368...</td>\n",
       "      <td>[4628, 66060, 1607, 2647, 53385, 109029, 319, ...</td>\n",
       "      <td>0</td>\n",
       "      <td>0</td>\n",
       "      <td>0</td>\n",
       "      <td>0</td>\n",
       "      <td>...</td>\n",
       "      <td>1</td>\n",
       "      <td>0</td>\n",
       "      <td>0</td>\n",
       "      <td>3</td>\n",
       "      <td>1</td>\n",
       "      <td>0</td>\n",
       "      <td>0</td>\n",
       "      <td>0</td>\n",
       "      <td>3810</td>\n",
       "      <td>17</td>\n",
       "    </tr>\n",
       "  </tbody>\n",
       "</table>\n",
       "<p>2 rows × 22 columns</p>\n",
       "</div>"
      ],
      "text/plain": [
       "          aid         qid        uid  atime  \\\n",
       "0  2502060945  1867533817  625498202  91399   \n",
       "1  2847829478  3366788616  142330444  91457   \n",
       "\n",
       "                                          content_sw  \\\n",
       "0  [13, 19, 44, 150, 23, 594, 1254, 91, 3, 87, 48...   \n",
       "1  [898, 3656, 2, 413, 601, 2, 2541, 681, 2, 4368...   \n",
       "\n",
       "                                           content_w  excellent  recommend  \\\n",
       "0  [239, 10528, 142, 20372, 6473, 10, 24, 4527, 2...          0          0   \n",
       "1  [4628, 66060, 1607, 2647, 53385, 109029, 319, ...          0          0   \n",
       "\n",
       "   round_table  figure  ...  num_like  num_unlike  num_comment  num_favor  \\\n",
       "0            0       0  ...         1           0            1          0   \n",
       "1            0       0  ...         1           0            0          3   \n",
       "\n",
       "   num_thank  num_report  num_nohelp  num_oppose  aday  ahour  \n",
       "0          1           0           0           0  3808      7  \n",
       "1          1           0           0           0  3810     17  \n",
       "\n",
       "[2 rows x 22 columns]"
      ]
     },
     "execution_count": 25,
     "metadata": {},
     "output_type": "execute_result"
    }
   ],
   "source": [
    "answer_info.head(2)"
   ]
  },
  {
   "cell_type": "code",
   "execution_count": 26,
   "metadata": {},
   "outputs": [],
   "source": [
    "answer_info.to_pickle('../pkl/answer_info.pkl')"
   ]
  },
  {
   "cell_type": "code",
   "execution_count": 27,
   "metadata": {},
   "outputs": [],
   "source": [
    "ans = answer_info[['uid', 'atime']]\n",
    "ans.sort_values(by=['uid', 'atime'], inplace=True)"
   ]
  },
  {
   "cell_type": "code",
   "execution_count": 28,
   "metadata": {},
   "outputs": [],
   "source": [
    "ans.to_pickle(os.path.join('../pkl/ans_time.pkl'))"
   ]
  },
  {
   "cell_type": "code",
   "execution_count": 29,
   "metadata": {},
   "outputs": [],
   "source": [
    "answer_info.drop(columns=['content_sw', 'content_w']).to_pickle(os.path.join('../pkl/answer_info_tiny.pkl'))"
   ]
  },
  {
   "cell_type": "code",
   "execution_count": null,
   "metadata": {},
   "outputs": [],
   "source": [
    "del answer_info"
   ]
  },
  {
   "cell_type": "code",
   "execution_count": 3,
   "metadata": {},
   "outputs": [],
   "source": [
    "# invite_info = pd.read_pickle(os.path.join('../pkl', 'invite_info.pkl'))"
   ]
  },
  {
   "cell_type": "code",
   "execution_count": 4,
   "metadata": {},
   "outputs": [
    {
     "data": {
      "text/plain": [
       "(9489162, 6)"
      ]
     },
     "execution_count": 4,
     "metadata": {},
     "output_type": "execute_result"
    }
   ],
   "source": [
    "# invite_info.shape"
   ]
  },
  {
   "cell_type": "code",
   "execution_count": 2,
   "metadata": {},
   "outputs": [
    {
     "data": {
      "text/plain": [
       "(100000, 2)"
      ]
     },
     "execution_count": 2,
     "metadata": {},
     "output_type": "execute_result"
    }
   ],
   "source": [
    "# topic = pd.read_pickle(os.path.join('../pkl', 'topic.pkl'))\n",
    "# topic.shape"
   ]
  },
  {
   "cell_type": "code",
   "execution_count": null,
   "metadata": {},
   "outputs": [],
   "source": []
  }
 ],
 "metadata": {
  "kernelspec": {
   "display_name": "Python [conda env:root] *",
   "language": "python",
   "name": "conda-root-py"
  },
  "language_info": {
   "codemirror_mode": {
    "name": "ipython",
    "version": 3
   },
   "file_extension": ".py",
   "mimetype": "text/x-python",
   "name": "python",
   "nbconvert_exporter": "python",
   "pygments_lexer": "ipython3",
   "version": "3.7.3"
  }
 },
 "nbformat": 4,
 "nbformat_minor": 2
}
