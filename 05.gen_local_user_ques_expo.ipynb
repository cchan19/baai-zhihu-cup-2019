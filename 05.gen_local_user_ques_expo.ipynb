{
 "cells": [
  {
   "cell_type": "code",
   "execution_count": 1,
   "metadata": {},
   "outputs": [],
   "source": [
    "import pandas as pd\n",
    "import numpy as np\n",
    "import pickle\n",
    "import gc\n",
    "import os\n",
    "import time\n",
    "import copy\n",
    "import multiprocessing as mp\n",
    "from sklearn.preprocessing import LabelEncoder\n",
    "from sklearn.model_selection import StratifiedKFold\n",
    "from sklearn.feature_extraction.text import CountVectorizer\n",
    "from tqdm import tqdm\n",
    "from scipy import sparse, spatial\n",
    "import warnings\n",
    "warnings.filterwarnings('ignore')\n",
    "tqdm.pandas()"
   ]
  },
  {
   "cell_type": "code",
   "execution_count": 2,
   "metadata": {},
   "outputs": [
    {
     "name": "stdout",
     "output_type": "stream",
     "text": [
      "gen_local_user_ques_expo...\n"
     ]
    }
   ],
   "source": [
    "tic = time.time()\n",
    "DATA_PATH = '../pkl/'\n",
    "SAVE_PATH = './feats/'\n",
    "if not os.path.exists(SAVE_PATH):\n",
    "    print('create dir: %s' % SAVE_PATH)\n",
    "    os.mkdir(SAVE_PATH)\n",
    "\n",
    "print('gen_local_user_ques_expo...')"
   ]
  },
  {
   "cell_type": "code",
   "execution_count": 3,
   "metadata": {},
   "outputs": [],
   "source": [
    "invite_info = pd.read_pickle(os.path.join(DATA_PATH, 'invite_info.pkl'))\n",
    "invite_info_evaluate = pd.read_pickle(os.path.join(DATA_PATH, 'invite_info_evaluate.pkl'))\n",
    "data = pd.read_pickle(os.path.join(DATA_PATH, 'invite_data.pkl'))"
   ]
  },
  {
   "cell_type": "code",
   "execution_count": 4,
   "metadata": {},
   "outputs": [],
   "source": [
    "oversample = True"
   ]
  },
  {
   "cell_type": "code",
   "execution_count": 5,
   "metadata": {},
   "outputs": [],
   "source": [
    "if oversample:\n",
    "    data_s = pd.concat([invite_info, invite_info_evaluate, invite_info_evaluate])\n",
    "else:\n",
    "    data_s = pd.concat([invite_info, invite_info_evaluate])"
   ]
  },
  {
   "cell_type": "code",
   "execution_count": 6,
   "metadata": {},
   "outputs": [
    {
     "name": "stdout",
     "output_type": "stream",
     "text": [
      "10630845 11772528\n"
     ]
    }
   ],
   "source": [
    "print(len(data), len(data_s))"
   ]
  },
  {
   "cell_type": "code",
   "execution_count": 7,
   "metadata": {},
   "outputs": [
    {
     "name": "stdout",
     "output_type": "stream",
     "text": [
      "10630845\n"
     ]
    }
   ],
   "source": [
    "# 问题曝光\n",
    "tmp = data_s[['qid', 'itime']].groupby(['qid', 'itime']).size().reset_index()\n",
    "tmp.columns = ['qid', 'itime', 'expo']\n",
    "tmp = tmp.sort_values(by=['qid','itime'])\n",
    "tmp['question_history_expo'] = tmp.groupby('qid')['expo'].cumsum() - tmp['expo']\n",
    "tmp = tmp.sort_values(by=['qid','itime'], ascending=False)\n",
    "tmp['question_future_expo'] = tmp.groupby('qid')['expo'].cumsum() - tmp['expo']\n",
    "tmp['question_time'] = tmp['qid'].astype(str) + '_' + tmp['itime'].astype(str)\n",
    "tmp.rename(columns={'expo': 'question_curr_expo'}, inplace=True)\n",
    "data['question_time'] = data['qid'].astype(str) + '_' + data['itime'].astype(str)\n",
    "data = data.merge(tmp[['question_time', 'question_curr_expo', 'question_history_expo', 'question_future_expo']], 'left', 'question_time')\n",
    "print(len(data))    "
   ]
  },
  {
   "cell_type": "code",
   "execution_count": 8,
   "metadata": {},
   "outputs": [
    {
     "name": "stdout",
     "output_type": "stream",
     "text": [
      "10630845\n"
     ]
    }
   ],
   "source": [
    "# 用户曝光\n",
    "tmp = data_s[['uid', 'itime']].groupby(['uid', 'itime']).size().reset_index()\n",
    "tmp.columns = ['uid', 'itime', 'expo']\n",
    "tmp = tmp.sort_values(by=['uid','itime'])\n",
    "tmp['user_history_expo'] = tmp.groupby('uid')['expo'].cumsum() - tmp['expo']\n",
    "tmp = tmp.sort_values(by=['uid','itime'], ascending=False)\n",
    "tmp['user_future_expo'] = tmp.groupby('uid')['expo'].cumsum() - tmp['expo']\n",
    "tmp.rename(columns={'expo': 'user_curr_expo'}, inplace=True)\n",
    "tmp['user_time'] = tmp['uid'].astype(str) + '_' + tmp['itime'].astype(str)\n",
    "data['user_time'] = data['uid'].astype(str) + '_' + data['itime'].astype(str)\n",
    "data = data.merge(tmp[['user_time', 'user_curr_expo', 'user_history_expo', 'user_future_expo']], 'left', 'user_time')\n",
    "print(len(data))"
   ]
  },
  {
   "cell_type": "code",
   "execution_count": 9,
   "metadata": {},
   "outputs": [],
   "source": [
    "data[['question_curr_expo', 'question_history_expo', 'question_future_expo', \n",
    "      'user_curr_expo', 'user_history_expo', 'user_future_expo']].to_pickle(os.path.join(SAVE_PATH, 'local_user_ques_expo.pkl'))"
   ]
  },
  {
   "cell_type": "code",
   "execution_count": 10,
   "metadata": {},
   "outputs": [
    {
     "name": "stdout",
     "output_type": "stream",
     "text": [
      "Used time: 119\n"
     ]
    }
   ],
   "source": [
    "toc = time.time()\n",
    "print('Used time: %d' % int(toc-tic))"
   ]
  },
  {
   "cell_type": "code",
   "execution_count": 11,
   "metadata": {},
   "outputs": [
    {
     "data": {
      "text/html": [
       "<div>\n",
       "<style scoped>\n",
       "    .dataframe tbody tr th:only-of-type {\n",
       "        vertical-align: middle;\n",
       "    }\n",
       "\n",
       "    .dataframe tbody tr th {\n",
       "        vertical-align: top;\n",
       "    }\n",
       "\n",
       "    .dataframe thead th {\n",
       "        text-align: right;\n",
       "    }\n",
       "</style>\n",
       "<table border=\"1\" class=\"dataframe\">\n",
       "  <thead>\n",
       "    <tr style=\"text-align: right;\">\n",
       "      <th></th>\n",
       "      <th>iday</th>\n",
       "      <th>ihour</th>\n",
       "      <th>itime</th>\n",
       "      <th>label</th>\n",
       "      <th>qid</th>\n",
       "      <th>uid</th>\n",
       "      <th>question_time</th>\n",
       "      <th>question_curr_expo</th>\n",
       "      <th>question_history_expo</th>\n",
       "      <th>question_future_expo</th>\n",
       "      <th>user_time</th>\n",
       "      <th>user_curr_expo</th>\n",
       "      <th>user_history_expo</th>\n",
       "      <th>user_future_expo</th>\n",
       "    </tr>\n",
       "  </thead>\n",
       "  <tbody>\n",
       "    <tr>\n",
       "      <th>0</th>\n",
       "      <td>3865</td>\n",
       "      <td>22</td>\n",
       "      <td>92782</td>\n",
       "      <td>0.0</td>\n",
       "      <td>2166419046</td>\n",
       "      <td>401693808</td>\n",
       "      <td>2166419046_92782</td>\n",
       "      <td>14</td>\n",
       "      <td>28</td>\n",
       "      <td>1</td>\n",
       "      <td>401693808_92782</td>\n",
       "      <td>1</td>\n",
       "      <td>2</td>\n",
       "      <td>3</td>\n",
       "    </tr>\n",
       "    <tr>\n",
       "      <th>1</th>\n",
       "      <td>3844</td>\n",
       "      <td>11</td>\n",
       "      <td>92267</td>\n",
       "      <td>0.0</td>\n",
       "      <td>1550017551</td>\n",
       "      <td>3392373099</td>\n",
       "      <td>1550017551_92267</td>\n",
       "      <td>1</td>\n",
       "      <td>4</td>\n",
       "      <td>10</td>\n",
       "      <td>3392373099_92267</td>\n",
       "      <td>2</td>\n",
       "      <td>2</td>\n",
       "      <td>4</td>\n",
       "    </tr>\n",
       "    <tr>\n",
       "      <th>2</th>\n",
       "      <td>3862</td>\n",
       "      <td>15</td>\n",
       "      <td>92703</td>\n",
       "      <td>0.0</td>\n",
       "      <td>604029601</td>\n",
       "      <td>2317670257</td>\n",
       "      <td>604029601_92703</td>\n",
       "      <td>1</td>\n",
       "      <td>2</td>\n",
       "      <td>3</td>\n",
       "      <td>2317670257_92703</td>\n",
       "      <td>1</td>\n",
       "      <td>11</td>\n",
       "      <td>3</td>\n",
       "    </tr>\n",
       "    <tr>\n",
       "      <th>3</th>\n",
       "      <td>3849</td>\n",
       "      <td>11</td>\n",
       "      <td>92387</td>\n",
       "      <td>0.0</td>\n",
       "      <td>2350061229</td>\n",
       "      <td>1618461867</td>\n",
       "      <td>2350061229_92387</td>\n",
       "      <td>2</td>\n",
       "      <td>5</td>\n",
       "      <td>1</td>\n",
       "      <td>1618461867_92387</td>\n",
       "      <td>1</td>\n",
       "      <td>1</td>\n",
       "      <td>5</td>\n",
       "    </tr>\n",
       "    <tr>\n",
       "      <th>4</th>\n",
       "      <td>3867</td>\n",
       "      <td>4</td>\n",
       "      <td>92812</td>\n",
       "      <td>0.0</td>\n",
       "      <td>2443223942</td>\n",
       "      <td>3544409350</td>\n",
       "      <td>2443223942_92812</td>\n",
       "      <td>1</td>\n",
       "      <td>236</td>\n",
       "      <td>119</td>\n",
       "      <td>3544409350_92812</td>\n",
       "      <td>2</td>\n",
       "      <td>7</td>\n",
       "      <td>2</td>\n",
       "    </tr>\n",
       "  </tbody>\n",
       "</table>\n",
       "</div>"
      ],
      "text/plain": [
       "   iday  ihour  itime  label         qid         uid     question_time  \\\n",
       "0  3865     22  92782    0.0  2166419046   401693808  2166419046_92782   \n",
       "1  3844     11  92267    0.0  1550017551  3392373099  1550017551_92267   \n",
       "2  3862     15  92703    0.0   604029601  2317670257   604029601_92703   \n",
       "3  3849     11  92387    0.0  2350061229  1618461867  2350061229_92387   \n",
       "4  3867      4  92812    0.0  2443223942  3544409350  2443223942_92812   \n",
       "\n",
       "   question_curr_expo  question_history_expo  question_future_expo  \\\n",
       "0                  14                     28                     1   \n",
       "1                   1                      4                    10   \n",
       "2                   1                      2                     3   \n",
       "3                   2                      5                     1   \n",
       "4                   1                    236                   119   \n",
       "\n",
       "          user_time  user_curr_expo  user_history_expo  user_future_expo  \n",
       "0   401693808_92782               1                  2                 3  \n",
       "1  3392373099_92267               2                  2                 4  \n",
       "2  2317670257_92703               1                 11                 3  \n",
       "3  1618461867_92387               1                  1                 5  \n",
       "4  3544409350_92812               2                  7                 2  "
      ]
     },
     "execution_count": 11,
     "metadata": {},
     "output_type": "execute_result"
    }
   ],
   "source": [
    "data.head()"
   ]
  },
  {
   "cell_type": "code",
   "execution_count": 12,
   "metadata": {},
   "outputs": [],
   "source": [
    "import seaborn as sns"
   ]
  },
  {
   "cell_type": "code",
   "execution_count": 13,
   "metadata": {},
   "outputs": [
    {
     "data": {
      "text/plain": [
       "<matplotlib.axes._subplots.AxesSubplot at 0x7f5b0ea590f0>"
      ]
     },
     "execution_count": 13,
     "metadata": {},
     "output_type": "execute_result"
    },
    {
     "data": {
      "image/png": "[encoded data removed]",
      "text/plain": [
       "<Figure size 432x288 with 1 Axes>"
      ]
     },
     "metadata": {
      "needs_background": "light"
     },
     "output_type": "display_data"
    }
   ],
   "source": [
    "sns.distplot(data[data['label'] == 0]['question_curr_expo'])\n",
    "sns.distplot(data[data['label'] == 1]['question_curr_expo'])"
   ]
  },
  {
   "cell_type": "code",
   "execution_count": 14,
   "metadata": {},
   "outputs": [
    {
     "data": {
      "text/plain": [
       "<matplotlib.axes._subplots.AxesSubplot at 0x7f5b052a9dd8>"
      ]
     },
     "execution_count": 14,
     "metadata": {},
     "output_type": "execute_result"
    },
    {
     "data": {
      "image/png": "[encoded data removed]",
      "text/plain": [
       "<Figure size 432x288 with 1 Axes>"
      ]
     },
     "metadata": {
      "needs_background": "light"
     },
     "output_type": "display_data"
    }
   ],
   "source": [
    "sns.distplot(data[data['label'] == 0]['user_curr_expo'])\n",
    "sns.distplot(data[data['label'] == 1]['user_curr_expo'])"
   ]
  },
  {
   "cell_type": "code",
   "execution_count": 15,
   "metadata": {},
   "outputs": [
    {
     "data": {
      "text/plain": [
       "9489162"
      ]
     },
     "execution_count": 15,
     "metadata": {},
     "output_type": "execute_result"
    }
   ],
   "source": [
    "len(invite_info)"
   ]
  },
  {
   "cell_type": "code",
   "execution_count": 16,
   "metadata": {},
   "outputs": [
    {
     "data": {
      "text/plain": [
       "<matplotlib.axes._subplots.AxesSubplot at 0x7f5b051144e0>"
      ]
     },
     "execution_count": 16,
     "metadata": {},
     "output_type": "execute_result"
    },
    {
     "data": {
      "image/png": "[encoded data removed]",
      "text/plain": [
       "<Figure size 432x288 with 1 Axes>"
      ]
     },
     "metadata": {
      "needs_background": "light"
     },
     "output_type": "display_data"
    }
   ],
   "source": [
    "sns.distplot(data[:9489162]['question_curr_expo'])\n",
    "sns.distplot(data[9489162:]['question_curr_expo'])"
   ]
  },
  {
   "cell_type": "code",
   "execution_count": 17,
   "metadata": {},
   "outputs": [
    {
     "data": {
      "text/plain": [
       "<matplotlib.axes._subplots.AxesSubplot at 0x7f5b04ffee48>"
      ]
     },
     "execution_count": 17,
     "metadata": {},
     "output_type": "execute_result"
    },
    {
     "data": {
      "image/png": "[encoded data removed]",
      "text/plain": [
       "<Figure size 432x288 with 1 Axes>"
      ]
     },
     "metadata": {
      "needs_background": "light"
     },
     "output_type": "display_data"
    }
   ],
   "source": [
    "sns.distplot(data[:9489162]['user_curr_expo'])\n",
    "sns.distplot(data[9489162:]['user_curr_expo'])"
   ]
  },
  {
   "cell_type": "code",
   "execution_count": null,
   "metadata": {},
   "outputs": [],
   "source": []
  }
 ],
 "metadata": {
  "kernelspec": {
   "display_name": "Python [conda env:root]",
   "language": "python",
   "name": "conda-root-py"
  },
  "language_info": {
   "codemirror_mode": {
    "name": "ipython",
    "version": 3
   },
   "file_extension": ".py",
   "mimetype": "text/x-python",
   "name": "python",
   "nbconvert_exporter": "python",
   "pygments_lexer": "ipython3",
   "version": "3.7.3"
  }
 },
 "nbformat": 4,
 "nbformat_minor": 2
}
