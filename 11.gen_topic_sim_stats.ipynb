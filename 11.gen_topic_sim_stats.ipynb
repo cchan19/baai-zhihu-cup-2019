{
 "cells": [
  {
   "cell_type": "code",
   "execution_count": 1,
   "metadata": {},
   "outputs": [
    {
     "name": "stderr",
     "output_type": "stream",
     "text": [
      "/root/anaconda3/lib/python3.7/site-packages/sklearn/feature_extraction/text.py:17: DeprecationWarning: Using or importing the ABCs from 'collections' instead of from 'collections.abc' is deprecated, and in 3.8 it will stop working\n",
      "  from collections import Mapping, defaultdict\n"
     ]
    }
   ],
   "source": [
    "import pandas as pd\n",
    "import numpy as np\n",
    "import pickle\n",
    "import gc\n",
    "import os\n",
    "import time\n",
    "import copy\n",
    "import multiprocessing as mp\n",
    "from sklearn.preprocessing import LabelEncoder\n",
    "from sklearn.model_selection import StratifiedKFold\n",
    "from sklearn.feature_extraction.text import CountVectorizer\n",
    "from tqdm import tqdm\n",
    "from scipy import sparse, spatial\n",
    "import warnings\n",
    "warnings.filterwarnings('ignore')\n",
    "tqdm.pandas()"
   ]
  },
  {
   "cell_type": "code",
   "execution_count": 2,
   "metadata": {},
   "outputs": [
    {
     "name": "stdout",
     "output_type": "stream",
     "text": [
      "gen_topic_sim_stats...\n"
     ]
    }
   ],
   "source": [
    "tic = time.time()\n",
    "DATA_PATH = '../pkl/'\n",
    "SAVE_PATH = './feats/'\n",
    "if not os.path.exists(SAVE_PATH):\n",
    "    print('create dir: %s' % SAVE_PATH)\n",
    "    os.mkdir(SAVE_PATH)\n",
    "\n",
    "print('gen_topic_sim_stats...')"
   ]
  },
  {
   "cell_type": "code",
   "execution_count": 3,
   "metadata": {},
   "outputs": [],
   "source": [
    "data = pd.read_pickle(os.path.join(DATA_PATH, 'invite_data.pkl'))\n",
    "user_info = pd.read_pickle(os.path.join(DATA_PATH, 'user_info.pkl'))\n",
    "question_info = pd.read_pickle(os.path.join(DATA_PATH, 'question_info.pkl'))"
   ]
  },
  {
   "cell_type": "code",
   "execution_count": 4,
   "metadata": {},
   "outputs": [],
   "source": [
    "invite_id = data[['uid', 'qid']]\n",
    "invite_id_qm = invite_id.merge(user_info[['uid', 'topic_a', 'topic_ik']], 'left', 'uid').merge(question_info[['qid', 'topic']], 'left', 'qid')"
   ]
  },
  {
   "cell_type": "code",
   "execution_count": 5,
   "metadata": {},
   "outputs": [
    {
     "data": {
      "text/html": [
       "<div>\n",
       "<style scoped>\n",
       "    .dataframe tbody tr th:only-of-type {\n",
       "        vertical-align: middle;\n",
       "    }\n",
       "\n",
       "    .dataframe tbody tr th {\n",
       "        vertical-align: top;\n",
       "    }\n",
       "\n",
       "    .dataframe thead th {\n",
       "        text-align: right;\n",
       "    }\n",
       "</style>\n",
       "<table border=\"1\" class=\"dataframe\">\n",
       "  <thead>\n",
       "    <tr style=\"text-align: right;\">\n",
       "      <th></th>\n",
       "      <th>uid</th>\n",
       "      <th>qid</th>\n",
       "      <th>topic_a</th>\n",
       "      <th>topic_ik</th>\n",
       "      <th>topic</th>\n",
       "    </tr>\n",
       "  </thead>\n",
       "  <tbody>\n",
       "    <tr>\n",
       "      <th>0</th>\n",
       "      <td>401693808</td>\n",
       "      <td>2166419046</td>\n",
       "      <td>[1727, 5310, 3402, 916, 1506, 26329, 7293, 180...</td>\n",
       "      <td>[2794, 9701, 9533, 2396, 11120, 3197, 1734, 30...</td>\n",
       "      <td>[456, 112, 9566, 5310]</td>\n",
       "    </tr>\n",
       "    <tr>\n",
       "      <th>1</th>\n",
       "      <td>3392373099</td>\n",
       "      <td>1550017551</td>\n",
       "      <td>[42595, 3, 8520, 597, 6485, 6212, 25664, 148, ...</td>\n",
       "      <td>[1470, 235, 4692, 2294, 346, 8082, 1219, 2959,...</td>\n",
       "      <td>[2, 3095]</td>\n",
       "    </tr>\n",
       "    <tr>\n",
       "      <th>2</th>\n",
       "      <td>2317670257</td>\n",
       "      <td>604029601</td>\n",
       "      <td>[610, 448, 61, 2801, 9019, 65, 233, 190, 55, 5...</td>\n",
       "      <td>[13383, 1955, 8943, 5797, 4538, 4192, 7701, 11...</td>\n",
       "      <td>[6090, 2156, 97, 456]</td>\n",
       "    </tr>\n",
       "    <tr>\n",
       "      <th>3</th>\n",
       "      <td>1618461867</td>\n",
       "      <td>2350061229</td>\n",
       "      <td>[5, 33331, 2274, 31, 245, 516, 309, 1326, 119,...</td>\n",
       "      <td>[671, 3772, 974, 1074, 1918, 124, 1773, 1096, ...</td>\n",
       "      <td>[856]</td>\n",
       "    </tr>\n",
       "    <tr>\n",
       "      <th>4</th>\n",
       "      <td>3544409350</td>\n",
       "      <td>2443223942</td>\n",
       "      <td>[0]</td>\n",
       "      <td>[4876, 2467, 245, 68, 556, 42, 8, 825, 227, 637]</td>\n",
       "      <td>[26, 76, 17]</td>\n",
       "    </tr>\n",
       "  </tbody>\n",
       "</table>\n",
       "</div>"
      ],
      "text/plain": [
       "          uid         qid                                            topic_a  \\\n",
       "0   401693808  2166419046  [1727, 5310, 3402, 916, 1506, 26329, 7293, 180...   \n",
       "1  3392373099  1550017551  [42595, 3, 8520, 597, 6485, 6212, 25664, 148, ...   \n",
       "2  2317670257   604029601  [610, 448, 61, 2801, 9019, 65, 233, 190, 55, 5...   \n",
       "3  1618461867  2350061229  [5, 33331, 2274, 31, 245, 516, 309, 1326, 119,...   \n",
       "4  3544409350  2443223942                                                [0]   \n",
       "\n",
       "                                            topic_ik                   topic  \n",
       "0  [2794, 9701, 9533, 2396, 11120, 3197, 1734, 30...  [456, 112, 9566, 5310]  \n",
       "1  [1470, 235, 4692, 2294, 346, 8082, 1219, 2959,...               [2, 3095]  \n",
       "2  [13383, 1955, 8943, 5797, 4538, 4192, 7701, 11...   [6090, 2156, 97, 456]  \n",
       "3  [671, 3772, 974, 1074, 1918, 124, 1773, 1096, ...                   [856]  \n",
       "4   [4876, 2467, 245, 68, 556, 42, 8, 825, 227, 637]            [26, 76, 17]  "
      ]
     },
     "execution_count": 5,
     "metadata": {},
     "output_type": "execute_result"
    }
   ],
   "source": [
    "invite_id_qm.head()"
   ]
  },
  {
   "cell_type": "code",
   "execution_count": 6,
   "metadata": {},
   "outputs": [],
   "source": [
    "topic_comb_sim_mat = np.load('../pkl/topic_comb_sim_mat.npy')"
   ]
  },
  {
   "cell_type": "code",
   "execution_count": 7,
   "metadata": {},
   "outputs": [],
   "source": [
    "def get_topic_sim(i, j):\n",
    "    if i == 0 or j == 0:\n",
    "        return 0\n",
    "    if i == j:\n",
    "        return 1\n",
    "    if i > j:\n",
    "        return topic_comb_sim_mat[j-1][i-1]\n",
    "    else:\n",
    "        return topic_comb_sim_mat[i-1][j-1]"
   ]
  },
  {
   "cell_type": "code",
   "execution_count": 8,
   "metadata": {},
   "outputs": [],
   "source": [
    "## 用户问题topic相似度统计"
   ]
  },
  {
   "cell_type": "code",
   "execution_count": 9,
   "metadata": {},
   "outputs": [],
   "source": [
    "def process(df):\n",
    "    topic_qu_sims_st = np.zeros((len(df), 8))\n",
    "    for i, (tas, tis, ts) in enumerate(tqdm(df[['topic_a', 'topic_ik', 'topic']].values)):\n",
    "        ass = []\n",
    "        iss = []\n",
    "        for t in ts:\n",
    "            for ta in tas:\n",
    "                ass.append(get_topic_sim(t, ta))\n",
    "            for ti in tis:\n",
    "                iss.append(get_topic_sim(t, ti))\n",
    "        ass = ([0] if len(ass) == 0 else ass)\n",
    "        iss = ([0] if len(iss) == 0 else iss)\n",
    "        topic_qu_sims_st[i] = np.array([np.min(ass), np.max(ass), np.mean(ass), np.std(ass),\n",
    "                                        np.min(iss), np.max(iss), np.mean(iss), np.std(iss)])\n",
    "    return topic_qu_sims_st"
   ]
  },
  {
   "cell_type": "code",
   "execution_count": 11,
   "metadata": {},
   "outputs": [],
   "source": [
    "with mp.Pool(8) as pool:\n",
    "    ret = pool.map(process, np.array_split(invite_id_qm, 8))\n",
    "ret = np.vstack(ret)"
   ]
  },
  {
   "cell_type": "code",
   "execution_count": 11,
   "metadata": {},
   "outputs": [
    {
     "name": "stdout",
     "output_type": "stream",
     "text": [
      "(10630845, 8)\n"
     ]
    }
   ],
   "source": [
    "cols = ['topic_%s_sims_%s' % (t, st) for t in ['a', 'i'] for st in ['min', 'max', 'mean', 'std']]\n",
    "topic_qu_sims_stat = pd.DataFrame(ret, columns=cols)\n",
    "print(topic_qu_sims_stat.shape)"
   ]
  },
  {
   "cell_type": "code",
   "execution_count": 12,
   "metadata": {},
   "outputs": [
    {
     "data": {
      "text/html": [
       "<div>\n",
       "<style scoped>\n",
       "    .dataframe tbody tr th:only-of-type {\n",
       "        vertical-align: middle;\n",
       "    }\n",
       "\n",
       "    .dataframe tbody tr th {\n",
       "        vertical-align: top;\n",
       "    }\n",
       "\n",
       "    .dataframe thead th {\n",
       "        text-align: right;\n",
       "    }\n",
       "</style>\n",
       "<table border=\"1\" class=\"dataframe\">\n",
       "  <thead>\n",
       "    <tr style=\"text-align: right;\">\n",
       "      <th></th>\n",
       "      <th>topic_a_sims_min</th>\n",
       "      <th>topic_a_sims_max</th>\n",
       "      <th>topic_a_sims_mean</th>\n",
       "      <th>topic_a_sims_std</th>\n",
       "      <th>topic_i_sims_min</th>\n",
       "      <th>topic_i_sims_max</th>\n",
       "      <th>topic_i_sims_mean</th>\n",
       "      <th>topic_i_sims_std</th>\n",
       "    </tr>\n",
       "  </thead>\n",
       "  <tbody>\n",
       "    <tr>\n",
       "      <th>0</th>\n",
       "      <td>-0.363709</td>\n",
       "      <td>1.000000</td>\n",
       "      <td>0.059340</td>\n",
       "      <td>0.216908</td>\n",
       "      <td>-0.170191</td>\n",
       "      <td>0.352119</td>\n",
       "      <td>0.008833</td>\n",
       "      <td>0.097024</td>\n",
       "    </tr>\n",
       "    <tr>\n",
       "      <th>1</th>\n",
       "      <td>-0.339155</td>\n",
       "      <td>0.466608</td>\n",
       "      <td>0.022478</td>\n",
       "      <td>0.186707</td>\n",
       "      <td>-0.268557</td>\n",
       "      <td>0.318178</td>\n",
       "      <td>0.071149</td>\n",
       "      <td>0.153256</td>\n",
       "    </tr>\n",
       "  </tbody>\n",
       "</table>\n",
       "</div>"
      ],
      "text/plain": [
       "   topic_a_sims_min  topic_a_sims_max  topic_a_sims_mean  topic_a_sims_std  \\\n",
       "0         -0.363709          1.000000           0.059340          0.216908   \n",
       "1         -0.339155          0.466608           0.022478          0.186707   \n",
       "\n",
       "   topic_i_sims_min  topic_i_sims_max  topic_i_sims_mean  topic_i_sims_std  \n",
       "0         -0.170191          0.352119           0.008833          0.097024  \n",
       "1         -0.268557          0.318178           0.071149          0.153256  "
      ]
     },
     "execution_count": 12,
     "metadata": {},
     "output_type": "execute_result"
    }
   ],
   "source": [
    "topic_qu_sims_stat.to_pickle(os.path.join(SAVE_PATH, 'topic_qu_sims_stat.pkl'))\n",
    "topic_qu_sims_stat.head(2)"
   ]
  },
  {
   "cell_type": "code",
   "execution_count": 13,
   "metadata": {},
   "outputs": [],
   "source": [
    "## 用户历史回答问题和当前问题 topic 相似度统计"
   ]
  },
  {
   "cell_type": "code",
   "execution_count": 14,
   "metadata": {},
   "outputs": [],
   "source": [
    "prev_ans_ques = pd.read_pickle(os.path.join(DATA_PATH, 'prev_ans_ques.pkl'))[['prev_ans_ques']]"
   ]
  },
  {
   "cell_type": "code",
   "execution_count": 15,
   "metadata": {},
   "outputs": [
    {
     "data": {
      "text/html": [
       "<div>\n",
       "<style scoped>\n",
       "    .dataframe tbody tr th:only-of-type {\n",
       "        vertical-align: middle;\n",
       "    }\n",
       "\n",
       "    .dataframe tbody tr th {\n",
       "        vertical-align: top;\n",
       "    }\n",
       "\n",
       "    .dataframe thead th {\n",
       "        text-align: right;\n",
       "    }\n",
       "</style>\n",
       "<table border=\"1\" class=\"dataframe\">\n",
       "  <thead>\n",
       "    <tr style=\"text-align: right;\">\n",
       "      <th></th>\n",
       "      <th>qtime</th>\n",
       "      <th>title_sw</th>\n",
       "      <th>title_w</th>\n",
       "      <th>desc_sw</th>\n",
       "      <th>desc_w</th>\n",
       "      <th>topic</th>\n",
       "      <th>qday</th>\n",
       "      <th>qhour</th>\n",
       "    </tr>\n",
       "    <tr>\n",
       "      <th>qid</th>\n",
       "      <th></th>\n",
       "      <th></th>\n",
       "      <th></th>\n",
       "      <th></th>\n",
       "      <th></th>\n",
       "      <th></th>\n",
       "      <th></th>\n",
       "      <th></th>\n",
       "    </tr>\n",
       "  </thead>\n",
       "  <tbody>\n",
       "    <tr>\n",
       "      <th>2234111670</th>\n",
       "      <td>24437</td>\n",
       "      <td>[211, 204, 1715, 69, 2033, 138, 57, 138, 8, 28...</td>\n",
       "      <td>[22414, 963, 10458]</td>\n",
       "      <td>[0]</td>\n",
       "      <td>[0]</td>\n",
       "      <td>[321, 730, 5784, 4389]</td>\n",
       "      <td>1018</td>\n",
       "      <td>5</td>\n",
       "    </tr>\n",
       "    <tr>\n",
       "      <th>760329790</th>\n",
       "      <td>41900</td>\n",
       "      <td>[69, 2033, 138, 2616, 2668, 36, 2594, 1165, 20...</td>\n",
       "      <td>[12677, 16829, 15201, 6419, 101839]</td>\n",
       "      <td>[146, 982, 401, 297, 17, 2616, 2668, 36, 2594,...</td>\n",
       "      <td>[1296, 2118, 12677, 16829, 15201, 6419, 101839...</td>\n",
       "      <td>[278, 12673, 4677]</td>\n",
       "      <td>1745</td>\n",
       "      <td>20</td>\n",
       "    </tr>\n",
       "  </tbody>\n",
       "</table>\n",
       "</div>"
      ],
      "text/plain": [
       "            qtime                                           title_sw  \\\n",
       "qid                                                                    \n",
       "2234111670  24437  [211, 204, 1715, 69, 2033, 138, 57, 138, 8, 28...   \n",
       "760329790   41900  [69, 2033, 138, 2616, 2668, 36, 2594, 1165, 20...   \n",
       "\n",
       "                                        title_w  \\\n",
       "qid                                               \n",
       "2234111670                  [22414, 963, 10458]   \n",
       "760329790   [12677, 16829, 15201, 6419, 101839]   \n",
       "\n",
       "                                                      desc_sw  \\\n",
       "qid                                                             \n",
       "2234111670                                                [0]   \n",
       "760329790   [146, 982, 401, 297, 17, 2616, 2668, 36, 2594,...   \n",
       "\n",
       "                                                       desc_w  \\\n",
       "qid                                                             \n",
       "2234111670                                                [0]   \n",
       "760329790   [1296, 2118, 12677, 16829, 15201, 6419, 101839...   \n",
       "\n",
       "                             topic  qday  qhour  \n",
       "qid                                              \n",
       "2234111670  [321, 730, 5784, 4389]  1018      5  \n",
       "760329790       [278, 12673, 4677]  1745     20  "
      ]
     },
     "execution_count": 15,
     "metadata": {},
     "output_type": "execute_result"
    }
   ],
   "source": [
    "question_info = question_info.set_index('qid')\n",
    "question_info.head(2)"
   ]
  },
  {
   "cell_type": "code",
   "execution_count": 16,
   "metadata": {},
   "outputs": [
    {
     "data": {
      "text/html": [
       "<div>\n",
       "<style scoped>\n",
       "    .dataframe tbody tr th:only-of-type {\n",
       "        vertical-align: middle;\n",
       "    }\n",
       "\n",
       "    .dataframe tbody tr th {\n",
       "        vertical-align: top;\n",
       "    }\n",
       "\n",
       "    .dataframe thead th {\n",
       "        text-align: right;\n",
       "    }\n",
       "</style>\n",
       "<table border=\"1\" class=\"dataframe\">\n",
       "  <thead>\n",
       "    <tr style=\"text-align: right;\">\n",
       "      <th></th>\n",
       "      <th>uid</th>\n",
       "      <th>qid</th>\n",
       "      <th>prev_ans_ques</th>\n",
       "    </tr>\n",
       "  </thead>\n",
       "  <tbody>\n",
       "    <tr>\n",
       "      <th>0</th>\n",
       "      <td>401693808</td>\n",
       "      <td>2166419046</td>\n",
       "      <td>NaN</td>\n",
       "    </tr>\n",
       "    <tr>\n",
       "      <th>1</th>\n",
       "      <td>3392373099</td>\n",
       "      <td>1550017551</td>\n",
       "      <td>NaN</td>\n",
       "    </tr>\n",
       "    <tr>\n",
       "      <th>2</th>\n",
       "      <td>2317670257</td>\n",
       "      <td>604029601</td>\n",
       "      <td>[3034061280, 1309562090]</td>\n",
       "    </tr>\n",
       "  </tbody>\n",
       "</table>\n",
       "</div>"
      ],
      "text/plain": [
       "          uid         qid             prev_ans_ques\n",
       "0   401693808  2166419046                       NaN\n",
       "1  3392373099  1550017551                       NaN\n",
       "2  2317670257   604029601  [3034061280, 1309562090]"
      ]
     },
     "execution_count": 16,
     "metadata": {},
     "output_type": "execute_result"
    }
   ],
   "source": [
    "invite_id = pd.concat([invite_id, prev_ans_ques], axis=1)\n",
    "invite_id.head(3)"
   ]
  },
  {
   "cell_type": "code",
   "execution_count": 17,
   "metadata": {},
   "outputs": [],
   "source": [
    "def process(df):\n",
    "    prev_topic_sims_st = np.zeros((len(df), 4))\n",
    "    for i, (q1, q2s) in enumerate(tqdm(df[['qid', 'prev_ans_ques']].values)):\n",
    "        t1s = question_info.loc[q1, 'topic']\n",
    "        t2s = []\n",
    "        if type(q2s) == list:\n",
    "            for q2 in q2s:\n",
    "                ts = question_info.loc[q2, 'topic']\n",
    "                if type(ts) == list:\n",
    "                    t2s += ts\n",
    "        ss = []\n",
    "        for t1 in t1s:\n",
    "            for t2 in t2s:\n",
    "                ss.append(get_topic_sim(t1, t2)) \n",
    "        ss = ([0] if len(ss) == 0 else ss)\n",
    "        prev_topic_sims_st[i] = np.array([np.min(ss), np.max(ss), np.mean(ss), np.std(ss)])\n",
    "    return prev_topic_sims_st"
   ]
  },
  {
   "cell_type": "code",
   "execution_count": 18,
   "metadata": {},
   "outputs": [
    {
     "name": "stderr",
     "output_type": "stream",
     "text": [
      "100%|██████████| 1328856/1328856 [06:34<00:00, 3369.78it/s]\n",
      "100%|██████████| 1328856/1328856 [06:41<00:00, 3310.56it/s]\n",
      "100%|██████████| 1328856/1328856 [06:33<00:00, 3377.38it/s]\n",
      "100%|██████████| 1328856/1328856 [06:35<00:00, 3356.99it/s]\n",
      "100%|██████████| 1328856/1328856 [06:33<00:00, 3380.47it/s]\n",
      "100%|██████████| 1328855/1328855 [06:37<00:00, 3343.05it/s]\n",
      "100%|██████████| 1328855/1328855 [06:33<00:00, 3378.32it/s]\n",
      "100%|██████████| 1328855/1328855 [07:25<00:00, 2984.24it/s]\n"
     ]
    }
   ],
   "source": [
    "with mp.Pool(8) as pool:\n",
    "    ret = pool.map(process, np.array_split(invite_id, 8))\n",
    "ret = np.vstack(ret)"
   ]
  },
  {
   "cell_type": "code",
   "execution_count": 19,
   "metadata": {},
   "outputs": [
    {
     "name": "stdout",
     "output_type": "stream",
     "text": [
      "(10630845, 4)\n"
     ]
    }
   ],
   "source": [
    "cols = ['prev_topic_sims_%s' % (st) for st in ['min', 'max', 'mean', 'std']]\n",
    "prev_topic_sims_stat = pd.DataFrame(ret, columns=cols)\n",
    "print(prev_topic_sims_stat.shape)"
   ]
  },
  {
   "cell_type": "code",
   "execution_count": 20,
   "metadata": {},
   "outputs": [
    {
     "data": {
      "text/html": [
       "<div>\n",
       "<style scoped>\n",
       "    .dataframe tbody tr th:only-of-type {\n",
       "        vertical-align: middle;\n",
       "    }\n",
       "\n",
       "    .dataframe tbody tr th {\n",
       "        vertical-align: top;\n",
       "    }\n",
       "\n",
       "    .dataframe thead th {\n",
       "        text-align: right;\n",
       "    }\n",
       "</style>\n",
       "<table border=\"1\" class=\"dataframe\">\n",
       "  <thead>\n",
       "    <tr style=\"text-align: right;\">\n",
       "      <th></th>\n",
       "      <th>prev_topic_sims_min</th>\n",
       "      <th>prev_topic_sims_max</th>\n",
       "      <th>prev_topic_sims_mean</th>\n",
       "      <th>prev_topic_sims_std</th>\n",
       "    </tr>\n",
       "  </thead>\n",
       "  <tbody>\n",
       "    <tr>\n",
       "      <th>0</th>\n",
       "      <td>0.000000</td>\n",
       "      <td>0.000000</td>\n",
       "      <td>0.00000</td>\n",
       "      <td>0.000000</td>\n",
       "    </tr>\n",
       "    <tr>\n",
       "      <th>1</th>\n",
       "      <td>0.000000</td>\n",
       "      <td>0.000000</td>\n",
       "      <td>0.00000</td>\n",
       "      <td>0.000000</td>\n",
       "    </tr>\n",
       "    <tr>\n",
       "      <th>2</th>\n",
       "      <td>-0.067982</td>\n",
       "      <td>0.641366</td>\n",
       "      <td>0.20226</td>\n",
       "      <td>0.182464</td>\n",
       "    </tr>\n",
       "    <tr>\n",
       "      <th>3</th>\n",
       "      <td>0.000000</td>\n",
       "      <td>0.000000</td>\n",
       "      <td>0.00000</td>\n",
       "      <td>0.000000</td>\n",
       "    </tr>\n",
       "    <tr>\n",
       "      <th>4</th>\n",
       "      <td>0.000000</td>\n",
       "      <td>0.000000</td>\n",
       "      <td>0.00000</td>\n",
       "      <td>0.000000</td>\n",
       "    </tr>\n",
       "  </tbody>\n",
       "</table>\n",
       "</div>"
      ],
      "text/plain": [
       "   prev_topic_sims_min  prev_topic_sims_max  prev_topic_sims_mean  \\\n",
       "0             0.000000             0.000000               0.00000   \n",
       "1             0.000000             0.000000               0.00000   \n",
       "2            -0.067982             0.641366               0.20226   \n",
       "3             0.000000             0.000000               0.00000   \n",
       "4             0.000000             0.000000               0.00000   \n",
       "\n",
       "   prev_topic_sims_std  \n",
       "0             0.000000  \n",
       "1             0.000000  \n",
       "2             0.182464  \n",
       "3             0.000000  \n",
       "4             0.000000  "
      ]
     },
     "execution_count": 20,
     "metadata": {},
     "output_type": "execute_result"
    }
   ],
   "source": [
    "prev_topic_sims_stat.to_pickle(os.path.join(SAVE_PATH, 'prev_topic_sims_stat.pkl'))\n",
    "prev_topic_sims_stat.head(5)"
   ]
  },
  {
   "cell_type": "code",
   "execution_count": 21,
   "metadata": {},
   "outputs": [
    {
     "name": "stdout",
     "output_type": "stream",
     "text": [
      "Used time: 1547\n"
     ]
    }
   ],
   "source": [
    "toc = time.time()\n",
    "print('Used time: %d' % int(toc-tic))"
   ]
  }
 ],
 "metadata": {
  "kernelspec": {
   "display_name": "Python [conda env:root] *",
   "language": "python",
   "name": "conda-root-py"
  },
  "language_info": {
   "codemirror_mode": {
    "name": "ipython",
    "version": 3
   },
   "file_extension": ".py",
   "mimetype": "text/x-python",
   "name": "python",
   "nbconvert_exporter": "python",
   "pygments_lexer": "ipython3",
   "version": "3.7.3"
  }
 },
 "nbformat": 4,
 "nbformat_minor": 2
}
