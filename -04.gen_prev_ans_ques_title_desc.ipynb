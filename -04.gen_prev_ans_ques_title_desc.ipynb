{
 "cells": [
  {
   "cell_type": "code",
   "execution_count": 1,
   "metadata": {},
   "outputs": [
    {
     "name": "stderr",
     "output_type": "stream",
     "text": [
      "/root/anaconda3/lib/python3.7/site-packages/sklearn/feature_extraction/text.py:17: DeprecationWarning: Using or importing the ABCs from 'collections' instead of from 'collections.abc' is deprecated, and in 3.8 it will stop working\n",
      "  from collections import Mapping, defaultdict\n"
     ]
    }
   ],
   "source": [
    "import warnings\n",
    "warnings.filterwarnings('ignore')\n",
    "import pandas as pd\n",
    "import numpy as np\n",
    "import pickle\n",
    "import gc\n",
    "import os\n",
    "import time\n",
    "import copy\n",
    "import multiprocessing as mp\n",
    "from sklearn.preprocessing import LabelEncoder\n",
    "from sklearn.model_selection import StratifiedKFold\n",
    "from sklearn.feature_extraction.text import CountVectorizer\n",
    "from tqdm import tqdm\n",
    "from scipy import sparse, spatial\n",
    "tqdm.pandas()"
   ]
  },
  {
   "cell_type": "code",
   "execution_count": 2,
   "metadata": {},
   "outputs": [
    {
     "name": "stdout",
     "output_type": "stream",
     "text": [
      "gen_prev_ans_ques_set...\n"
     ]
    }
   ],
   "source": [
    "tic = time.time()\n",
    "DATA_PATH = '../pkl/'\n",
    "SAVE_PATH = './feats/'\n",
    "if not os.path.exists(SAVE_PATH):\n",
    "    print('create dir: %s' % SAVE_PATH)\n",
    "    os.mkdir(SAVE_PATH)\n",
    "\n",
    "print('gen_prev_ans_ques_set...')"
   ]
  },
  {
   "cell_type": "code",
   "execution_count": 3,
   "metadata": {},
   "outputs": [],
   "source": [
    "data = pd.read_pickle(os.path.join(DATA_PATH, 'invite_data.pkl'))\n",
    "prev_ans_ques = pd.read_pickle(os.path.join(DATA_PATH, 'prev_ans_ques.pkl'))\n",
    "question_info = pd.read_pickle(os.path.join(DATA_PATH, 'question_info.pkl'))"
   ]
  },
  {
   "cell_type": "code",
   "execution_count": 4,
   "metadata": {},
   "outputs": [],
   "source": [
    "data = pd.concat([data, prev_ans_ques], axis=1)"
   ]
  },
  {
   "cell_type": "code",
   "execution_count": 5,
   "metadata": {},
   "outputs": [
    {
     "name": "stderr",
     "output_type": "stream",
     "text": [
      "100%|██████████| 10630845/10630845 [00:16<00:00, 642395.54it/s]\n"
     ]
    }
   ],
   "source": [
    "data['prev_ans_ques'] = data['prev_ans_ques'].progress_apply(lambda x: x if type(x) == list else [])"
   ]
  },
  {
   "cell_type": "code",
   "execution_count": 6,
   "metadata": {},
   "outputs": [
    {
     "name": "stderr",
     "output_type": "stream",
     "text": [
      "100%|██████████| 10630845/10630845 [00:14<00:00, 714323.00it/s]\n",
      "100%|██████████| 10630845/10630845 [00:14<00:00, 748181.17it/s]\n",
      "100%|██████████| 10630845/10630845 [00:14<00:00, 757157.60it/s]\n"
     ]
    }
   ],
   "source": [
    "data['ques1'] = data['prev_ans_ques'].progress_apply(lambda x: x[-1] if len(x) >= 1 else np.nan)\n",
    "data['ques2'] = data['prev_ans_ques'].progress_apply(lambda x: x[-2] if len(x) >= 2 else np.nan)\n",
    "data['ques3'] = data['prev_ans_ques'].progress_apply(lambda x: x[-3] if len(x) >= 3 else np.nan)"
   ]
  },
  {
   "cell_type": "code",
   "execution_count": 7,
   "metadata": {},
   "outputs": [],
   "source": [
    "question_info = question_info[['qid', 'title_w', 'desc_w']]\n",
    "data = data.merge(question_info, 'left', 'qid')"
   ]
  },
  {
   "cell_type": "code",
   "execution_count": 8,
   "metadata": {},
   "outputs": [],
   "source": [
    "question_info.columns = ['ques1', 'title_w1', 'desc_w1']\n",
    "data = data.merge(question_info, 'left', 'ques1')"
   ]
  },
  {
   "cell_type": "code",
   "execution_count": 9,
   "metadata": {},
   "outputs": [],
   "source": [
    "question_info.columns = ['ques2', 'title_w2', 'desc_w2']\n",
    "data = data.merge(question_info, 'left', 'ques2')"
   ]
  },
  {
   "cell_type": "code",
   "execution_count": 10,
   "metadata": {},
   "outputs": [],
   "source": [
    "question_info.columns = ['ques3', 'title_w3', 'desc_w3']\n",
    "data = data.merge(question_info, 'left', 'ques3')"
   ]
  },
  {
   "cell_type": "code",
   "execution_count": 11,
   "metadata": {},
   "outputs": [
    {
     "name": "stderr",
     "output_type": "stream",
     "text": [
      "100%|██████████| 10630845/10630845 [00:14<00:00, 733071.71it/s]\n",
      "100%|██████████| 10630845/10630845 [00:14<00:00, 752205.42it/s] \n",
      "100%|██████████| 10630845/10630845 [00:14<00:00, 749245.11it/s]\n",
      "100%|██████████| 10630845/10630845 [00:14<00:00, 723768.89it/s]\n",
      "100%|██████████| 10630845/10630845 [00:15<00:00, 708180.83it/s]\n",
      "100%|██████████| 10630845/10630845 [00:15<00:00, 702616.84it/s]\n"
     ]
    }
   ],
   "source": [
    "for c in ['title_w1', 'desc_w1', 'title_w2', 'desc_w2', 'title_w3', 'desc_w3']:\n",
    "    data[c] = data[c].progress_apply(lambda x: [] if type(x) == float else x)"
   ]
  },
  {
   "cell_type": "code",
   "execution_count": 12,
   "metadata": {},
   "outputs": [
    {
     "name": "stderr",
     "output_type": "stream",
     "text": [
      "100%|██████████| 10630845/10630845 [00:11<00:00, 912519.40it/s] \n",
      "100%|██████████| 10630845/10630845 [00:11<00:00, 931491.11it/s] \n",
      "100%|██████████| 10630845/10630845 [00:11<00:00, 957672.31it/s] \n"
     ]
    }
   ],
   "source": [
    "for c in ['desc_w1', 'desc_w2', 'desc_w3']:\n",
    "    data['len_' + c] = data[c].progress_apply(len)"
   ]
  },
  {
   "cell_type": "code",
   "execution_count": 13,
   "metadata": {},
   "outputs": [],
   "source": [
    "data['len_desc_q'] = data['len_desc_w1'] + data['len_desc_w2'] + data['len_desc_w3']\n",
    "data['len_q'] = data['prev_ans_ques'].apply(len)"
   ]
  },
  {
   "cell_type": "code",
   "execution_count": 14,
   "metadata": {},
   "outputs": [
    {
     "data": {
      "text/plain": [
       "220814"
      ]
     },
     "execution_count": 14,
     "metadata": {},
     "output_type": "execute_result"
    }
   ],
   "source": [
    "(data['len_desc_q'] > 256).sum()"
   ]
  },
  {
   "cell_type": "code",
   "execution_count": 15,
   "metadata": {},
   "outputs": [],
   "source": [
    "data['title_q'] = data['title_w']\n",
    "data['desc_q'] = data['desc_w']"
   ]
  },
  {
   "cell_type": "code",
   "execution_count": 16,
   "metadata": {},
   "outputs": [
    {
     "name": "stdout",
     "output_type": "stream",
     "text": [
      "64\n"
     ]
    }
   ],
   "source": [
    "data['title_u'] = data['title_w1'] + data['title_w2'] + data['title_w3']\n",
    "print(data['title_u'].apply(len).max())"
   ]
  },
  {
   "cell_type": "code",
   "execution_count": 17,
   "metadata": {},
   "outputs": [
    {
     "name": "stderr",
     "output_type": "stream",
     "text": [
      "100%|██████████| 10630845/10630845 [10:04<00:00, 17579.57it/s]\n"
     ]
    }
   ],
   "source": [
    "def func(row):\n",
    "    if row['len_desc_q'] > 256:\n",
    "        return row['desc_w1'][:85] + row['desc_w2'][:85] + row['desc_w3'][:85]\n",
    "    else:\n",
    "        return row['desc_w1'] + row['desc_w2'] + row['desc_w3']\n",
    "\n",
    "data['desc_u'] = data.progress_apply(func, axis=1)"
   ]
  },
  {
   "cell_type": "code",
   "execution_count": 18,
   "metadata": {},
   "outputs": [
    {
     "name": "stdout",
     "output_type": "stream",
     "text": [
      "256\n"
     ]
    }
   ],
   "source": [
    "print(data['desc_u'].apply(len).max())"
   ]
  },
  {
   "cell_type": "code",
   "execution_count": 19,
   "metadata": {
    "scrolled": true
   },
   "outputs": [
    {
     "name": "stderr",
     "output_type": "stream",
     "text": [
      "100%|██████████| 10630845/10630845 [00:11<00:00, 925010.97it/s] \n",
      "100%|██████████| 10630845/10630845 [00:11<00:00, 895348.86it/s] \n",
      "100%|██████████| 10630845/10630845 [00:10<00:00, 976336.15it/s] \n",
      "100%|██████████| 10630845/10630845 [00:26<00:00, 407844.26it/s] \n"
     ]
    }
   ],
   "source": [
    "for c in ['title_q', 'desc_q', 'title_u', 'desc_u']:\n",
    "    data[c] = data[c].progress_apply(lambda x: [0] if len(x) == 0 else x)"
   ]
  },
  {
   "cell_type": "code",
   "execution_count": 20,
   "metadata": {},
   "outputs": [
    {
     "data": {
      "text/html": [
       "<div>\n",
       "<style scoped>\n",
       "    .dataframe tbody tr th:only-of-type {\n",
       "        vertical-align: middle;\n",
       "    }\n",
       "\n",
       "    .dataframe tbody tr th {\n",
       "        vertical-align: top;\n",
       "    }\n",
       "\n",
       "    .dataframe thead th {\n",
       "        text-align: right;\n",
       "    }\n",
       "</style>\n",
       "<table border=\"1\" class=\"dataframe\">\n",
       "  <thead>\n",
       "    <tr style=\"text-align: right;\">\n",
       "      <th></th>\n",
       "      <th>iday</th>\n",
       "      <th>ihour</th>\n",
       "      <th>itime</th>\n",
       "      <th>label</th>\n",
       "      <th>qid</th>\n",
       "      <th>uid</th>\n",
       "      <th>prev_ans_ques</th>\n",
       "      <th>ques1</th>\n",
       "      <th>ques2</th>\n",
       "      <th>ques3</th>\n",
       "      <th>...</th>\n",
       "      <th>desc_w3</th>\n",
       "      <th>len_desc_w1</th>\n",
       "      <th>len_desc_w2</th>\n",
       "      <th>len_desc_w3</th>\n",
       "      <th>len_desc_q</th>\n",
       "      <th>len_q</th>\n",
       "      <th>title_q</th>\n",
       "      <th>desc_q</th>\n",
       "      <th>title_u</th>\n",
       "      <th>desc_u</th>\n",
       "    </tr>\n",
       "  </thead>\n",
       "  <tbody>\n",
       "    <tr>\n",
       "      <th>0</th>\n",
       "      <td>3865</td>\n",
       "      <td>22</td>\n",
       "      <td>92782</td>\n",
       "      <td>0.0</td>\n",
       "      <td>2166419046</td>\n",
       "      <td>401693808</td>\n",
       "      <td>[]</td>\n",
       "      <td>NaN</td>\n",
       "      <td>NaN</td>\n",
       "      <td>NaN</td>\n",
       "      <td>...</td>\n",
       "      <td>[]</td>\n",
       "      <td>0</td>\n",
       "      <td>0</td>\n",
       "      <td>0</td>\n",
       "      <td>0</td>\n",
       "      <td>0</td>\n",
       "      <td>[11058, 272, 2202, 431, 951, 243, 3828, 3037, ...</td>\n",
       "      <td>[3828, 14870, 3037, 2450, 692, 1688, 53547, 24...</td>\n",
       "      <td>[0]</td>\n",
       "      <td>[0]</td>\n",
       "    </tr>\n",
       "    <tr>\n",
       "      <th>1</th>\n",
       "      <td>3844</td>\n",
       "      <td>11</td>\n",
       "      <td>92267</td>\n",
       "      <td>0.0</td>\n",
       "      <td>1550017551</td>\n",
       "      <td>3392373099</td>\n",
       "      <td>[]</td>\n",
       "      <td>NaN</td>\n",
       "      <td>NaN</td>\n",
       "      <td>NaN</td>\n",
       "      <td>...</td>\n",
       "      <td>[]</td>\n",
       "      <td>0</td>\n",
       "      <td>0</td>\n",
       "      <td>0</td>\n",
       "      <td>0</td>\n",
       "      <td>0</td>\n",
       "      <td>[149, 79, 5210, 22869]</td>\n",
       "      <td>[429, 2709, 1465, 6965]</td>\n",
       "      <td>[0]</td>\n",
       "      <td>[0]</td>\n",
       "    </tr>\n",
       "    <tr>\n",
       "      <th>2</th>\n",
       "      <td>3862</td>\n",
       "      <td>15</td>\n",
       "      <td>92703</td>\n",
       "      <td>0.0</td>\n",
       "      <td>604029601</td>\n",
       "      <td>2317670257</td>\n",
       "      <td>[3034061280, 1309562090]</td>\n",
       "      <td>1.309562e+09</td>\n",
       "      <td>3.034061e+09</td>\n",
       "      <td>NaN</td>\n",
       "      <td>...</td>\n",
       "      <td>[]</td>\n",
       "      <td>1</td>\n",
       "      <td>38</td>\n",
       "      <td>0</td>\n",
       "      <td>39</td>\n",
       "      <td>2</td>\n",
       "      <td>[31489, 9218, 3440, 243]</td>\n",
       "      <td>[3046, 221, 3440, 730, 31489, 9218, 1278, 415]</td>\n",
       "      <td>[1116, 6761, 17922, 272, 263, 4534, 7742]</td>\n",
       "      <td>[0, 272, 4534, 7742, 3738, 1277, 111, 2425, 41...</td>\n",
       "    </tr>\n",
       "    <tr>\n",
       "      <th>3</th>\n",
       "      <td>3849</td>\n",
       "      <td>11</td>\n",
       "      <td>92387</td>\n",
       "      <td>0.0</td>\n",
       "      <td>2350061229</td>\n",
       "      <td>1618461867</td>\n",
       "      <td>[]</td>\n",
       "      <td>NaN</td>\n",
       "      <td>NaN</td>\n",
       "      <td>NaN</td>\n",
       "      <td>...</td>\n",
       "      <td>[]</td>\n",
       "      <td>0</td>\n",
       "      <td>0</td>\n",
       "      <td>0</td>\n",
       "      <td>0</td>\n",
       "      <td>0</td>\n",
       "      <td>[973, 64958, 8583, 2269, 628, 565, 2200, 590, ...</td>\n",
       "      <td>[0]</td>\n",
       "      <td>[0]</td>\n",
       "      <td>[0]</td>\n",
       "    </tr>\n",
       "    <tr>\n",
       "      <th>4</th>\n",
       "      <td>3867</td>\n",
       "      <td>4</td>\n",
       "      <td>92812</td>\n",
       "      <td>0.0</td>\n",
       "      <td>2443223942</td>\n",
       "      <td>3544409350</td>\n",
       "      <td>[]</td>\n",
       "      <td>NaN</td>\n",
       "      <td>NaN</td>\n",
       "      <td>NaN</td>\n",
       "      <td>...</td>\n",
       "      <td>[]</td>\n",
       "      <td>0</td>\n",
       "      <td>0</td>\n",
       "      <td>0</td>\n",
       "      <td>0</td>\n",
       "      <td>0</td>\n",
       "      <td>[554, 28208, 396, 51]</td>\n",
       "      <td>[0]</td>\n",
       "      <td>[0]</td>\n",
       "      <td>[0]</td>\n",
       "    </tr>\n",
       "  </tbody>\n",
       "</table>\n",
       "<p>5 rows × 27 columns</p>\n",
       "</div>"
      ],
      "text/plain": [
       "   iday  ihour  itime  label         qid         uid  \\\n",
       "0  3865     22  92782    0.0  2166419046   401693808   \n",
       "1  3844     11  92267    0.0  1550017551  3392373099   \n",
       "2  3862     15  92703    0.0   604029601  2317670257   \n",
       "3  3849     11  92387    0.0  2350061229  1618461867   \n",
       "4  3867      4  92812    0.0  2443223942  3544409350   \n",
       "\n",
       "              prev_ans_ques         ques1         ques2  ques3  ... desc_w3  \\\n",
       "0                        []           NaN           NaN    NaN  ...      []   \n",
       "1                        []           NaN           NaN    NaN  ...      []   \n",
       "2  [3034061280, 1309562090]  1.309562e+09  3.034061e+09    NaN  ...      []   \n",
       "3                        []           NaN           NaN    NaN  ...      []   \n",
       "4                        []           NaN           NaN    NaN  ...      []   \n",
       "\n",
       "  len_desc_w1 len_desc_w2 len_desc_w3 len_desc_q len_q  \\\n",
       "0           0           0           0          0     0   \n",
       "1           0           0           0          0     0   \n",
       "2           1          38           0         39     2   \n",
       "3           0           0           0          0     0   \n",
       "4           0           0           0          0     0   \n",
       "\n",
       "                                             title_q  \\\n",
       "0  [11058, 272, 2202, 431, 951, 243, 3828, 3037, ...   \n",
       "1                             [149, 79, 5210, 22869]   \n",
       "2                           [31489, 9218, 3440, 243]   \n",
       "3  [973, 64958, 8583, 2269, 628, 565, 2200, 590, ...   \n",
       "4                              [554, 28208, 396, 51]   \n",
       "\n",
       "                                              desc_q  \\\n",
       "0  [3828, 14870, 3037, 2450, 692, 1688, 53547, 24...   \n",
       "1                            [429, 2709, 1465, 6965]   \n",
       "2     [3046, 221, 3440, 730, 31489, 9218, 1278, 415]   \n",
       "3                                                [0]   \n",
       "4                                                [0]   \n",
       "\n",
       "                                     title_u  \\\n",
       "0                                        [0]   \n",
       "1                                        [0]   \n",
       "2  [1116, 6761, 17922, 272, 263, 4534, 7742]   \n",
       "3                                        [0]   \n",
       "4                                        [0]   \n",
       "\n",
       "                                              desc_u  \n",
       "0                                                [0]  \n",
       "1                                                [0]  \n",
       "2  [0, 272, 4534, 7742, 3738, 1277, 111, 2425, 41...  \n",
       "3                                                [0]  \n",
       "4                                                [0]  \n",
       "\n",
       "[5 rows x 27 columns]"
      ]
     },
     "execution_count": 20,
     "metadata": {},
     "output_type": "execute_result"
    }
   ],
   "source": [
    "data.head()"
   ]
  },
  {
   "cell_type": "code",
   "execution_count": 21,
   "metadata": {},
   "outputs": [],
   "source": [
    "data[['title_q', 'desc_q', 'title_u', 'desc_u']].to_pickle(os.path.join(DATA_PATH, 'prev_ans_ques_title_desc.pkl'))"
   ]
  },
  {
   "cell_type": "code",
   "execution_count": 22,
   "metadata": {},
   "outputs": [
    {
     "name": "stdout",
     "output_type": "stream",
     "text": [
      "Used time: 1029\n"
     ]
    }
   ],
   "source": [
    "toc = time.time()\n",
    "print('Used time: %d' % int(toc-tic))"
   ]
  },
  {
   "cell_type": "code",
   "execution_count": 23,
   "metadata": {},
   "outputs": [],
   "source": [
    "data['id'] = data['qid'].apply(str) + '_' + data['uid'].apply(str)"
   ]
  },
  {
   "cell_type": "code",
   "execution_count": 24,
   "metadata": {},
   "outputs": [
    {
     "data": {
      "text/plain": [
       "3766912814_975408302     12\n",
       "1656708750_1891662041     8\n",
       "1656708750_185871998      7\n",
       "2730406015_1088150594     7\n",
       "374366132_1041483084      6\n",
       "                         ..\n",
       "211639478_3168997882      2\n",
       "2982884061_3672634699     2\n",
       "1890057286_2377901070     2\n",
       "1542924553_2490140348     2\n",
       "3012588586_2302975115     2\n",
       "Name: id, Length: 2336, dtype: int64"
      ]
     },
     "execution_count": 24,
     "metadata": {},
     "output_type": "execute_result"
    }
   ],
   "source": [
    "tmp = data['id'].value_counts() \n",
    "tmp[tmp > 1]"
   ]
  },
  {
   "cell_type": "code",
   "execution_count": 25,
   "metadata": {
    "scrolled": false
   },
   "outputs": [
    {
     "data": {
      "text/html": [
       "<div>\n",
       "<style scoped>\n",
       "    .dataframe tbody tr th:only-of-type {\n",
       "        vertical-align: middle;\n",
       "    }\n",
       "\n",
       "    .dataframe tbody tr th {\n",
       "        vertical-align: top;\n",
       "    }\n",
       "\n",
       "    .dataframe thead th {\n",
       "        text-align: right;\n",
       "    }\n",
       "</style>\n",
       "<table border=\"1\" class=\"dataframe\">\n",
       "  <thead>\n",
       "    <tr style=\"text-align: right;\">\n",
       "      <th></th>\n",
       "      <th>id</th>\n",
       "      <th>label</th>\n",
       "    </tr>\n",
       "  </thead>\n",
       "  <tbody>\n",
       "    <tr>\n",
       "      <th>60</th>\n",
       "      <td>2447267784_3941659382</td>\n",
       "      <td>0.0</td>\n",
       "    </tr>\n",
       "    <tr>\n",
       "      <th>1189</th>\n",
       "      <td>563440782_2658847573</td>\n",
       "      <td>1.0</td>\n",
       "    </tr>\n",
       "    <tr>\n",
       "      <th>2960</th>\n",
       "      <td>3475759373_1473282171</td>\n",
       "      <td>1.0</td>\n",
       "    </tr>\n",
       "    <tr>\n",
       "      <th>3004</th>\n",
       "      <td>2346951238_460869274</td>\n",
       "      <td>1.0</td>\n",
       "    </tr>\n",
       "    <tr>\n",
       "      <th>4511</th>\n",
       "      <td>1664816545_552057782</td>\n",
       "      <td>1.0</td>\n",
       "    </tr>\n",
       "    <tr>\n",
       "      <th>...</th>\n",
       "      <td>...</td>\n",
       "      <td>...</td>\n",
       "    </tr>\n",
       "    <tr>\n",
       "      <th>10621215</th>\n",
       "      <td>890298799_4008185451</td>\n",
       "      <td>NaN</td>\n",
       "    </tr>\n",
       "    <tr>\n",
       "      <th>10621918</th>\n",
       "      <td>1446146454_2821601124</td>\n",
       "      <td>NaN</td>\n",
       "    </tr>\n",
       "    <tr>\n",
       "      <th>10625670</th>\n",
       "      <td>3977768775_3981602523</td>\n",
       "      <td>NaN</td>\n",
       "    </tr>\n",
       "    <tr>\n",
       "      <th>10627984</th>\n",
       "      <td>1818189446_3246358942</td>\n",
       "      <td>NaN</td>\n",
       "    </tr>\n",
       "    <tr>\n",
       "      <th>10627985</th>\n",
       "      <td>1818189446_3246358942</td>\n",
       "      <td>NaN</td>\n",
       "    </tr>\n",
       "  </tbody>\n",
       "</table>\n",
       "<p>4968 rows × 2 columns</p>\n",
       "</div>"
      ],
      "text/plain": [
       "                             id  label\n",
       "60        2447267784_3941659382    0.0\n",
       "1189       563440782_2658847573    1.0\n",
       "2960      3475759373_1473282171    1.0\n",
       "3004       2346951238_460869274    1.0\n",
       "4511       1664816545_552057782    1.0\n",
       "...                         ...    ...\n",
       "10621215   890298799_4008185451    NaN\n",
       "10621918  1446146454_2821601124    NaN\n",
       "10625670  3977768775_3981602523    NaN\n",
       "10627984  1818189446_3246358942    NaN\n",
       "10627985  1818189446_3246358942    NaN\n",
       "\n",
       "[4968 rows x 2 columns]"
      ]
     },
     "execution_count": 25,
     "metadata": {},
     "output_type": "execute_result"
    }
   ],
   "source": [
    "tmp2 = data[data['id'].isin(tmp[tmp > 1].index)][['id', 'label']]\n",
    "tmp2"
   ]
  },
  {
   "cell_type": "code",
   "execution_count": 26,
   "metadata": {},
   "outputs": [],
   "source": [
    "tmp3 = tmp2[pd.isna(tmp2['label'])]\n",
    "tmp4 = tmp2[~pd.isna(tmp2['label'])]"
   ]
  },
  {
   "cell_type": "code",
   "execution_count": 27,
   "metadata": {},
   "outputs": [
    {
     "data": {
      "text/html": [
       "<div>\n",
       "<style scoped>\n",
       "    .dataframe tbody tr th:only-of-type {\n",
       "        vertical-align: middle;\n",
       "    }\n",
       "\n",
       "    .dataframe tbody tr th {\n",
       "        vertical-align: top;\n",
       "    }\n",
       "\n",
       "    .dataframe thead th {\n",
       "        text-align: right;\n",
       "    }\n",
       "</style>\n",
       "<table border=\"1\" class=\"dataframe\">\n",
       "  <thead>\n",
       "    <tr style=\"text-align: right;\">\n",
       "      <th></th>\n",
       "      <th>id</th>\n",
       "      <th>label</th>\n",
       "    </tr>\n",
       "  </thead>\n",
       "  <tbody>\n",
       "    <tr>\n",
       "      <th>9501254</th>\n",
       "      <td>3349856436_1662430319</td>\n",
       "      <td>NaN</td>\n",
       "    </tr>\n",
       "    <tr>\n",
       "      <th>9505965</th>\n",
       "      <td>3977768775_174458543</td>\n",
       "      <td>NaN</td>\n",
       "    </tr>\n",
       "    <tr>\n",
       "      <th>9520429</th>\n",
       "      <td>495966293_135201613</td>\n",
       "      <td>NaN</td>\n",
       "    </tr>\n",
       "    <tr>\n",
       "      <th>9522517</th>\n",
       "      <td>696541928_1230378210</td>\n",
       "      <td>NaN</td>\n",
       "    </tr>\n",
       "    <tr>\n",
       "      <th>9525636</th>\n",
       "      <td>13601293_356313381</td>\n",
       "      <td>NaN</td>\n",
       "    </tr>\n",
       "    <tr>\n",
       "      <th>...</th>\n",
       "      <td>...</td>\n",
       "      <td>...</td>\n",
       "    </tr>\n",
       "    <tr>\n",
       "      <th>10599431</th>\n",
       "      <td>1791424099_1604514588</td>\n",
       "      <td>NaN</td>\n",
       "    </tr>\n",
       "    <tr>\n",
       "      <th>10611680</th>\n",
       "      <td>1828489264_2793566886</td>\n",
       "      <td>NaN</td>\n",
       "    </tr>\n",
       "    <tr>\n",
       "      <th>10618097</th>\n",
       "      <td>2538637960_1751107848</td>\n",
       "      <td>NaN</td>\n",
       "    </tr>\n",
       "    <tr>\n",
       "      <th>10621918</th>\n",
       "      <td>1446146454_2821601124</td>\n",
       "      <td>NaN</td>\n",
       "    </tr>\n",
       "    <tr>\n",
       "      <th>10625670</th>\n",
       "      <td>3977768775_3981602523</td>\n",
       "      <td>NaN</td>\n",
       "    </tr>\n",
       "  </tbody>\n",
       "</table>\n",
       "<p>125 rows × 2 columns</p>\n",
       "</div>"
      ],
      "text/plain": [
       "                             id  label\n",
       "9501254   3349856436_1662430319    NaN\n",
       "9505965    3977768775_174458543    NaN\n",
       "9520429     495966293_135201613    NaN\n",
       "9522517    696541928_1230378210    NaN\n",
       "9525636      13601293_356313381    NaN\n",
       "...                         ...    ...\n",
       "10599431  1791424099_1604514588    NaN\n",
       "10611680  1828489264_2793566886    NaN\n",
       "10618097  2538637960_1751107848    NaN\n",
       "10621918  1446146454_2821601124    NaN\n",
       "10625670  3977768775_3981602523    NaN\n",
       "\n",
       "[125 rows x 2 columns]"
      ]
     },
     "execution_count": 27,
     "metadata": {},
     "output_type": "execute_result"
    }
   ],
   "source": [
    "tmp5 = tmp3[tmp3['id'].isin(tmp4['id'])]\n",
    "tmp5"
   ]
  },
  {
   "cell_type": "code",
   "execution_count": 28,
   "metadata": {},
   "outputs": [
    {
     "data": {
      "text/html": [
       "<div>\n",
       "<style scoped>\n",
       "    .dataframe tbody tr th:only-of-type {\n",
       "        vertical-align: middle;\n",
       "    }\n",
       "\n",
       "    .dataframe tbody tr th {\n",
       "        vertical-align: top;\n",
       "    }\n",
       "\n",
       "    .dataframe thead th {\n",
       "        text-align: right;\n",
       "    }\n",
       "</style>\n",
       "<table border=\"1\" class=\"dataframe\">\n",
       "  <thead>\n",
       "    <tr style=\"text-align: right;\">\n",
       "      <th></th>\n",
       "      <th>id</th>\n",
       "      <th>label</th>\n",
       "    </tr>\n",
       "  </thead>\n",
       "  <tbody>\n",
       "    <tr>\n",
       "      <th>36212</th>\n",
       "      <td>857378709_2536436801</td>\n",
       "      <td>1.0</td>\n",
       "    </tr>\n",
       "    <tr>\n",
       "      <th>173505</th>\n",
       "      <td>843902755_529222996</td>\n",
       "      <td>0.0</td>\n",
       "    </tr>\n",
       "    <tr>\n",
       "      <th>201174</th>\n",
       "      <td>2381892828_3168997882</td>\n",
       "      <td>0.0</td>\n",
       "    </tr>\n",
       "    <tr>\n",
       "      <th>204348</th>\n",
       "      <td>4183467948_474370804</td>\n",
       "      <td>0.0</td>\n",
       "    </tr>\n",
       "    <tr>\n",
       "      <th>221098</th>\n",
       "      <td>495966293_135201613</td>\n",
       "      <td>0.0</td>\n",
       "    </tr>\n",
       "    <tr>\n",
       "      <th>...</th>\n",
       "      <td>...</td>\n",
       "      <td>...</td>\n",
       "    </tr>\n",
       "    <tr>\n",
       "      <th>9021654</th>\n",
       "      <td>3404694841_524492604</td>\n",
       "      <td>0.0</td>\n",
       "    </tr>\n",
       "    <tr>\n",
       "      <th>9106194</th>\n",
       "      <td>510864453_1295500617</td>\n",
       "      <td>1.0</td>\n",
       "    </tr>\n",
       "    <tr>\n",
       "      <th>9188595</th>\n",
       "      <td>2153395118_3053602909</td>\n",
       "      <td>0.0</td>\n",
       "    </tr>\n",
       "    <tr>\n",
       "      <th>9318568</th>\n",
       "      <td>1729091216_167877392</td>\n",
       "      <td>0.0</td>\n",
       "    </tr>\n",
       "    <tr>\n",
       "      <th>9434971</th>\n",
       "      <td>3553109455_3043148451</td>\n",
       "      <td>1.0</td>\n",
       "    </tr>\n",
       "  </tbody>\n",
       "</table>\n",
       "<p>134 rows × 2 columns</p>\n",
       "</div>"
      ],
      "text/plain": [
       "                            id  label\n",
       "36212     857378709_2536436801    1.0\n",
       "173505     843902755_529222996    0.0\n",
       "201174   2381892828_3168997882    0.0\n",
       "204348    4183467948_474370804    0.0\n",
       "221098     495966293_135201613    0.0\n",
       "...                        ...    ...\n",
       "9021654   3404694841_524492604    0.0\n",
       "9106194   510864453_1295500617    1.0\n",
       "9188595  2153395118_3053602909    0.0\n",
       "9318568   1729091216_167877392    0.0\n",
       "9434971  3553109455_3043148451    1.0\n",
       "\n",
       "[134 rows x 2 columns]"
      ]
     },
     "execution_count": 28,
     "metadata": {},
     "output_type": "execute_result"
    }
   ],
   "source": [
    "tmp6 = tmp4[tmp4['id'].isin(tmp3['id'])]\n",
    "tmp6"
   ]
  },
  {
   "cell_type": "code",
   "execution_count": 29,
   "metadata": {},
   "outputs": [
    {
     "data": {
      "text/plain": [
       "119"
      ]
     },
     "execution_count": 29,
     "metadata": {},
     "output_type": "execute_result"
    }
   ],
   "source": [
    "tmp6['id'].nunique()"
   ]
  },
  {
   "cell_type": "code",
   "execution_count": 30,
   "metadata": {},
   "outputs": [
    {
     "data": {
      "text/html": [
       "<div>\n",
       "<style scoped>\n",
       "    .dataframe tbody tr th:only-of-type {\n",
       "        vertical-align: middle;\n",
       "    }\n",
       "\n",
       "    .dataframe tbody tr th {\n",
       "        vertical-align: top;\n",
       "    }\n",
       "\n",
       "    .dataframe thead th {\n",
       "        text-align: right;\n",
       "    }\n",
       "</style>\n",
       "<table border=\"1\" class=\"dataframe\">\n",
       "  <thead>\n",
       "    <tr style=\"text-align: right;\">\n",
       "      <th></th>\n",
       "      <th>id</th>\n",
       "      <th>label</th>\n",
       "      <th>len</th>\n",
       "    </tr>\n",
       "  </thead>\n",
       "  <tbody>\n",
       "    <tr>\n",
       "      <th>0</th>\n",
       "      <td>1162178181_336055354</td>\n",
       "      <td>[1.0]</td>\n",
       "      <td>1</td>\n",
       "    </tr>\n",
       "    <tr>\n",
       "      <th>1</th>\n",
       "      <td>1195238336_3803870696</td>\n",
       "      <td>[1.0]</td>\n",
       "      <td>1</td>\n",
       "    </tr>\n",
       "    <tr>\n",
       "      <th>2</th>\n",
       "      <td>13601293_356313381</td>\n",
       "      <td>[1.0]</td>\n",
       "      <td>1</td>\n",
       "    </tr>\n",
       "    <tr>\n",
       "      <th>3</th>\n",
       "      <td>1372715791_1956070876</td>\n",
       "      <td>[0.0]</td>\n",
       "      <td>1</td>\n",
       "    </tr>\n",
       "    <tr>\n",
       "      <th>4</th>\n",
       "      <td>1375884537_4126196603</td>\n",
       "      <td>[1.0]</td>\n",
       "      <td>1</td>\n",
       "    </tr>\n",
       "    <tr>\n",
       "      <th>...</th>\n",
       "      <td>...</td>\n",
       "      <td>...</td>\n",
       "      <td>...</td>\n",
       "    </tr>\n",
       "    <tr>\n",
       "      <th>114</th>\n",
       "      <td>893889544_1777561150</td>\n",
       "      <td>[0.0]</td>\n",
       "      <td>1</td>\n",
       "    </tr>\n",
       "    <tr>\n",
       "      <th>115</th>\n",
       "      <td>893889544_3678601289</td>\n",
       "      <td>[0.0]</td>\n",
       "      <td>1</td>\n",
       "    </tr>\n",
       "    <tr>\n",
       "      <th>116</th>\n",
       "      <td>924722639_4221144503</td>\n",
       "      <td>[0.0]</td>\n",
       "      <td>1</td>\n",
       "    </tr>\n",
       "    <tr>\n",
       "      <th>117</th>\n",
       "      <td>966303606_1477594286</td>\n",
       "      <td>[0.0]</td>\n",
       "      <td>1</td>\n",
       "    </tr>\n",
       "    <tr>\n",
       "      <th>118</th>\n",
       "      <td>977660990_3095606628</td>\n",
       "      <td>[1.0]</td>\n",
       "      <td>1</td>\n",
       "    </tr>\n",
       "  </tbody>\n",
       "</table>\n",
       "<p>119 rows × 3 columns</p>\n",
       "</div>"
      ],
      "text/plain": [
       "                        id  label  len\n",
       "0     1162178181_336055354  [1.0]    1\n",
       "1    1195238336_3803870696  [1.0]    1\n",
       "2       13601293_356313381  [1.0]    1\n",
       "3    1372715791_1956070876  [0.0]    1\n",
       "4    1375884537_4126196603  [1.0]    1\n",
       "..                     ...    ...  ...\n",
       "114   893889544_1777561150  [0.0]    1\n",
       "115   893889544_3678601289  [0.0]    1\n",
       "116   924722639_4221144503  [0.0]    1\n",
       "117   966303606_1477594286  [0.0]    1\n",
       "118   977660990_3095606628  [1.0]    1\n",
       "\n",
       "[119 rows x 3 columns]"
      ]
     },
     "execution_count": 30,
     "metadata": {},
     "output_type": "execute_result"
    }
   ],
   "source": [
    "tmp7 = tmp6.groupby('id')['label'].apply(lambda x: list(x)).reset_index()\n",
    "tmp7['len'] = tmp7['label'].apply(len)\n",
    "tmp7"
   ]
  },
  {
   "cell_type": "code",
   "execution_count": 31,
   "metadata": {},
   "outputs": [
    {
     "data": {
      "text/html": [
       "<div>\n",
       "<style scoped>\n",
       "    .dataframe tbody tr th:only-of-type {\n",
       "        vertical-align: middle;\n",
       "    }\n",
       "\n",
       "    .dataframe tbody tr th {\n",
       "        vertical-align: top;\n",
       "    }\n",
       "\n",
       "    .dataframe thead th {\n",
       "        text-align: right;\n",
       "    }\n",
       "</style>\n",
       "<table border=\"1\" class=\"dataframe\">\n",
       "  <thead>\n",
       "    <tr style=\"text-align: right;\">\n",
       "      <th></th>\n",
       "      <th>id</th>\n",
       "      <th>label</th>\n",
       "      <th>len</th>\n",
       "    </tr>\n",
       "  </thead>\n",
       "  <tbody>\n",
       "    <tr>\n",
       "      <th>6</th>\n",
       "      <td>1430577052_2435805188</td>\n",
       "      <td>[1.0, 1.0, 1.0, 1.0]</td>\n",
       "      <td>4</td>\n",
       "    </tr>\n",
       "    <tr>\n",
       "      <th>7</th>\n",
       "      <td>1430577052_3594373145</td>\n",
       "      <td>[1.0, 1.0, 1.0, 1.0, 1.0]</td>\n",
       "      <td>5</td>\n",
       "    </tr>\n",
       "    <tr>\n",
       "      <th>73</th>\n",
       "      <td>3712599104_2678718278</td>\n",
       "      <td>[1.0, 1.0]</td>\n",
       "      <td>2</td>\n",
       "    </tr>\n",
       "    <tr>\n",
       "      <th>76</th>\n",
       "      <td>3766912814_4175838558</td>\n",
       "      <td>[0.0, 0.0]</td>\n",
       "      <td>2</td>\n",
       "    </tr>\n",
       "    <tr>\n",
       "      <th>77</th>\n",
       "      <td>3789567229_4270234802</td>\n",
       "      <td>[1.0, 1.0]</td>\n",
       "      <td>2</td>\n",
       "    </tr>\n",
       "    <tr>\n",
       "      <th>78</th>\n",
       "      <td>3797510006_2712312266</td>\n",
       "      <td>[1.0, 1.0, 1.0]</td>\n",
       "      <td>3</td>\n",
       "    </tr>\n",
       "    <tr>\n",
       "      <th>79</th>\n",
       "      <td>3802123318_2037494776</td>\n",
       "      <td>[0.0, 0.0]</td>\n",
       "      <td>2</td>\n",
       "    </tr>\n",
       "    <tr>\n",
       "      <th>98</th>\n",
       "      <td>4183467948_903249500</td>\n",
       "      <td>[0.0, 0.0]</td>\n",
       "      <td>2</td>\n",
       "    </tr>\n",
       "    <tr>\n",
       "      <th>105</th>\n",
       "      <td>571680622_2976534255</td>\n",
       "      <td>[1.0, 1.0]</td>\n",
       "      <td>2</td>\n",
       "    </tr>\n",
       "  </tbody>\n",
       "</table>\n",
       "</div>"
      ],
      "text/plain": [
       "                        id                      label  len\n",
       "6    1430577052_2435805188       [1.0, 1.0, 1.0, 1.0]    4\n",
       "7    1430577052_3594373145  [1.0, 1.0, 1.0, 1.0, 1.0]    5\n",
       "73   3712599104_2678718278                 [1.0, 1.0]    2\n",
       "76   3766912814_4175838558                 [0.0, 0.0]    2\n",
       "77   3789567229_4270234802                 [1.0, 1.0]    2\n",
       "78   3797510006_2712312266            [1.0, 1.0, 1.0]    3\n",
       "79   3802123318_2037494776                 [0.0, 0.0]    2\n",
       "98    4183467948_903249500                 [0.0, 0.0]    2\n",
       "105   571680622_2976534255                 [1.0, 1.0]    2"
      ]
     },
     "execution_count": 31,
     "metadata": {},
     "output_type": "execute_result"
    }
   ],
   "source": [
    "tmp7[tmp7['len'] > 1]"
   ]
  },
  {
   "cell_type": "code",
   "execution_count": 32,
   "metadata": {},
   "outputs": [
    {
     "data": {
      "text/html": [
       "<div>\n",
       "<style scoped>\n",
       "    .dataframe tbody tr th:only-of-type {\n",
       "        vertical-align: middle;\n",
       "    }\n",
       "\n",
       "    .dataframe tbody tr th {\n",
       "        vertical-align: top;\n",
       "    }\n",
       "\n",
       "    .dataframe thead th {\n",
       "        text-align: right;\n",
       "    }\n",
       "</style>\n",
       "<table border=\"1\" class=\"dataframe\">\n",
       "  <thead>\n",
       "    <tr style=\"text-align: right;\">\n",
       "      <th></th>\n",
       "      <th>id</th>\n",
       "      <th>label</th>\n",
       "      <th>len</th>\n",
       "      <th>post_label</th>\n",
       "    </tr>\n",
       "  </thead>\n",
       "  <tbody>\n",
       "    <tr>\n",
       "      <th>0</th>\n",
       "      <td>1162178181_336055354</td>\n",
       "      <td>[1.0]</td>\n",
       "      <td>1</td>\n",
       "      <td>1.0</td>\n",
       "    </tr>\n",
       "    <tr>\n",
       "      <th>1</th>\n",
       "      <td>1195238336_3803870696</td>\n",
       "      <td>[1.0]</td>\n",
       "      <td>1</td>\n",
       "      <td>1.0</td>\n",
       "    </tr>\n",
       "    <tr>\n",
       "      <th>2</th>\n",
       "      <td>13601293_356313381</td>\n",
       "      <td>[1.0]</td>\n",
       "      <td>1</td>\n",
       "      <td>1.0</td>\n",
       "    </tr>\n",
       "    <tr>\n",
       "      <th>3</th>\n",
       "      <td>1372715791_1956070876</td>\n",
       "      <td>[0.0]</td>\n",
       "      <td>1</td>\n",
       "      <td>0.0</td>\n",
       "    </tr>\n",
       "    <tr>\n",
       "      <th>4</th>\n",
       "      <td>1375884537_4126196603</td>\n",
       "      <td>[1.0]</td>\n",
       "      <td>1</td>\n",
       "      <td>1.0</td>\n",
       "    </tr>\n",
       "    <tr>\n",
       "      <th>...</th>\n",
       "      <td>...</td>\n",
       "      <td>...</td>\n",
       "      <td>...</td>\n",
       "      <td>...</td>\n",
       "    </tr>\n",
       "    <tr>\n",
       "      <th>114</th>\n",
       "      <td>893889544_1777561150</td>\n",
       "      <td>[0.0]</td>\n",
       "      <td>1</td>\n",
       "      <td>0.0</td>\n",
       "    </tr>\n",
       "    <tr>\n",
       "      <th>115</th>\n",
       "      <td>893889544_3678601289</td>\n",
       "      <td>[0.0]</td>\n",
       "      <td>1</td>\n",
       "      <td>0.0</td>\n",
       "    </tr>\n",
       "    <tr>\n",
       "      <th>116</th>\n",
       "      <td>924722639_4221144503</td>\n",
       "      <td>[0.0]</td>\n",
       "      <td>1</td>\n",
       "      <td>0.0</td>\n",
       "    </tr>\n",
       "    <tr>\n",
       "      <th>117</th>\n",
       "      <td>966303606_1477594286</td>\n",
       "      <td>[0.0]</td>\n",
       "      <td>1</td>\n",
       "      <td>0.0</td>\n",
       "    </tr>\n",
       "    <tr>\n",
       "      <th>118</th>\n",
       "      <td>977660990_3095606628</td>\n",
       "      <td>[1.0]</td>\n",
       "      <td>1</td>\n",
       "      <td>1.0</td>\n",
       "    </tr>\n",
       "  </tbody>\n",
       "</table>\n",
       "<p>119 rows × 4 columns</p>\n",
       "</div>"
      ],
      "text/plain": [
       "                        id  label  len  post_label\n",
       "0     1162178181_336055354  [1.0]    1         1.0\n",
       "1    1195238336_3803870696  [1.0]    1         1.0\n",
       "2       13601293_356313381  [1.0]    1         1.0\n",
       "3    1372715791_1956070876  [0.0]    1         0.0\n",
       "4    1375884537_4126196603  [1.0]    1         1.0\n",
       "..                     ...    ...  ...         ...\n",
       "114   893889544_1777561150  [0.0]    1         0.0\n",
       "115   893889544_3678601289  [0.0]    1         0.0\n",
       "116   924722639_4221144503  [0.0]    1         0.0\n",
       "117   966303606_1477594286  [0.0]    1         0.0\n",
       "118   977660990_3095606628  [1.0]    1         1.0\n",
       "\n",
       "[119 rows x 4 columns]"
      ]
     },
     "execution_count": 32,
     "metadata": {},
     "output_type": "execute_result"
    }
   ],
   "source": [
    "tmp7['post_label'] = tmp7['label'].apply(lambda x: x[0])\n",
    "tmp7"
   ]
  },
  {
   "cell_type": "code",
   "execution_count": 33,
   "metadata": {},
   "outputs": [
    {
     "data": {
      "text/html": [
       "<div>\n",
       "<style scoped>\n",
       "    .dataframe tbody tr th:only-of-type {\n",
       "        vertical-align: middle;\n",
       "    }\n",
       "\n",
       "    .dataframe tbody tr th {\n",
       "        vertical-align: top;\n",
       "    }\n",
       "\n",
       "    .dataframe thead th {\n",
       "        text-align: right;\n",
       "    }\n",
       "</style>\n",
       "<table border=\"1\" class=\"dataframe\">\n",
       "  <thead>\n",
       "    <tr style=\"text-align: right;\">\n",
       "      <th></th>\n",
       "      <th>id</th>\n",
       "      <th>post_label</th>\n",
       "    </tr>\n",
       "  </thead>\n",
       "  <tbody>\n",
       "    <tr>\n",
       "      <th>0</th>\n",
       "      <td>1162178181_336055354</td>\n",
       "      <td>1.0</td>\n",
       "    </tr>\n",
       "    <tr>\n",
       "      <th>1</th>\n",
       "      <td>1195238336_3803870696</td>\n",
       "      <td>1.0</td>\n",
       "    </tr>\n",
       "    <tr>\n",
       "      <th>2</th>\n",
       "      <td>13601293_356313381</td>\n",
       "      <td>1.0</td>\n",
       "    </tr>\n",
       "    <tr>\n",
       "      <th>3</th>\n",
       "      <td>1372715791_1956070876</td>\n",
       "      <td>0.0</td>\n",
       "    </tr>\n",
       "    <tr>\n",
       "      <th>4</th>\n",
       "      <td>1375884537_4126196603</td>\n",
       "      <td>1.0</td>\n",
       "    </tr>\n",
       "    <tr>\n",
       "      <th>...</th>\n",
       "      <td>...</td>\n",
       "      <td>...</td>\n",
       "    </tr>\n",
       "    <tr>\n",
       "      <th>114</th>\n",
       "      <td>893889544_1777561150</td>\n",
       "      <td>0.0</td>\n",
       "    </tr>\n",
       "    <tr>\n",
       "      <th>115</th>\n",
       "      <td>893889544_3678601289</td>\n",
       "      <td>0.0</td>\n",
       "    </tr>\n",
       "    <tr>\n",
       "      <th>116</th>\n",
       "      <td>924722639_4221144503</td>\n",
       "      <td>0.0</td>\n",
       "    </tr>\n",
       "    <tr>\n",
       "      <th>117</th>\n",
       "      <td>966303606_1477594286</td>\n",
       "      <td>0.0</td>\n",
       "    </tr>\n",
       "    <tr>\n",
       "      <th>118</th>\n",
       "      <td>977660990_3095606628</td>\n",
       "      <td>1.0</td>\n",
       "    </tr>\n",
       "  </tbody>\n",
       "</table>\n",
       "<p>119 rows × 2 columns</p>\n",
       "</div>"
      ],
      "text/plain": [
       "                        id  post_label\n",
       "0     1162178181_336055354         1.0\n",
       "1    1195238336_3803870696         1.0\n",
       "2       13601293_356313381         1.0\n",
       "3    1372715791_1956070876         0.0\n",
       "4    1375884537_4126196603         1.0\n",
       "..                     ...         ...\n",
       "114   893889544_1777561150         0.0\n",
       "115   893889544_3678601289         0.0\n",
       "116   924722639_4221144503         0.0\n",
       "117   966303606_1477594286         0.0\n",
       "118   977660990_3095606628         1.0\n",
       "\n",
       "[119 rows x 2 columns]"
      ]
     },
     "execution_count": 33,
     "metadata": {},
     "output_type": "execute_result"
    }
   ],
   "source": [
    "tmp8 = tmp7[['id', 'post_label']]\n",
    "tmp8"
   ]
  },
  {
   "cell_type": "code",
   "execution_count": 34,
   "metadata": {},
   "outputs": [],
   "source": [
    "tmp8.to_pickle(os.path.join(DATA_PATH, 'post_label.pkl'))"
   ]
  },
  {
   "cell_type": "code",
   "execution_count": null,
   "metadata": {},
   "outputs": [],
   "source": []
  }
 ],
 "metadata": {
  "kernelspec": {
   "display_name": "Python [conda env:root] *",
   "language": "python",
   "name": "conda-root-py"
  },
  "language_info": {
   "codemirror_mode": {
    "name": "ipython",
    "version": 3
   },
   "file_extension": ".py",
   "mimetype": "text/x-python",
   "name": "python",
   "nbconvert_exporter": "python",
   "pygments_lexer": "ipython3",
   "version": "3.7.3"
  }
 },
 "nbformat": 4,
 "nbformat_minor": 2
}
