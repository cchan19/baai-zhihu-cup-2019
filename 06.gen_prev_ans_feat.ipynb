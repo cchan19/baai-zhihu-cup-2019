{
 "cells": [
  {
   "cell_type": "code",
   "execution_count": 1,
   "metadata": {},
   "outputs": [],
   "source": [
    "import pandas as pd\n",
    "import numpy as np\n",
    "import pickle\n",
    "import gc\n",
    "import os\n",
    "import time\n",
    "import copy\n",
    "import multiprocessing as mp\n",
    "from sklearn.preprocessing import LabelEncoder\n",
    "from sklearn.model_selection import StratifiedKFold\n",
    "from sklearn.feature_extraction.text import CountVectorizer\n",
    "from tqdm import tqdm\n",
    "from scipy import sparse, spatial\n",
    "import warnings\n",
    "warnings.filterwarnings('ignore')\n",
    "tqdm.pandas()"
   ]
  },
  {
   "cell_type": "code",
   "execution_count": 2,
   "metadata": {},
   "outputs": [
    {
     "name": "stdout",
     "output_type": "stream",
     "text": [
      "gen_prev_ans_feat...\n"
     ]
    }
   ],
   "source": [
    "tic = time.time()\n",
    "DATA_PATH = '../pkl/'\n",
    "SAVE_PATH = './feats/'\n",
    "if not os.path.exists(SAVE_PATH):\n",
    "    print('create dir: %s' % SAVE_PATH)\n",
    "    os.mkdir(SAVE_PATH)\n",
    "\n",
    "print('gen_prev_ans_feat...')"
   ]
  },
  {
   "cell_type": "code",
   "execution_count": 3,
   "metadata": {},
   "outputs": [],
   "source": [
    "inv_last_answer_time = pd.read_pickle(os.path.join(DATA_PATH, 'inv_last_answer_time.pkl'))\n",
    "answer_info = pd.read_pickle(os.path.join(DATA_PATH, 'answer_info_tiny.pkl'))"
   ]
  },
  {
   "cell_type": "code",
   "execution_count": 4,
   "metadata": {},
   "outputs": [],
   "source": [
    "answer_info['user_time'] = answer_info['uid'].astype(str) + '_' + answer_info['atime'].astype(str)\n",
    "answer_info.sort_values(by=['uid', 'user_time'],inplace=True)"
   ]
  },
  {
   "cell_type": "code",
   "execution_count": 6,
   "metadata": {},
   "outputs": [],
   "source": [
    "answer_info['cnt'] = 1\n",
    "cols = ['excellent', 'recommend', 'figure', 'video', 'num_word', 'num_like', 'num_unlike', 'num_comment', 'num_favor', 'num_thank', 'num_report', 'num_nohelp', 'num_oppose', 'cnt']\n",
    "prev_ans_stat = answer_info.groupby('uid')[cols].cumsum()\n",
    "prev_ans_stat.columns = [('prev_' + c + '_sum') for c in cols]\n",
    "mean_arr = prev_ans_stat.values[:, :-1] / prev_ans_stat.values[:, -1].reshape((-1, 1))\n",
    "prev_ans_stat = pd.concat([prev_ans_stat, pd.DataFrame(mean_arr, columns=[('prev_' + c + '_mean') for c in cols[:-1]])], axis=1)\n",
    "prev_ans_stat['user_time'] = answer_info['user_time']\n",
    "prev_ans_stat.drop_duplicates(subset='user_time', keep='last', inplace=True)"
   ]
  },
  {
   "cell_type": "code",
   "execution_count": 7,
   "metadata": {},
   "outputs": [
    {
     "data": {
      "text/html": [
       "<div>\n",
       "<style scoped>\n",
       "    .dataframe tbody tr th:only-of-type {\n",
       "        vertical-align: middle;\n",
       "    }\n",
       "\n",
       "    .dataframe tbody tr th {\n",
       "        vertical-align: top;\n",
       "    }\n",
       "\n",
       "    .dataframe thead th {\n",
       "        text-align: right;\n",
       "    }\n",
       "</style>\n",
       "<table border=\"1\" class=\"dataframe\">\n",
       "  <thead>\n",
       "    <tr style=\"text-align: right;\">\n",
       "      <th></th>\n",
       "      <th>prev_excellent_sum</th>\n",
       "      <th>prev_recommend_sum</th>\n",
       "      <th>prev_figure_sum</th>\n",
       "      <th>prev_video_sum</th>\n",
       "      <th>prev_num_word_sum</th>\n",
       "      <th>prev_num_like_sum</th>\n",
       "      <th>prev_num_unlike_sum</th>\n",
       "      <th>prev_num_comment_sum</th>\n",
       "      <th>prev_num_favor_sum</th>\n",
       "      <th>prev_num_thank_sum</th>\n",
       "      <th>...</th>\n",
       "      <th>prev_video_mean</th>\n",
       "      <th>prev_num_word_mean</th>\n",
       "      <th>prev_num_like_mean</th>\n",
       "      <th>prev_num_unlike_mean</th>\n",
       "      <th>prev_num_comment_mean</th>\n",
       "      <th>prev_num_favor_mean</th>\n",
       "      <th>prev_num_thank_mean</th>\n",
       "      <th>prev_num_report_mean</th>\n",
       "      <th>prev_num_nohelp_mean</th>\n",
       "      <th>prev_num_oppose_mean</th>\n",
       "    </tr>\n",
       "  </thead>\n",
       "  <tbody>\n",
       "    <tr>\n",
       "      <th>0</th>\n",
       "      <td>NaN</td>\n",
       "      <td>NaN</td>\n",
       "      <td>NaN</td>\n",
       "      <td>NaN</td>\n",
       "      <td>NaN</td>\n",
       "      <td>NaN</td>\n",
       "      <td>NaN</td>\n",
       "      <td>NaN</td>\n",
       "      <td>NaN</td>\n",
       "      <td>NaN</td>\n",
       "      <td>...</td>\n",
       "      <td>NaN</td>\n",
       "      <td>NaN</td>\n",
       "      <td>NaN</td>\n",
       "      <td>NaN</td>\n",
       "      <td>NaN</td>\n",
       "      <td>NaN</td>\n",
       "      <td>NaN</td>\n",
       "      <td>NaN</td>\n",
       "      <td>NaN</td>\n",
       "      <td>NaN</td>\n",
       "    </tr>\n",
       "    <tr>\n",
       "      <th>1</th>\n",
       "      <td>NaN</td>\n",
       "      <td>NaN</td>\n",
       "      <td>NaN</td>\n",
       "      <td>NaN</td>\n",
       "      <td>NaN</td>\n",
       "      <td>NaN</td>\n",
       "      <td>NaN</td>\n",
       "      <td>NaN</td>\n",
       "      <td>NaN</td>\n",
       "      <td>NaN</td>\n",
       "      <td>...</td>\n",
       "      <td>NaN</td>\n",
       "      <td>NaN</td>\n",
       "      <td>NaN</td>\n",
       "      <td>NaN</td>\n",
       "      <td>NaN</td>\n",
       "      <td>NaN</td>\n",
       "      <td>NaN</td>\n",
       "      <td>NaN</td>\n",
       "      <td>NaN</td>\n",
       "      <td>NaN</td>\n",
       "    </tr>\n",
       "  </tbody>\n",
       "</table>\n",
       "<p>2 rows × 27 columns</p>\n",
       "</div>"
      ],
      "text/plain": [
       "   prev_excellent_sum  prev_recommend_sum  prev_figure_sum  prev_video_sum  \\\n",
       "0                 NaN                 NaN              NaN             NaN   \n",
       "1                 NaN                 NaN              NaN             NaN   \n",
       "\n",
       "   prev_num_word_sum  prev_num_like_sum  prev_num_unlike_sum  \\\n",
       "0                NaN                NaN                  NaN   \n",
       "1                NaN                NaN                  NaN   \n",
       "\n",
       "   prev_num_comment_sum  prev_num_favor_sum  prev_num_thank_sum  ...  \\\n",
       "0                   NaN                 NaN                 NaN  ...   \n",
       "1                   NaN                 NaN                 NaN  ...   \n",
       "\n",
       "   prev_video_mean  prev_num_word_mean  prev_num_like_mean  \\\n",
       "0              NaN                 NaN                 NaN   \n",
       "1              NaN                 NaN                 NaN   \n",
       "\n",
       "   prev_num_unlike_mean  prev_num_comment_mean  prev_num_favor_mean  \\\n",
       "0                   NaN                    NaN                  NaN   \n",
       "1                   NaN                    NaN                  NaN   \n",
       "\n",
       "   prev_num_thank_mean  prev_num_report_mean  prev_num_nohelp_mean  \\\n",
       "0                  NaN                   NaN                   NaN   \n",
       "1                  NaN                   NaN                   NaN   \n",
       "\n",
       "   prev_num_oppose_mean  \n",
       "0                   NaN  \n",
       "1                   NaN  \n",
       "\n",
       "[2 rows x 27 columns]"
      ]
     },
     "execution_count": 7,
     "metadata": {},
     "output_type": "execute_result"
    }
   ],
   "source": [
    "tmp = inv_last_answer_time.merge(prev_ans_stat, 'left', 'user_time')\n",
    "tmp = tmp[[('prev_' + c + '_sum') for c in cols] + [('prev_' + c + '_mean') for c in cols[:-1]]].reset_index(drop=True)\n",
    "tmp.head(2)"
   ]
  },
  {
   "cell_type": "code",
   "execution_count": 8,
   "metadata": {},
   "outputs": [],
   "source": [
    "tmp.to_pickle(os.path.join(SAVE_PATH, 'prev_ans_feat.pkl'))"
   ]
  },
  {
   "cell_type": "code",
   "execution_count": 9,
   "metadata": {},
   "outputs": [
    {
     "name": "stdout",
     "output_type": "stream",
     "text": [
      "Used time: 147\n"
     ]
    }
   ],
   "source": [
    "toc = time.time()\n",
    "print('Used time: %d' % int(toc-tic))"
   ]
  },
  {
   "cell_type": "code",
   "execution_count": null,
   "metadata": {},
   "outputs": [],
   "source": []
  }
 ],
 "metadata": {
  "kernelspec": {
   "display_name": "Python [conda env:root]",
   "language": "python",
   "name": "conda-root-py"
  },
  "language_info": {
   "codemirror_mode": {
    "name": "ipython",
    "version": 3
   },
   "file_extension": ".py",
   "mimetype": "text/x-python",
   "name": "python",
   "nbconvert_exporter": "python",
   "pygments_lexer": "ipython3",
   "version": "3.7.3"
  }
 },
 "nbformat": 4,
 "nbformat_minor": 2
}
