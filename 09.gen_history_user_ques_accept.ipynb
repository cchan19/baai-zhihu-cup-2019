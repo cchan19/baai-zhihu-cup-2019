{
 "cells": [
  {
   "cell_type": "code",
   "execution_count": 1,
   "metadata": {},
   "outputs": [],
   "source": [
    "import pandas as pd\n",
    "import numpy as np\n",
    "import pickle\n",
    "import gc\n",
    "import os\n",
    "import time\n",
    "import copy\n",
    "import multiprocessing as mp\n",
    "from sklearn.preprocessing import LabelEncoder\n",
    "from sklearn.model_selection import StratifiedKFold\n",
    "from sklearn.feature_extraction.text import CountVectorizer\n",
    "from tqdm import tqdm\n",
    "from scipy import sparse, spatial\n",
    "import warnings\n",
    "warnings.filterwarnings('ignore')\n",
    "tqdm.pandas()"
   ]
  },
  {
   "cell_type": "code",
   "execution_count": 2,
   "metadata": {},
   "outputs": [
    {
     "name": "stdout",
     "output_type": "stream",
     "text": [
      "gen_history_user_ques_accept...\n"
     ]
    }
   ],
   "source": [
    "tic = time.time()\n",
    "DATA_PATH = '../pkl/'\n",
    "SAVE_PATH = './feats/'\n",
    "if not os.path.exists(SAVE_PATH):\n",
    "    print('create dir: %s' % SAVE_PATH)\n",
    "    os.mkdir(SAVE_PATH)\n",
    "\n",
    "print('gen_history_user_ques_accept...')"
   ]
  },
  {
   "cell_type": "code",
   "execution_count": 3,
   "metadata": {},
   "outputs": [],
   "source": [
    "invite_info = pd.read_pickle(os.path.join(DATA_PATH, 'invite_info.pkl'))\n",
    "invite_info_evaluate = pd.read_pickle(os.path.join(DATA_PATH, 'invite_info_evaluate.pkl'))\n",
    "data = pd.read_pickle(os.path.join(DATA_PATH, 'invite_data.pkl'))"
   ]
  },
  {
   "cell_type": "code",
   "execution_count": 4,
   "metadata": {},
   "outputs": [
    {
     "name": "stdout",
     "output_type": "stream",
     "text": [
      "10630845 10630845\n"
     ]
    }
   ],
   "source": [
    "data_s = pd.concat([invite_info, invite_info_evaluate])\n",
    "data = pd.concat([invite_info, invite_info_evaluate])\n",
    "print(len(data), len(data_s))"
   ]
  },
  {
   "cell_type": "code",
   "execution_count": 5,
   "metadata": {},
   "outputs": [
    {
     "name": "stdout",
     "output_type": "stream",
     "text": [
      "10630845\n"
     ]
    }
   ],
   "source": [
    "# 问题曝光\n",
    "tmp = data_s[['qid', 'itime']].groupby(['qid', 'itime']).size().reset_index()\n",
    "tmp.columns = ['qid', 'itime', 'expo']\n",
    "tmp = tmp.sort_values(by=['qid','itime'])\n",
    "tmp['question_history_expo'] = tmp.groupby('qid')['expo'].cumsum() - tmp['expo']\n",
    "tmp['question_time'] = tmp['qid'].astype(str) + '_' + tmp['itime'].astype(str)\n",
    "data['question_time'] = data['qid'].astype(str) + '_' + data['itime'].astype(str)\n",
    "data = data.merge(tmp[['question_time', 'question_history_expo']], 'left', 'question_time')\n",
    "\n",
    "tmp = data_s[['qid', 'itime', 'label']].groupby(['qid', 'itime'])['label'].sum().reset_index()\n",
    "tmp.columns = ['qid', 'itime', 'accept']\n",
    "tmp = tmp.sort_values(by=['qid','itime'])\n",
    "tmp['question_history_accept'] = tmp.groupby('qid')['accept'].cumsum() - tmp['accept']\n",
    "tmp['question_time'] = tmp['qid'].astype(str) + '_' + tmp['itime'].astype(str)\n",
    "data = data.merge(tmp[['question_time', 'question_history_accept']], 'left', 'question_time')\n",
    "\n",
    "print(len(data))    "
   ]
  },
  {
   "cell_type": "code",
   "execution_count": 6,
   "metadata": {},
   "outputs": [
    {
     "name": "stdout",
     "output_type": "stream",
     "text": [
      "10630845\n"
     ]
    }
   ],
   "source": [
    "# 用户曝光\n",
    "tmp = data_s[['uid', 'itime']].groupby(['uid', 'itime']).size().reset_index()\n",
    "tmp.columns = ['uid', 'itime', 'expo']\n",
    "tmp = tmp.sort_values(by=['uid','itime'])\n",
    "tmp['user_history_expo'] = tmp.groupby('uid')['expo'].cumsum() - tmp['expo']\n",
    "tmp['user_time'] = tmp['uid'].astype(str) + '_' + tmp['itime'].astype(str)\n",
    "data['user_time'] = data['uid'].astype(str) + '_' + data['itime'].astype(str)\n",
    "data = data.merge(tmp[['user_time', 'user_history_expo']], 'left', 'user_time')\n",
    "\n",
    "tmp = data_s[['uid', 'itime', 'label']].groupby(['uid', 'itime'])['label'].sum().reset_index()\n",
    "tmp.columns = ['uid', 'itime', 'accept']\n",
    "tmp = tmp.sort_values(by=['uid','itime'])\n",
    "tmp['user_history_accept'] = tmp.groupby('uid')['accept'].cumsum() - tmp['accept']\n",
    "tmp['user_time'] = tmp['uid'].astype(str) + '_' + tmp['itime'].astype(str)\n",
    "data = data.merge(tmp[['user_time', 'user_history_accept']], 'left', 'user_time')\n",
    "\n",
    "print(len(data))"
   ]
  },
  {
   "cell_type": "code",
   "execution_count": 7,
   "metadata": {},
   "outputs": [],
   "source": [
    "data['question_history_accept_rate'] = data['question_history_accept'] / data['question_history_expo']\n",
    "data['user_history_accept_rate'] = data['user_history_accept'] / data['user_history_expo']"
   ]
  },
  {
   "cell_type": "code",
   "execution_count": 8,
   "metadata": {},
   "outputs": [],
   "source": [
    "data[['question_history_accept', 'question_history_accept_rate', 'user_history_accept', 'user_history_accept_rate']].to_pickle(os.path.join(SAVE_PATH, 'history_user_ques_accept.pkl'))"
   ]
  },
  {
   "cell_type": "code",
   "execution_count": 9,
   "metadata": {},
   "outputs": [
    {
     "name": "stdout",
     "output_type": "stream",
     "text": [
      "Used time: 194\n"
     ]
    }
   ],
   "source": [
    "toc = time.time()\n",
    "print('Used time: %d' % int(toc-tic))"
   ]
  },
  {
   "cell_type": "code",
   "execution_count": null,
   "metadata": {},
   "outputs": [],
   "source": []
  }
 ],
 "metadata": {
  "kernelspec": {
   "display_name": "Python [conda env:root]",
   "language": "python",
   "name": "conda-root-py"
  },
  "language_info": {
   "codemirror_mode": {
    "name": "ipython",
    "version": 3
   },
   "file_extension": ".py",
   "mimetype": "text/x-python",
   "name": "python",
   "nbconvert_exporter": "python",
   "pygments_lexer": "ipython3",
   "version": "3.7.3"
  }
 },
 "nbformat": 4,
 "nbformat_minor": 2
}
