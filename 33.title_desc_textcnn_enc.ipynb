{
 "cells": [
  {
   "cell_type": "code",
   "execution_count": 1,
   "metadata": {},
   "outputs": [
    {
     "name": "stderr",
     "output_type": "stream",
     "text": [
      "/root/anaconda3/lib/python3.7/site-packages/sklearn/feature_extraction/text.py:17: DeprecationWarning: Using or importing the ABCs from 'collections' instead of from 'collections.abc' is deprecated, and in 3.8 it will stop working\n",
      "  from collections import Mapping, defaultdict\n"
     ]
    }
   ],
   "source": [
    "import pandas as pd\n",
    "import numpy as np\n",
    "import pickle\n",
    "import gc\n",
    "import os\n",
    "import time\n",
    "import copy\n",
    "import multiprocessing as mp\n",
    "from sklearn.preprocessing import LabelEncoder\n",
    "from sklearn.model_selection import StratifiedKFold\n",
    "from sklearn.feature_extraction.text import CountVectorizer\n",
    "from sklearn.metrics import roc_auc_score, log_loss\n",
    "from tqdm import tqdm\n",
    "from scipy import sparse, spatial\n",
    "import warnings\n",
    "warnings.filterwarnings('ignore')\n",
    "tqdm.pandas()"
   ]
  },
  {
   "cell_type": "code",
   "execution_count": 2,
   "metadata": {},
   "outputs": [
    {
     "name": "stderr",
     "output_type": "stream",
     "text": [
      "Using TensorFlow backend.\n"
     ]
    }
   ],
   "source": [
    "import os\n",
    "import tensorflow as tf\n",
    "\n",
    "os.environ['CUDA_VISIBLE_DEVICES'] = \"0\"\n",
    "config = tf.compat.v1.ConfigProto()\n",
    "# config = tf.ConfigProto()\n",
    "config.gpu_options.allow_growth = True\n",
    "session = tf.compat.v1.Session(config=config)\n",
    "# session = tf.Session(config=config)\n",
    "\n",
    "from keras.models import Sequential, Model\n",
    "from keras.layers import Input, Dense, CuDNNLSTM, Bidirectional, Embedding, CuDNNGRU, Conv1D, MaxPooling1D, AveragePooling1D, GlobalMaxPooling1D\n",
    "from keras.layers import Flatten, PReLU, Dropout, BatchNormalization, SpatialDropout1D, concatenate, Concatenate\n",
    "from keras.layers import Add, Subtract, Multiply, Dot\n",
    "from keras import initializers, regularizers, constraints, optimizers, layers\n",
    "from keras.preprocessing.sequence import pad_sequences\n",
    "from keras.utils import Sequence\n",
    "from keras.callbacks import Callback\n",
    "from keras import backend as K\n",
    "from keras.engine.topology import Layer \n",
    "# from keras.utils.training_utils import multi_gpu_model"
   ]
  },
  {
   "cell_type": "code",
   "execution_count": 3,
   "metadata": {},
   "outputs": [
    {
     "name": "stdout",
     "output_type": "stream",
     "text": [
      "title_desc_textcnn_enc...\n"
     ]
    }
   ],
   "source": [
    "tic = time.time()\n",
    "DATA_PATH = '../pkl/'\n",
    "SAVE_PATH = './feats/'\n",
    "WEIGHT_PATH = './weights/'\n",
    "if not os.path.exists(SAVE_PATH):\n",
    "    print('create dir: %s' % SAVE_PATH)\n",
    "    os.mkdir(SAVE_PATH)\n",
    "if not os.path.exists(WEIGHT_PATH):\n",
    "    print('create dir: %s' % WEIGHT_PATH)\n",
    "    os.mkdir(WEIGHT_PATH)\n",
    "\n",
    "print('title_desc_textcnn_enc...')"
   ]
  },
  {
   "cell_type": "code",
   "execution_count": 4,
   "metadata": {},
   "outputs": [
    {
     "name": "stdout",
     "output_type": "stream",
     "text": [
      "9489162\n"
     ]
    }
   ],
   "source": [
    "data = pd.read_pickle(os.path.join(DATA_PATH, 'invite_data.pkl'))\n",
    "question_info = pd.read_pickle(os.path.join(DATA_PATH, 'question_info.pkl'))\n",
    "word = pd.read_pickle(os.path.join(DATA_PATH, 'word.pkl'))\n",
    "len_train = (~data['label'].isnull()).sum()\n",
    "print(len_train)"
   ]
  },
  {
   "cell_type": "code",
   "execution_count": 5,
   "metadata": {},
   "outputs": [
    {
     "data": {
      "text/html": [
       "<div>\n",
       "<style scoped>\n",
       "    .dataframe tbody tr th:only-of-type {\n",
       "        vertical-align: middle;\n",
       "    }\n",
       "\n",
       "    .dataframe tbody tr th {\n",
       "        vertical-align: top;\n",
       "    }\n",
       "\n",
       "    .dataframe thead th {\n",
       "        text-align: right;\n",
       "    }\n",
       "</style>\n",
       "<table border=\"1\" class=\"dataframe\">\n",
       "  <thead>\n",
       "    <tr style=\"text-align: right;\">\n",
       "      <th></th>\n",
       "      <th>iday</th>\n",
       "      <th>ihour</th>\n",
       "      <th>itime</th>\n",
       "      <th>label</th>\n",
       "      <th>qid</th>\n",
       "      <th>uid</th>\n",
       "    </tr>\n",
       "  </thead>\n",
       "  <tbody>\n",
       "    <tr>\n",
       "      <th>0</th>\n",
       "      <td>3865</td>\n",
       "      <td>22</td>\n",
       "      <td>92782</td>\n",
       "      <td>0.0</td>\n",
       "      <td>2166419046</td>\n",
       "      <td>401693808</td>\n",
       "    </tr>\n",
       "    <tr>\n",
       "      <th>1</th>\n",
       "      <td>3844</td>\n",
       "      <td>11</td>\n",
       "      <td>92267</td>\n",
       "      <td>0.0</td>\n",
       "      <td>1550017551</td>\n",
       "      <td>3392373099</td>\n",
       "    </tr>\n",
       "    <tr>\n",
       "      <th>2</th>\n",
       "      <td>3862</td>\n",
       "      <td>15</td>\n",
       "      <td>92703</td>\n",
       "      <td>0.0</td>\n",
       "      <td>604029601</td>\n",
       "      <td>2317670257</td>\n",
       "    </tr>\n",
       "    <tr>\n",
       "      <th>3</th>\n",
       "      <td>3849</td>\n",
       "      <td>11</td>\n",
       "      <td>92387</td>\n",
       "      <td>0.0</td>\n",
       "      <td>2350061229</td>\n",
       "      <td>1618461867</td>\n",
       "    </tr>\n",
       "    <tr>\n",
       "      <th>4</th>\n",
       "      <td>3867</td>\n",
       "      <td>4</td>\n",
       "      <td>92812</td>\n",
       "      <td>0.0</td>\n",
       "      <td>2443223942</td>\n",
       "      <td>3544409350</td>\n",
       "    </tr>\n",
       "  </tbody>\n",
       "</table>\n",
       "</div>"
      ],
      "text/plain": [
       "   iday  ihour  itime  label         qid         uid\n",
       "0  3865     22  92782    0.0  2166419046   401693808\n",
       "1  3844     11  92267    0.0  1550017551  3392373099\n",
       "2  3862     15  92703    0.0   604029601  2317670257\n",
       "3  3849     11  92387    0.0  2350061229  1618461867\n",
       "4  3867      4  92812    0.0  2443223942  3544409350"
      ]
     },
     "execution_count": 5,
     "metadata": {},
     "output_type": "execute_result"
    }
   ],
   "source": [
    "data.head()"
   ]
  },
  {
   "cell_type": "code",
   "execution_count": 6,
   "metadata": {},
   "outputs": [
    {
     "data": {
      "text/html": [
       "<div>\n",
       "<style scoped>\n",
       "    .dataframe tbody tr th:only-of-type {\n",
       "        vertical-align: middle;\n",
       "    }\n",
       "\n",
       "    .dataframe tbody tr th {\n",
       "        vertical-align: top;\n",
       "    }\n",
       "\n",
       "    .dataframe thead th {\n",
       "        text-align: right;\n",
       "    }\n",
       "</style>\n",
       "<table border=\"1\" class=\"dataframe\">\n",
       "  <thead>\n",
       "    <tr style=\"text-align: right;\">\n",
       "      <th></th>\n",
       "      <th>qid</th>\n",
       "      <th>qtime</th>\n",
       "      <th>title_sw</th>\n",
       "      <th>title_w</th>\n",
       "      <th>desc_sw</th>\n",
       "      <th>desc_w</th>\n",
       "      <th>topic</th>\n",
       "      <th>qday</th>\n",
       "      <th>qhour</th>\n",
       "    </tr>\n",
       "  </thead>\n",
       "  <tbody>\n",
       "    <tr>\n",
       "      <th>0</th>\n",
       "      <td>2234111670</td>\n",
       "      <td>24437</td>\n",
       "      <td>[211, 204, 1715, 69, 2033, 138, 57, 138, 8, 28...</td>\n",
       "      <td>[22414, 963, 10458]</td>\n",
       "      <td>[0]</td>\n",
       "      <td>[0]</td>\n",
       "      <td>[321, 730, 5784, 4389]</td>\n",
       "      <td>1018</td>\n",
       "      <td>5</td>\n",
       "    </tr>\n",
       "    <tr>\n",
       "      <th>1</th>\n",
       "      <td>760329790</td>\n",
       "      <td>41900</td>\n",
       "      <td>[69, 2033, 138, 2616, 2668, 36, 2594, 1165, 20...</td>\n",
       "      <td>[12677, 16829, 15201, 6419, 101839]</td>\n",
       "      <td>[146, 982, 401, 297, 17, 2616, 2668, 36, 2594,...</td>\n",
       "      <td>[1296, 2118, 12677, 16829, 15201, 6419, 101839...</td>\n",
       "      <td>[278, 12673, 4677]</td>\n",
       "      <td>1745</td>\n",
       "      <td>20</td>\n",
       "    </tr>\n",
       "    <tr>\n",
       "      <th>2</th>\n",
       "      <td>741313548</td>\n",
       "      <td>48789</td>\n",
       "      <td>[153, 662, 1218, 853, 325, 1056, 467, 398, 102...</td>\n",
       "      <td>[700, 2781, 3280, 81215]</td>\n",
       "      <td>[1956, 3583, 153, 34, 35, 1016, 586, 586, 716,...</td>\n",
       "      <td>[732, 24400, 48321, 39608, 20788, 219486, 1183...</td>\n",
       "      <td>[226]</td>\n",
       "      <td>2032</td>\n",
       "      <td>21</td>\n",
       "    </tr>\n",
       "    <tr>\n",
       "      <th>3</th>\n",
       "      <td>3481466230</td>\n",
       "      <td>52455</td>\n",
       "      <td>[22, 179, 57, 451, 594, 118, 882, 655, 1, 433,...</td>\n",
       "      <td>[3312, 1823, 1505, 638, 166, 461]</td>\n",
       "      <td>[323, 37, 1, 606, 1227, 29, 22, 179, 7, 44, 27...</td>\n",
       "      <td>[6642, 4214, 3312, 1505, 2205, 232, 294, 7177,...</td>\n",
       "      <td>[51, 4468]</td>\n",
       "      <td>2185</td>\n",
       "      <td>15</td>\n",
       "    </tr>\n",
       "    <tr>\n",
       "      <th>4</th>\n",
       "      <td>3966197028</td>\n",
       "      <td>54473</td>\n",
       "      <td>[1622, 223, 1218, 853, 390, 220, 753, 909, 557...</td>\n",
       "      <td>[700, 895, 2253]</td>\n",
       "      <td>[0]</td>\n",
       "      <td>[0]</td>\n",
       "      <td>[54700, 81, 57, 17670, 43574]</td>\n",
       "      <td>2269</td>\n",
       "      <td>17</td>\n",
       "    </tr>\n",
       "  </tbody>\n",
       "</table>\n",
       "</div>"
      ],
      "text/plain": [
       "          qid  qtime                                           title_sw  \\\n",
       "0  2234111670  24437  [211, 204, 1715, 69, 2033, 138, 57, 138, 8, 28...   \n",
       "1   760329790  41900  [69, 2033, 138, 2616, 2668, 36, 2594, 1165, 20...   \n",
       "2   741313548  48789  [153, 662, 1218, 853, 325, 1056, 467, 398, 102...   \n",
       "3  3481466230  52455  [22, 179, 57, 451, 594, 118, 882, 655, 1, 433,...   \n",
       "4  3966197028  54473  [1622, 223, 1218, 853, 390, 220, 753, 909, 557...   \n",
       "\n",
       "                               title_w  \\\n",
       "0                  [22414, 963, 10458]   \n",
       "1  [12677, 16829, 15201, 6419, 101839]   \n",
       "2             [700, 2781, 3280, 81215]   \n",
       "3    [3312, 1823, 1505, 638, 166, 461]   \n",
       "4                     [700, 895, 2253]   \n",
       "\n",
       "                                             desc_sw  \\\n",
       "0                                                [0]   \n",
       "1  [146, 982, 401, 297, 17, 2616, 2668, 36, 2594,...   \n",
       "2  [1956, 3583, 153, 34, 35, 1016, 586, 586, 716,...   \n",
       "3  [323, 37, 1, 606, 1227, 29, 22, 179, 7, 44, 27...   \n",
       "4                                                [0]   \n",
       "\n",
       "                                              desc_w  \\\n",
       "0                                                [0]   \n",
       "1  [1296, 2118, 12677, 16829, 15201, 6419, 101839...   \n",
       "2  [732, 24400, 48321, 39608, 20788, 219486, 1183...   \n",
       "3  [6642, 4214, 3312, 1505, 2205, 232, 294, 7177,...   \n",
       "4                                                [0]   \n",
       "\n",
       "                           topic  qday  qhour  \n",
       "0         [321, 730, 5784, 4389]  1018      5  \n",
       "1             [278, 12673, 4677]  1745     20  \n",
       "2                          [226]  2032     21  \n",
       "3                     [51, 4468]  2185     15  \n",
       "4  [54700, 81, 57, 17670, 43574]  2269     17  "
      ]
     },
     "execution_count": 6,
     "metadata": {},
     "output_type": "execute_result"
    }
   ],
   "source": [
    "question_info.head()"
   ]
  },
  {
   "cell_type": "code",
   "execution_count": 7,
   "metadata": {},
   "outputs": [
    {
     "data": {
      "text/html": [
       "<div>\n",
       "<style scoped>\n",
       "    .dataframe tbody tr th:only-of-type {\n",
       "        vertical-align: middle;\n",
       "    }\n",
       "\n",
       "    .dataframe tbody tr th {\n",
       "        vertical-align: top;\n",
       "    }\n",
       "\n",
       "    .dataframe thead th {\n",
       "        text-align: right;\n",
       "    }\n",
       "</style>\n",
       "<table border=\"1\" class=\"dataframe\">\n",
       "  <thead>\n",
       "    <tr style=\"text-align: right;\">\n",
       "      <th></th>\n",
       "      <th>iday</th>\n",
       "      <th>ihour</th>\n",
       "      <th>itime</th>\n",
       "      <th>label</th>\n",
       "      <th>qid</th>\n",
       "      <th>uid</th>\n",
       "      <th>title_w</th>\n",
       "      <th>desc_w</th>\n",
       "    </tr>\n",
       "  </thead>\n",
       "  <tbody>\n",
       "    <tr>\n",
       "      <th>0</th>\n",
       "      <td>3865</td>\n",
       "      <td>22</td>\n",
       "      <td>92782</td>\n",
       "      <td>0.0</td>\n",
       "      <td>2166419046</td>\n",
       "      <td>401693808</td>\n",
       "      <td>[11058, 272, 2202, 431, 951, 243, 3828, 3037, ...</td>\n",
       "      <td>[3828, 14870, 3037, 2450, 692, 1688, 53547, 24...</td>\n",
       "    </tr>\n",
       "    <tr>\n",
       "      <th>1</th>\n",
       "      <td>3844</td>\n",
       "      <td>11</td>\n",
       "      <td>92267</td>\n",
       "      <td>0.0</td>\n",
       "      <td>1550017551</td>\n",
       "      <td>3392373099</td>\n",
       "      <td>[149, 79, 5210, 22869]</td>\n",
       "      <td>[429, 2709, 1465, 6965]</td>\n",
       "    </tr>\n",
       "    <tr>\n",
       "      <th>2</th>\n",
       "      <td>3862</td>\n",
       "      <td>15</td>\n",
       "      <td>92703</td>\n",
       "      <td>0.0</td>\n",
       "      <td>604029601</td>\n",
       "      <td>2317670257</td>\n",
       "      <td>[31489, 9218, 3440, 243]</td>\n",
       "      <td>[3046, 221, 3440, 730, 31489, 9218, 1278, 415]</td>\n",
       "    </tr>\n",
       "    <tr>\n",
       "      <th>3</th>\n",
       "      <td>3849</td>\n",
       "      <td>11</td>\n",
       "      <td>92387</td>\n",
       "      <td>0.0</td>\n",
       "      <td>2350061229</td>\n",
       "      <td>1618461867</td>\n",
       "      <td>[973, 64958, 8583, 2269, 628, 565, 2200, 590, ...</td>\n",
       "      <td>[0]</td>\n",
       "    </tr>\n",
       "    <tr>\n",
       "      <th>4</th>\n",
       "      <td>3867</td>\n",
       "      <td>4</td>\n",
       "      <td>92812</td>\n",
       "      <td>0.0</td>\n",
       "      <td>2443223942</td>\n",
       "      <td>3544409350</td>\n",
       "      <td>[554, 28208, 396, 51]</td>\n",
       "      <td>[0]</td>\n",
       "    </tr>\n",
       "  </tbody>\n",
       "</table>\n",
       "</div>"
      ],
      "text/plain": [
       "   iday  ihour  itime  label         qid         uid  \\\n",
       "0  3865     22  92782    0.0  2166419046   401693808   \n",
       "1  3844     11  92267    0.0  1550017551  3392373099   \n",
       "2  3862     15  92703    0.0   604029601  2317670257   \n",
       "3  3849     11  92387    0.0  2350061229  1618461867   \n",
       "4  3867      4  92812    0.0  2443223942  3544409350   \n",
       "\n",
       "                                             title_w  \\\n",
       "0  [11058, 272, 2202, 431, 951, 243, 3828, 3037, ...   \n",
       "1                             [149, 79, 5210, 22869]   \n",
       "2                           [31489, 9218, 3440, 243]   \n",
       "3  [973, 64958, 8583, 2269, 628, 565, 2200, 590, ...   \n",
       "4                              [554, 28208, 396, 51]   \n",
       "\n",
       "                                              desc_w  \n",
       "0  [3828, 14870, 3037, 2450, 692, 1688, 53547, 24...  \n",
       "1                            [429, 2709, 1465, 6965]  \n",
       "2     [3046, 221, 3440, 730, 31489, 9218, 1278, 415]  \n",
       "3                                                [0]  \n",
       "4                                                [0]  "
      ]
     },
     "execution_count": 7,
     "metadata": {},
     "output_type": "execute_result"
    }
   ],
   "source": [
    "data = data.merge(question_info[['qid', 'title_w', 'desc_w']], 'left', 'qid')\n",
    "# data['topic'] = data['topic'].fillna('-1')\n",
    "data.head()"
   ]
  },
  {
   "cell_type": "code",
   "execution_count": 8,
   "metadata": {},
   "outputs": [
    {
     "name": "stdout",
     "output_type": "stream",
     "text": [
      "38 973\n"
     ]
    }
   ],
   "source": [
    "max_len_t = data['title_w'].apply(len).max()\n",
    "max_len_d = data['desc_w'].apply(len).max()\n",
    "print(max_len_t, max_len_d) # 110"
   ]
  },
  {
   "cell_type": "code",
   "execution_count": 9,
   "metadata": {},
   "outputs": [],
   "source": [
    "max_len_d = 256"
   ]
  },
  {
   "cell_type": "code",
   "execution_count": 10,
   "metadata": {},
   "outputs": [
    {
     "name": "stderr",
     "output_type": "stream",
     "text": [
      "100%|██████████| 10630845/10630845 [00:38<00:00, 279750.67it/s]\n",
      "100%|██████████| 10630845/10630845 [00:38<00:00, 274025.74it/s]\n"
     ]
    }
   ],
   "source": [
    "np.random.seed(42)\n",
    "def shuffle(l):\n",
    "    l = l[:256]\n",
    "    np.random.shuffle(l)\n",
    "    return l\n",
    "\n",
    "data['title_w'] = data['title_w'].progress_apply(shuffle)\n",
    "data['desc_w'] = data['desc_w'].progress_apply(shuffle)"
   ]
  },
  {
   "cell_type": "code",
   "execution_count": 11,
   "metadata": {},
   "outputs": [
    {
     "data": {
      "text/html": [
       "<div>\n",
       "<style scoped>\n",
       "    .dataframe tbody tr th:only-of-type {\n",
       "        vertical-align: middle;\n",
       "    }\n",
       "\n",
       "    .dataframe tbody tr th {\n",
       "        vertical-align: top;\n",
       "    }\n",
       "\n",
       "    .dataframe thead th {\n",
       "        text-align: right;\n",
       "    }\n",
       "</style>\n",
       "<table border=\"1\" class=\"dataframe\">\n",
       "  <thead>\n",
       "    <tr style=\"text-align: right;\">\n",
       "      <th></th>\n",
       "      <th>iday</th>\n",
       "      <th>ihour</th>\n",
       "      <th>itime</th>\n",
       "      <th>label</th>\n",
       "      <th>qid</th>\n",
       "      <th>uid</th>\n",
       "      <th>title_w</th>\n",
       "      <th>desc_w</th>\n",
       "    </tr>\n",
       "  </thead>\n",
       "  <tbody>\n",
       "    <tr>\n",
       "      <th>0</th>\n",
       "      <td>3865</td>\n",
       "      <td>22</td>\n",
       "      <td>92782</td>\n",
       "      <td>0.0</td>\n",
       "      <td>2166419046</td>\n",
       "      <td>401693808</td>\n",
       "      <td>[3037, 272, 243, 11058, 263, 2202, 951, 431, 3...</td>\n",
       "      <td>[11237, 2202, 263, 33060, 1619, 1688, 272, 245...</td>\n",
       "    </tr>\n",
       "    <tr>\n",
       "      <th>1</th>\n",
       "      <td>3844</td>\n",
       "      <td>11</td>\n",
       "      <td>92267</td>\n",
       "      <td>0.0</td>\n",
       "      <td>1550017551</td>\n",
       "      <td>3392373099</td>\n",
       "      <td>[79, 149, 22869, 5210]</td>\n",
       "      <td>[2709, 1465, 429, 6965]</td>\n",
       "    </tr>\n",
       "    <tr>\n",
       "      <th>2</th>\n",
       "      <td>3862</td>\n",
       "      <td>15</td>\n",
       "      <td>92703</td>\n",
       "      <td>0.0</td>\n",
       "      <td>604029601</td>\n",
       "      <td>2317670257</td>\n",
       "      <td>[243, 9218, 31489, 3440]</td>\n",
       "      <td>[221, 3440, 415, 9218, 31489, 3046, 730, 1278]</td>\n",
       "    </tr>\n",
       "    <tr>\n",
       "      <th>3</th>\n",
       "      <td>3849</td>\n",
       "      <td>11</td>\n",
       "      <td>92387</td>\n",
       "      <td>0.0</td>\n",
       "      <td>2350061229</td>\n",
       "      <td>1618461867</td>\n",
       "      <td>[973, 2200, 2269, 64958, 628, 565, 8583, 483, ...</td>\n",
       "      <td>[0]</td>\n",
       "    </tr>\n",
       "    <tr>\n",
       "      <th>4</th>\n",
       "      <td>3867</td>\n",
       "      <td>4</td>\n",
       "      <td>92812</td>\n",
       "      <td>0.0</td>\n",
       "      <td>2443223942</td>\n",
       "      <td>3544409350</td>\n",
       "      <td>[51, 396, 554, 28208]</td>\n",
       "      <td>[0]</td>\n",
       "    </tr>\n",
       "  </tbody>\n",
       "</table>\n",
       "</div>"
      ],
      "text/plain": [
       "   iday  ihour  itime  label         qid         uid  \\\n",
       "0  3865     22  92782    0.0  2166419046   401693808   \n",
       "1  3844     11  92267    0.0  1550017551  3392373099   \n",
       "2  3862     15  92703    0.0   604029601  2317670257   \n",
       "3  3849     11  92387    0.0  2350061229  1618461867   \n",
       "4  3867      4  92812    0.0  2443223942  3544409350   \n",
       "\n",
       "                                             title_w  \\\n",
       "0  [3037, 272, 243, 11058, 263, 2202, 951, 431, 3...   \n",
       "1                             [79, 149, 22869, 5210]   \n",
       "2                           [243, 9218, 31489, 3440]   \n",
       "3  [973, 2200, 2269, 64958, 628, 565, 8583, 483, ...   \n",
       "4                              [51, 396, 554, 28208]   \n",
       "\n",
       "                                              desc_w  \n",
       "0  [11237, 2202, 263, 33060, 1619, 1688, 272, 245...  \n",
       "1                            [2709, 1465, 429, 6965]  \n",
       "2     [221, 3440, 415, 9218, 31489, 3046, 730, 1278]  \n",
       "3                                                [0]  \n",
       "4                                                [0]  "
      ]
     },
     "execution_count": 11,
     "metadata": {},
     "output_type": "execute_result"
    }
   ],
   "source": [
    "data.head()"
   ]
  },
  {
   "cell_type": "code",
   "execution_count": 12,
   "metadata": {},
   "outputs": [],
   "source": [
    "title = pad_sequences(data['title_w'], maxlen=max_len_t)\n",
    "desc = pad_sequences(data['desc_w'], maxlen=max_len_d)"
   ]
  },
  {
   "cell_type": "code",
   "execution_count": 13,
   "metadata": {},
   "outputs": [
    {
     "data": {
      "text/plain": [
       "(10630845, 38)"
      ]
     },
     "execution_count": 13,
     "metadata": {},
     "output_type": "execute_result"
    }
   ],
   "source": [
    "title.shape"
   ]
  },
  {
   "cell_type": "code",
   "execution_count": 14,
   "metadata": {},
   "outputs": [
    {
     "data": {
      "text/plain": [
       "(10630845, 256)"
      ]
     },
     "execution_count": 14,
     "metadata": {},
     "output_type": "execute_result"
    }
   ],
   "source": [
    "desc.shape"
   ]
  },
  {
   "cell_type": "code",
   "execution_count": 15,
   "metadata": {},
   "outputs": [],
   "source": [
    "# embed_weights = np.array([[0] * 64] + [list(v) for v in word['vector'].values])\n",
    "embed_weights = np.vstack([np.zeros((1, 64))] + list(word['vector'].values))"
   ]
  },
  {
   "cell_type": "code",
   "execution_count": 16,
   "metadata": {},
   "outputs": [
    {
     "data": {
      "text/plain": [
       "(1762830, 64)"
      ]
     },
     "execution_count": 16,
     "metadata": {},
     "output_type": "execute_result"
    }
   ],
   "source": [
    "embed_weights.shape"
   ]
  },
  {
   "cell_type": "code",
   "execution_count": 17,
   "metadata": {},
   "outputs": [],
   "source": [
    "class DataSequence(Sequence):\n",
    "    \n",
    "    def __init__(self, xu, xq, y, batch_size=128):\n",
    "        self.xu = xu\n",
    "        self.xq = xq\n",
    "        self.y = y\n",
    "        self.batch_size = batch_size\n",
    "         \n",
    "    def __len__(self):\n",
    "        return int(np.ceil(self.xu.shape[0] / float(self.batch_size)))\n",
    "    \n",
    "    def __getitem__(self, idx):\n",
    "        batch_idx = np.arange(idx * self.batch_size, min((idx + 1) * self.batch_size, self.xu.shape[0]))\n",
    "        batch_xu = self.xu[batch_idx]\n",
    "        batch_xq = self.xq[batch_idx]\n",
    "        batch_y = self.y[batch_idx]\n",
    "        return [batch_xu, batch_xq], batch_y"
   ]
  },
  {
   "cell_type": "code",
   "execution_count": 18,
   "metadata": {},
   "outputs": [],
   "source": [
    "class MetricsCallback(Callback):\n",
    "    def __init__(self, x_trn_u, x_trn_q, y_trn, x_val_u, x_val_q, y_val, batch_size=128, save_name='weight.h5'):\n",
    "        self.trn_generator = DataSequence(x_trn_u, x_trn_q, y_trn, BATCH_SIZE)\n",
    "        self.val_generator = DataSequence(x_val_u, x_val_q, y_val, BATCH_SIZE)\n",
    "        self.y_trn = y_trn\n",
    "        self.y_val = y_val\n",
    "        self.save_name = save_name\n",
    "        self.best_score = 0.5\n",
    "\n",
    "    def on_epoch_end(self, epoch, logs={}):\n",
    "        # eval train\n",
    "        y_pred = self.model.predict_generator(self.trn_generator, \n",
    "                                              max_queue_size=10, \n",
    "                                              workers=1, \n",
    "                                              use_multiprocessing=False, \n",
    "                                              verbose=0)\n",
    "        roc = roc_auc_score(self.y_trn, y_pred)\n",
    "        # eval valid\n",
    "        y_pred_val = self.model.predict_generator(self.val_generator, \n",
    "                                              max_queue_size=10, \n",
    "                                              workers=1, \n",
    "                                              use_multiprocessing=False, \n",
    "                                              verbose=0)\n",
    "        roc_val = roc_auc_score(self.y_val, y_pred_val)\n",
    "        print('\\rroc-auc: %s - roc-auc_val: %s' % (str(round(roc,4)),str(round(roc_val,4))),end=100*' '+'\\n')\n",
    "#         print(roc_val)\n",
    "#         print(log_loss(self.y_val, y_pred_val)/len(y_pred_val))\n",
    "        if roc_val > self.best_score:\n",
    "            self.best_score = roc_val\n",
    "            self.model.save_weights(os.path.join(WEIGHT_PATH, self.save_name))\n",
    "        \n",
    "        return"
   ]
  },
  {
   "cell_type": "code",
   "execution_count": 19,
   "metadata": {},
   "outputs": [],
   "source": [
    "def Net():\n",
    "    # title\n",
    "    inp_t = Input(shape=(max_len_t,))\n",
    "    x = Embedding(embed_weights.shape[0], embed_weights.shape[1], weights=[embed_weights], trainable=False)(inp_t)\n",
    "    convs = []\n",
    "    for kernel_size in [3, 4, 5]:\n",
    "        c = Conv1D(128, kernel_size, activation='relu')(x)\n",
    "        c = GlobalMaxPooling1D()(c)\n",
    "        convs.append(c)\n",
    "    x = Concatenate()(convs)\n",
    "    # desc\n",
    "    inp_d = Input(shape=(max_len_d,))\n",
    "    y = Embedding(embed_weights.shape[0], embed_weights.shape[1], weights=[embed_weights], trainable=False)(inp_d)\n",
    "    convs = []\n",
    "    for kernel_size in [3, 4, 5]:\n",
    "        c = Conv1D(128, kernel_size, activation='relu')(y)\n",
    "        c = GlobalMaxPooling1D()(c)\n",
    "        convs.append(c)\n",
    "    y = Concatenate()(convs)\n",
    "    ## dense\n",
    "    x = Concatenate()([x, y])\n",
    "    x = Dense(256)(x)\n",
    "    x = BatchNormalization()(x)\n",
    "    x = PReLU()(x)\n",
    "    x = Dropout(0.2)(x)\n",
    "    x = Dense(256)(x)\n",
    "    x = BatchNormalization()(x)\n",
    "    x = PReLU()(x)\n",
    "    x = Dropout(0.2)(x)\n",
    "    out = Dense(1, activation=\"sigmoid\")(x)\n",
    "    model = Model(inputs=[inp_t, inp_d], outputs=out)\n",
    "    return model"
   ]
  },
  {
   "cell_type": "code",
   "execution_count": 20,
   "metadata": {},
   "outputs": [],
   "source": [
    "train_x_u = title[:len_train]\n",
    "train_x_q = desc[:len_train]\n",
    "test_x_u = title[len_train:]\n",
    "test_x_q = desc[len_train:]\n",
    "train_y = data['label'].values[:len_train]"
   ]
  },
  {
   "cell_type": "code",
   "execution_count": 21,
   "metadata": {},
   "outputs": [
    {
     "name": "stdout",
     "output_type": "stream",
     "text": [
      "(9489162, 38)\n",
      "(1141683, 38)\n",
      "0.1773515933229931\n"
     ]
    }
   ],
   "source": [
    "print(train_x_u.shape)\n",
    "print(test_x_u.shape)\n",
    "print(train_y.sum() / len(train_y))"
   ]
  },
  {
   "cell_type": "code",
   "execution_count": 23,
   "metadata": {
    "scrolled": true
   },
   "outputs": [
    {
     "name": "stdout",
     "output_type": "stream",
     "text": [
      "----------------------------------------------------------------------------------------------------\n",
      "Fold 2\n",
      "Epoch 1/10\n",
      "7414/7414 [==============================] - 297s 40ms/step - loss: 0.4565\n",
      "roc-auc: 0.6331 - roc-auc_val: 0.6259                                                                                                    \n",
      "Epoch 2/10\n",
      "7414/7414 [==============================] - 297s 40ms/step - loss: 0.4507\n",
      "roc-auc: 0.649 - roc-auc_val: 0.6345                                                                                                    \n",
      "Epoch 3/10\n",
      "7414/7414 [==============================] - 296s 40ms/step - loss: 0.4474\n",
      "roc-auc: 0.6613 - roc-auc_val: 0.6359                                                                                                    \n",
      "Epoch 4/10\n",
      "7414/7414 [==============================] - 296s 40ms/step - loss: 0.4446\n",
      "roc-auc: 0.669 - roc-auc_val: 0.6353                                                                                                    \n",
      "Epoch 5/10\n",
      "7414/7414 [==============================] - 300s 40ms/step - loss: 0.4419\n",
      "roc-auc: 0.6794 - roc-auc_val: 0.6365                                                                                                    \n",
      "Epoch 6/10\n",
      "7414/7414 [==============================] - 297s 40ms/step - loss: 0.4395\n",
      "roc-auc: 0.6903 - roc-auc_val: 0.6376                                                                                                    \n",
      "Epoch 7/10\n",
      "7414/7414 [==============================] - 298s 40ms/step - loss: 0.4372\n",
      "roc-auc: 0.6966 - roc-auc_val: 0.6353                                                                                                    \n",
      "Epoch 8/10\n",
      "7414/7414 [==============================] - 297s 40ms/step - loss: 0.4353\n",
      "roc-auc: 0.7021 - roc-auc_val: 0.6358                                                                                                    \n",
      "Epoch 9/10\n",
      "7414/7414 [==============================] - 297s 40ms/step - loss: 0.4335\n",
      "roc-auc: 0.7081 - roc-auc_val: 0.6342                                                                                                    \n",
      "Epoch 10/10\n",
      "7414/7414 [==============================] - 297s 40ms/step - loss: 0.4319\n",
      "roc-auc: 0.7126 - roc-auc_val: 0.635                                                                                                    \n",
      "----------------------------------------------------------------------------------------------------\n",
      "Fold 3\n",
      "Epoch 1/10\n",
      "7414/7414 [==============================] - 298s 40ms/step - loss: 0.4567\n",
      "roc-auc: 0.6355 - roc-auc_val: 0.6275                                                                                                    \n",
      "Epoch 2/10\n",
      "7414/7414 [==============================] - 295s 40ms/step - loss: 0.4505\n",
      "roc-auc: 0.648 - roc-auc_val: 0.6322                                                                                                    \n",
      "Epoch 3/10\n",
      "7414/7414 [==============================] - 294s 40ms/step - loss: 0.4474\n",
      "roc-auc: 0.663 - roc-auc_val: 0.6377                                                                                                    \n",
      "Epoch 4/10\n",
      "7414/7414 [==============================] - 294s 40ms/step - loss: 0.4445\n",
      "roc-auc: 0.6711 - roc-auc_val: 0.6371                                                                                                    \n",
      "Epoch 5/10\n",
      "7414/7414 [==============================] - 294s 40ms/step - loss: 0.4419\n",
      "roc-auc: 0.6809 - roc-auc_val: 0.637                                                                                                    \n",
      "Epoch 6/10\n",
      "7414/7414 [==============================] - 294s 40ms/step - loss: 0.4394\n",
      "roc-auc: 0.6861 - roc-auc_val: 0.637                                                                                                    \n",
      "Epoch 7/10\n",
      "7414/7414 [==============================] - 294s 40ms/step - loss: 0.4372\n",
      "roc-auc: 0.6957 - roc-auc_val: 0.6352                                                                                                    \n",
      "Epoch 8/10\n",
      "7414/7414 [==============================] - 294s 40ms/step - loss: 0.4352\n",
      "roc-auc: 0.6999 - roc-auc_val: 0.6321                                                                                                    \n",
      "Epoch 9/10\n",
      "7414/7414 [==============================] - 294s 40ms/step - loss: 0.4334\n",
      "roc-auc: 0.7079 - roc-auc_val: 0.6342                                                                                                    \n",
      "Epoch 10/10\n",
      "7414/7414 [==============================] - 294s 40ms/step - loss: 0.4318\n",
      "roc-auc: 0.711 - roc-auc_val: 0.6339                                                                                                    \n",
      "----------------------------------------------------------------------------------------------------\n",
      "Fold 4\n",
      "Epoch 1/10\n",
      "7414/7414 [==============================] - 297s 40ms/step - loss: 0.4567\n",
      "roc-auc: 0.6359 - roc-auc_val: 0.6273                                                                                                    \n",
      "Epoch 2/10\n",
      "7414/7414 [==============================] - 294s 40ms/step - loss: 0.4505\n",
      "roc-auc: 0.6488 - roc-auc_val: 0.633                                                                                                    \n",
      "Epoch 3/10\n",
      "7414/7414 [==============================] - 294s 40ms/step - loss: 0.4474\n",
      "roc-auc: 0.662 - roc-auc_val: 0.6355                                                                                                    \n",
      "Epoch 4/10\n",
      "7414/7414 [==============================] - 294s 40ms/step - loss: 0.4445\n",
      "roc-auc: 0.6732 - roc-auc_val: 0.637                                                                                                    \n",
      "Epoch 5/10\n",
      "7414/7414 [==============================] - 294s 40ms/step - loss: 0.4418\n",
      "roc-auc: 0.6826 - roc-auc_val: 0.6381                                                                                                    \n",
      "Epoch 6/10\n",
      "7414/7414 [==============================] - 294s 40ms/step - loss: 0.4393\n",
      "roc-auc: 0.6902 - roc-auc_val: 0.6362                                                                                                    \n",
      "Epoch 7/10\n",
      "7414/7414 [==============================] - 294s 40ms/step - loss: 0.4371\n",
      "roc-auc: 0.6981 - roc-auc_val: 0.6339                                                                                                    \n",
      "Epoch 8/10\n",
      "7414/7414 [==============================] - 294s 40ms/step - loss: 0.4352\n",
      "roc-auc: 0.7028 - roc-auc_val: 0.6355                                                                                                    \n",
      "Epoch 9/10\n",
      "7414/7414 [==============================] - 294s 40ms/step - loss: 0.4334\n",
      "roc-auc: 0.7084 - roc-auc_val: 0.6344                                                                                                    \n",
      "Epoch 10/10\n",
      "7414/7414 [==============================] - 294s 40ms/step - loss: 0.4318\n",
      "roc-auc: 0.7139 - roc-auc_val: 0.631                                                                                                    \n"
     ]
    }
   ],
   "source": [
    "BATCH_SIZE = 1024\n",
    "\n",
    "kfold = StratifiedKFold(n_splits=5, shuffle=True, random_state=42)\n",
    "\n",
    "for i, (tr_idx, va_idx) in enumerate(kfold.split(train_x_u, train_y)):\n",
    "    \n",
    "    print('-'*100)\n",
    "    print('Fold %d' % i)\n",
    "    trn_x_u, trn_x_q, trn_y = train_x_u[tr_idx], train_x_q[tr_idx], train_y[tr_idx]\n",
    "    val_x_u, val_x_q, val_y = train_x_u[va_idx], train_x_q[va_idx], train_y[va_idx]\n",
    "    \n",
    "    K.clear_session()\n",
    "    model = Net()\n",
    "    model.compile(loss='binary_crossentropy', optimizer='adam',)\n",
    "    \n",
    "    trn_generator = DataSequence(trn_x_u, trn_x_q, trn_y, batch_size=BATCH_SIZE)\n",
    "    val_generator = DataSequence(val_x_u, val_x_q, val_y, batch_size=BATCH_SIZE)\n",
    "    \n",
    "    history = model.fit_generator(generator=trn_generator, \n",
    "                        epochs=10, \n",
    "                        verbose=1, \n",
    "                        callbacks=[MetricsCallback(trn_x_u, trn_x_q, trn_y, val_x_u, val_x_q, val_y, \n",
    "                                                   batch_size=BATCH_SIZE*4, \n",
    "                                                   save_name='title_desc_textcnn_enc_weight_fold%d.h5' % i)], \n",
    "                        max_queue_size=100, \n",
    "                        workers=1, \n",
    "                        use_multiprocessing=False,)\n",
    "    \n",
    "    del trn_x_u, trn_x_q, trn_y, val_x_u, val_x_q, val_y\n",
    "    gc.collect()"
   ]
  },
  {
   "cell_type": "code",
   "execution_count": null,
   "metadata": {},
   "outputs": [],
   "source": [
    "# del trn_x_u, trn_x_q, trn_y, val_x_u, val_x_q, val_y\n",
    "# gc.collect()"
   ]
  },
  {
   "cell_type": "code",
   "execution_count": null,
   "metadata": {},
   "outputs": [],
   "source": [
    "# 0.4608"
   ]
  },
  {
   "cell_type": "code",
   "execution_count": 22,
   "metadata": {},
   "outputs": [],
   "source": [
    "BATCH_SIZE = 512\n",
    "\n",
    "kfold = StratifiedKFold(n_splits=5, shuffle=True, random_state=42)"
   ]
  },
  {
   "cell_type": "code",
   "execution_count": 23,
   "metadata": {},
   "outputs": [
    {
     "name": "stdout",
     "output_type": "stream",
     "text": [
      "----------------------------------------------------------------------------------------------------\n",
      "Fold 0\n",
      "0.6377413412107894\n",
      "Predict Done.\n",
      "----------------------------------------------------------------------------------------------------\n",
      "Fold 1\n",
      "0.6371083983113438\n",
      "Predict Done.\n",
      "----------------------------------------------------------------------------------------------------\n",
      "Fold 2\n",
      "0.6375871550969009\n",
      "Predict Done.\n",
      "----------------------------------------------------------------------------------------------------\n",
      "Fold 3\n",
      "0.6377374769203883\n",
      "Predict Done.\n",
      "----------------------------------------------------------------------------------------------------\n",
      "Fold 4\n",
      "0.638109982919724\n",
      "Predict Done.\n"
     ]
    }
   ],
   "source": [
    "test_generator = DataSequence(test_x_u, test_x_q, np.zeros(test_x_u.shape[0]), batch_size=BATCH_SIZE * 4)\n",
    "\n",
    "test_pred = np.zeros((test_x_u.shape[0], 1))\n",
    "train_pred = np.zeros((train_x_u.shape[0], 1))\n",
    "\n",
    "for i, (tr_idx, va_idx) in enumerate(kfold.split(train_x_u, train_y)):\n",
    "    print('-'*100)\n",
    "    print('Fold %d' % i)\n",
    "    trn_x_u, trn_x_q, trn_y = train_x_u[tr_idx], train_x_q[tr_idx], train_y[tr_idx]\n",
    "    val_x_u, val_x_q, val_y = train_x_u[va_idx], train_x_q[va_idx], train_y[va_idx]\n",
    "    \n",
    "    K.clear_session()\n",
    "    model = Net()\n",
    "    model.compile(loss='binary_crossentropy', optimizer='adam',)\n",
    "    \n",
    "    trn_generator = DataSequence(trn_x_u, trn_x_q, trn_y, batch_size=BATCH_SIZE)\n",
    "    val_generator = DataSequence(val_x_u, val_x_q, val_y, batch_size=BATCH_SIZE)\n",
    "    \n",
    "    model.load_weights(os.path.join(WEIGHT_PATH, 'title_desc_textcnn_enc_weight_fold%d.h5' % i))\n",
    "    \n",
    "    train_pred[va_idx] = model.predict_generator(val_generator)\n",
    "    test_pred += model.predict_generator(test_generator) / 5\n",
    "    \n",
    "    print(roc_auc_score(val_y, train_pred[va_idx]))\n",
    "    \n",
    "    del trn_x_u, trn_x_q, trn_y, val_x_u, val_x_q, val_y\n",
    "    gc.collect()\n",
    "    print('Predict Done.')"
   ]
  },
  {
   "cell_type": "code",
   "execution_count": 24,
   "metadata": {},
   "outputs": [
    {
     "data": {
      "text/html": [
       "<div>\n",
       "<style scoped>\n",
       "    .dataframe tbody tr th:only-of-type {\n",
       "        vertical-align: middle;\n",
       "    }\n",
       "\n",
       "    .dataframe tbody tr th {\n",
       "        vertical-align: top;\n",
       "    }\n",
       "\n",
       "    .dataframe thead th {\n",
       "        text-align: right;\n",
       "    }\n",
       "</style>\n",
       "<table border=\"1\" class=\"dataframe\">\n",
       "  <thead>\n",
       "    <tr style=\"text-align: right;\">\n",
       "      <th></th>\n",
       "      <th>title_desc_textcnn_enc</th>\n",
       "    </tr>\n",
       "  </thead>\n",
       "  <tbody>\n",
       "    <tr>\n",
       "      <th>0</th>\n",
       "      <td>0.040283</td>\n",
       "    </tr>\n",
       "    <tr>\n",
       "      <th>1</th>\n",
       "      <td>0.213731</td>\n",
       "    </tr>\n",
       "    <tr>\n",
       "      <th>2</th>\n",
       "      <td>0.041021</td>\n",
       "    </tr>\n",
       "    <tr>\n",
       "      <th>3</th>\n",
       "      <td>0.100659</td>\n",
       "    </tr>\n",
       "    <tr>\n",
       "      <th>4</th>\n",
       "      <td>0.287943</td>\n",
       "    </tr>\n",
       "  </tbody>\n",
       "</table>\n",
       "</div>"
      ],
      "text/plain": [
       "   title_desc_textcnn_enc\n",
       "0                0.040283\n",
       "1                0.213731\n",
       "2                0.041021\n",
       "3                0.100659\n",
       "4                0.287943"
      ]
     },
     "execution_count": 24,
     "metadata": {},
     "output_type": "execute_result"
    }
   ],
   "source": [
    "arr = np.vstack([train_pred, test_pred])\n",
    "feat = pd.DataFrame(arr, columns=['title_desc_textcnn_enc'])\n",
    "feat.head()"
   ]
  },
  {
   "cell_type": "code",
   "execution_count": 25,
   "metadata": {},
   "outputs": [],
   "source": [
    "feat.to_pickle('./feats/title_desc_textcnn_enc.pkl')"
   ]
  },
  {
   "cell_type": "code",
   "execution_count": 26,
   "metadata": {},
   "outputs": [
    {
     "data": {
      "text/plain": [
       "(10630845, 1)"
      ]
     },
     "execution_count": 26,
     "metadata": {},
     "output_type": "execute_result"
    }
   ],
   "source": [
    "feat.shape"
   ]
  },
  {
   "cell_type": "code",
   "execution_count": null,
   "metadata": {},
   "outputs": [],
   "source": []
  }
 ],
 "metadata": {
  "kernelspec": {
   "display_name": "Python [conda env:root] *",
   "language": "python",
   "name": "conda-root-py"
  },
  "language_info": {
   "codemirror_mode": {
    "name": "ipython",
    "version": 3
   },
   "file_extension": ".py",
   "mimetype": "text/x-python",
   "name": "python",
   "nbconvert_exporter": "python",
   "pygments_lexer": "ipython3",
   "version": "3.7.3"
  }
 },
 "nbformat": 4,
 "nbformat_minor": 2
}
