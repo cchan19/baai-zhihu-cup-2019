{
 "cells": [
  {
   "cell_type": "code",
   "execution_count": 1,
   "metadata": {},
   "outputs": [],
   "source": [
    "import pandas as pd\n",
    "import numpy as np\n",
    "import pickle\n",
    "import gc\n",
    "import os\n",
    "import sys\n",
    "import time\n",
    "import copy\n",
    "import multiprocessing as mp\n",
    "from tqdm import tqdm\n",
    "from scipy import sparse, spatial\n",
    "import warnings\n",
    "warnings.filterwarnings('ignore')"
   ]
  },
  {
   "cell_type": "code",
   "execution_count": 2,
   "metadata": {},
   "outputs": [],
   "source": [
    "topic = pd.read_pickle(os.path.join('../pkl', 'topic.pkl'))\n",
    "topic.shape"
   ]
  },
  {
   "cell_type": "code",
   "execution_count": 3,
   "metadata": {},
   "outputs": [
    {
     "data": {
      "text/plain": [
       "(100000, 64)"
      ]
     },
     "execution_count": 3,
     "metadata": {},
     "output_type": "execute_result"
    }
   ],
   "source": [
    "topic_embeddings = np.vstack(list(topic['vector'].values))\n",
    "topic_embeddings.shape"
   ]
  },
  {
   "cell_type": "code",
   "execution_count": 4,
   "metadata": {},
   "outputs": [],
   "source": [
    "def cos_sim(a, b):\n",
    "    return 1 - spatial.distance.cosine(a, b)"
   ]
  },
  {
   "cell_type": "code",
   "execution_count": 5,
   "metadata": {
    "scrolled": true
   },
   "outputs": [
    {
     "name": "stdout",
     "output_type": "stream",
     "text": [
      ">> Processing data 100000/100000, Time used: 24523s, less: 0s, total: 24523ssssCPU times: user 1min 8s, sys: 1min 10s, total: 2min 19s\n",
      "Wall time: 6h 48min 43s\n"
     ]
    }
   ],
   "source": [
    "%%time\n",
    "\n",
    "if not os.path.exists('./tmp'):\n",
    "    os.mkdir('./tmp')\n",
    "\n",
    "tic = time.time()\n",
    "    \n",
    "def process(i):\n",
    "    topic_comb_sim = np.zeros(100000)\n",
    "    for j in range(i+1, 100000):\n",
    "        a = topic_embeddings[i]\n",
    "        b = topic_embeddings[j]\n",
    "        sim = cos_sim(a, b)\n",
    "        # topic_comb_sim_dict[j+1] = sim\n",
    "        topic_comb_sim[j] = sim\n",
    "    np.save('./tmp/%d.npy' % i, topic_comb_sim)\n",
    "    ## cal time\n",
    "    ut = time.time() - tic\n",
    "    pp = len(os.listdir('./tmp'))\n",
    "    tt = ut / pp * 100000\n",
    "    lt = tt - ut\n",
    "    sys.stdout.write(\n",
    "        '\\r>> Processing data %d/%d, Time used: %ds, less: %ds, total: %ds' % (pp, 100000, ut, lt, tt))\n",
    "    sys.stdout.flush()\n",
    "    return 1\n",
    "\n",
    "with mp.Pool(7) as pool:\n",
    "    ret = pool.map(process, np.arange(100000))"
   ]
  },
  {
   "cell_type": "code",
   "execution_count": 5,
   "metadata": {},
   "outputs": [
    {
     "name": "stderr",
     "output_type": "stream",
     "text": [
      "100%|██████████| 100000/100000 [26:41<00:00, 62.43it/s] \n"
     ]
    }
   ],
   "source": [
    "topic_comb_sim_mat = np.zeros((100000, 100000))\n",
    "for i in tqdm(range(100000)):\n",
    "    topic_comb_sim_mat[i] = np.load('./tmp/%d.npy' % i)"
   ]
  },
  {
   "cell_type": "code",
   "execution_count": 6,
   "metadata": {},
   "outputs": [
    {
     "data": {
      "text/plain": [
       "(100000, 100000)"
      ]
     },
     "execution_count": 6,
     "metadata": {},
     "output_type": "execute_result"
    }
   ],
   "source": [
    "topic_comb_sim_mat.shape"
   ]
  },
  {
   "cell_type": "code",
   "execution_count": 7,
   "metadata": {},
   "outputs": [
    {
     "data": {
      "text/plain": [
       "array([[ 0.        , -0.15703143, -0.02313213, ...,  0.13295594,\n",
       "         0.12396958, -0.04231013],\n",
       "       [ 0.        ,  0.        ,  0.35224531, ..., -0.12606979,\n",
       "        -0.21545197,  0.03766749],\n",
       "       [ 0.        ,  0.        ,  0.        , ..., -0.08080298,\n",
       "        -0.03183382,  0.24938245],\n",
       "       ...,\n",
       "       [ 0.        ,  0.        ,  0.        , ...,  0.        ,\n",
       "         0.21733336,  0.01743048],\n",
       "       [ 0.        ,  0.        ,  0.        , ...,  0.        ,\n",
       "         0.        , -0.02675648],\n",
       "       [ 0.        ,  0.        ,  0.        , ...,  0.        ,\n",
       "         0.        ,  0.        ]])"
      ]
     },
     "execution_count": 7,
     "metadata": {},
     "output_type": "execute_result"
    }
   ],
   "source": [
    "topic_comb_sim_mat"
   ]
  },
  {
   "cell_type": "code",
   "execution_count": 8,
   "metadata": {},
   "outputs": [],
   "source": [
    "np.save('../pkl/topic_comb_sim_mat.npy', topic_comb_sim_mat)"
   ]
  },
  {
   "cell_type": "code",
   "execution_count": 9,
   "metadata": {},
   "outputs": [],
   "source": [
    "def get_topic_sim(i, j):\n",
    "    if i == j:\n",
    "        return 1\n",
    "    if i > j:\n",
    "        return topic_comb_sim_mat[j][i]\n",
    "    else:\n",
    "        return topic_comb_sim_mat[i][j]"
   ]
  },
  {
   "cell_type": "code",
   "execution_count": 10,
   "metadata": {},
   "outputs": [
    {
     "data": {
      "text/plain": [
       "-0.1570314343444803"
      ]
     },
     "execution_count": 10,
     "metadata": {},
     "output_type": "execute_result"
    }
   ],
   "source": [
    "get_topic_sim(0,1)"
   ]
  },
  {
   "cell_type": "code",
   "execution_count": 11,
   "metadata": {},
   "outputs": [
    {
     "data": {
      "text/plain": [
       "-0.1570314343444803"
      ]
     },
     "execution_count": 11,
     "metadata": {},
     "output_type": "execute_result"
    }
   ],
   "source": [
    "get_topic_sim(1,0)"
   ]
  },
  {
   "cell_type": "code",
   "execution_count": 12,
   "metadata": {},
   "outputs": [
    {
     "data": {
      "text/plain": [
       "1"
      ]
     },
     "execution_count": 12,
     "metadata": {},
     "output_type": "execute_result"
    }
   ],
   "source": [
    "get_topic_sim(1, 1)"
   ]
  }
 ],
 "metadata": {
  "kernelspec": {
   "display_name": "Python [conda env:root] *",
   "language": "python",
   "name": "conda-root-py"
  },
  "language_info": {
   "codemirror_mode": {
    "name": "ipython",
    "version": 3
   },
   "file_extension": ".py",
   "mimetype": "text/x-python",
   "name": "python",
   "nbconvert_exporter": "python",
   "pygments_lexer": "ipython3",
   "version": "3.7.3"
  }
 },
 "nbformat": 4,
 "nbformat_minor": 2
}
