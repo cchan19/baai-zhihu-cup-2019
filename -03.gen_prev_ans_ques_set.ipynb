{
 "cells": [
  {
   "cell_type": "code",
   "execution_count": 1,
   "metadata": {},
   "outputs": [],
   "source": [
    "import pandas as pd\n",
    "import numpy as np\n",
    "import pickle\n",
    "import gc\n",
    "import os\n",
    "import time\n",
    "import copy\n",
    "import multiprocessing as mp\n",
    "from sklearn.preprocessing import LabelEncoder\n",
    "from sklearn.model_selection import StratifiedKFold\n",
    "from sklearn.feature_extraction.text import CountVectorizer\n",
    "from tqdm import tqdm\n",
    "from scipy import sparse, spatial\n",
    "import warnings\n",
    "warnings.filterwarnings('ignore')\n",
    "tqdm.pandas()"
   ]
  },
  {
   "cell_type": "code",
   "execution_count": 2,
   "metadata": {},
   "outputs": [
    {
     "name": "stdout",
     "output_type": "stream",
     "text": [
      "gen_prev_ans_ques_set...\n"
     ]
    }
   ],
   "source": [
    "tic = time.time()\n",
    "DATA_PATH = '../pkl/'\n",
    "SAVE_PATH = './feats/'\n",
    "if not os.path.exists(SAVE_PATH):\n",
    "    print('create dir: %s' % SAVE_PATH)\n",
    "    os.mkdir(SAVE_PATH)\n",
    "\n",
    "print('gen_prev_ans_ques_set...')"
   ]
  },
  {
   "cell_type": "code",
   "execution_count": 8,
   "metadata": {},
   "outputs": [],
   "source": [
    "answer_info = pd.read_pickle(os.path.join(DATA_PATH, 'answer_info_tiny.pkl'))\n",
    "inv_last_answer_time = pd.read_pickle(os.path.join(DATA_PATH, 'inv_last_answer_time.pkl'))"
   ]
  },
  {
   "cell_type": "code",
   "execution_count": 5,
   "metadata": {},
   "outputs": [],
   "source": [
    "answer_info['user_time'] = answer_info['uid'].astype(str) + '_' + answer_info['atime'].astype(str)\n",
    "answer_info.sort_values(by=['uid', 'user_time'],inplace=True)\n",
    "answer_info = answer_info[['qid', 'uid', 'user_time']].reset_index(drop=True)"
   ]
  },
  {
   "cell_type": "code",
   "execution_count": 6,
   "metadata": {},
   "outputs": [
    {
     "name": "stderr",
     "output_type": "stream",
     "text": [
      "100%|██████████| 4513735/4513735 [00:18<00:00, 240827.44it/s]\n"
     ]
    }
   ],
   "source": [
    "prev_ans_ques = []\n",
    "ques = []\n",
    "last = None\n",
    "for a, q in tqdm(answer_info[['uid', 'qid']].values):\n",
    "    if last is None or last != a:\n",
    "        ques = [q]\n",
    "    else:\n",
    "        ques.append(q)\n",
    "    prev_ans_ques.append(list(ques))\n",
    "    last = a"
   ]
  },
  {
   "cell_type": "code",
   "execution_count": 7,
   "metadata": {},
   "outputs": [],
   "source": [
    "answer_info['prev_ans_ques'] = prev_ans_ques\n",
    "del answer_info['qid'], answer_info['uid']\n",
    "answer_info.drop_duplicates(subset='user_time', keep='last', inplace=True)"
   ]
  },
  {
   "cell_type": "code",
   "execution_count": 10,
   "metadata": {},
   "outputs": [],
   "source": [
    "tmp = inv_last_answer_time.merge(answer_info, 'left', 'user_time')"
   ]
  },
  {
   "cell_type": "code",
   "execution_count": 13,
   "metadata": {},
   "outputs": [
    {
     "data": {
      "text/html": [
       "<div>\n",
       "<style scoped>\n",
       "    .dataframe tbody tr th:only-of-type {\n",
       "        vertical-align: middle;\n",
       "    }\n",
       "\n",
       "    .dataframe tbody tr th {\n",
       "        vertical-align: top;\n",
       "    }\n",
       "\n",
       "    .dataframe thead th {\n",
       "        text-align: right;\n",
       "    }\n",
       "</style>\n",
       "<table border=\"1\" class=\"dataframe\">\n",
       "  <thead>\n",
       "    <tr style=\"text-align: right;\">\n",
       "      <th></th>\n",
       "      <th>uid</th>\n",
       "      <th>id</th>\n",
       "      <th>time</th>\n",
       "      <th>last_time</th>\n",
       "      <th>user_time</th>\n",
       "      <th>invite_answer_gap</th>\n",
       "      <th>prev_ans_ques</th>\n",
       "    </tr>\n",
       "  </thead>\n",
       "  <tbody>\n",
       "    <tr>\n",
       "      <th>0</th>\n",
       "      <td>401693808</td>\n",
       "      <td>0.0</td>\n",
       "      <td>92782</td>\n",
       "      <td>NaN</td>\n",
       "      <td>401693808_-1</td>\n",
       "      <td>NaN</td>\n",
       "      <td>NaN</td>\n",
       "    </tr>\n",
       "    <tr>\n",
       "      <th>1</th>\n",
       "      <td>3392373099</td>\n",
       "      <td>1.0</td>\n",
       "      <td>92267</td>\n",
       "      <td>NaN</td>\n",
       "      <td>3392373099_-1</td>\n",
       "      <td>NaN</td>\n",
       "      <td>NaN</td>\n",
       "    </tr>\n",
       "    <tr>\n",
       "      <th>2</th>\n",
       "      <td>2317670257</td>\n",
       "      <td>2.0</td>\n",
       "      <td>92703</td>\n",
       "      <td>92539.0</td>\n",
       "      <td>2317670257_92539</td>\n",
       "      <td>164.0</td>\n",
       "      <td>[3034061280, 1309562090]</td>\n",
       "    </tr>\n",
       "    <tr>\n",
       "      <th>3</th>\n",
       "      <td>1618461867</td>\n",
       "      <td>3.0</td>\n",
       "      <td>92387</td>\n",
       "      <td>NaN</td>\n",
       "      <td>1618461867_-1</td>\n",
       "      <td>NaN</td>\n",
       "      <td>NaN</td>\n",
       "    </tr>\n",
       "    <tr>\n",
       "      <th>4</th>\n",
       "      <td>3544409350</td>\n",
       "      <td>4.0</td>\n",
       "      <td>92812</td>\n",
       "      <td>NaN</td>\n",
       "      <td>3544409350_-1</td>\n",
       "      <td>NaN</td>\n",
       "      <td>NaN</td>\n",
       "    </tr>\n",
       "  </tbody>\n",
       "</table>\n",
       "</div>"
      ],
      "text/plain": [
       "          uid   id   time  last_time         user_time  invite_answer_gap  \\\n",
       "0   401693808  0.0  92782        NaN      401693808_-1                NaN   \n",
       "1  3392373099  1.0  92267        NaN     3392373099_-1                NaN   \n",
       "2  2317670257  2.0  92703    92539.0  2317670257_92539              164.0   \n",
       "3  1618461867  3.0  92387        NaN     1618461867_-1                NaN   \n",
       "4  3544409350  4.0  92812        NaN     3544409350_-1                NaN   \n",
       "\n",
       "              prev_ans_ques  \n",
       "0                       NaN  \n",
       "1                       NaN  \n",
       "2  [3034061280, 1309562090]  \n",
       "3                       NaN  \n",
       "4                       NaN  "
      ]
     },
     "execution_count": 13,
     "metadata": {},
     "output_type": "execute_result"
    }
   ],
   "source": [
    "tmp[['prev_ans_ques']].to_pickle(os.path.join(DATA_PATH, 'prev_ans_ques.pkl'))\n",
    "tmp.head(5)"
   ]
  },
  {
   "cell_type": "code",
   "execution_count": 12,
   "metadata": {},
   "outputs": [
    {
     "name": "stdout",
     "output_type": "stream",
     "text": [
      "Used time: 346\n"
     ]
    }
   ],
   "source": [
    "toc = time.time()\n",
    "print('Used time: %d' % int(toc-tic))"
   ]
  }
 ],
 "metadata": {
  "kernelspec": {
   "display_name": "Python [conda env:root] *",
   "language": "python",
   "name": "conda-root-py"
  },
  "language_info": {
   "codemirror_mode": {
    "name": "ipython",
    "version": 3
   },
   "file_extension": ".py",
   "mimetype": "text/x-python",
   "name": "python",
   "nbconvert_exporter": "python",
   "pygments_lexer": "ipython3",
   "version": "3.7.3"
  }
 },
 "nbformat": 4,
 "nbformat_minor": 2
}
