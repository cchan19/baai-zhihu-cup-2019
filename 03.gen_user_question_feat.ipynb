{
 "cells": [
  {
   "cell_type": "code",
   "execution_count": 1,
   "metadata": {},
   "outputs": [],
   "source": [
    "import pandas as pd\n",
    "import numpy as np\n",
    "import pickle\n",
    "import gc\n",
    "import os\n",
    "import time\n",
    "import copy\n",
    "import multiprocessing as mp\n",
    "from sklearn.preprocessing import LabelEncoder\n",
    "from sklearn.model_selection import StratifiedKFold\n",
    "from sklearn.feature_extraction.text import CountVectorizer\n",
    "from tqdm import tqdm\n",
    "from scipy import sparse, spatial\n",
    "import warnings\n",
    "warnings.filterwarnings('ignore')\n",
    "tqdm.pandas()"
   ]
  },
  {
   "cell_type": "code",
   "execution_count": 2,
   "metadata": {},
   "outputs": [
    {
     "name": "stdout",
     "output_type": "stream",
     "text": [
      "gen_user_question_feat...\n"
     ]
    }
   ],
   "source": [
    "tic = time.time()\n",
    "DATA_PATH = '../pkl/'\n",
    "SAVE_PATH = './feats/'\n",
    "if not os.path.exists(SAVE_PATH):\n",
    "    print('create dir: %s' % SAVE_PATH)\n",
    "    os.mkdir(SAVE_PATH)\n",
    "\n",
    "print('gen_user_question_feat...')"
   ]
  },
  {
   "cell_type": "code",
   "execution_count": 3,
   "metadata": {},
   "outputs": [],
   "source": [
    "data = pd.read_pickle(os.path.join(DATA_PATH, 'invite_data.pkl'))\n",
    "user_info = pd.read_pickle(os.path.join(DATA_PATH, 'user_info.pkl'))\n",
    "question_info = pd.read_pickle(os.path.join(DATA_PATH, 'question_info.pkl'))"
   ]
  },
  {
   "cell_type": "code",
   "execution_count": 4,
   "metadata": {},
   "outputs": [],
   "source": [
    "invite_id = data[['uid', 'qid']]\n",
    "invite_id_qm = invite_id.merge(user_info[['uid', 'topic_a', 'topic_i']], 'left', 'uid').merge(question_info[['qid', 'topic']], 'left', 'qid')"
   ]
  },
  {
   "cell_type": "code",
   "execution_count": 5,
   "metadata": {},
   "outputs": [],
   "source": [
    "def gc_list(l):\n",
    "    for i in l:\n",
    "        del i\n",
    "    del l\n",
    "    gc.collect()"
   ]
  },
  {
   "cell_type": "code",
   "execution_count": 6,
   "metadata": {},
   "outputs": [
    {
     "name": "stderr",
     "output_type": "stream",
     "text": [
      "100%|██████████| 1328856/1328856 [00:58<00:00, 22671.47it/s]\n",
      "100%|██████████| 1328856/1328856 [00:58<00:00, 22613.06it/s]\n",
      "100%|██████████| 1328856/1328856 [00:57<00:00, 23044.31it/s]\n",
      "100%|██████████| 1328856/1328856 [00:59<00:00, 22202.69it/s]\n",
      "100%|██████████| 1328856/1328856 [00:59<00:00, 22212.64it/s]\n",
      "100%|██████████| 1328855/1328855 [01:01<00:00, 21538.83it/s]\n",
      "100%|██████████| 1328855/1328855 [00:59<00:00, 22520.98it/s]\n",
      "100%|██████████| 1328855/1328855 [01:01<00:00, 21630.94it/s]\n"
     ]
    }
   ],
   "source": [
    "# 用户关注topic和问题 topic的交集\n",
    "def process(df):\n",
    "    return df.progress_apply(lambda row: list(set(row['topic_a']) & set(row['topic'])),axis=1)\n",
    "\n",
    "with mp.Pool(8) as pool:\n",
    "    ret = pool.map(process, np.array_split(invite_id_qm, 8))\n",
    "invite_id_qm['topic_a_com'] = pd.concat(ret)\n",
    "gc_list(ret)"
   ]
  },
  {
   "cell_type": "code",
   "execution_count": 7,
   "metadata": {},
   "outputs": [
    {
     "name": "stderr",
     "output_type": "stream",
     "text": [
      " 59%|█████▉    | 783052/1328855 [00:39<00:23, 23657.39it/s]]\n",
      "100%|██████████| 1328856/1328856 [01:03<00:00, 21079.32it/s]\n",
      "100%|██████████| 1328856/1328856 [01:02<00:00, 21293.79it/s]\n",
      "100%|██████████| 1328856/1328856 [00:59<00:00, 22391.40it/s]\n",
      "100%|██████████| 1328856/1328856 [01:03<00:00, 20992.18it/s]\n",
      "100%|██████████| 1328855/1328855 [01:02<00:00, 21386.67it/s]\n",
      "100%|██████████| 1328855/1328855 [00:59<00:00, 22209.81it/s]\n",
      "100%|██████████| 1328855/1328855 [00:59<00:00, 22352.09it/s]\n"
     ]
    }
   ],
   "source": [
    "# 用户感兴趣topic和问题 topic的交集\n",
    "def process(df):\n",
    "    return df.progress_apply(lambda row: list(set(row['topic_i'].keys()) & set(row['topic'])),axis=1)\n",
    "\n",
    "with mp.Pool(8) as pool:\n",
    "    ret = pool.map(process, np.array_split(invite_id_qm, 8))\n",
    "invite_id_qm['topic_i_com'] = pd.concat(ret)\n",
    "gc_list(ret)"
   ]
  },
  {
   "cell_type": "code",
   "execution_count": 8,
   "metadata": {},
   "outputs": [
    {
     "name": "stderr",
     "output_type": "stream",
     "text": [
      " 50%|█████     | 665248/1328856 [00:22<00:32, 20273.70it/s]]\n",
      "100%|██████████| 1328856/1328856 [00:35<00:00, 37580.10it/s]\n",
      "100%|██████████| 1328856/1328856 [00:34<00:00, 38324.65it/s]\n",
      "100%|██████████| 1328856/1328856 [00:36<00:00, 36620.79it/s]\n",
      "100%|██████████| 1328856/1328856 [00:41<00:00, 32142.82it/s]\n",
      "100%|██████████| 1328855/1328855 [00:34<00:00, 38029.98it/s]\n",
      "100%|██████████| 1328855/1328855 [00:35<00:00, 37413.09it/s]\n",
      "100%|██████████| 1328855/1328855 [00:33<00:00, 39594.19it/s]\n"
     ]
    }
   ],
   "source": [
    "def process(df):\n",
    "    return df.progress_apply(lambda row: [row['topic_i'][t] for t in row['topic_i_com']],axis=1)\n",
    "\n",
    "with mp.Pool(8) as pool:\n",
    "    ret = pool.map(process, np.array_split(invite_id_qm, 8))\n",
    "invite_id_qm['topic_iv_com'] = pd.concat(ret)\n",
    "gc_list(ret)"
   ]
  },
  {
   "cell_type": "code",
   "execution_count": 9,
   "metadata": {},
   "outputs": [
    {
     "name": "stderr",
     "output_type": "stream",
     "text": [
      "100%|██████████| 10630845/10630845 [00:11<00:00, 891879.13it/s] \n",
      "100%|██████████| 10630845/10630845 [00:11<00:00, 926519.50it/s] \n"
     ]
    }
   ],
   "source": [
    "# 交集topic计数\n",
    "invite_id_qm['num_topic_a_com'] = invite_id_qm['topic_a_com'].progress_apply(len)\n",
    "invite_id_qm['num_topic_i_com'] = invite_id_qm['topic_i_com'].progress_apply(len)"
   ]
  },
  {
   "cell_type": "code",
   "execution_count": 10,
   "metadata": {},
   "outputs": [
    {
     "name": "stderr",
     "output_type": "stream",
     "text": [
      "100%|██████████| 10630845/10630845 [00:12<00:00, 871023.60it/s]\n",
      "100%|██████████| 10630845/10630845 [01:19<00:00, 134411.89it/s]\n",
      "100%|██████████| 10630845/10630845 [01:18<00:00, 136060.86it/s]\n",
      "100%|██████████| 10630845/10630845 [02:17<00:00, 77482.62it/s]\n",
      "100%|██████████| 10630845/10630845 [07:27<00:00, 23776.58it/s]\n"
     ]
    }
   ],
   "source": [
    "# 交集topic兴趣值统计\n",
    "invite_id_qm['topic_iv_com'] = invite_id_qm['topic_iv_com'].progress_apply(lambda x: [0] if len(x) == 0 else x)\n",
    "invite_id_qm['min_topic_iv_com'] = invite_id_qm['topic_iv_com'].progress_apply(np.min)\n",
    "invite_id_qm['max_topic_iv_com'] = invite_id_qm['topic_iv_com'].progress_apply(np.max)\n",
    "invite_id_qm['mean_topic_iv_com'] = invite_id_qm['topic_iv_com'].progress_apply(np.mean)\n",
    "invite_id_qm['std_topic_iv_com'] = invite_id_qm['topic_iv_com'].progress_apply(np.std)"
   ]
  },
  {
   "cell_type": "code",
   "execution_count": 11,
   "metadata": {},
   "outputs": [],
   "source": [
    "feats = ['num_topic_a_com', 'num_topic_i_com', 'min_topic_iv_com', 'max_topic_iv_com', 'mean_topic_iv_com', 'std_topic_iv_com']\n",
    "feats += []\n",
    "user_question_feat = invite_id_qm[feats]"
   ]
  },
  {
   "cell_type": "code",
   "execution_count": 12,
   "metadata": {
    "scrolled": true
   },
   "outputs": [
    {
     "data": {
      "text/html": [
       "<div>\n",
       "<style scoped>\n",
       "    .dataframe tbody tr th:only-of-type {\n",
       "        vertical-align: middle;\n",
       "    }\n",
       "\n",
       "    .dataframe tbody tr th {\n",
       "        vertical-align: top;\n",
       "    }\n",
       "\n",
       "    .dataframe thead th {\n",
       "        text-align: right;\n",
       "    }\n",
       "</style>\n",
       "<table border=\"1\" class=\"dataframe\">\n",
       "  <thead>\n",
       "    <tr style=\"text-align: right;\">\n",
       "      <th></th>\n",
       "      <th>num_topic_a_com</th>\n",
       "      <th>num_topic_i_com</th>\n",
       "      <th>min_topic_iv_com</th>\n",
       "      <th>max_topic_iv_com</th>\n",
       "      <th>mean_topic_iv_com</th>\n",
       "      <th>std_topic_iv_com</th>\n",
       "    </tr>\n",
       "  </thead>\n",
       "  <tbody>\n",
       "    <tr>\n",
       "      <th>0</th>\n",
       "      <td>1</td>\n",
       "      <td>0</td>\n",
       "      <td>0.0</td>\n",
       "      <td>0.0</td>\n",
       "      <td>0.0</td>\n",
       "      <td>0.0</td>\n",
       "    </tr>\n",
       "    <tr>\n",
       "      <th>1</th>\n",
       "      <td>0</td>\n",
       "      <td>0</td>\n",
       "      <td>0.0</td>\n",
       "      <td>0.0</td>\n",
       "      <td>0.0</td>\n",
       "      <td>0.0</td>\n",
       "    </tr>\n",
       "  </tbody>\n",
       "</table>\n",
       "</div>"
      ],
      "text/plain": [
       "   num_topic_a_com  num_topic_i_com  min_topic_iv_com  max_topic_iv_com  \\\n",
       "0                1                0               0.0               0.0   \n",
       "1                0                0               0.0               0.0   \n",
       "\n",
       "   mean_topic_iv_com  std_topic_iv_com  \n",
       "0                0.0               0.0  \n",
       "1                0.0               0.0  "
      ]
     },
     "execution_count": 12,
     "metadata": {},
     "output_type": "execute_result"
    }
   ],
   "source": [
    "user_question_feat.head(2)"
   ]
  },
  {
   "cell_type": "code",
   "execution_count": 13,
   "metadata": {},
   "outputs": [],
   "source": [
    "user_question_feat.to_pickle(os.path.join(SAVE_PATH, 'user_question_feat.pkl'))"
   ]
  },
  {
   "cell_type": "code",
   "execution_count": 14,
   "metadata": {},
   "outputs": [
    {
     "name": "stdout",
     "output_type": "stream",
     "text": [
      "Used time: 1200\n"
     ]
    }
   ],
   "source": [
    "toc = time.time()\n",
    "print('Used time: %d' % int(toc-tic))"
   ]
  },
  {
   "cell_type": "code",
   "execution_count": null,
   "metadata": {},
   "outputs": [],
   "source": []
  }
 ],
 "metadata": {
  "kernelspec": {
   "display_name": "Python [conda env:root] *",
   "language": "python",
   "name": "conda-root-py"
  },
  "language_info": {
   "codemirror_mode": {
    "name": "ipython",
    "version": 3
   },
   "file_extension": ".py",
   "mimetype": "text/x-python",
   "name": "python",
   "nbconvert_exporter": "python",
   "pygments_lexer": "ipython3",
   "version": "3.7.3"
  }
 },
 "nbformat": 4,
 "nbformat_minor": 2
}
