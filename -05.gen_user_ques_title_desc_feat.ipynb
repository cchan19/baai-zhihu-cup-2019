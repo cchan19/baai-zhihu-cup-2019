{
 "cells": [
  {
   "cell_type": "code",
   "execution_count": 1,
   "metadata": {},
   "outputs": [
    {
     "name": "stderr",
     "output_type": "stream",
     "text": [
      "/root/anaconda3/lib/python3.7/site-packages/sklearn/feature_extraction/text.py:17: DeprecationWarning: Using or importing the ABCs from 'collections' instead of from 'collections.abc' is deprecated, and in 3.8 it will stop working\n",
      "  from collections import Mapping, defaultdict\n"
     ]
    }
   ],
   "source": [
    "import warnings\n",
    "warnings.filterwarnings('ignore')\n",
    "import pandas as pd\n",
    "import numpy as np\n",
    "import pickle\n",
    "import gc\n",
    "import os\n",
    "import time\n",
    "import copy\n",
    "import multiprocessing as mp\n",
    "from sklearn.preprocessing import LabelEncoder\n",
    "from sklearn.model_selection import StratifiedKFold\n",
    "from sklearn.feature_extraction.text import CountVectorizer\n",
    "from tqdm import tqdm\n",
    "from scipy import sparse, spatial\n",
    "tqdm.pandas()"
   ]
  },
  {
   "cell_type": "code",
   "execution_count": 2,
   "metadata": {},
   "outputs": [
    {
     "name": "stdout",
     "output_type": "stream",
     "text": [
      "gen_prev_ans_ques_set...\n"
     ]
    }
   ],
   "source": [
    "tic = time.time()\n",
    "DATA_PATH = '../pkl/'\n",
    "SAVE_PATH = './feats/'\n",
    "if not os.path.exists(SAVE_PATH):\n",
    "    print('create dir: %s' % SAVE_PATH)\n",
    "    os.mkdir(SAVE_PATH)\n",
    "\n",
    "print('gen_prev_ans_ques_set...')"
   ]
  },
  {
   "cell_type": "code",
   "execution_count": 3,
   "metadata": {},
   "outputs": [],
   "source": [
    "data = pd.read_pickle(os.path.join(DATA_PATH, 'invite_data.pkl'))\n",
    "prev_ans_ques = pd.read_pickle(os.path.join(DATA_PATH, 'prev_ans_ques.pkl'))\n",
    "question_info = pd.read_pickle(os.path.join(DATA_PATH, 'question_info.pkl'))"
   ]
  },
  {
   "cell_type": "code",
   "execution_count": 4,
   "metadata": {},
   "outputs": [],
   "source": [
    "data = pd.concat([data, prev_ans_ques], axis=1)"
   ]
  },
  {
   "cell_type": "code",
   "execution_count": 5,
   "metadata": {},
   "outputs": [
    {
     "name": "stderr",
     "output_type": "stream",
     "text": [
      "100%|██████████| 10630845/10630845 [00:14<00:00, 731919.24it/s] \n"
     ]
    }
   ],
   "source": [
    "data['prev_ans_ques'] = data['prev_ans_ques'].progress_apply(lambda x: x if type(x) == list else [])"
   ]
  },
  {
   "cell_type": "code",
   "execution_count": 6,
   "metadata": {},
   "outputs": [
    {
     "data": {
      "text/html": [
       "<div>\n",
       "<style scoped>\n",
       "    .dataframe tbody tr th:only-of-type {\n",
       "        vertical-align: middle;\n",
       "    }\n",
       "\n",
       "    .dataframe tbody tr th {\n",
       "        vertical-align: top;\n",
       "    }\n",
       "\n",
       "    .dataframe thead th {\n",
       "        text-align: right;\n",
       "    }\n",
       "</style>\n",
       "<table border=\"1\" class=\"dataframe\">\n",
       "  <thead>\n",
       "    <tr style=\"text-align: right;\">\n",
       "      <th></th>\n",
       "      <th>iday</th>\n",
       "      <th>ihour</th>\n",
       "      <th>itime</th>\n",
       "      <th>label</th>\n",
       "      <th>qid</th>\n",
       "      <th>uid</th>\n",
       "      <th>prev_ans_ques</th>\n",
       "      <th>title_w</th>\n",
       "      <th>desc_w</th>\n",
       "    </tr>\n",
       "  </thead>\n",
       "  <tbody>\n",
       "    <tr>\n",
       "      <th>0</th>\n",
       "      <td>3865</td>\n",
       "      <td>22</td>\n",
       "      <td>92782</td>\n",
       "      <td>0.0</td>\n",
       "      <td>2166419046</td>\n",
       "      <td>401693808</td>\n",
       "      <td>[]</td>\n",
       "      <td>[11058, 272, 2202, 431, 951, 243, 3828, 3037, ...</td>\n",
       "      <td>[3828, 14870, 3037, 2450, 692, 1688, 53547, 24...</td>\n",
       "    </tr>\n",
       "    <tr>\n",
       "      <th>1</th>\n",
       "      <td>3844</td>\n",
       "      <td>11</td>\n",
       "      <td>92267</td>\n",
       "      <td>0.0</td>\n",
       "      <td>1550017551</td>\n",
       "      <td>3392373099</td>\n",
       "      <td>[]</td>\n",
       "      <td>[149, 79, 5210, 22869]</td>\n",
       "      <td>[429, 2709, 1465, 6965]</td>\n",
       "    </tr>\n",
       "    <tr>\n",
       "      <th>2</th>\n",
       "      <td>3862</td>\n",
       "      <td>15</td>\n",
       "      <td>92703</td>\n",
       "      <td>0.0</td>\n",
       "      <td>604029601</td>\n",
       "      <td>2317670257</td>\n",
       "      <td>[3034061280, 1309562090]</td>\n",
       "      <td>[31489, 9218, 3440, 243]</td>\n",
       "      <td>[3046, 221, 3440, 730, 31489, 9218, 1278, 415]</td>\n",
       "    </tr>\n",
       "    <tr>\n",
       "      <th>3</th>\n",
       "      <td>3849</td>\n",
       "      <td>11</td>\n",
       "      <td>92387</td>\n",
       "      <td>0.0</td>\n",
       "      <td>2350061229</td>\n",
       "      <td>1618461867</td>\n",
       "      <td>[]</td>\n",
       "      <td>[973, 64958, 8583, 2269, 628, 565, 2200, 590, ...</td>\n",
       "      <td>[0]</td>\n",
       "    </tr>\n",
       "    <tr>\n",
       "      <th>4</th>\n",
       "      <td>3867</td>\n",
       "      <td>4</td>\n",
       "      <td>92812</td>\n",
       "      <td>0.0</td>\n",
       "      <td>2443223942</td>\n",
       "      <td>3544409350</td>\n",
       "      <td>[]</td>\n",
       "      <td>[554, 28208, 396, 51]</td>\n",
       "      <td>[0]</td>\n",
       "    </tr>\n",
       "  </tbody>\n",
       "</table>\n",
       "</div>"
      ],
      "text/plain": [
       "   iday  ihour  itime  label         qid         uid  \\\n",
       "0  3865     22  92782    0.0  2166419046   401693808   \n",
       "1  3844     11  92267    0.0  1550017551  3392373099   \n",
       "2  3862     15  92703    0.0   604029601  2317670257   \n",
       "3  3849     11  92387    0.0  2350061229  1618461867   \n",
       "4  3867      4  92812    0.0  2443223942  3544409350   \n",
       "\n",
       "              prev_ans_ques  \\\n",
       "0                        []   \n",
       "1                        []   \n",
       "2  [3034061280, 1309562090]   \n",
       "3                        []   \n",
       "4                        []   \n",
       "\n",
       "                                             title_w  \\\n",
       "0  [11058, 272, 2202, 431, 951, 243, 3828, 3037, ...   \n",
       "1                             [149, 79, 5210, 22869]   \n",
       "2                           [31489, 9218, 3440, 243]   \n",
       "3  [973, 64958, 8583, 2269, 628, 565, 2200, 590, ...   \n",
       "4                              [554, 28208, 396, 51]   \n",
       "\n",
       "                                              desc_w  \n",
       "0  [3828, 14870, 3037, 2450, 692, 1688, 53547, 24...  \n",
       "1                            [429, 2709, 1465, 6965]  \n",
       "2     [3046, 221, 3440, 730, 31489, 9218, 1278, 415]  \n",
       "3                                                [0]  \n",
       "4                                                [0]  "
      ]
     },
     "execution_count": 6,
     "metadata": {},
     "output_type": "execute_result"
    }
   ],
   "source": [
    "tmp = question_info[['qid', 'title_w', 'desc_w']]\n",
    "data = data.merge(tmp, 'left', 'qid')\n",
    "data.head()"
   ]
  },
  {
   "cell_type": "code",
   "execution_count": 7,
   "metadata": {},
   "outputs": [
    {
     "data": {
      "text/html": [
       "<div>\n",
       "<style scoped>\n",
       "    .dataframe tbody tr th:only-of-type {\n",
       "        vertical-align: middle;\n",
       "    }\n",
       "\n",
       "    .dataframe tbody tr th {\n",
       "        vertical-align: top;\n",
       "    }\n",
       "\n",
       "    .dataframe thead th {\n",
       "        text-align: right;\n",
       "    }\n",
       "</style>\n",
       "<table border=\"1\" class=\"dataframe\">\n",
       "  <thead>\n",
       "    <tr style=\"text-align: right;\">\n",
       "      <th></th>\n",
       "      <th>title_w</th>\n",
       "      <th>desc_w</th>\n",
       "    </tr>\n",
       "    <tr>\n",
       "      <th>qid</th>\n",
       "      <th></th>\n",
       "      <th></th>\n",
       "    </tr>\n",
       "  </thead>\n",
       "  <tbody>\n",
       "    <tr>\n",
       "      <th>2234111670</th>\n",
       "      <td>[22414, 963, 10458]</td>\n",
       "      <td>[0]</td>\n",
       "    </tr>\n",
       "    <tr>\n",
       "      <th>760329790</th>\n",
       "      <td>[12677, 16829, 15201, 6419, 101839]</td>\n",
       "      <td>[1296, 2118, 12677, 16829, 15201, 6419, 101839...</td>\n",
       "    </tr>\n",
       "    <tr>\n",
       "      <th>741313548</th>\n",
       "      <td>[700, 2781, 3280, 81215]</td>\n",
       "      <td>[732, 24400, 48321, 39608, 20788, 219486, 1183...</td>\n",
       "    </tr>\n",
       "    <tr>\n",
       "      <th>3481466230</th>\n",
       "      <td>[3312, 1823, 1505, 638, 166, 461]</td>\n",
       "      <td>[6642, 4214, 3312, 1505, 2205, 232, 294, 7177,...</td>\n",
       "    </tr>\n",
       "    <tr>\n",
       "      <th>3966197028</th>\n",
       "      <td>[700, 895, 2253]</td>\n",
       "      <td>[0]</td>\n",
       "    </tr>\n",
       "  </tbody>\n",
       "</table>\n",
       "</div>"
      ],
      "text/plain": [
       "                                        title_w  \\\n",
       "qid                                               \n",
       "2234111670                  [22414, 963, 10458]   \n",
       "760329790   [12677, 16829, 15201, 6419, 101839]   \n",
       "741313548              [700, 2781, 3280, 81215]   \n",
       "3481466230    [3312, 1823, 1505, 638, 166, 461]   \n",
       "3966197028                     [700, 895, 2253]   \n",
       "\n",
       "                                                       desc_w  \n",
       "qid                                                            \n",
       "2234111670                                                [0]  \n",
       "760329790   [1296, 2118, 12677, 16829, 15201, 6419, 101839...  \n",
       "741313548   [732, 24400, 48321, 39608, 20788, 219486, 1183...  \n",
       "3481466230  [6642, 4214, 3312, 1505, 2205, 232, 294, 7177,...  \n",
       "3966197028                                                [0]  "
      ]
     },
     "execution_count": 7,
     "metadata": {},
     "output_type": "execute_result"
    }
   ],
   "source": [
    "tmp.set_index('qid', inplace=True)\n",
    "tmp.head()"
   ]
  },
  {
   "cell_type": "code",
   "execution_count": 8,
   "metadata": {},
   "outputs": [
    {
     "name": "stderr",
     "output_type": "stream",
     "text": [
      "100%|██████████| 10630845/10630845 [24:07<00:00, 7342.15it/s] \n"
     ]
    }
   ],
   "source": [
    "prev_title_w = []\n",
    "prev_desc_w = []\n",
    "for prev_ques in tqdm(data['prev_ans_ques'].values):\n",
    "    t = []\n",
    "    d = []\n",
    "    for q in prev_ques:\n",
    "        t.append(tmp.loc[q, 'title_w'])\n",
    "        d.append(tmp.loc[q, 'desc_w'])\n",
    "    prev_title_w.append(t)\n",
    "    prev_desc_w.append(d)"
   ]
  },
  {
   "cell_type": "code",
   "execution_count": 9,
   "metadata": {},
   "outputs": [],
   "source": [
    "data['prev_title_w'] = prev_title_w\n",
    "data['prev_desc_w'] = prev_desc_w"
   ]
  },
  {
   "cell_type": "code",
   "execution_count": 10,
   "metadata": {},
   "outputs": [
    {
     "data": {
      "text/html": [
       "<div>\n",
       "<style scoped>\n",
       "    .dataframe tbody tr th:only-of-type {\n",
       "        vertical-align: middle;\n",
       "    }\n",
       "\n",
       "    .dataframe tbody tr th {\n",
       "        vertical-align: top;\n",
       "    }\n",
       "\n",
       "    .dataframe thead th {\n",
       "        text-align: right;\n",
       "    }\n",
       "</style>\n",
       "<table border=\"1\" class=\"dataframe\">\n",
       "  <thead>\n",
       "    <tr style=\"text-align: right;\">\n",
       "      <th></th>\n",
       "      <th>iday</th>\n",
       "      <th>ihour</th>\n",
       "      <th>itime</th>\n",
       "      <th>label</th>\n",
       "      <th>qid</th>\n",
       "      <th>uid</th>\n",
       "      <th>prev_ans_ques</th>\n",
       "      <th>title_w</th>\n",
       "      <th>desc_w</th>\n",
       "      <th>prev_title_w</th>\n",
       "      <th>prev_desc_w</th>\n",
       "    </tr>\n",
       "  </thead>\n",
       "  <tbody>\n",
       "    <tr>\n",
       "      <th>0</th>\n",
       "      <td>3865</td>\n",
       "      <td>22</td>\n",
       "      <td>92782</td>\n",
       "      <td>0.0</td>\n",
       "      <td>2166419046</td>\n",
       "      <td>401693808</td>\n",
       "      <td>[]</td>\n",
       "      <td>[11058, 272, 2202, 431, 951, 243, 3828, 3037, ...</td>\n",
       "      <td>[3828, 14870, 3037, 2450, 692, 1688, 53547, 24...</td>\n",
       "      <td>[]</td>\n",
       "      <td>[]</td>\n",
       "    </tr>\n",
       "    <tr>\n",
       "      <th>1</th>\n",
       "      <td>3844</td>\n",
       "      <td>11</td>\n",
       "      <td>92267</td>\n",
       "      <td>0.0</td>\n",
       "      <td>1550017551</td>\n",
       "      <td>3392373099</td>\n",
       "      <td>[]</td>\n",
       "      <td>[149, 79, 5210, 22869]</td>\n",
       "      <td>[429, 2709, 1465, 6965]</td>\n",
       "      <td>[]</td>\n",
       "      <td>[]</td>\n",
       "    </tr>\n",
       "    <tr>\n",
       "      <th>2</th>\n",
       "      <td>3862</td>\n",
       "      <td>15</td>\n",
       "      <td>92703</td>\n",
       "      <td>0.0</td>\n",
       "      <td>604029601</td>\n",
       "      <td>2317670257</td>\n",
       "      <td>[3034061280, 1309562090]</td>\n",
       "      <td>[31489, 9218, 3440, 243]</td>\n",
       "      <td>[3046, 221, 3440, 730, 31489, 9218, 1278, 415]</td>\n",
       "      <td>[[272, 263, 4534, 7742], [1116, 6761, 17922]]</td>\n",
       "      <td>[[272, 4534, 7742, 3738, 1277, 111, 2425, 4183...</td>\n",
       "    </tr>\n",
       "    <tr>\n",
       "      <th>3</th>\n",
       "      <td>3849</td>\n",
       "      <td>11</td>\n",
       "      <td>92387</td>\n",
       "      <td>0.0</td>\n",
       "      <td>2350061229</td>\n",
       "      <td>1618461867</td>\n",
       "      <td>[]</td>\n",
       "      <td>[973, 64958, 8583, 2269, 628, 565, 2200, 590, ...</td>\n",
       "      <td>[0]</td>\n",
       "      <td>[]</td>\n",
       "      <td>[]</td>\n",
       "    </tr>\n",
       "    <tr>\n",
       "      <th>4</th>\n",
       "      <td>3867</td>\n",
       "      <td>4</td>\n",
       "      <td>92812</td>\n",
       "      <td>0.0</td>\n",
       "      <td>2443223942</td>\n",
       "      <td>3544409350</td>\n",
       "      <td>[]</td>\n",
       "      <td>[554, 28208, 396, 51]</td>\n",
       "      <td>[0]</td>\n",
       "      <td>[]</td>\n",
       "      <td>[]</td>\n",
       "    </tr>\n",
       "  </tbody>\n",
       "</table>\n",
       "</div>"
      ],
      "text/plain": [
       "   iday  ihour  itime  label         qid         uid  \\\n",
       "0  3865     22  92782    0.0  2166419046   401693808   \n",
       "1  3844     11  92267    0.0  1550017551  3392373099   \n",
       "2  3862     15  92703    0.0   604029601  2317670257   \n",
       "3  3849     11  92387    0.0  2350061229  1618461867   \n",
       "4  3867      4  92812    0.0  2443223942  3544409350   \n",
       "\n",
       "              prev_ans_ques  \\\n",
       "0                        []   \n",
       "1                        []   \n",
       "2  [3034061280, 1309562090]   \n",
       "3                        []   \n",
       "4                        []   \n",
       "\n",
       "                                             title_w  \\\n",
       "0  [11058, 272, 2202, 431, 951, 243, 3828, 3037, ...   \n",
       "1                             [149, 79, 5210, 22869]   \n",
       "2                           [31489, 9218, 3440, 243]   \n",
       "3  [973, 64958, 8583, 2269, 628, 565, 2200, 590, ...   \n",
       "4                              [554, 28208, 396, 51]   \n",
       "\n",
       "                                              desc_w  \\\n",
       "0  [3828, 14870, 3037, 2450, 692, 1688, 53547, 24...   \n",
       "1                            [429, 2709, 1465, 6965]   \n",
       "2     [3046, 221, 3440, 730, 31489, 9218, 1278, 415]   \n",
       "3                                                [0]   \n",
       "4                                                [0]   \n",
       "\n",
       "                                    prev_title_w  \\\n",
       "0                                             []   \n",
       "1                                             []   \n",
       "2  [[272, 263, 4534, 7742], [1116, 6761, 17922]]   \n",
       "3                                             []   \n",
       "4                                             []   \n",
       "\n",
       "                                         prev_desc_w  \n",
       "0                                                 []  \n",
       "1                                                 []  \n",
       "2  [[272, 4534, 7742, 3738, 1277, 111, 2425, 4183...  \n",
       "3                                                 []  \n",
       "4                                                 []  "
      ]
     },
     "execution_count": 10,
     "metadata": {},
     "output_type": "execute_result"
    }
   ],
   "source": [
    "data.head()"
   ]
  },
  {
   "cell_type": "code",
   "execution_count": 11,
   "metadata": {},
   "outputs": [],
   "source": [
    "def func(row):\n",
    "    tw, dw, ptw, pdw = row['title_w'], row['desc_w'], row['prev_title_w'], row['prev_desc_w']\n",
    "    tw, dw = set(tw), set(dw)\n",
    "    com_ptw, com_pdw = [], []\n",
    "    for t in ptw:\n",
    "        t = set(t)\n",
    "        com_ptw.append(len(tw & t))\n",
    "    for d in pdw:\n",
    "        d = set(d)\n",
    "        com_pdw.append(len(dw & d))\n",
    "    com_ptw = [0] if len(com_ptw) == 0 else com_ptw\n",
    "    com_pdw = [0] if len(com_pdw) == 0 else com_pdw\n",
    "    return np.array([np.max(com_ptw), np.min(com_ptw), np.mean(com_ptw), np.std(com_ptw),\n",
    "            np.max(com_pdw), np.min(com_pdw), np.mean(com_pdw), np.std(com_pdw)])\n",
    "        \n",
    "\n",
    "def process(df):\n",
    "    return np.vstack(df.progress_apply(lambda row: func(row),axis=1).values.tolist())"
   ]
  },
  {
   "cell_type": "code",
   "execution_count": null,
   "metadata": {},
   "outputs": [],
   "source": [
    "with mp.Pool(8) as pool:\n",
    "    ret = pool.map(process, np.array_split(data, 8))"
   ]
  },
  {
   "cell_type": "code",
   "execution_count": null,
   "metadata": {},
   "outputs": [],
   "source": [
    "arr = np.vstack(ret)\n",
    "print(arr.shape)"
   ]
  },
  {
   "cell_type": "code",
   "execution_count": null,
   "metadata": {},
   "outputs": [],
   "source": [
    "user_ques_title_desc_com_stat = pd.DataFrame(arr, columns=[(tp + st) for tp in ['title_com_', 'desc_com_'] for st in ['max', 'min', 'mean', 'std']])\n",
    "user_ques_title_desc_com_stat.head()"
   ]
  },
  {
   "cell_type": "code",
   "execution_count": null,
   "metadata": {},
   "outputs": [],
   "source": [
    "user_ques_title_desc_com_stat['title_com_max/len'] = user_ques_title_desc_com_stat['title_com_max'] / data['title_w'].apply(len).values\n",
    "user_ques_title_desc_com_stat['desc_com_max/len'] = user_ques_title_desc_com_stat['desc_com_max'] / data['desc_w'].apply(len).values\n",
    "user_ques_title_desc_com_stat.head()"
   ]
  },
  {
   "cell_type": "code",
   "execution_count": null,
   "metadata": {},
   "outputs": [],
   "source": [
    "user_ques_title_desc_com_stat.to_pickle(os.path.join(SAVE_PATH, 'user_ques_title_desc_com_stat.pkl'))"
   ]
  },
  {
   "cell_type": "code",
   "execution_count": null,
   "metadata": {},
   "outputs": [],
   "source": [
    "word = pd.read_pickle(os.path.join('../pkl', 'word.pkl'))\n",
    "word_embeddings = np.vstack(list(word['vector'].values))\n",
    "\n",
    "def cos_sim(a, b):\n",
    "    return 1 - spatial.distance.cosine(a, b)\n",
    "\n",
    "def get_word_sim(i, j):\n",
    "    if i == 0 or j == 0:\n",
    "        return 0\n",
    "    if i == j:\n",
    "        return 1\n",
    "    return cos_sim(word_embeddings[i-1], word_embeddings[j-1])"
   ]
  },
  {
   "cell_type": "code",
   "execution_count": 12,
   "metadata": {},
   "outputs": [],
   "source": [
    "def process(df):\n",
    "    sims_st = np.zeros((len(df), 8))\n",
    "    for i, (tw, dw, ptw, pdw) in enumerate(tqdm(df[['title_w', 'desc_w', 'prev_title_w', 'prev_desc_w']].values)):\n",
    "        tss = []\n",
    "        dss = []\n",
    "        \n",
    "        for t2s in ptw:\n",
    "            for t2 in t2s:\n",
    "                for t1 in tw:\n",
    "                    tss.append(get_word_sim(t1, t2))\n",
    "        \n",
    "        for d2s in pdw[-3:]:\n",
    "            for d2 in d2s[:10]:\n",
    "                for d1 in dw:\n",
    "                    dss.append(get_word_sim(d1, d2))\n",
    "\n",
    "        tss = ([0] if len(tss) == 0 else tss)\n",
    "        dss = ([0] if len(dss) == 0 else dss)\n",
    "        sims_st[i] = np.array([np.max(tss), np.min(tss), np.mean(tss), np.std(tss),\n",
    "                               np.max(dss), np.min(dss), np.mean(dss), np.std(dss)])\n",
    "    return sims_st"
   ]
  },
  {
   "cell_type": "code",
   "execution_count": 13,
   "metadata": {},
   "outputs": [
    {
     "name": "stderr",
     "output_type": "stream",
     "text": [
      "  0%|          | 0/354362 [00:00<?, ?it/s]\n",
      "  0%|          | 0/354362 [00:00<?, ?it/s]\n",
      "  0%|          | 0/354362 [00:00<?, ?it/s]\n",
      "  0%|          | 0/354362 [00:00<?, ?it/s]\n",
      "  0%|          | 0/354362 [00:00<?, ?it/s]\n",
      "  0%|          | 0/354362 [00:00<?, ?it/s]\n",
      "  0%|          | 0/354362 [00:00<?, ?it/s]\n",
      "  0%|          | 0/354362 [00:00<?, ?it/s]\n",
      "  0%|          | 0/354362 [00:00<?, ?it/s]\n",
      "  0%|          | 0/354362 [00:00<?, ?it/s]\n",
      "  0%|          | 0/354362 [00:00<?, ?it/s]\n",
      "  0%|          | 0/354362 [00:00<?, ?it/s]\n",
      "  0%|          | 0/354362 [00:00<?, ?it/s]\n",
      "  0%|          | 0/354362 [00:00<?, ?it/s]\n",
      "  0%|          | 0/354362 [00:00<?, ?it/s]\n",
      "  0%|          | 0/354361 [00:00<?, ?it/s]\n",
      "  0%|          | 0/354361 [00:00<?, ?it/s]\n",
      "  0%|          | 0/354361 [00:00<?, ?it/s]\n",
      "  0%|          | 0/354361 [00:00<?, ?it/s]\n",
      "  0%|          | 0/354361 [00:00<?, ?it/s]\n",
      "  0%|          | 0/354361 [00:00<?, ?it/s]\n",
      "  0%|          | 0/354361 [00:00<?, ?it/s]\n",
      "  0%|          | 0/354361 [00:00<?, ?it/s]\n",
      "  0%|          | 0/354361 [00:00<?, ?it/s]\n",
      "  0%|          | 0/354361 [00:00<?, ?it/s]\n",
      "  0%|          | 0/354361 [00:00<?, ?it/s]\n",
      "  0%|          | 0/354361 [00:00<?, ?it/s]\n",
      "  0%|          | 0/354361 [00:00<?, ?it/s]\n",
      "  0%|          | 0/354361 [00:00<?, ?it/s]\n",
      "  0%|          | 0/354361 [00:00<?, ?it/s]\n"
     ]
    },
    {
     "ename": "NameError",
     "evalue": "name 'get_word_sim' is not defined",
     "output_type": "error",
     "traceback": [
      "\u001b[0;31m---------------------------------------------------------------------------\u001b[0m",
      "\u001b[0;31mRemoteTraceback\u001b[0m                           Traceback (most recent call last)",
      "\u001b[0;31mRemoteTraceback\u001b[0m: \n\"\"\"\nTraceback (most recent call last):\n  File \"/root/anaconda3/lib/python3.7/multiprocessing/pool.py\", line 121, in worker\n    result = (True, func(*args, **kwds))\n  File \"/root/anaconda3/lib/python3.7/multiprocessing/pool.py\", line 44, in mapstar\n    return list(map(*args))\n  File \"<ipython-input-12-fa2abcc16a2f>\", line 10, in process\n    tss.append(get_word_sim(t1, t2))\nNameError: name 'get_word_sim' is not defined\n\"\"\"",
      "\nThe above exception was the direct cause of the following exception:\n",
      "\u001b[0;31mNameError\u001b[0m                                 Traceback (most recent call last)",
      "\u001b[0;32m<ipython-input-13-01357e9abb1f>\u001b[0m in \u001b[0;36m<module>\u001b[0;34m\u001b[0m\n\u001b[1;32m      1\u001b[0m \u001b[0;32mwith\u001b[0m \u001b[0mmp\u001b[0m\u001b[0;34m.\u001b[0m\u001b[0mPool\u001b[0m\u001b[0;34m(\u001b[0m\u001b[0;36m15\u001b[0m\u001b[0;34m)\u001b[0m \u001b[0;32mas\u001b[0m \u001b[0mpool\u001b[0m\u001b[0;34m:\u001b[0m\u001b[0;34m\u001b[0m\u001b[0;34m\u001b[0m\u001b[0m\n\u001b[0;32m----> 2\u001b[0;31m     \u001b[0mret\u001b[0m \u001b[0;34m=\u001b[0m \u001b[0mpool\u001b[0m\u001b[0;34m.\u001b[0m\u001b[0mmap\u001b[0m\u001b[0;34m(\u001b[0m\u001b[0mprocess\u001b[0m\u001b[0;34m,\u001b[0m \u001b[0mnp\u001b[0m\u001b[0;34m.\u001b[0m\u001b[0marray_split\u001b[0m\u001b[0;34m(\u001b[0m\u001b[0mdata\u001b[0m\u001b[0;34m,\u001b[0m \u001b[0;36m30\u001b[0m\u001b[0;34m)\u001b[0m\u001b[0;34m)\u001b[0m\u001b[0;34m\u001b[0m\u001b[0;34m\u001b[0m\u001b[0m\n\u001b[0m\u001b[1;32m      3\u001b[0m \u001b[0mret\u001b[0m \u001b[0;34m=\u001b[0m \u001b[0mnp\u001b[0m\u001b[0;34m.\u001b[0m\u001b[0mvstack\u001b[0m\u001b[0;34m(\u001b[0m\u001b[0mret\u001b[0m\u001b[0;34m)\u001b[0m\u001b[0;34m\u001b[0m\u001b[0;34m\u001b[0m\u001b[0m\n",
      "\u001b[0;32m~/anaconda3/lib/python3.7/multiprocessing/pool.py\u001b[0m in \u001b[0;36mmap\u001b[0;34m(self, func, iterable, chunksize)\u001b[0m\n\u001b[1;32m    266\u001b[0m         \u001b[0;32min\u001b[0m \u001b[0ma\u001b[0m \u001b[0mlist\u001b[0m \u001b[0mthat\u001b[0m \u001b[0;32mis\u001b[0m \u001b[0mreturned\u001b[0m\u001b[0;34m.\u001b[0m\u001b[0;34m\u001b[0m\u001b[0;34m\u001b[0m\u001b[0m\n\u001b[1;32m    267\u001b[0m         '''\n\u001b[0;32m--> 268\u001b[0;31m         \u001b[0;32mreturn\u001b[0m \u001b[0mself\u001b[0m\u001b[0;34m.\u001b[0m\u001b[0m_map_async\u001b[0m\u001b[0;34m(\u001b[0m\u001b[0mfunc\u001b[0m\u001b[0;34m,\u001b[0m \u001b[0miterable\u001b[0m\u001b[0;34m,\u001b[0m \u001b[0mmapstar\u001b[0m\u001b[0;34m,\u001b[0m \u001b[0mchunksize\u001b[0m\u001b[0;34m)\u001b[0m\u001b[0;34m.\u001b[0m\u001b[0mget\u001b[0m\u001b[0;34m(\u001b[0m\u001b[0;34m)\u001b[0m\u001b[0;34m\u001b[0m\u001b[0;34m\u001b[0m\u001b[0m\n\u001b[0m\u001b[1;32m    269\u001b[0m \u001b[0;34m\u001b[0m\u001b[0m\n\u001b[1;32m    270\u001b[0m     \u001b[0;32mdef\u001b[0m \u001b[0mstarmap\u001b[0m\u001b[0;34m(\u001b[0m\u001b[0mself\u001b[0m\u001b[0;34m,\u001b[0m \u001b[0mfunc\u001b[0m\u001b[0;34m,\u001b[0m \u001b[0miterable\u001b[0m\u001b[0;34m,\u001b[0m \u001b[0mchunksize\u001b[0m\u001b[0;34m=\u001b[0m\u001b[0;32mNone\u001b[0m\u001b[0;34m)\u001b[0m\u001b[0;34m:\u001b[0m\u001b[0;34m\u001b[0m\u001b[0;34m\u001b[0m\u001b[0m\n",
      "\u001b[0;32m~/anaconda3/lib/python3.7/multiprocessing/pool.py\u001b[0m in \u001b[0;36mget\u001b[0;34m(self, timeout)\u001b[0m\n\u001b[1;32m    655\u001b[0m             \u001b[0;32mreturn\u001b[0m \u001b[0mself\u001b[0m\u001b[0;34m.\u001b[0m\u001b[0m_value\u001b[0m\u001b[0;34m\u001b[0m\u001b[0;34m\u001b[0m\u001b[0m\n\u001b[1;32m    656\u001b[0m         \u001b[0;32melse\u001b[0m\u001b[0;34m:\u001b[0m\u001b[0;34m\u001b[0m\u001b[0;34m\u001b[0m\u001b[0m\n\u001b[0;32m--> 657\u001b[0;31m             \u001b[0;32mraise\u001b[0m \u001b[0mself\u001b[0m\u001b[0;34m.\u001b[0m\u001b[0m_value\u001b[0m\u001b[0;34m\u001b[0m\u001b[0;34m\u001b[0m\u001b[0m\n\u001b[0m\u001b[1;32m    658\u001b[0m \u001b[0;34m\u001b[0m\u001b[0m\n\u001b[1;32m    659\u001b[0m     \u001b[0;32mdef\u001b[0m \u001b[0m_set\u001b[0m\u001b[0;34m(\u001b[0m\u001b[0mself\u001b[0m\u001b[0;34m,\u001b[0m \u001b[0mi\u001b[0m\u001b[0;34m,\u001b[0m \u001b[0mobj\u001b[0m\u001b[0;34m)\u001b[0m\u001b[0;34m:\u001b[0m\u001b[0;34m\u001b[0m\u001b[0;34m\u001b[0m\u001b[0m\n",
      "\u001b[0;31mNameError\u001b[0m: name 'get_word_sim' is not defined"
     ]
    }
   ],
   "source": [
    "with mp.Pool(15) as pool:\n",
    "    ret = pool.map(process, np.array_split(data, 30))\n",
    "ret = np.vstack(ret)"
   ]
  },
  {
   "cell_type": "code",
   "execution_count": null,
   "metadata": {},
   "outputs": [],
   "source": [
    "cols = ['%s_sims_%s' % (t, st) for t in ['title', 'desc'] for st in ['max', 'min', 'mean', 'std']]\n",
    "user_ques_title_desc_sims_stat = pd.DataFrame(ret, columns=cols)\n",
    "print(user_ques_title_desc_sims_stat.shape)"
   ]
  },
  {
   "cell_type": "code",
   "execution_count": null,
   "metadata": {},
   "outputs": [],
   "source": [
    "user_ques_title_desc_sims_stat.head()"
   ]
  },
  {
   "cell_type": "code",
   "execution_count": null,
   "metadata": {},
   "outputs": [],
   "source": [
    "user_ques_title_desc_com_stat.to_pickle(os.path.join(SAVE_PATH, 'user_ques_title_desc_sims_stat.pkl'))"
   ]
  },
  {
   "cell_type": "code",
   "execution_count": 23,
   "metadata": {},
   "outputs": [],
   "source": [
    "print(a)"
   ]
  },
  {
   "cell_type": "code",
   "execution_count": 24,
   "metadata": {},
   "outputs": [],
   "source": [
    "gc.collect()"
   ]
  },
  {
   "cell_type": "code",
   "execution_count": null,
   "metadata": {},
   "outputs": [],
   "source": []
  },
  {
   "cell_type": "code",
   "execution_count": null,
   "metadata": {},
   "outputs": [],
   "source": []
  },
  {
   "cell_type": "code",
   "execution_count": null,
   "metadata": {},
   "outputs": [],
   "source": [
    "toc = time.time()\n",
    "print('Used time: %d' % int(toc-tic))"
   ]
  }
 ],
 "metadata": {
  "kernelspec": {
   "display_name": "Python [conda env:root] *",
   "language": "python",
   "name": "conda-root-py"
  },
  "language_info": {
   "codemirror_mode": {
    "name": "ipython",
    "version": 3
   },
   "file_extension": ".py",
   "mimetype": "text/x-python",
   "name": "python",
   "nbconvert_exporter": "python",
   "pygments_lexer": "ipython3",
   "version": "3.7.3"
  }
 },
 "nbformat": 4,
 "nbformat_minor": 2
}
